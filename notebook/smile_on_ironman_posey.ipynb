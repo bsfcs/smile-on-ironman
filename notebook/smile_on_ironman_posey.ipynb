{
 "cells": [
  {
   "cell_type": "code",
   "execution_count": 1,
   "metadata": {},
   "outputs": [],
   "source": [
    "import pandas as pd\n",
    "import numpy as np\n",
    "import matplotlib.pyplot as plt\n",
    "import seaborn as sns  \n",
    "\n",
    "%matplotlib inline"
   ]
  },
  {
   "cell_type": "code",
   "execution_count": 2,
   "metadata": {},
   "outputs": [],
   "source": [
    "smile = pd.read_csv(\"../data/SmileOn11282020.csv\", engine = 'python', skiprows = 2)"
   ]
  },
  {
   "cell_type": "code",
   "execution_count": 3,
   "metadata": {},
   "outputs": [
    {
     "output_type": "execute_result",
     "data": {
      "text/plain": [
       "   CallReportNum              ReportVersion  LinkedToCallReportNum  \\\n",
       "0       81381827  SMILE ON 60+ Registration                    NaN   \n",
       "1       81379177  SMILE ON 60+ Registration                    NaN   \n",
       "2       81377435      SMILE ON 60+ Clinical                    NaN   \n",
       "3       81375215      SMILE ON 60+ Clinical                    NaN   \n",
       "4       81373934      SMILE ON 60+ Clinical                    NaN   \n",
       "\n",
       "  CallDateAndTimeStart CallDateAndTimeEnd  CallLength  CallerNum  \\\n",
       "0     11/25/2020 16:46   11/25/2020 16:48           2    3859874   \n",
       "1     11/25/2020 15:40   11/25/2020 15:55          15    3859755   \n",
       "2     11/25/2020 15:02   11/25/2020 15:02           0    2518680   \n",
       "3     11/25/2020 14:17   11/25/2020 14:17           0    3231923   \n",
       "4     11/25/2020 13:50   11/25/2020 13:58           8         -1   \n",
       "\n",
       "   PhoneWorkerNum  WasRealCall  WasHangup  ...  \\\n",
       "0          136529          NaN        NaN  ...   \n",
       "1           82341          NaN        NaN  ...   \n",
       "2          119506          NaN        NaN  ...   \n",
       "3          143703          NaN        NaN  ...   \n",
       "4          135611          NaN        NaN  ...   \n",
       "\n",
       "         SMILE ON 60+ Screening - Treatment Urgency  \\\n",
       "0                                               NaN   \n",
       "1                                               NaN   \n",
       "2                                               NaN   \n",
       "3                                               NaN   \n",
       "4  Urgent Care - within next week-pain or infection   \n",
       "\n",
       "   SMILE ON 60+ Screening - Untreated Decay  \\\n",
       "0                                       NaN   \n",
       "1                                       NaN   \n",
       "2                                       NaN   \n",
       "3                                       NaN   \n",
       "4                                       Yes   \n",
       "\n",
       "         SMILE ON 60+ Site Information - Enroller ID  \\\n",
       "0  Matthew Walker Comprehensive Health Center Inc...   \n",
       "1                                                NaN   \n",
       "2          Friends in Need Health Center - Kingsport   \n",
       "3          Christ Community Health Services- Frayser   \n",
       "4                      Neighborhood Health - Lebanon   \n",
       "\n",
       "   SMILE ON 60+ Site Information - Enroller Location  \\\n",
       "0                                      Provider Site   \n",
       "1                               Health Assist Office   \n",
       "2                                      Provider Site   \n",
       "3                                      Provider Site   \n",
       "4                                                NaN   \n",
       "\n",
       "   SMILE ON 60+ Treatment Plan - Action: Upload After Picture on Finish Tab  \\\n",
       "0                                                NaN                          \n",
       "1                                                NaN                          \n",
       "2                                                NaN                          \n",
       "3                                                NaN                          \n",
       "4                                                NaN                          \n",
       "\n",
       "   SMILE ON 60+ Treatment Plan - Is the treatment plan completed?  \\\n",
       "0                                                NaN                \n",
       "1                                                NaN                \n",
       "2                                                Yes                \n",
       "3                                                NaN                \n",
       "4                                                NaN                \n",
       "\n",
       "  SMILE ON 60+ Treatment Plan - Was a treatment plan developed?  \\\n",
       "0                                                NaN              \n",
       "1                                                NaN              \n",
       "2                                                Yes              \n",
       "3                                                NaN              \n",
       "4                                                Yes              \n",
       "\n",
       "  SMILE ON 60+ Treatment Plan - Was the enrollee able to be restored to function (can chew) and \"social six\" esthetics (top front six teeth are present and disease free)  \\\n",
       "0                                                NaN                                                                                                                        \n",
       "1                                                NaN                                                                                                                        \n",
       "2                                                Yes                                                                                                                        \n",
       "3                                                NaN                                                                                                                        \n",
       "4                                                 No                                                                                                                        \n",
       "\n",
       "  SMILE ON 60+ Verification of Eligibility - Transportation Arranged  \\\n",
       "0                                                NaN                   \n",
       "1                                                NaN                   \n",
       "2                                                NaN                   \n",
       "3                                                NaN                   \n",
       "4                                                NaN                   \n",
       "\n",
       "  SMILE ON 60+ Verification of Eligibility - Verification of Eligibility  \n",
       "0                                                NaN                      \n",
       "1                                                NaN                      \n",
       "2                                                NaN                      \n",
       "3                                                NaN                      \n",
       "4                                                Yes                      \n",
       "\n",
       "[5 rows x 184 columns]"
      ],
      "text/html": "<div>\n<style scoped>\n    .dataframe tbody tr th:only-of-type {\n        vertical-align: middle;\n    }\n\n    .dataframe tbody tr th {\n        vertical-align: top;\n    }\n\n    .dataframe thead th {\n        text-align: right;\n    }\n</style>\n<table border=\"1\" class=\"dataframe\">\n  <thead>\n    <tr style=\"text-align: right;\">\n      <th></th>\n      <th>CallReportNum</th>\n      <th>ReportVersion</th>\n      <th>LinkedToCallReportNum</th>\n      <th>CallDateAndTimeStart</th>\n      <th>CallDateAndTimeEnd</th>\n      <th>CallLength</th>\n      <th>CallerNum</th>\n      <th>PhoneWorkerNum</th>\n      <th>WasRealCall</th>\n      <th>WasHangup</th>\n      <th>...</th>\n      <th>SMILE ON 60+ Screening - Treatment Urgency</th>\n      <th>SMILE ON 60+ Screening - Untreated Decay</th>\n      <th>SMILE ON 60+ Site Information - Enroller ID</th>\n      <th>SMILE ON 60+ Site Information - Enroller Location</th>\n      <th>SMILE ON 60+ Treatment Plan - Action: Upload After Picture on Finish Tab</th>\n      <th>SMILE ON 60+ Treatment Plan - Is the treatment plan completed?</th>\n      <th>SMILE ON 60+ Treatment Plan - Was a treatment plan developed?</th>\n      <th>SMILE ON 60+ Treatment Plan - Was the enrollee able to be restored to function (can chew) and \"social six\" esthetics (top front six teeth are present and disease free)</th>\n      <th>SMILE ON 60+ Verification of Eligibility - Transportation Arranged</th>\n      <th>SMILE ON 60+ Verification of Eligibility - Verification of Eligibility</th>\n    </tr>\n  </thead>\n  <tbody>\n    <tr>\n      <th>0</th>\n      <td>81381827</td>\n      <td>SMILE ON 60+ Registration</td>\n      <td>NaN</td>\n      <td>11/25/2020 16:46</td>\n      <td>11/25/2020 16:48</td>\n      <td>2</td>\n      <td>3859874</td>\n      <td>136529</td>\n      <td>NaN</td>\n      <td>NaN</td>\n      <td>...</td>\n      <td>NaN</td>\n      <td>NaN</td>\n      <td>Matthew Walker Comprehensive Health Center Inc...</td>\n      <td>Provider Site</td>\n      <td>NaN</td>\n      <td>NaN</td>\n      <td>NaN</td>\n      <td>NaN</td>\n      <td>NaN</td>\n      <td>NaN</td>\n    </tr>\n    <tr>\n      <th>1</th>\n      <td>81379177</td>\n      <td>SMILE ON 60+ Registration</td>\n      <td>NaN</td>\n      <td>11/25/2020 15:40</td>\n      <td>11/25/2020 15:55</td>\n      <td>15</td>\n      <td>3859755</td>\n      <td>82341</td>\n      <td>NaN</td>\n      <td>NaN</td>\n      <td>...</td>\n      <td>NaN</td>\n      <td>NaN</td>\n      <td>NaN</td>\n      <td>Health Assist Office</td>\n      <td>NaN</td>\n      <td>NaN</td>\n      <td>NaN</td>\n      <td>NaN</td>\n      <td>NaN</td>\n      <td>NaN</td>\n    </tr>\n    <tr>\n      <th>2</th>\n      <td>81377435</td>\n      <td>SMILE ON 60+ Clinical</td>\n      <td>NaN</td>\n      <td>11/25/2020 15:02</td>\n      <td>11/25/2020 15:02</td>\n      <td>0</td>\n      <td>2518680</td>\n      <td>119506</td>\n      <td>NaN</td>\n      <td>NaN</td>\n      <td>...</td>\n      <td>NaN</td>\n      <td>NaN</td>\n      <td>Friends in Need Health Center - Kingsport</td>\n      <td>Provider Site</td>\n      <td>NaN</td>\n      <td>Yes</td>\n      <td>Yes</td>\n      <td>Yes</td>\n      <td>NaN</td>\n      <td>NaN</td>\n    </tr>\n    <tr>\n      <th>3</th>\n      <td>81375215</td>\n      <td>SMILE ON 60+ Clinical</td>\n      <td>NaN</td>\n      <td>11/25/2020 14:17</td>\n      <td>11/25/2020 14:17</td>\n      <td>0</td>\n      <td>3231923</td>\n      <td>143703</td>\n      <td>NaN</td>\n      <td>NaN</td>\n      <td>...</td>\n      <td>NaN</td>\n      <td>NaN</td>\n      <td>Christ Community Health Services- Frayser</td>\n      <td>Provider Site</td>\n      <td>NaN</td>\n      <td>NaN</td>\n      <td>NaN</td>\n      <td>NaN</td>\n      <td>NaN</td>\n      <td>NaN</td>\n    </tr>\n    <tr>\n      <th>4</th>\n      <td>81373934</td>\n      <td>SMILE ON 60+ Clinical</td>\n      <td>NaN</td>\n      <td>11/25/2020 13:50</td>\n      <td>11/25/2020 13:58</td>\n      <td>8</td>\n      <td>-1</td>\n      <td>135611</td>\n      <td>NaN</td>\n      <td>NaN</td>\n      <td>...</td>\n      <td>Urgent Care - within next week-pain or infection</td>\n      <td>Yes</td>\n      <td>Neighborhood Health - Lebanon</td>\n      <td>NaN</td>\n      <td>NaN</td>\n      <td>NaN</td>\n      <td>Yes</td>\n      <td>No</td>\n      <td>NaN</td>\n      <td>Yes</td>\n    </tr>\n  </tbody>\n</table>\n<p>5 rows × 184 columns</p>\n</div>"
     },
     "metadata": {},
     "execution_count": 3
    }
   ],
   "source": [
    "smile.head()"
   ]
  },
  {
   "cell_type": "code",
   "execution_count": 4,
   "metadata": {},
   "outputs": [
    {
     "output_type": "execute_result",
     "data": {
      "text/plain": [
       "(40032, 184)"
      ]
     },
     "metadata": {},
     "execution_count": 4
    }
   ],
   "source": [
    "smile.shape"
   ]
  },
  {
   "cell_type": "code",
   "execution_count": 5,
   "metadata": {},
   "outputs": [
    {
     "output_type": "stream",
     "name": "stdout",
     "text": [
      "<class 'pandas.core.frame.DataFrame'>\nRangeIndex: 40032 entries, 0 to 40031\nColumns: 184 entries, CallReportNum to SMILE ON 60+ Verification of Eligibility - Verification of Eligibility\ndtypes: float64(103), int64(6), object(75)\nmemory usage: 56.2+ MB\n"
     ]
    }
   ],
   "source": [
    " smile.info()"
   ]
  },
  {
   "cell_type": "code",
   "execution_count": 6,
   "metadata": {},
   "outputs": [
    {
     "output_type": "execute_result",
     "data": {
      "text/plain": [
       "       CallReportNum              ReportVersion  LinkedToCallReportNum  \\\n",
       "40027       53192452  SMILE ON 60+ Registration                    NaN   \n",
       "40028       67915561  SMILE ON 60+ Registration                    NaN   \n",
       "40029       67251405      SMILE ON 60+ Clinical                    NaN   \n",
       "40030       63063150      SMILE ON 60+ Clinical                    NaN   \n",
       "40031       70839903      SMILE ON 60+ Clinical                    NaN   \n",
       "\n",
       "      CallDateAndTimeStart CallDateAndTimeEnd  CallLength  CallerNum  \\\n",
       "40027      5/23/2018 14:11    5/23/2018 14:11           0         -1   \n",
       "40028       5/15/2018 9:06     5/15/2018 9:10           4    3239813   \n",
       "40029       5/10/2018 8:25     5/10/2018 8:26           1    2631417   \n",
       "40030        5/1/2018 8:14      5/1/2018 8:24          10         -1   \n",
       "40031       2/14/2018 8:10     2/14/2018 8:18           8         -1   \n",
       "\n",
       "       PhoneWorkerNum  WasRealCall  WasHangup  ...  \\\n",
       "40027           60132          NaN        NaN  ...   \n",
       "40028          128174          NaN        NaN  ...   \n",
       "40029          131347          NaN        NaN  ...   \n",
       "40030          116749          NaN        NaN  ...   \n",
       "40031          116749          NaN        NaN  ...   \n",
       "\n",
       "       SMILE ON 60+ Screening - Treatment Urgency  \\\n",
       "40027                                         NaN   \n",
       "40028                                         NaN   \n",
       "40029                                         NaN   \n",
       "40030                                         NaN   \n",
       "40031                                         NaN   \n",
       "\n",
       "       SMILE ON 60+ Screening - Untreated Decay  \\\n",
       "40027                                       NaN   \n",
       "40028                                       NaN   \n",
       "40029                                       NaN   \n",
       "40030                                       NaN   \n",
       "40031                                       NaN   \n",
       "\n",
       "       SMILE ON 60+ Site Information - Enroller ID  \\\n",
       "40027                                          NaN   \n",
       "40028               Church Health Center - Memphis   \n",
       "40029    Friends in Need Health Center - Kingsport   \n",
       "40030         Interfaith Dental Clinic - Nashville   \n",
       "40031         Interfaith Dental Clinic - Nashville   \n",
       "\n",
       "       SMILE ON 60+ Site Information - Enroller Location  \\\n",
       "40027                                                NaN   \n",
       "40028                                      Provider Site   \n",
       "40029                                      Provider Site   \n",
       "40030                                                NaN   \n",
       "40031                                                NaN   \n",
       "\n",
       "       SMILE ON 60+ Treatment Plan - Action: Upload After Picture on Finish Tab  \\\n",
       "40027                                                NaN                          \n",
       "40028                                                NaN                          \n",
       "40029                                      Not available                          \n",
       "40030                                                NaN                          \n",
       "40031                                                NaN                          \n",
       "\n",
       "       SMILE ON 60+ Treatment Plan - Is the treatment plan completed?  \\\n",
       "40027                                                NaN                \n",
       "40028                                                NaN                \n",
       "40029                                                 No                \n",
       "40030                                                NaN                \n",
       "40031                                                NaN                \n",
       "\n",
       "      SMILE ON 60+ Treatment Plan - Was a treatment plan developed?  \\\n",
       "40027                                                NaN              \n",
       "40028                                                NaN              \n",
       "40029                                                Yes              \n",
       "40030                                                NaN              \n",
       "40031                                                NaN              \n",
       "\n",
       "      SMILE ON 60+ Treatment Plan - Was the enrollee able to be restored to function (can chew) and \"social six\" esthetics (top front six teeth are present and disease free)  \\\n",
       "40027                                                NaN                                                                                                                        \n",
       "40028                                                NaN                                                                                                                        \n",
       "40029                                                Yes                                                                                                                        \n",
       "40030                                                NaN                                                                                                                        \n",
       "40031                                                NaN                                                                                                                        \n",
       "\n",
       "      SMILE ON 60+ Verification of Eligibility - Transportation Arranged  \\\n",
       "40027                                                NaN                   \n",
       "40028                                                NaN                   \n",
       "40029                                                NaN                   \n",
       "40030                                                NaN                   \n",
       "40031                                                NaN                   \n",
       "\n",
       "      SMILE ON 60+ Verification of Eligibility - Verification of Eligibility  \n",
       "40027                                                NaN                      \n",
       "40028                                                NaN                      \n",
       "40029                                                NaN                      \n",
       "40030                                                NaN                      \n",
       "40031                                                NaN                      \n",
       "\n",
       "[5 rows x 184 columns]"
      ],
      "text/html": "<div>\n<style scoped>\n    .dataframe tbody tr th:only-of-type {\n        vertical-align: middle;\n    }\n\n    .dataframe tbody tr th {\n        vertical-align: top;\n    }\n\n    .dataframe thead th {\n        text-align: right;\n    }\n</style>\n<table border=\"1\" class=\"dataframe\">\n  <thead>\n    <tr style=\"text-align: right;\">\n      <th></th>\n      <th>CallReportNum</th>\n      <th>ReportVersion</th>\n      <th>LinkedToCallReportNum</th>\n      <th>CallDateAndTimeStart</th>\n      <th>CallDateAndTimeEnd</th>\n      <th>CallLength</th>\n      <th>CallerNum</th>\n      <th>PhoneWorkerNum</th>\n      <th>WasRealCall</th>\n      <th>WasHangup</th>\n      <th>...</th>\n      <th>SMILE ON 60+ Screening - Treatment Urgency</th>\n      <th>SMILE ON 60+ Screening - Untreated Decay</th>\n      <th>SMILE ON 60+ Site Information - Enroller ID</th>\n      <th>SMILE ON 60+ Site Information - Enroller Location</th>\n      <th>SMILE ON 60+ Treatment Plan - Action: Upload After Picture on Finish Tab</th>\n      <th>SMILE ON 60+ Treatment Plan - Is the treatment plan completed?</th>\n      <th>SMILE ON 60+ Treatment Plan - Was a treatment plan developed?</th>\n      <th>SMILE ON 60+ Treatment Plan - Was the enrollee able to be restored to function (can chew) and \"social six\" esthetics (top front six teeth are present and disease free)</th>\n      <th>SMILE ON 60+ Verification of Eligibility - Transportation Arranged</th>\n      <th>SMILE ON 60+ Verification of Eligibility - Verification of Eligibility</th>\n    </tr>\n  </thead>\n  <tbody>\n    <tr>\n      <th>40027</th>\n      <td>53192452</td>\n      <td>SMILE ON 60+ Registration</td>\n      <td>NaN</td>\n      <td>5/23/2018 14:11</td>\n      <td>5/23/2018 14:11</td>\n      <td>0</td>\n      <td>-1</td>\n      <td>60132</td>\n      <td>NaN</td>\n      <td>NaN</td>\n      <td>...</td>\n      <td>NaN</td>\n      <td>NaN</td>\n      <td>NaN</td>\n      <td>NaN</td>\n      <td>NaN</td>\n      <td>NaN</td>\n      <td>NaN</td>\n      <td>NaN</td>\n      <td>NaN</td>\n      <td>NaN</td>\n    </tr>\n    <tr>\n      <th>40028</th>\n      <td>67915561</td>\n      <td>SMILE ON 60+ Registration</td>\n      <td>NaN</td>\n      <td>5/15/2018 9:06</td>\n      <td>5/15/2018 9:10</td>\n      <td>4</td>\n      <td>3239813</td>\n      <td>128174</td>\n      <td>NaN</td>\n      <td>NaN</td>\n      <td>...</td>\n      <td>NaN</td>\n      <td>NaN</td>\n      <td>Church Health Center - Memphis</td>\n      <td>Provider Site</td>\n      <td>NaN</td>\n      <td>NaN</td>\n      <td>NaN</td>\n      <td>NaN</td>\n      <td>NaN</td>\n      <td>NaN</td>\n    </tr>\n    <tr>\n      <th>40029</th>\n      <td>67251405</td>\n      <td>SMILE ON 60+ Clinical</td>\n      <td>NaN</td>\n      <td>5/10/2018 8:25</td>\n      <td>5/10/2018 8:26</td>\n      <td>1</td>\n      <td>2631417</td>\n      <td>131347</td>\n      <td>NaN</td>\n      <td>NaN</td>\n      <td>...</td>\n      <td>NaN</td>\n      <td>NaN</td>\n      <td>Friends in Need Health Center - Kingsport</td>\n      <td>Provider Site</td>\n      <td>Not available</td>\n      <td>No</td>\n      <td>Yes</td>\n      <td>Yes</td>\n      <td>NaN</td>\n      <td>NaN</td>\n    </tr>\n    <tr>\n      <th>40030</th>\n      <td>63063150</td>\n      <td>SMILE ON 60+ Clinical</td>\n      <td>NaN</td>\n      <td>5/1/2018 8:14</td>\n      <td>5/1/2018 8:24</td>\n      <td>10</td>\n      <td>-1</td>\n      <td>116749</td>\n      <td>NaN</td>\n      <td>NaN</td>\n      <td>...</td>\n      <td>NaN</td>\n      <td>NaN</td>\n      <td>Interfaith Dental Clinic - Nashville</td>\n      <td>NaN</td>\n      <td>NaN</td>\n      <td>NaN</td>\n      <td>NaN</td>\n      <td>NaN</td>\n      <td>NaN</td>\n      <td>NaN</td>\n    </tr>\n    <tr>\n      <th>40031</th>\n      <td>70839903</td>\n      <td>SMILE ON 60+ Clinical</td>\n      <td>NaN</td>\n      <td>2/14/2018 8:10</td>\n      <td>2/14/2018 8:18</td>\n      <td>8</td>\n      <td>-1</td>\n      <td>116749</td>\n      <td>NaN</td>\n      <td>NaN</td>\n      <td>...</td>\n      <td>NaN</td>\n      <td>NaN</td>\n      <td>Interfaith Dental Clinic - Nashville</td>\n      <td>NaN</td>\n      <td>NaN</td>\n      <td>NaN</td>\n      <td>NaN</td>\n      <td>NaN</td>\n      <td>NaN</td>\n      <td>NaN</td>\n    </tr>\n  </tbody>\n</table>\n<p>5 rows × 184 columns</p>\n</div>"
     },
     "metadata": {},
     "execution_count": 6
    }
   ],
   "source": [
    "smile.tail()"
   ]
  },
  {
   "source": [
    "## Removal Of Unused Columns "
   ],
   "cell_type": "markdown",
   "metadata": {}
  },
  {
   "cell_type": "code",
   "execution_count": 7,
   "metadata": {},
   "outputs": [],
   "source": [
    "smile_v1 = smile.drop(columns = ['WasRealCall', 'WasHangup', 'WasSexCall','WasWrongNumber', 'WasPrankCall','WasSilentCall','GeoCode','GeoAssignment','CensusDivision','CensusTrack','CensusReportingArea','211Region','PhoneType','ThirdPartyName','ThirdPartyOrganization','ThirdPartyPhoneNumber','ThirdPartyAddress','ThirdPartyCity','ThirdPartyCounty','ThirdPartyStateProvince','ThirdPartyPostalCode','VolunteerComments','CallersFeedback','TextField2','TextField3','TextField4','TextField5','TextField6','TextField7','TextField8','TextField9','TextField10','Supervisor','IPAddress','OrgNum','VolIdentifier','LinkedToCallReportNum'])"
   ]
  },
  {
   "cell_type": "code",
   "execution_count": 8,
   "metadata": {},
   "outputs": [
    {
     "output_type": "execute_result",
     "data": {
      "text/plain": [
       "(40032, 147)"
      ]
     },
     "metadata": {},
     "execution_count": 8
    }
   ],
   "source": [
    "smile_v1.shape"
   ]
  },
  {
   "cell_type": "code",
   "execution_count": 9,
   "metadata": {},
   "outputs": [
    {
     "output_type": "execute_result",
     "data": {
      "text/plain": [
       "   CallReportNum              ReportVersion CallDateAndTimeStart  \\\n",
       "0       81381827  SMILE ON 60+ Registration     11/25/2020 16:46   \n",
       "1       81379177  SMILE ON 60+ Registration     11/25/2020 15:40   \n",
       "2       81377435      SMILE ON 60+ Clinical     11/25/2020 15:02   \n",
       "3       81375215      SMILE ON 60+ Clinical     11/25/2020 14:17   \n",
       "4       81373934      SMILE ON 60+ Clinical     11/25/2020 13:50   \n",
       "\n",
       "  CallDateAndTimeEnd  CallLength  CallerNum  PhoneWorkerNum     CityName  \\\n",
       "0   11/25/2020 16:48           2    3859874          136529  Springfield   \n",
       "1   11/25/2020 15:55          15    3859755           82341    Nashville   \n",
       "2   11/25/2020 15:02           0    2518680          119506  Rogersville   \n",
       "3   11/25/2020 14:17           0    3231923          143703      Memphis   \n",
       "4   11/25/2020 13:58           8         -1          135611          NaN   \n",
       "\n",
       "  CountyName StateProvince  ...  \\\n",
       "0  Robertson            TN  ...   \n",
       "1   Davidson            TN  ...   \n",
       "2    Hawkins            TN  ...   \n",
       "3     Shelby            TN  ...   \n",
       "4        NaN            TN  ...   \n",
       "\n",
       "         SMILE ON 60+ Screening - Treatment Urgency  \\\n",
       "0                                               NaN   \n",
       "1                                               NaN   \n",
       "2                                               NaN   \n",
       "3                                               NaN   \n",
       "4  Urgent Care - within next week-pain or infection   \n",
       "\n",
       "   SMILE ON 60+ Screening - Untreated Decay  \\\n",
       "0                                       NaN   \n",
       "1                                       NaN   \n",
       "2                                       NaN   \n",
       "3                                       NaN   \n",
       "4                                       Yes   \n",
       "\n",
       "         SMILE ON 60+ Site Information - Enroller ID  \\\n",
       "0  Matthew Walker Comprehensive Health Center Inc...   \n",
       "1                                                NaN   \n",
       "2          Friends in Need Health Center - Kingsport   \n",
       "3          Christ Community Health Services- Frayser   \n",
       "4                      Neighborhood Health - Lebanon   \n",
       "\n",
       "  SMILE ON 60+ Site Information - Enroller Location  \\\n",
       "0                                     Provider Site   \n",
       "1                              Health Assist Office   \n",
       "2                                     Provider Site   \n",
       "3                                     Provider Site   \n",
       "4                                               NaN   \n",
       "\n",
       "   SMILE ON 60+ Treatment Plan - Action: Upload After Picture on Finish Tab  \\\n",
       "0                                                NaN                          \n",
       "1                                                NaN                          \n",
       "2                                                NaN                          \n",
       "3                                                NaN                          \n",
       "4                                                NaN                          \n",
       "\n",
       "  SMILE ON 60+ Treatment Plan - Is the treatment plan completed?  \\\n",
       "0                                                NaN               \n",
       "1                                                NaN               \n",
       "2                                                Yes               \n",
       "3                                                NaN               \n",
       "4                                                NaN               \n",
       "\n",
       "  SMILE ON 60+ Treatment Plan - Was a treatment plan developed?  \\\n",
       "0                                                NaN              \n",
       "1                                                NaN              \n",
       "2                                                Yes              \n",
       "3                                                NaN              \n",
       "4                                                Yes              \n",
       "\n",
       "  SMILE ON 60+ Treatment Plan - Was the enrollee able to be restored to function (can chew) and \"social six\" esthetics (top front six teeth are present and disease free)  \\\n",
       "0                                                NaN                                                                                                                        \n",
       "1                                                NaN                                                                                                                        \n",
       "2                                                Yes                                                                                                                        \n",
       "3                                                NaN                                                                                                                        \n",
       "4                                                 No                                                                                                                        \n",
       "\n",
       "   SMILE ON 60+ Verification of Eligibility - Transportation Arranged  \\\n",
       "0                                                NaN                    \n",
       "1                                                NaN                    \n",
       "2                                                NaN                    \n",
       "3                                                NaN                    \n",
       "4                                                NaN                    \n",
       "\n",
       "  SMILE ON 60+ Verification of Eligibility - Verification of Eligibility  \n",
       "0                                                NaN                      \n",
       "1                                                NaN                      \n",
       "2                                                NaN                      \n",
       "3                                                NaN                      \n",
       "4                                                Yes                      \n",
       "\n",
       "[5 rows x 147 columns]"
      ],
      "text/html": "<div>\n<style scoped>\n    .dataframe tbody tr th:only-of-type {\n        vertical-align: middle;\n    }\n\n    .dataframe tbody tr th {\n        vertical-align: top;\n    }\n\n    .dataframe thead th {\n        text-align: right;\n    }\n</style>\n<table border=\"1\" class=\"dataframe\">\n  <thead>\n    <tr style=\"text-align: right;\">\n      <th></th>\n      <th>CallReportNum</th>\n      <th>ReportVersion</th>\n      <th>CallDateAndTimeStart</th>\n      <th>CallDateAndTimeEnd</th>\n      <th>CallLength</th>\n      <th>CallerNum</th>\n      <th>PhoneWorkerNum</th>\n      <th>CityName</th>\n      <th>CountyName</th>\n      <th>StateProvince</th>\n      <th>...</th>\n      <th>SMILE ON 60+ Screening - Treatment Urgency</th>\n      <th>SMILE ON 60+ Screening - Untreated Decay</th>\n      <th>SMILE ON 60+ Site Information - Enroller ID</th>\n      <th>SMILE ON 60+ Site Information - Enroller Location</th>\n      <th>SMILE ON 60+ Treatment Plan - Action: Upload After Picture on Finish Tab</th>\n      <th>SMILE ON 60+ Treatment Plan - Is the treatment plan completed?</th>\n      <th>SMILE ON 60+ Treatment Plan - Was a treatment plan developed?</th>\n      <th>SMILE ON 60+ Treatment Plan - Was the enrollee able to be restored to function (can chew) and \"social six\" esthetics (top front six teeth are present and disease free)</th>\n      <th>SMILE ON 60+ Verification of Eligibility - Transportation Arranged</th>\n      <th>SMILE ON 60+ Verification of Eligibility - Verification of Eligibility</th>\n    </tr>\n  </thead>\n  <tbody>\n    <tr>\n      <th>0</th>\n      <td>81381827</td>\n      <td>SMILE ON 60+ Registration</td>\n      <td>11/25/2020 16:46</td>\n      <td>11/25/2020 16:48</td>\n      <td>2</td>\n      <td>3859874</td>\n      <td>136529</td>\n      <td>Springfield</td>\n      <td>Robertson</td>\n      <td>TN</td>\n      <td>...</td>\n      <td>NaN</td>\n      <td>NaN</td>\n      <td>Matthew Walker Comprehensive Health Center Inc...</td>\n      <td>Provider Site</td>\n      <td>NaN</td>\n      <td>NaN</td>\n      <td>NaN</td>\n      <td>NaN</td>\n      <td>NaN</td>\n      <td>NaN</td>\n    </tr>\n    <tr>\n      <th>1</th>\n      <td>81379177</td>\n      <td>SMILE ON 60+ Registration</td>\n      <td>11/25/2020 15:40</td>\n      <td>11/25/2020 15:55</td>\n      <td>15</td>\n      <td>3859755</td>\n      <td>82341</td>\n      <td>Nashville</td>\n      <td>Davidson</td>\n      <td>TN</td>\n      <td>...</td>\n      <td>NaN</td>\n      <td>NaN</td>\n      <td>NaN</td>\n      <td>Health Assist Office</td>\n      <td>NaN</td>\n      <td>NaN</td>\n      <td>NaN</td>\n      <td>NaN</td>\n      <td>NaN</td>\n      <td>NaN</td>\n    </tr>\n    <tr>\n      <th>2</th>\n      <td>81377435</td>\n      <td>SMILE ON 60+ Clinical</td>\n      <td>11/25/2020 15:02</td>\n      <td>11/25/2020 15:02</td>\n      <td>0</td>\n      <td>2518680</td>\n      <td>119506</td>\n      <td>Rogersville</td>\n      <td>Hawkins</td>\n      <td>TN</td>\n      <td>...</td>\n      <td>NaN</td>\n      <td>NaN</td>\n      <td>Friends in Need Health Center - Kingsport</td>\n      <td>Provider Site</td>\n      <td>NaN</td>\n      <td>Yes</td>\n      <td>Yes</td>\n      <td>Yes</td>\n      <td>NaN</td>\n      <td>NaN</td>\n    </tr>\n    <tr>\n      <th>3</th>\n      <td>81375215</td>\n      <td>SMILE ON 60+ Clinical</td>\n      <td>11/25/2020 14:17</td>\n      <td>11/25/2020 14:17</td>\n      <td>0</td>\n      <td>3231923</td>\n      <td>143703</td>\n      <td>Memphis</td>\n      <td>Shelby</td>\n      <td>TN</td>\n      <td>...</td>\n      <td>NaN</td>\n      <td>NaN</td>\n      <td>Christ Community Health Services- Frayser</td>\n      <td>Provider Site</td>\n      <td>NaN</td>\n      <td>NaN</td>\n      <td>NaN</td>\n      <td>NaN</td>\n      <td>NaN</td>\n      <td>NaN</td>\n    </tr>\n    <tr>\n      <th>4</th>\n      <td>81373934</td>\n      <td>SMILE ON 60+ Clinical</td>\n      <td>11/25/2020 13:50</td>\n      <td>11/25/2020 13:58</td>\n      <td>8</td>\n      <td>-1</td>\n      <td>135611</td>\n      <td>NaN</td>\n      <td>NaN</td>\n      <td>TN</td>\n      <td>...</td>\n      <td>Urgent Care - within next week-pain or infection</td>\n      <td>Yes</td>\n      <td>Neighborhood Health - Lebanon</td>\n      <td>NaN</td>\n      <td>NaN</td>\n      <td>NaN</td>\n      <td>Yes</td>\n      <td>No</td>\n      <td>NaN</td>\n      <td>Yes</td>\n    </tr>\n  </tbody>\n</table>\n<p>5 rows × 147 columns</p>\n</div>"
     },
     "metadata": {},
     "execution_count": 9
    }
   ],
   "source": [
    "smile_v1.head()"
   ]
  },
  {
   "source": [
    "### Removal of all columns other than \"Yellow\" in Data Dictionary"
   ],
   "cell_type": "markdown",
   "metadata": {}
  },
  {
   "cell_type": "code",
   "execution_count": 10,
   "metadata": {},
   "outputs": [],
   "source": [
    "smile_onlyyellow = smile[['CallReportNum','CallerNum','SMILE ON 60+ Screening - Last Screening Date','SMILE ON 60+ Oral Care Encounter - What care was provided to the enrollee? (Select all that apply)','SMILE ON 60+ Site Information - Enroller ID','SMILE ON 60+ Treatment Plan - Is the treatment plan completed?','SMILE ON 60+ Treatment Plan - Was a treatment plan developed?','SMILE ON 60+ Treatment Plan - Was the enrollee able to be restored to function (can chew) and \"social six\" esthetics (top front six teeth are present and disease free)']]"
   ]
  },
  {
   "cell_type": "code",
   "execution_count": 11,
   "metadata": {},
   "outputs": [
    {
     "output_type": "execute_result",
     "data": {
      "text/plain": [
       "       CallReportNum  CallerNum SMILE ON 60+ Screening - Last Screening Date  \\\n",
       "0           81381827    3859874                                          NaN   \n",
       "1           81379177    3859755                                          NaN   \n",
       "2           81377435    2518680                                          NaN   \n",
       "3           81375215    3231923                                          NaN   \n",
       "4           81373934         -1                                   11/25/2020   \n",
       "...              ...        ...                                          ...   \n",
       "40027       53192452         -1                                          NaN   \n",
       "40028       67915561    3239813                                          NaN   \n",
       "40029       67251405    2631417                                   11/29/2018   \n",
       "40030       63063150         -1                                          NaN   \n",
       "40031       70839903         -1                                          NaN   \n",
       "\n",
       "      SMILE ON 60+ Oral Care Encounter - What care was provided to the enrollee? (Select all that apply)  \\\n",
       "0                                                    NaN                                                   \n",
       "1                                                    NaN                                                   \n",
       "2      5650 - Add tooth to existing partial denture - 30                                                   \n",
       "3      No Code - Denture step Mandibular: may be used...                                                   \n",
       "4                                                    NaN                                                   \n",
       "...                                                  ...                                                   \n",
       "40027                                                NaN                                                   \n",
       "40028                                                NaN                                                   \n",
       "40029                                                NaN                                                   \n",
       "40030                              Case Management - $50                                                   \n",
       "40031  D5284 - Removable unilateral partial denture/o...                                                   \n",
       "\n",
       "             SMILE ON 60+ Site Information - Enroller ID  \\\n",
       "0      Matthew Walker Comprehensive Health Center Inc...   \n",
       "1                                                    NaN   \n",
       "2              Friends in Need Health Center - Kingsport   \n",
       "3              Christ Community Health Services- Frayser   \n",
       "4                          Neighborhood Health - Lebanon   \n",
       "...                                                  ...   \n",
       "40027                                                NaN   \n",
       "40028                     Church Health Center - Memphis   \n",
       "40029          Friends in Need Health Center - Kingsport   \n",
       "40030               Interfaith Dental Clinic - Nashville   \n",
       "40031               Interfaith Dental Clinic - Nashville   \n",
       "\n",
       "      SMILE ON 60+ Treatment Plan - Is the treatment plan completed?  \\\n",
       "0                                                    NaN               \n",
       "1                                                    NaN               \n",
       "2                                                    Yes               \n",
       "3                                                    NaN               \n",
       "4                                                    NaN               \n",
       "...                                                  ...               \n",
       "40027                                                NaN               \n",
       "40028                                                NaN               \n",
       "40029                                                 No               \n",
       "40030                                                NaN               \n",
       "40031                                                NaN               \n",
       "\n",
       "      SMILE ON 60+ Treatment Plan - Was a treatment plan developed?  \\\n",
       "0                                                    NaN              \n",
       "1                                                    NaN              \n",
       "2                                                    Yes              \n",
       "3                                                    NaN              \n",
       "4                                                    Yes              \n",
       "...                                                  ...              \n",
       "40027                                                NaN              \n",
       "40028                                                NaN              \n",
       "40029                                                Yes              \n",
       "40030                                                NaN              \n",
       "40031                                                NaN              \n",
       "\n",
       "      SMILE ON 60+ Treatment Plan - Was the enrollee able to be restored to function (can chew) and \"social six\" esthetics (top front six teeth are present and disease free)  \n",
       "0                                                    NaN                                                                                                                       \n",
       "1                                                    NaN                                                                                                                       \n",
       "2                                                    Yes                                                                                                                       \n",
       "3                                                    NaN                                                                                                                       \n",
       "4                                                     No                                                                                                                       \n",
       "...                                                  ...                                                                                                                       \n",
       "40027                                                NaN                                                                                                                       \n",
       "40028                                                NaN                                                                                                                       \n",
       "40029                                                Yes                                                                                                                       \n",
       "40030                                                NaN                                                                                                                       \n",
       "40031                                                NaN                                                                                                                       \n",
       "\n",
       "[40032 rows x 8 columns]"
      ],
      "text/html": "<div>\n<style scoped>\n    .dataframe tbody tr th:only-of-type {\n        vertical-align: middle;\n    }\n\n    .dataframe tbody tr th {\n        vertical-align: top;\n    }\n\n    .dataframe thead th {\n        text-align: right;\n    }\n</style>\n<table border=\"1\" class=\"dataframe\">\n  <thead>\n    <tr style=\"text-align: right;\">\n      <th></th>\n      <th>CallReportNum</th>\n      <th>CallerNum</th>\n      <th>SMILE ON 60+ Screening - Last Screening Date</th>\n      <th>SMILE ON 60+ Oral Care Encounter - What care was provided to the enrollee? (Select all that apply)</th>\n      <th>SMILE ON 60+ Site Information - Enroller ID</th>\n      <th>SMILE ON 60+ Treatment Plan - Is the treatment plan completed?</th>\n      <th>SMILE ON 60+ Treatment Plan - Was a treatment plan developed?</th>\n      <th>SMILE ON 60+ Treatment Plan - Was the enrollee able to be restored to function (can chew) and \"social six\" esthetics (top front six teeth are present and disease free)</th>\n    </tr>\n  </thead>\n  <tbody>\n    <tr>\n      <th>0</th>\n      <td>81381827</td>\n      <td>3859874</td>\n      <td>NaN</td>\n      <td>NaN</td>\n      <td>Matthew Walker Comprehensive Health Center Inc...</td>\n      <td>NaN</td>\n      <td>NaN</td>\n      <td>NaN</td>\n    </tr>\n    <tr>\n      <th>1</th>\n      <td>81379177</td>\n      <td>3859755</td>\n      <td>NaN</td>\n      <td>NaN</td>\n      <td>NaN</td>\n      <td>NaN</td>\n      <td>NaN</td>\n      <td>NaN</td>\n    </tr>\n    <tr>\n      <th>2</th>\n      <td>81377435</td>\n      <td>2518680</td>\n      <td>NaN</td>\n      <td>5650 - Add tooth to existing partial denture - 30</td>\n      <td>Friends in Need Health Center - Kingsport</td>\n      <td>Yes</td>\n      <td>Yes</td>\n      <td>Yes</td>\n    </tr>\n    <tr>\n      <th>3</th>\n      <td>81375215</td>\n      <td>3231923</td>\n      <td>NaN</td>\n      <td>No Code - Denture step Mandibular: may be used...</td>\n      <td>Christ Community Health Services- Frayser</td>\n      <td>NaN</td>\n      <td>NaN</td>\n      <td>NaN</td>\n    </tr>\n    <tr>\n      <th>4</th>\n      <td>81373934</td>\n      <td>-1</td>\n      <td>11/25/2020</td>\n      <td>NaN</td>\n      <td>Neighborhood Health - Lebanon</td>\n      <td>NaN</td>\n      <td>Yes</td>\n      <td>No</td>\n    </tr>\n    <tr>\n      <th>...</th>\n      <td>...</td>\n      <td>...</td>\n      <td>...</td>\n      <td>...</td>\n      <td>...</td>\n      <td>...</td>\n      <td>...</td>\n      <td>...</td>\n    </tr>\n    <tr>\n      <th>40027</th>\n      <td>53192452</td>\n      <td>-1</td>\n      <td>NaN</td>\n      <td>NaN</td>\n      <td>NaN</td>\n      <td>NaN</td>\n      <td>NaN</td>\n      <td>NaN</td>\n    </tr>\n    <tr>\n      <th>40028</th>\n      <td>67915561</td>\n      <td>3239813</td>\n      <td>NaN</td>\n      <td>NaN</td>\n      <td>Church Health Center - Memphis</td>\n      <td>NaN</td>\n      <td>NaN</td>\n      <td>NaN</td>\n    </tr>\n    <tr>\n      <th>40029</th>\n      <td>67251405</td>\n      <td>2631417</td>\n      <td>11/29/2018</td>\n      <td>NaN</td>\n      <td>Friends in Need Health Center - Kingsport</td>\n      <td>No</td>\n      <td>Yes</td>\n      <td>Yes</td>\n    </tr>\n    <tr>\n      <th>40030</th>\n      <td>63063150</td>\n      <td>-1</td>\n      <td>NaN</td>\n      <td>Case Management - $50</td>\n      <td>Interfaith Dental Clinic - Nashville</td>\n      <td>NaN</td>\n      <td>NaN</td>\n      <td>NaN</td>\n    </tr>\n    <tr>\n      <th>40031</th>\n      <td>70839903</td>\n      <td>-1</td>\n      <td>NaN</td>\n      <td>D5284 - Removable unilateral partial denture/o...</td>\n      <td>Interfaith Dental Clinic - Nashville</td>\n      <td>NaN</td>\n      <td>NaN</td>\n      <td>NaN</td>\n    </tr>\n  </tbody>\n</table>\n<p>40032 rows × 8 columns</p>\n</div>"
     },
     "metadata": {},
     "execution_count": 11
    }
   ],
   "source": [
    "smile_onlyyellow"
   ]
  },
  {
   "source": [
    "### Renaming of columns so to remove issue with \"ON\" within column title. "
   ],
   "cell_type": "markdown",
   "metadata": {}
  },
  {
   "cell_type": "code",
   "execution_count": 12,
   "metadata": {},
   "outputs": [],
   "source": [
    "smile_onlyyellow = smile_onlyyellow.rename(columns = {'SMILE ON 60+ Screening - Last Screening Date':'screening_date', 'SMILE ON 60+ Oral Care Encounter - What care was provided to the enrollee? (Select all that apply)':'care_provided', 'SMILE ON 60+ Site Information - Enroller ID':'site', 'SMILE ON 60+ Treatment Plan - Is the treatment plan completed?':'treatment_plan_complete','SMILE ON 60+ Treatment Plan - Was a treatment plan developed?':'treatment_plan_developed','SMILE ON 60+ Treatment Plan - Was the enrollee able to be restored to function (can chew) and \"social six\" esthetics (top front six teeth are present and disease free)':'restored_to_function'})"
   ]
  },
  {
   "cell_type": "code",
   "execution_count": 13,
   "metadata": {},
   "outputs": [
    {
     "output_type": "execute_result",
     "data": {
      "text/plain": [
       "       CallReportNum  CallerNum screening_date  \\\n",
       "0           81381827    3859874            NaN   \n",
       "1           81379177    3859755            NaN   \n",
       "2           81377435    2518680            NaN   \n",
       "3           81375215    3231923            NaN   \n",
       "4           81373934         -1     11/25/2020   \n",
       "...              ...        ...            ...   \n",
       "40027       53192452         -1            NaN   \n",
       "40028       67915561    3239813            NaN   \n",
       "40029       67251405    2631417     11/29/2018   \n",
       "40030       63063150         -1            NaN   \n",
       "40031       70839903         -1            NaN   \n",
       "\n",
       "                                           care_provided  \\\n",
       "0                                                    NaN   \n",
       "1                                                    NaN   \n",
       "2      5650 - Add tooth to existing partial denture - 30   \n",
       "3      No Code - Denture step Mandibular: may be used...   \n",
       "4                                                    NaN   \n",
       "...                                                  ...   \n",
       "40027                                                NaN   \n",
       "40028                                                NaN   \n",
       "40029                                                NaN   \n",
       "40030                              Case Management - $50   \n",
       "40031  D5284 - Removable unilateral partial denture/o...   \n",
       "\n",
       "                                                    site  \\\n",
       "0      Matthew Walker Comprehensive Health Center Inc...   \n",
       "1                                                    NaN   \n",
       "2              Friends in Need Health Center - Kingsport   \n",
       "3              Christ Community Health Services- Frayser   \n",
       "4                          Neighborhood Health - Lebanon   \n",
       "...                                                  ...   \n",
       "40027                                                NaN   \n",
       "40028                     Church Health Center - Memphis   \n",
       "40029          Friends in Need Health Center - Kingsport   \n",
       "40030               Interfaith Dental Clinic - Nashville   \n",
       "40031               Interfaith Dental Clinic - Nashville   \n",
       "\n",
       "      treatment_plan_complete treatment_plan_developed restored_to_function  \n",
       "0                         NaN                      NaN                  NaN  \n",
       "1                         NaN                      NaN                  NaN  \n",
       "2                         Yes                      Yes                  Yes  \n",
       "3                         NaN                      NaN                  NaN  \n",
       "4                         NaN                      Yes                   No  \n",
       "...                       ...                      ...                  ...  \n",
       "40027                     NaN                      NaN                  NaN  \n",
       "40028                     NaN                      NaN                  NaN  \n",
       "40029                      No                      Yes                  Yes  \n",
       "40030                     NaN                      NaN                  NaN  \n",
       "40031                     NaN                      NaN                  NaN  \n",
       "\n",
       "[40032 rows x 8 columns]"
      ],
      "text/html": "<div>\n<style scoped>\n    .dataframe tbody tr th:only-of-type {\n        vertical-align: middle;\n    }\n\n    .dataframe tbody tr th {\n        vertical-align: top;\n    }\n\n    .dataframe thead th {\n        text-align: right;\n    }\n</style>\n<table border=\"1\" class=\"dataframe\">\n  <thead>\n    <tr style=\"text-align: right;\">\n      <th></th>\n      <th>CallReportNum</th>\n      <th>CallerNum</th>\n      <th>screening_date</th>\n      <th>care_provided</th>\n      <th>site</th>\n      <th>treatment_plan_complete</th>\n      <th>treatment_plan_developed</th>\n      <th>restored_to_function</th>\n    </tr>\n  </thead>\n  <tbody>\n    <tr>\n      <th>0</th>\n      <td>81381827</td>\n      <td>3859874</td>\n      <td>NaN</td>\n      <td>NaN</td>\n      <td>Matthew Walker Comprehensive Health Center Inc...</td>\n      <td>NaN</td>\n      <td>NaN</td>\n      <td>NaN</td>\n    </tr>\n    <tr>\n      <th>1</th>\n      <td>81379177</td>\n      <td>3859755</td>\n      <td>NaN</td>\n      <td>NaN</td>\n      <td>NaN</td>\n      <td>NaN</td>\n      <td>NaN</td>\n      <td>NaN</td>\n    </tr>\n    <tr>\n      <th>2</th>\n      <td>81377435</td>\n      <td>2518680</td>\n      <td>NaN</td>\n      <td>5650 - Add tooth to existing partial denture - 30</td>\n      <td>Friends in Need Health Center - Kingsport</td>\n      <td>Yes</td>\n      <td>Yes</td>\n      <td>Yes</td>\n    </tr>\n    <tr>\n      <th>3</th>\n      <td>81375215</td>\n      <td>3231923</td>\n      <td>NaN</td>\n      <td>No Code - Denture step Mandibular: may be used...</td>\n      <td>Christ Community Health Services- Frayser</td>\n      <td>NaN</td>\n      <td>NaN</td>\n      <td>NaN</td>\n    </tr>\n    <tr>\n      <th>4</th>\n      <td>81373934</td>\n      <td>-1</td>\n      <td>11/25/2020</td>\n      <td>NaN</td>\n      <td>Neighborhood Health - Lebanon</td>\n      <td>NaN</td>\n      <td>Yes</td>\n      <td>No</td>\n    </tr>\n    <tr>\n      <th>...</th>\n      <td>...</td>\n      <td>...</td>\n      <td>...</td>\n      <td>...</td>\n      <td>...</td>\n      <td>...</td>\n      <td>...</td>\n      <td>...</td>\n    </tr>\n    <tr>\n      <th>40027</th>\n      <td>53192452</td>\n      <td>-1</td>\n      <td>NaN</td>\n      <td>NaN</td>\n      <td>NaN</td>\n      <td>NaN</td>\n      <td>NaN</td>\n      <td>NaN</td>\n    </tr>\n    <tr>\n      <th>40028</th>\n      <td>67915561</td>\n      <td>3239813</td>\n      <td>NaN</td>\n      <td>NaN</td>\n      <td>Church Health Center - Memphis</td>\n      <td>NaN</td>\n      <td>NaN</td>\n      <td>NaN</td>\n    </tr>\n    <tr>\n      <th>40029</th>\n      <td>67251405</td>\n      <td>2631417</td>\n      <td>11/29/2018</td>\n      <td>NaN</td>\n      <td>Friends in Need Health Center - Kingsport</td>\n      <td>No</td>\n      <td>Yes</td>\n      <td>Yes</td>\n    </tr>\n    <tr>\n      <th>40030</th>\n      <td>63063150</td>\n      <td>-1</td>\n      <td>NaN</td>\n      <td>Case Management - $50</td>\n      <td>Interfaith Dental Clinic - Nashville</td>\n      <td>NaN</td>\n      <td>NaN</td>\n      <td>NaN</td>\n    </tr>\n    <tr>\n      <th>40031</th>\n      <td>70839903</td>\n      <td>-1</td>\n      <td>NaN</td>\n      <td>D5284 - Removable unilateral partial denture/o...</td>\n      <td>Interfaith Dental Clinic - Nashville</td>\n      <td>NaN</td>\n      <td>NaN</td>\n      <td>NaN</td>\n    </tr>\n  </tbody>\n</table>\n<p>40032 rows × 8 columns</p>\n</div>"
     },
     "metadata": {},
     "execution_count": 13
    }
   ],
   "source": [
    "smile_onlyyellow"
   ]
  },
  {
   "cell_type": "code",
   "execution_count": 14,
   "metadata": {},
   "outputs": [
    {
     "output_type": "stream",
     "name": "stdout",
     "text": [
      "<class 'pandas.core.frame.DataFrame'>\nRangeIndex: 40032 entries, 0 to 40031\nData columns (total 8 columns):\n #   Column                    Non-Null Count  Dtype \n---  ------                    --------------  ----- \n 0   CallReportNum             40032 non-null  int64 \n 1   CallerNum                 40032 non-null  int64 \n 2   screening_date            14892 non-null  object\n 3   care_provided             24849 non-null  object\n 4   site                      32801 non-null  object\n 5   treatment_plan_complete   17535 non-null  object\n 6   treatment_plan_developed  17028 non-null  object\n 7   restored_to_function      14276 non-null  object\ndtypes: int64(2), object(6)\nmemory usage: 2.4+ MB\n"
     ]
    }
   ],
   "source": [
    "smile_onlyyellow.info()"
   ]
  },
  {
   "source": [
    "## Create CSV file to search for care provided code description"
   ],
   "cell_type": "markdown",
   "metadata": {}
  },
  {
   "cell_type": "code",
   "execution_count": 15,
   "metadata": {},
   "outputs": [],
   "source": [
    "#smile_onlyyellow.care_provided.to_csv('../data/smile_onlyyellow_care_provided.csv')"
   ]
  },
  {
   "cell_type": "code",
   "execution_count": 16,
   "metadata": {},
   "outputs": [
    {
     "output_type": "execute_result",
     "data": {
      "text/plain": [
       "Yes    15930\n",
       "No      1098\n",
       "Name: treatment_plan_developed, dtype: int64"
      ]
     },
     "metadata": {},
     "execution_count": 16
    }
   ],
   "source": [
    "smile_onlyyellow.treatment_plan_developed.value_counts(ascending= False)"
   ]
  },
  {
   "cell_type": "code",
   "execution_count": 17,
   "metadata": {},
   "outputs": [
    {
     "output_type": "execute_result",
     "data": {
      "text/plain": [
       "No     12431\n",
       "Yes     5104\n",
       "Name: treatment_plan_complete, dtype: int64"
      ]
     },
     "metadata": {},
     "execution_count": 17
    }
   ],
   "source": [
    "smile_onlyyellow.treatment_plan_complete.value_counts()"
   ]
  },
  {
   "cell_type": "code",
   "execution_count": 18,
   "metadata": {},
   "outputs": [
    {
     "output_type": "execute_result",
     "data": {
      "text/plain": [
       "-1          70\n",
       " 2441776    36\n",
       " 2431132    31\n",
       " 2416076    29\n",
       " 2466994    28\n",
       "            ..\n",
       " 3825101     1\n",
       " 3743280     1\n",
       " 2653820     1\n",
       " 3686036     1\n",
       " 3821558     1\n",
       "Name: CallerNum, Length: 8708, dtype: int64"
      ]
     },
     "metadata": {},
     "execution_count": 18
    }
   ],
   "source": [
    "smile_onlyyellow.CallerNum.value_counts()"
   ]
  },
  {
   "source": [
    "### Separating out most frequent CallerNum"
   ],
   "cell_type": "markdown",
   "metadata": {}
  },
  {
   "cell_type": "code",
   "execution_count": 19,
   "metadata": {},
   "outputs": [],
   "source": [
    "smile_2441776 = smile_onlyyellow.loc[smile_onlyyellow['CallerNum'] == 2441776]"
   ]
  },
  {
   "cell_type": "code",
   "execution_count": 20,
   "metadata": {},
   "outputs": [
    {
     "output_type": "execute_result",
     "data": {
      "text/plain": [
       "       CallReportNum  CallerNum screening_date  \\\n",
       "685         80878764    2441776      9/25/2018   \n",
       "1024        80784223    2441776      9/25/2018   \n",
       "3353        79037448    2441776      9/25/2018   \n",
       "3812        78220913    2441776       9/2/2020   \n",
       "3833        78698465    2441776      9/25/2018   \n",
       "5312        77631129    2441776      9/25/2018   \n",
       "5906        76991587    2441776      9/25/2018   \n",
       "6439        76991448    2441776      9/25/2018   \n",
       "11473       71557178    2441776      9/25/2018   \n",
       "14542       70184765    2441776      9/25/2018   \n",
       "\n",
       "                                           care_provided  \\\n",
       "685    2331 - Resin two surfaces - Anterior - 15; 239...   \n",
       "1024   No Code - Denture step Mandibular: may be used...   \n",
       "3353   No Code - Denture step Mandibular: may be used...   \n",
       "3812                                                 NaN   \n",
       "3833   220 - Intraoral - Periapical First Film - 5; 1...   \n",
       "5312   220 - Intraoral - Periapical First Film - 5; 3...   \n",
       "5906   5110 - Complete denture-maxillary - 60; 5226 -...   \n",
       "6439   5850 - Denture tissue conditioning maxillary - 15   \n",
       "11473  1110 - Prophylaxis-adult - 45; 1330 - Oral Hyg...   \n",
       "14542  No Code - Denture step Mandibular: may be used...   \n",
       "\n",
       "                                       site treatment_plan_complete  \\\n",
       "685    Interfaith Dental Clinic - Nashville                      No   \n",
       "1024   Interfaith Dental Clinic - Nashville                      No   \n",
       "3353   Interfaith Dental Clinic - Nashville                      No   \n",
       "3812   Interfaith Dental Clinic - Nashville                     NaN   \n",
       "3833   Interfaith Dental Clinic - Nashville                      No   \n",
       "5312   Interfaith Dental Clinic - Nashville                      No   \n",
       "5906   Interfaith Dental Clinic - Nashville                      No   \n",
       "6439   Interfaith Dental Clinic - Nashville                      No   \n",
       "11473  Interfaith Dental Clinic - Nashville                     Yes   \n",
       "14542  Interfaith Dental Clinic - Nashville                      No   \n",
       "\n",
       "      treatment_plan_developed restored_to_function  \n",
       "685                        Yes                   No  \n",
       "1024                       Yes                   No  \n",
       "3353                       Yes                   No  \n",
       "3812                       Yes                  NaN  \n",
       "3833                       Yes                   No  \n",
       "5312                       Yes                  Yes  \n",
       "5906                       Yes                  Yes  \n",
       "6439                       Yes                  Yes  \n",
       "11473                      Yes                  Yes  \n",
       "14542                      Yes                  Yes  "
      ],
      "text/html": "<div>\n<style scoped>\n    .dataframe tbody tr th:only-of-type {\n        vertical-align: middle;\n    }\n\n    .dataframe tbody tr th {\n        vertical-align: top;\n    }\n\n    .dataframe thead th {\n        text-align: right;\n    }\n</style>\n<table border=\"1\" class=\"dataframe\">\n  <thead>\n    <tr style=\"text-align: right;\">\n      <th></th>\n      <th>CallReportNum</th>\n      <th>CallerNum</th>\n      <th>screening_date</th>\n      <th>care_provided</th>\n      <th>site</th>\n      <th>treatment_plan_complete</th>\n      <th>treatment_plan_developed</th>\n      <th>restored_to_function</th>\n    </tr>\n  </thead>\n  <tbody>\n    <tr>\n      <th>685</th>\n      <td>80878764</td>\n      <td>2441776</td>\n      <td>9/25/2018</td>\n      <td>2331 - Resin two surfaces - Anterior - 15; 239...</td>\n      <td>Interfaith Dental Clinic - Nashville</td>\n      <td>No</td>\n      <td>Yes</td>\n      <td>No</td>\n    </tr>\n    <tr>\n      <th>1024</th>\n      <td>80784223</td>\n      <td>2441776</td>\n      <td>9/25/2018</td>\n      <td>No Code - Denture step Mandibular: may be used...</td>\n      <td>Interfaith Dental Clinic - Nashville</td>\n      <td>No</td>\n      <td>Yes</td>\n      <td>No</td>\n    </tr>\n    <tr>\n      <th>3353</th>\n      <td>79037448</td>\n      <td>2441776</td>\n      <td>9/25/2018</td>\n      <td>No Code - Denture step Mandibular: may be used...</td>\n      <td>Interfaith Dental Clinic - Nashville</td>\n      <td>No</td>\n      <td>Yes</td>\n      <td>No</td>\n    </tr>\n    <tr>\n      <th>3812</th>\n      <td>78220913</td>\n      <td>2441776</td>\n      <td>9/2/2020</td>\n      <td>NaN</td>\n      <td>Interfaith Dental Clinic - Nashville</td>\n      <td>NaN</td>\n      <td>Yes</td>\n      <td>NaN</td>\n    </tr>\n    <tr>\n      <th>3833</th>\n      <td>78698465</td>\n      <td>2441776</td>\n      <td>9/25/2018</td>\n      <td>220 - Intraoral - Periapical First Film - 5; 1...</td>\n      <td>Interfaith Dental Clinic - Nashville</td>\n      <td>No</td>\n      <td>Yes</td>\n      <td>No</td>\n    </tr>\n    <tr>\n      <th>5312</th>\n      <td>77631129</td>\n      <td>2441776</td>\n      <td>9/25/2018</td>\n      <td>220 - Intraoral - Periapical First Film - 5; 3...</td>\n      <td>Interfaith Dental Clinic - Nashville</td>\n      <td>No</td>\n      <td>Yes</td>\n      <td>Yes</td>\n    </tr>\n    <tr>\n      <th>5906</th>\n      <td>76991587</td>\n      <td>2441776</td>\n      <td>9/25/2018</td>\n      <td>5110 - Complete denture-maxillary - 60; 5226 -...</td>\n      <td>Interfaith Dental Clinic - Nashville</td>\n      <td>No</td>\n      <td>Yes</td>\n      <td>Yes</td>\n    </tr>\n    <tr>\n      <th>6439</th>\n      <td>76991448</td>\n      <td>2441776</td>\n      <td>9/25/2018</td>\n      <td>5850 - Denture tissue conditioning maxillary - 15</td>\n      <td>Interfaith Dental Clinic - Nashville</td>\n      <td>No</td>\n      <td>Yes</td>\n      <td>Yes</td>\n    </tr>\n    <tr>\n      <th>11473</th>\n      <td>71557178</td>\n      <td>2441776</td>\n      <td>9/25/2018</td>\n      <td>1110 - Prophylaxis-adult - 45; 1330 - Oral Hyg...</td>\n      <td>Interfaith Dental Clinic - Nashville</td>\n      <td>Yes</td>\n      <td>Yes</td>\n      <td>Yes</td>\n    </tr>\n    <tr>\n      <th>14542</th>\n      <td>70184765</td>\n      <td>2441776</td>\n      <td>9/25/2018</td>\n      <td>No Code - Denture step Mandibular: may be used...</td>\n      <td>Interfaith Dental Clinic - Nashville</td>\n      <td>No</td>\n      <td>Yes</td>\n      <td>Yes</td>\n    </tr>\n  </tbody>\n</table>\n</div>"
     },
     "metadata": {},
     "execution_count": 20
    }
   ],
   "source": [
    "smile_2441776.head(10)"
   ]
  },
  {
   "source": [
    "## Why does he have so many listings for the same day? And at such different CallReportNum? "
   ],
   "cell_type": "markdown",
   "metadata": {}
  },
  {
   "cell_type": "code",
   "execution_count": 21,
   "metadata": {},
   "outputs": [
    {
     "output_type": "execute_result",
     "data": {
      "text/plain": [
       "69171583    1\n",
       "70184765    1\n",
       "61865691    1\n",
       "77631129    1\n",
       "76991448    1\n",
       "56542940    1\n",
       "65850728    1\n",
       "62797843    1\n",
       "60706642    1\n",
       "58800629    1\n",
       "61582513    1\n",
       "63277516    1\n",
       "64563999    1\n",
       "79037448    1\n",
       "56587268    1\n",
       "66789188    1\n",
       "63277569    1\n",
       "62848924    1\n",
       "80784223    1\n",
       "78698465    1\n",
       "69739760    1\n",
       "62797691    1\n",
       "71557178    1\n",
       "56543096    1\n",
       "62172149    1\n",
       "56542681    1\n",
       "78220913    1\n",
       "57786861    1\n",
       "56596645    1\n",
       "80878764    1\n",
       "68129507    1\n",
       "67757927    1\n",
       "64343269    1\n",
       "56570148    1\n",
       "76991587    1\n",
       "58800768    1\n",
       "Name: CallReportNum, dtype: int64"
      ]
     },
     "metadata": {},
     "execution_count": 21
    }
   ],
   "source": [
    "smile_2441776.CallReportNum.value_counts()\n"
   ]
  },
  {
   "cell_type": "code",
   "execution_count": 22,
   "metadata": {},
   "outputs": [],
   "source": [
    "smile_2431132 = smile_onlyyellow.loc[smile_onlyyellow['CallerNum'] == 2431132]"
   ]
  },
  {
   "cell_type": "code",
   "execution_count": 23,
   "metadata": {},
   "outputs": [
    {
     "output_type": "execute_result",
     "data": {
      "text/plain": [
       "      CallReportNum  CallerNum screening_date  \\\n",
       "766        80572613    2431132      11/4/2020   \n",
       "1609       79831882    2431132            NaN   \n",
       "2779       79039925    2431132            NaN   \n",
       "3919       78182738    2431132            NaN   \n",
       "5231       77249056    2431132            NaN   \n",
       "5317       77203328    2431132            NaN   \n",
       "6359       76456276    2431132            NaN   \n",
       "7022       75903370    2431132            NaN   \n",
       "7625       75329200    2431132            NaN   \n",
       "8303       74795958    2431132            NaN   \n",
       "\n",
       "                                          care_provided  \\\n",
       "766                                                 NaN   \n",
       "1609  7140 - Extraction - erupted tooth or exposed r...   \n",
       "2779  No Code - Denture step Mandibular: may be used...   \n",
       "3919  No Code - Denture step Mandibular: may be used...   \n",
       "5231  2330 - Resin one surface - Anterior - 15; 2331...   \n",
       "5317                      1110 - Prophylaxis-adult - 45   \n",
       "6359  140 - Limited Oral evaluation - problem focuse...   \n",
       "7022  140 - Limited Oral evaluation - problem focuse...   \n",
       "7625  7140 - Extraction - erupted tooth or exposed r...   \n",
       "8303  7140 - Extraction - erupted tooth or exposed r...   \n",
       "\n",
       "                                 site treatment_plan_complete  \\\n",
       "766   Karis Dental Clinic - Cleveland                      No   \n",
       "1609  Karis Dental Clinic - Cleveland                      No   \n",
       "2779  Karis Dental Clinic - Cleveland                      No   \n",
       "3919  Karis Dental Clinic - Cleveland                      No   \n",
       "5231  Karis Dental Clinic - Cleveland                      No   \n",
       "5317  Karis Dental Clinic - Cleveland                      No   \n",
       "6359  Karis Dental Clinic - Cleveland                      No   \n",
       "7022  Karis Dental Clinic - Cleveland                      No   \n",
       "7625  Karis Dental Clinic - Cleveland                      No   \n",
       "8303  Karis Dental Clinic - Cleveland                      No   \n",
       "\n",
       "     treatment_plan_developed restored_to_function  \n",
       "766                        No                   No  \n",
       "1609                      NaN                   No  \n",
       "2779                      NaN                   No  \n",
       "3919                      NaN                   No  \n",
       "5231                      NaN                   No  \n",
       "5317                      NaN                   No  \n",
       "6359                      Yes                   No  \n",
       "7022                       No                   No  \n",
       "7625                      NaN                   No  \n",
       "8303                      NaN                   No  "
      ],
      "text/html": "<div>\n<style scoped>\n    .dataframe tbody tr th:only-of-type {\n        vertical-align: middle;\n    }\n\n    .dataframe tbody tr th {\n        vertical-align: top;\n    }\n\n    .dataframe thead th {\n        text-align: right;\n    }\n</style>\n<table border=\"1\" class=\"dataframe\">\n  <thead>\n    <tr style=\"text-align: right;\">\n      <th></th>\n      <th>CallReportNum</th>\n      <th>CallerNum</th>\n      <th>screening_date</th>\n      <th>care_provided</th>\n      <th>site</th>\n      <th>treatment_plan_complete</th>\n      <th>treatment_plan_developed</th>\n      <th>restored_to_function</th>\n    </tr>\n  </thead>\n  <tbody>\n    <tr>\n      <th>766</th>\n      <td>80572613</td>\n      <td>2431132</td>\n      <td>11/4/2020</td>\n      <td>NaN</td>\n      <td>Karis Dental Clinic - Cleveland</td>\n      <td>No</td>\n      <td>No</td>\n      <td>No</td>\n    </tr>\n    <tr>\n      <th>1609</th>\n      <td>79831882</td>\n      <td>2431132</td>\n      <td>NaN</td>\n      <td>7140 - Extraction - erupted tooth or exposed r...</td>\n      <td>Karis Dental Clinic - Cleveland</td>\n      <td>No</td>\n      <td>NaN</td>\n      <td>No</td>\n    </tr>\n    <tr>\n      <th>2779</th>\n      <td>79039925</td>\n      <td>2431132</td>\n      <td>NaN</td>\n      <td>No Code - Denture step Mandibular: may be used...</td>\n      <td>Karis Dental Clinic - Cleveland</td>\n      <td>No</td>\n      <td>NaN</td>\n      <td>No</td>\n    </tr>\n    <tr>\n      <th>3919</th>\n      <td>78182738</td>\n      <td>2431132</td>\n      <td>NaN</td>\n      <td>No Code - Denture step Mandibular: may be used...</td>\n      <td>Karis Dental Clinic - Cleveland</td>\n      <td>No</td>\n      <td>NaN</td>\n      <td>No</td>\n    </tr>\n    <tr>\n      <th>5231</th>\n      <td>77249056</td>\n      <td>2431132</td>\n      <td>NaN</td>\n      <td>2330 - Resin one surface - Anterior - 15; 2331...</td>\n      <td>Karis Dental Clinic - Cleveland</td>\n      <td>No</td>\n      <td>NaN</td>\n      <td>No</td>\n    </tr>\n    <tr>\n      <th>5317</th>\n      <td>77203328</td>\n      <td>2431132</td>\n      <td>NaN</td>\n      <td>1110 - Prophylaxis-adult - 45</td>\n      <td>Karis Dental Clinic - Cleveland</td>\n      <td>No</td>\n      <td>NaN</td>\n      <td>No</td>\n    </tr>\n    <tr>\n      <th>6359</th>\n      <td>76456276</td>\n      <td>2431132</td>\n      <td>NaN</td>\n      <td>140 - Limited Oral evaluation - problem focuse...</td>\n      <td>Karis Dental Clinic - Cleveland</td>\n      <td>No</td>\n      <td>Yes</td>\n      <td>No</td>\n    </tr>\n    <tr>\n      <th>7022</th>\n      <td>75903370</td>\n      <td>2431132</td>\n      <td>NaN</td>\n      <td>140 - Limited Oral evaluation - problem focuse...</td>\n      <td>Karis Dental Clinic - Cleveland</td>\n      <td>No</td>\n      <td>No</td>\n      <td>No</td>\n    </tr>\n    <tr>\n      <th>7625</th>\n      <td>75329200</td>\n      <td>2431132</td>\n      <td>NaN</td>\n      <td>7140 - Extraction - erupted tooth or exposed r...</td>\n      <td>Karis Dental Clinic - Cleveland</td>\n      <td>No</td>\n      <td>NaN</td>\n      <td>No</td>\n    </tr>\n    <tr>\n      <th>8303</th>\n      <td>74795958</td>\n      <td>2431132</td>\n      <td>NaN</td>\n      <td>7140 - Extraction - erupted tooth or exposed r...</td>\n      <td>Karis Dental Clinic - Cleveland</td>\n      <td>No</td>\n      <td>NaN</td>\n      <td>No</td>\n    </tr>\n  </tbody>\n</table>\n</div>"
     },
     "metadata": {},
     "execution_count": 23
    }
   ],
   "source": [
    "smile_2431132.head(10)"
   ]
  },
  {
   "cell_type": "code",
   "execution_count": 24,
   "metadata": {},
   "outputs": [],
   "source": [
    "smile_2416076 = smile_onlyyellow.loc[smile_onlyyellow['CallerNum'] == 2416076]"
   ]
  },
  {
   "cell_type": "code",
   "execution_count": 25,
   "metadata": {},
   "outputs": [
    {
     "output_type": "execute_result",
     "data": {
      "text/plain": [
       "       CallReportNum  CallerNum screening_date  \\\n",
       "1193        80792354    2416076     10/26/2020   \n",
       "4030        78500974    2416076            NaN   \n",
       "5497        77329572    2416076            NaN   \n",
       "13125       70810955    2416076            NaN   \n",
       "14930       70080607    2416076            NaN   \n",
       "16025       69737230    2416076            NaN   \n",
       "18407       68190928    2416076            NaN   \n",
       "22967       66380005    2416076            NaN   \n",
       "24167       65850976    2416076            NaN   \n",
       "26184       65220398    2416076            NaN   \n",
       "\n",
       "                                           care_provided  \\\n",
       "1193   220 - Intraoral - Periapical First Film - 5; 2...   \n",
       "4030   7140 - Extraction - erupted tooth or exposed r...   \n",
       "5497   1110 - Prophylaxis-adult - 45; 1330 - Oral Hyg...   \n",
       "13125  1354 - Interim caries arresting medicament app...   \n",
       "14930  272 - Bitewings - two films - 5; 1110 - Prophy...   \n",
       "16025           2330 - Resin one surface - Anterior - 15   \n",
       "18407  2330 - Resin one surface - Anterior - 15; 9951...   \n",
       "22967  1110 - Prophylaxis-adult - 45; 1330 - Oral Hyg...   \n",
       "24167  No Code - Denture step Maxillary: may be used ...   \n",
       "26184  No Code - Denture step Maxillary: may be used ...   \n",
       "\n",
       "                                          site treatment_plan_complete  \\\n",
       "1193      Interfaith Dental Clinic - Nashville                      No   \n",
       "4030      Interfaith Dental Clinic - Nashville                      No   \n",
       "5497   Interfaith Dental Clinic - Murfreesboro                      No   \n",
       "13125     Interfaith Dental Clinic - Nashville                      No   \n",
       "14930     Interfaith Dental Clinic - Nashville                      No   \n",
       "16025     Interfaith Dental Clinic - Nashville                      No   \n",
       "18407     Interfaith Dental Clinic - Nashville                     NaN   \n",
       "22967     Interfaith Dental Clinic - Nashville                     NaN   \n",
       "24167     Interfaith Dental Clinic - Nashville                     NaN   \n",
       "26184     Interfaith Dental Clinic - Nashville                      No   \n",
       "\n",
       "      treatment_plan_developed restored_to_function  \n",
       "1193                       Yes                   No  \n",
       "4030                       Yes                   No  \n",
       "5497                       Yes                   No  \n",
       "13125                      Yes                   No  \n",
       "14930                      Yes                   No  \n",
       "16025                      Yes                  Yes  \n",
       "18407                      NaN                  NaN  \n",
       "22967                      NaN                  NaN  \n",
       "24167                      NaN                  NaN  \n",
       "26184                      Yes                   No  "
      ],
      "text/html": "<div>\n<style scoped>\n    .dataframe tbody tr th:only-of-type {\n        vertical-align: middle;\n    }\n\n    .dataframe tbody tr th {\n        vertical-align: top;\n    }\n\n    .dataframe thead th {\n        text-align: right;\n    }\n</style>\n<table border=\"1\" class=\"dataframe\">\n  <thead>\n    <tr style=\"text-align: right;\">\n      <th></th>\n      <th>CallReportNum</th>\n      <th>CallerNum</th>\n      <th>screening_date</th>\n      <th>care_provided</th>\n      <th>site</th>\n      <th>treatment_plan_complete</th>\n      <th>treatment_plan_developed</th>\n      <th>restored_to_function</th>\n    </tr>\n  </thead>\n  <tbody>\n    <tr>\n      <th>1193</th>\n      <td>80792354</td>\n      <td>2416076</td>\n      <td>10/26/2020</td>\n      <td>220 - Intraoral - Periapical First Film - 5; 2...</td>\n      <td>Interfaith Dental Clinic - Nashville</td>\n      <td>No</td>\n      <td>Yes</td>\n      <td>No</td>\n    </tr>\n    <tr>\n      <th>4030</th>\n      <td>78500974</td>\n      <td>2416076</td>\n      <td>NaN</td>\n      <td>7140 - Extraction - erupted tooth or exposed r...</td>\n      <td>Interfaith Dental Clinic - Nashville</td>\n      <td>No</td>\n      <td>Yes</td>\n      <td>No</td>\n    </tr>\n    <tr>\n      <th>5497</th>\n      <td>77329572</td>\n      <td>2416076</td>\n      <td>NaN</td>\n      <td>1110 - Prophylaxis-adult - 45; 1330 - Oral Hyg...</td>\n      <td>Interfaith Dental Clinic - Murfreesboro</td>\n      <td>No</td>\n      <td>Yes</td>\n      <td>No</td>\n    </tr>\n    <tr>\n      <th>13125</th>\n      <td>70810955</td>\n      <td>2416076</td>\n      <td>NaN</td>\n      <td>1354 - Interim caries arresting medicament app...</td>\n      <td>Interfaith Dental Clinic - Nashville</td>\n      <td>No</td>\n      <td>Yes</td>\n      <td>No</td>\n    </tr>\n    <tr>\n      <th>14930</th>\n      <td>70080607</td>\n      <td>2416076</td>\n      <td>NaN</td>\n      <td>272 - Bitewings - two films - 5; 1110 - Prophy...</td>\n      <td>Interfaith Dental Clinic - Nashville</td>\n      <td>No</td>\n      <td>Yes</td>\n      <td>No</td>\n    </tr>\n    <tr>\n      <th>16025</th>\n      <td>69737230</td>\n      <td>2416076</td>\n      <td>NaN</td>\n      <td>2330 - Resin one surface - Anterior - 15</td>\n      <td>Interfaith Dental Clinic - Nashville</td>\n      <td>No</td>\n      <td>Yes</td>\n      <td>Yes</td>\n    </tr>\n    <tr>\n      <th>18407</th>\n      <td>68190928</td>\n      <td>2416076</td>\n      <td>NaN</td>\n      <td>2330 - Resin one surface - Anterior - 15; 9951...</td>\n      <td>Interfaith Dental Clinic - Nashville</td>\n      <td>NaN</td>\n      <td>NaN</td>\n      <td>NaN</td>\n    </tr>\n    <tr>\n      <th>22967</th>\n      <td>66380005</td>\n      <td>2416076</td>\n      <td>NaN</td>\n      <td>1110 - Prophylaxis-adult - 45; 1330 - Oral Hyg...</td>\n      <td>Interfaith Dental Clinic - Nashville</td>\n      <td>NaN</td>\n      <td>NaN</td>\n      <td>NaN</td>\n    </tr>\n    <tr>\n      <th>24167</th>\n      <td>65850976</td>\n      <td>2416076</td>\n      <td>NaN</td>\n      <td>No Code - Denture step Maxillary: may be used ...</td>\n      <td>Interfaith Dental Clinic - Nashville</td>\n      <td>NaN</td>\n      <td>NaN</td>\n      <td>NaN</td>\n    </tr>\n    <tr>\n      <th>26184</th>\n      <td>65220398</td>\n      <td>2416076</td>\n      <td>NaN</td>\n      <td>No Code - Denture step Maxillary: may be used ...</td>\n      <td>Interfaith Dental Clinic - Nashville</td>\n      <td>No</td>\n      <td>Yes</td>\n      <td>No</td>\n    </tr>\n  </tbody>\n</table>\n</div>"
     },
     "metadata": {},
     "execution_count": 25
    }
   ],
   "source": [
    "smile_2416076.head(10)"
   ]
  },
  {
   "source": [
    "## Where are the recipients of this care most located?"
   ],
   "cell_type": "markdown",
   "metadata": {}
  },
  {
   "cell_type": "code",
   "execution_count": 26,
   "metadata": {},
   "outputs": [],
   "source": [
    "smile_location = smile[['CallerNum','CityName','CountyName','StateProvince','PostalCode','SMILE ON 60+ Site Information - Enroller ID','SMILE ON 60+ Screening - Last Screening Date']]"
   ]
  },
  {
   "cell_type": "code",
   "execution_count": 27,
   "metadata": {},
   "outputs": [],
   "source": [
    "smile_location = smile_location.rename(columns = {'SMILE ON 60+ Site Information - Enroller ID': 'site','SMILE ON 60+ Screening - Last Screening Date':'date'})"
   ]
  },
  {
   "cell_type": "code",
   "execution_count": 28,
   "metadata": {},
   "outputs": [
    {
     "output_type": "execute_result",
     "data": {
      "text/plain": [
       "       CallerNum     CityName CountyName StateProvince  PostalCode  \\\n",
       "0        3859874  Springfield  Robertson            TN     37172.0   \n",
       "1        3859755    Nashville   Davidson            TN     37212.0   \n",
       "2        2518680  Rogersville    Hawkins            TN     37857.0   \n",
       "3        3231923      Memphis     Shelby            TN     38104.0   \n",
       "4             -1          NaN        NaN            TN         NaN   \n",
       "...          ...          ...        ...           ...         ...   \n",
       "40027         -1          NaN        NaN           NaN         NaN   \n",
       "40028    3239813      Memphis     Shelby            TN     38111.0   \n",
       "40029    2631417    Kingsport   Sullivan            TN     37664.0   \n",
       "40030         -1          NaN        NaN            TN         NaN   \n",
       "40031         -1          NaN        NaN            TN         NaN   \n",
       "\n",
       "                                                    site        date  \n",
       "0      Matthew Walker Comprehensive Health Center Inc...         NaN  \n",
       "1                                                    NaN         NaN  \n",
       "2              Friends in Need Health Center - Kingsport         NaN  \n",
       "3              Christ Community Health Services- Frayser         NaN  \n",
       "4                          Neighborhood Health - Lebanon  11/25/2020  \n",
       "...                                                  ...         ...  \n",
       "40027                                                NaN         NaN  \n",
       "40028                     Church Health Center - Memphis         NaN  \n",
       "40029          Friends in Need Health Center - Kingsport  11/29/2018  \n",
       "40030               Interfaith Dental Clinic - Nashville         NaN  \n",
       "40031               Interfaith Dental Clinic - Nashville         NaN  \n",
       "\n",
       "[40032 rows x 7 columns]"
      ],
      "text/html": "<div>\n<style scoped>\n    .dataframe tbody tr th:only-of-type {\n        vertical-align: middle;\n    }\n\n    .dataframe tbody tr th {\n        vertical-align: top;\n    }\n\n    .dataframe thead th {\n        text-align: right;\n    }\n</style>\n<table border=\"1\" class=\"dataframe\">\n  <thead>\n    <tr style=\"text-align: right;\">\n      <th></th>\n      <th>CallerNum</th>\n      <th>CityName</th>\n      <th>CountyName</th>\n      <th>StateProvince</th>\n      <th>PostalCode</th>\n      <th>site</th>\n      <th>date</th>\n    </tr>\n  </thead>\n  <tbody>\n    <tr>\n      <th>0</th>\n      <td>3859874</td>\n      <td>Springfield</td>\n      <td>Robertson</td>\n      <td>TN</td>\n      <td>37172.0</td>\n      <td>Matthew Walker Comprehensive Health Center Inc...</td>\n      <td>NaN</td>\n    </tr>\n    <tr>\n      <th>1</th>\n      <td>3859755</td>\n      <td>Nashville</td>\n      <td>Davidson</td>\n      <td>TN</td>\n      <td>37212.0</td>\n      <td>NaN</td>\n      <td>NaN</td>\n    </tr>\n    <tr>\n      <th>2</th>\n      <td>2518680</td>\n      <td>Rogersville</td>\n      <td>Hawkins</td>\n      <td>TN</td>\n      <td>37857.0</td>\n      <td>Friends in Need Health Center - Kingsport</td>\n      <td>NaN</td>\n    </tr>\n    <tr>\n      <th>3</th>\n      <td>3231923</td>\n      <td>Memphis</td>\n      <td>Shelby</td>\n      <td>TN</td>\n      <td>38104.0</td>\n      <td>Christ Community Health Services- Frayser</td>\n      <td>NaN</td>\n    </tr>\n    <tr>\n      <th>4</th>\n      <td>-1</td>\n      <td>NaN</td>\n      <td>NaN</td>\n      <td>TN</td>\n      <td>NaN</td>\n      <td>Neighborhood Health - Lebanon</td>\n      <td>11/25/2020</td>\n    </tr>\n    <tr>\n      <th>...</th>\n      <td>...</td>\n      <td>...</td>\n      <td>...</td>\n      <td>...</td>\n      <td>...</td>\n      <td>...</td>\n      <td>...</td>\n    </tr>\n    <tr>\n      <th>40027</th>\n      <td>-1</td>\n      <td>NaN</td>\n      <td>NaN</td>\n      <td>NaN</td>\n      <td>NaN</td>\n      <td>NaN</td>\n      <td>NaN</td>\n    </tr>\n    <tr>\n      <th>40028</th>\n      <td>3239813</td>\n      <td>Memphis</td>\n      <td>Shelby</td>\n      <td>TN</td>\n      <td>38111.0</td>\n      <td>Church Health Center - Memphis</td>\n      <td>NaN</td>\n    </tr>\n    <tr>\n      <th>40029</th>\n      <td>2631417</td>\n      <td>Kingsport</td>\n      <td>Sullivan</td>\n      <td>TN</td>\n      <td>37664.0</td>\n      <td>Friends in Need Health Center - Kingsport</td>\n      <td>11/29/2018</td>\n    </tr>\n    <tr>\n      <th>40030</th>\n      <td>-1</td>\n      <td>NaN</td>\n      <td>NaN</td>\n      <td>TN</td>\n      <td>NaN</td>\n      <td>Interfaith Dental Clinic - Nashville</td>\n      <td>NaN</td>\n    </tr>\n    <tr>\n      <th>40031</th>\n      <td>-1</td>\n      <td>NaN</td>\n      <td>NaN</td>\n      <td>TN</td>\n      <td>NaN</td>\n      <td>Interfaith Dental Clinic - Nashville</td>\n      <td>NaN</td>\n    </tr>\n  </tbody>\n</table>\n<p>40032 rows × 7 columns</p>\n</div>"
     },
     "metadata": {},
     "execution_count": 28
    }
   ],
   "source": [
    "smile_location"
   ]
  },
  {
   "source": [
    "## What County?"
   ],
   "cell_type": "markdown",
   "metadata": {}
  },
  {
   "cell_type": "code",
   "execution_count": 29,
   "metadata": {},
   "outputs": [
    {
     "output_type": "execute_result",
     "data": {
      "text/plain": [
       "Davidson      9299\n",
       "Shelby        7398\n",
       "Rutherford    3837\n",
       "Sullivan      2209\n",
       "Bradley       1789\n",
       "              ... \n",
       "Fulton           1\n",
       "McNairy          1\n",
       "TN               1\n",
       "Walker           1\n",
       "Desoto           1\n",
       "Name: CountyName, Length: 104, dtype: int64"
      ]
     },
     "metadata": {},
     "execution_count": 29
    }
   ],
   "source": [
    "smile_location.CountyName.value_counts()"
   ]
  },
  {
   "source": [
    "## What City?"
   ],
   "cell_type": "markdown",
   "metadata": {}
  },
  {
   "cell_type": "code",
   "execution_count": 30,
   "metadata": {},
   "outputs": [
    {
     "output_type": "execute_result",
     "data": {
      "text/plain": [
       "Nashville        6456\n",
       "Memphis          6304\n",
       "Murfreesboro     2435\n",
       "Cleveland        1718\n",
       "Knoxville        1461\n",
       "                 ... \n",
       "Snowville           1\n",
       "Pleasant Hill       1\n",
       "Ten Mile            1\n",
       "Bells               1\n",
       "Whitesburg          1\n",
       "Name: CityName, Length: 387, dtype: int64"
      ]
     },
     "metadata": {},
     "execution_count": 30
    }
   ],
   "source": [
    "smile_location.CityName.value_counts()"
   ]
  },
  {
   "source": [
    "# Demographic information"
   ],
   "cell_type": "markdown",
   "metadata": {}
  },
  {
   "cell_type": "code",
   "execution_count": 31,
   "metadata": {},
   "outputs": [],
   "source": [
    "smile_demo = smile[['CallerNum','SMILE ON 60+ Demographic Information - Gender','SMILE ON 60+ Demographic Information - Household Income Level','SMILE ON 60+ Demographic Information - How did you first hear about the SMILE ON 60+ program?','SMILE ON 60+ Demographic Information - Preferred Language/Language Needed','SMILE ON 60+ Demographic Information - Race/Ethnicity','SMILE ON 60+ Demographic Information - What other assistance programs are you on?','SMILE ON 60+ Demographic Information - When is the last time you visited your dentist?','SMILE ON 60+ Demographic Information - # of People in Household','SMILE ON 60+ Demographic Information - Other Language']]"
   ]
  },
  {
   "cell_type": "code",
   "execution_count": 32,
   "metadata": {},
   "outputs": [
    {
     "output_type": "execute_result",
     "data": {
      "text/plain": [
       "       CallerNum SMILE ON 60+ Demographic Information - Gender  \\\n",
       "0        3859874                                          Male   \n",
       "1        3859755                                          Male   \n",
       "2        2518680                                        Female   \n",
       "3        3231923                                          Male   \n",
       "4             -1                                          Male   \n",
       "...          ...                                           ...   \n",
       "40027         -1                                           NaN   \n",
       "40028    3239813                                          Male   \n",
       "40029    2631417                                        Female   \n",
       "40030         -1                                           NaN   \n",
       "40031         -1                                           NaN   \n",
       "\n",
       "      SMILE ON 60+ Demographic Information - Household Income Level  \\\n",
       "0                                           $0 - $21 280              \n",
       "1                                           $0 - $21 280              \n",
       "2                                           $0 - $21 280              \n",
       "3                                           $0 - $21 280              \n",
       "4                                                    NaN              \n",
       "...                                                  ...              \n",
       "40027                                                NaN              \n",
       "40028                                       $0 - $21 280              \n",
       "40029                                       $0 - $21 280              \n",
       "40030                                                NaN              \n",
       "40031                                                NaN              \n",
       "\n",
       "      SMILE ON 60+ Demographic Information - How did you first hear about the SMILE ON 60+ program?  \\\n",
       "0                                    Dental Clinic Staff                                              \n",
       "1                                    Dental Clinic Staff                                              \n",
       "2                                    Dental Clinic Staff                                              \n",
       "3                                    Dental Clinic Staff                                              \n",
       "4                                                    NaN                                              \n",
       "...                                                  ...                                              \n",
       "40027                                                NaN                                              \n",
       "40028                                Dental Clinic Staff                                              \n",
       "40029                                Dental Clinic Staff                                              \n",
       "40030                                                NaN                                              \n",
       "40031                                                NaN                                              \n",
       "\n",
       "      SMILE ON 60+ Demographic Information - Preferred Language/Language Needed  \\\n",
       "0                                                English                          \n",
       "1                                                English                          \n",
       "2                                                    NaN                          \n",
       "3                                                    NaN                          \n",
       "4                                                    NaN                          \n",
       "...                                                  ...                          \n",
       "40027                                                NaN                          \n",
       "40028                                            English                          \n",
       "40029                                                NaN                          \n",
       "40030                                                NaN                          \n",
       "40031                                                NaN                          \n",
       "\n",
       "      SMILE ON 60+ Demographic Information - Race/Ethnicity  \\\n",
       "0                                              Caucasian      \n",
       "1                                              Caucasian      \n",
       "2                                              Caucasian      \n",
       "3                                       African American      \n",
       "4                                       African American      \n",
       "...                                                  ...      \n",
       "40027                                                NaN      \n",
       "40028                                          Caucasian      \n",
       "40029                                          Caucasian      \n",
       "40030                                                NaN      \n",
       "40031                                                NaN      \n",
       "\n",
       "      SMILE ON 60+ Demographic Information - What other assistance programs are you on?  \\\n",
       "0                                               SSI/SSDI                                  \n",
       "1                                                    NaN                                  \n",
       "2                               SNAP; TennCare; SSI/SSDI                                  \n",
       "3                                                    NaN                                  \n",
       "4                                                    NaN                                  \n",
       "...                                                  ...                                  \n",
       "40027                                                NaN                                  \n",
       "40028                                               SNAP                                  \n",
       "40029                                           SSI/SSDI                                  \n",
       "40030                                                NaN                                  \n",
       "40031                                                NaN                                  \n",
       "\n",
       "      SMILE ON 60+ Demographic Information - When is the last time you visited your dentist?  \\\n",
       "0                                           3 to 5 years                                       \n",
       "1                                           3 to 5 years                                       \n",
       "2                                    Less than 12 months                                       \n",
       "3                                    Less than 12 months                                       \n",
       "4                                                    NaN                                       \n",
       "...                                                  ...                                       \n",
       "40027                                                NaN                                       \n",
       "40028                                       1 to 2 years                                       \n",
       "40029                                Less than 12 months                                       \n",
       "40030                                                NaN                                       \n",
       "40031                                                NaN                                       \n",
       "\n",
       "      SMILE ON 60+ Demographic Information - # of People in Household  \\\n",
       "0                                                      1                \n",
       "1                                                      1                \n",
       "2                                                      1                \n",
       "3                                                      2                \n",
       "4                                                    NaN                \n",
       "...                                                  ...                \n",
       "40027                                                NaN                \n",
       "40028                                                  1                \n",
       "40029                                                  1                \n",
       "40030                                                NaN                \n",
       "40031                                                NaN                \n",
       "\n",
       "      SMILE ON 60+ Demographic Information - Other Language  \n",
       "0                                                    NaN     \n",
       "1                                                    NaN     \n",
       "2                                                    NaN     \n",
       "3                                                    NaN     \n",
       "4                                                    NaN     \n",
       "...                                                  ...     \n",
       "40027                                                NaN     \n",
       "40028                                                NaN     \n",
       "40029                                                NaN     \n",
       "40030                                                NaN     \n",
       "40031                                                NaN     \n",
       "\n",
       "[40032 rows x 10 columns]"
      ],
      "text/html": "<div>\n<style scoped>\n    .dataframe tbody tr th:only-of-type {\n        vertical-align: middle;\n    }\n\n    .dataframe tbody tr th {\n        vertical-align: top;\n    }\n\n    .dataframe thead th {\n        text-align: right;\n    }\n</style>\n<table border=\"1\" class=\"dataframe\">\n  <thead>\n    <tr style=\"text-align: right;\">\n      <th></th>\n      <th>CallerNum</th>\n      <th>SMILE ON 60+ Demographic Information - Gender</th>\n      <th>SMILE ON 60+ Demographic Information - Household Income Level</th>\n      <th>SMILE ON 60+ Demographic Information - How did you first hear about the SMILE ON 60+ program?</th>\n      <th>SMILE ON 60+ Demographic Information - Preferred Language/Language Needed</th>\n      <th>SMILE ON 60+ Demographic Information - Race/Ethnicity</th>\n      <th>SMILE ON 60+ Demographic Information - What other assistance programs are you on?</th>\n      <th>SMILE ON 60+ Demographic Information - When is the last time you visited your dentist?</th>\n      <th>SMILE ON 60+ Demographic Information - # of People in Household</th>\n      <th>SMILE ON 60+ Demographic Information - Other Language</th>\n    </tr>\n  </thead>\n  <tbody>\n    <tr>\n      <th>0</th>\n      <td>3859874</td>\n      <td>Male</td>\n      <td>$0 - $21 280</td>\n      <td>Dental Clinic Staff</td>\n      <td>English</td>\n      <td>Caucasian</td>\n      <td>SSI/SSDI</td>\n      <td>3 to 5 years</td>\n      <td>1</td>\n      <td>NaN</td>\n    </tr>\n    <tr>\n      <th>1</th>\n      <td>3859755</td>\n      <td>Male</td>\n      <td>$0 - $21 280</td>\n      <td>Dental Clinic Staff</td>\n      <td>English</td>\n      <td>Caucasian</td>\n      <td>NaN</td>\n      <td>3 to 5 years</td>\n      <td>1</td>\n      <td>NaN</td>\n    </tr>\n    <tr>\n      <th>2</th>\n      <td>2518680</td>\n      <td>Female</td>\n      <td>$0 - $21 280</td>\n      <td>Dental Clinic Staff</td>\n      <td>NaN</td>\n      <td>Caucasian</td>\n      <td>SNAP; TennCare; SSI/SSDI</td>\n      <td>Less than 12 months</td>\n      <td>1</td>\n      <td>NaN</td>\n    </tr>\n    <tr>\n      <th>3</th>\n      <td>3231923</td>\n      <td>Male</td>\n      <td>$0 - $21 280</td>\n      <td>Dental Clinic Staff</td>\n      <td>NaN</td>\n      <td>African American</td>\n      <td>NaN</td>\n      <td>Less than 12 months</td>\n      <td>2</td>\n      <td>NaN</td>\n    </tr>\n    <tr>\n      <th>4</th>\n      <td>-1</td>\n      <td>Male</td>\n      <td>NaN</td>\n      <td>NaN</td>\n      <td>NaN</td>\n      <td>African American</td>\n      <td>NaN</td>\n      <td>NaN</td>\n      <td>NaN</td>\n      <td>NaN</td>\n    </tr>\n    <tr>\n      <th>...</th>\n      <td>...</td>\n      <td>...</td>\n      <td>...</td>\n      <td>...</td>\n      <td>...</td>\n      <td>...</td>\n      <td>...</td>\n      <td>...</td>\n      <td>...</td>\n      <td>...</td>\n    </tr>\n    <tr>\n      <th>40027</th>\n      <td>-1</td>\n      <td>NaN</td>\n      <td>NaN</td>\n      <td>NaN</td>\n      <td>NaN</td>\n      <td>NaN</td>\n      <td>NaN</td>\n      <td>NaN</td>\n      <td>NaN</td>\n      <td>NaN</td>\n    </tr>\n    <tr>\n      <th>40028</th>\n      <td>3239813</td>\n      <td>Male</td>\n      <td>$0 - $21 280</td>\n      <td>Dental Clinic Staff</td>\n      <td>English</td>\n      <td>Caucasian</td>\n      <td>SNAP</td>\n      <td>1 to 2 years</td>\n      <td>1</td>\n      <td>NaN</td>\n    </tr>\n    <tr>\n      <th>40029</th>\n      <td>2631417</td>\n      <td>Female</td>\n      <td>$0 - $21 280</td>\n      <td>Dental Clinic Staff</td>\n      <td>NaN</td>\n      <td>Caucasian</td>\n      <td>SSI/SSDI</td>\n      <td>Less than 12 months</td>\n      <td>1</td>\n      <td>NaN</td>\n    </tr>\n    <tr>\n      <th>40030</th>\n      <td>-1</td>\n      <td>NaN</td>\n      <td>NaN</td>\n      <td>NaN</td>\n      <td>NaN</td>\n      <td>NaN</td>\n      <td>NaN</td>\n      <td>NaN</td>\n      <td>NaN</td>\n      <td>NaN</td>\n    </tr>\n    <tr>\n      <th>40031</th>\n      <td>-1</td>\n      <td>NaN</td>\n      <td>NaN</td>\n      <td>NaN</td>\n      <td>NaN</td>\n      <td>NaN</td>\n      <td>NaN</td>\n      <td>NaN</td>\n      <td>NaN</td>\n      <td>NaN</td>\n    </tr>\n  </tbody>\n</table>\n<p>40032 rows × 10 columns</p>\n</div>"
     },
     "metadata": {},
     "execution_count": 32
    }
   ],
   "source": [
    "smile_demo"
   ]
  },
  {
   "cell_type": "code",
   "execution_count": 33,
   "metadata": {},
   "outputs": [],
   "source": [
    "smile_demo = smile_demo.rename(columns= {'SMILE ON 60+ Demographic Information - Gender':'gender','SMILE ON 60+ Demographic Information - Household Income Level':'household_income','SMILE ON 60+ Demographic Information - How did you first hear about the SMILE ON 60+ program?':'how_heard','SMILE ON 60+ Demographic Information - Preferred Language/Language Needed':'preferred_language','SMILE ON 60+ Demographic Information - Race/Ethnicity':'race_ethnicity','SMILE ON 60+ Demographic Information - What other assistance programs are you on?':'additonal_assistance_programs','SMILE ON 60+ Demographic Information - When is the last time you visited your dentist?':'last_visit','SMILE ON 60+ Demographic Information - # of People in Household':'persons_in_household','SMILE ON 60+ Demographic Information - Other Language':'other_language'})"
   ]
  },
  {
   "cell_type": "code",
   "execution_count": 34,
   "metadata": {},
   "outputs": [
    {
     "output_type": "execute_result",
     "data": {
      "text/plain": [
       "       CallerNum  gender household_income            how_heard  \\\n",
       "0        3859874    Male     $0 - $21 280  Dental Clinic Staff   \n",
       "1        3859755    Male     $0 - $21 280  Dental Clinic Staff   \n",
       "2        2518680  Female     $0 - $21 280  Dental Clinic Staff   \n",
       "3        3231923    Male     $0 - $21 280  Dental Clinic Staff   \n",
       "4             -1    Male              NaN                  NaN   \n",
       "...          ...     ...              ...                  ...   \n",
       "40027         -1     NaN              NaN                  NaN   \n",
       "40028    3239813    Male     $0 - $21 280  Dental Clinic Staff   \n",
       "40029    2631417  Female     $0 - $21 280  Dental Clinic Staff   \n",
       "40030         -1     NaN              NaN                  NaN   \n",
       "40031         -1     NaN              NaN                  NaN   \n",
       "\n",
       "      preferred_language    race_ethnicity additonal_assistance_programs  \\\n",
       "0                English         Caucasian                      SSI/SSDI   \n",
       "1                English         Caucasian                           NaN   \n",
       "2                    NaN         Caucasian      SNAP; TennCare; SSI/SSDI   \n",
       "3                    NaN  African American                           NaN   \n",
       "4                    NaN  African American                           NaN   \n",
       "...                  ...               ...                           ...   \n",
       "40027                NaN               NaN                           NaN   \n",
       "40028            English         Caucasian                          SNAP   \n",
       "40029                NaN         Caucasian                      SSI/SSDI   \n",
       "40030                NaN               NaN                           NaN   \n",
       "40031                NaN               NaN                           NaN   \n",
       "\n",
       "                last_visit persons_in_household other_language  \n",
       "0             3 to 5 years                    1            NaN  \n",
       "1             3 to 5 years                    1            NaN  \n",
       "2      Less than 12 months                    1            NaN  \n",
       "3      Less than 12 months                    2            NaN  \n",
       "4                      NaN                  NaN            NaN  \n",
       "...                    ...                  ...            ...  \n",
       "40027                  NaN                  NaN            NaN  \n",
       "40028         1 to 2 years                    1            NaN  \n",
       "40029  Less than 12 months                    1            NaN  \n",
       "40030                  NaN                  NaN            NaN  \n",
       "40031                  NaN                  NaN            NaN  \n",
       "\n",
       "[40032 rows x 10 columns]"
      ],
      "text/html": "<div>\n<style scoped>\n    .dataframe tbody tr th:only-of-type {\n        vertical-align: middle;\n    }\n\n    .dataframe tbody tr th {\n        vertical-align: top;\n    }\n\n    .dataframe thead th {\n        text-align: right;\n    }\n</style>\n<table border=\"1\" class=\"dataframe\">\n  <thead>\n    <tr style=\"text-align: right;\">\n      <th></th>\n      <th>CallerNum</th>\n      <th>gender</th>\n      <th>household_income</th>\n      <th>how_heard</th>\n      <th>preferred_language</th>\n      <th>race_ethnicity</th>\n      <th>additonal_assistance_programs</th>\n      <th>last_visit</th>\n      <th>persons_in_household</th>\n      <th>other_language</th>\n    </tr>\n  </thead>\n  <tbody>\n    <tr>\n      <th>0</th>\n      <td>3859874</td>\n      <td>Male</td>\n      <td>$0 - $21 280</td>\n      <td>Dental Clinic Staff</td>\n      <td>English</td>\n      <td>Caucasian</td>\n      <td>SSI/SSDI</td>\n      <td>3 to 5 years</td>\n      <td>1</td>\n      <td>NaN</td>\n    </tr>\n    <tr>\n      <th>1</th>\n      <td>3859755</td>\n      <td>Male</td>\n      <td>$0 - $21 280</td>\n      <td>Dental Clinic Staff</td>\n      <td>English</td>\n      <td>Caucasian</td>\n      <td>NaN</td>\n      <td>3 to 5 years</td>\n      <td>1</td>\n      <td>NaN</td>\n    </tr>\n    <tr>\n      <th>2</th>\n      <td>2518680</td>\n      <td>Female</td>\n      <td>$0 - $21 280</td>\n      <td>Dental Clinic Staff</td>\n      <td>NaN</td>\n      <td>Caucasian</td>\n      <td>SNAP; TennCare; SSI/SSDI</td>\n      <td>Less than 12 months</td>\n      <td>1</td>\n      <td>NaN</td>\n    </tr>\n    <tr>\n      <th>3</th>\n      <td>3231923</td>\n      <td>Male</td>\n      <td>$0 - $21 280</td>\n      <td>Dental Clinic Staff</td>\n      <td>NaN</td>\n      <td>African American</td>\n      <td>NaN</td>\n      <td>Less than 12 months</td>\n      <td>2</td>\n      <td>NaN</td>\n    </tr>\n    <tr>\n      <th>4</th>\n      <td>-1</td>\n      <td>Male</td>\n      <td>NaN</td>\n      <td>NaN</td>\n      <td>NaN</td>\n      <td>African American</td>\n      <td>NaN</td>\n      <td>NaN</td>\n      <td>NaN</td>\n      <td>NaN</td>\n    </tr>\n    <tr>\n      <th>...</th>\n      <td>...</td>\n      <td>...</td>\n      <td>...</td>\n      <td>...</td>\n      <td>...</td>\n      <td>...</td>\n      <td>...</td>\n      <td>...</td>\n      <td>...</td>\n      <td>...</td>\n    </tr>\n    <tr>\n      <th>40027</th>\n      <td>-1</td>\n      <td>NaN</td>\n      <td>NaN</td>\n      <td>NaN</td>\n      <td>NaN</td>\n      <td>NaN</td>\n      <td>NaN</td>\n      <td>NaN</td>\n      <td>NaN</td>\n      <td>NaN</td>\n    </tr>\n    <tr>\n      <th>40028</th>\n      <td>3239813</td>\n      <td>Male</td>\n      <td>$0 - $21 280</td>\n      <td>Dental Clinic Staff</td>\n      <td>English</td>\n      <td>Caucasian</td>\n      <td>SNAP</td>\n      <td>1 to 2 years</td>\n      <td>1</td>\n      <td>NaN</td>\n    </tr>\n    <tr>\n      <th>40029</th>\n      <td>2631417</td>\n      <td>Female</td>\n      <td>$0 - $21 280</td>\n      <td>Dental Clinic Staff</td>\n      <td>NaN</td>\n      <td>Caucasian</td>\n      <td>SSI/SSDI</td>\n      <td>Less than 12 months</td>\n      <td>1</td>\n      <td>NaN</td>\n    </tr>\n    <tr>\n      <th>40030</th>\n      <td>-1</td>\n      <td>NaN</td>\n      <td>NaN</td>\n      <td>NaN</td>\n      <td>NaN</td>\n      <td>NaN</td>\n      <td>NaN</td>\n      <td>NaN</td>\n      <td>NaN</td>\n      <td>NaN</td>\n    </tr>\n    <tr>\n      <th>40031</th>\n      <td>-1</td>\n      <td>NaN</td>\n      <td>NaN</td>\n      <td>NaN</td>\n      <td>NaN</td>\n      <td>NaN</td>\n      <td>NaN</td>\n      <td>NaN</td>\n      <td>NaN</td>\n      <td>NaN</td>\n    </tr>\n  </tbody>\n</table>\n<p>40032 rows × 10 columns</p>\n</div>"
     },
     "metadata": {},
     "execution_count": 34
    }
   ],
   "source": [
    "smile_demo"
   ]
  },
  {
   "source": [
    "## Breakdown by Gender "
   ],
   "cell_type": "markdown",
   "metadata": {}
  },
  {
   "cell_type": "code",
   "execution_count": 35,
   "metadata": {},
   "outputs": [
    {
     "output_type": "execute_result",
     "data": {
      "text/plain": [
       "Female         25018\n",
       "Male           14580\n",
       "Transgender       12\n",
       "Other              1\n",
       "Name: gender, dtype: int64"
      ]
     },
     "metadata": {},
     "execution_count": 35
    }
   ],
   "source": [
    "smile_demo_gender_counts = smile_demo.gender.value_counts()\n",
    "smile_demo_gender_counts"
   ]
  },
  {
   "source": [
    "## Predominant ethnicities"
   ],
   "cell_type": "markdown",
   "metadata": {}
  },
  {
   "cell_type": "code",
   "execution_count": 36,
   "metadata": {},
   "outputs": [
    {
     "output_type": "execute_result",
     "data": {
      "text/plain": [
       "Caucasian                            22730\n",
       "African American                     10496\n",
       "Hispanic                              1771\n",
       "Unknown                                640\n",
       "Asian                                  574\n",
       "American Indian and Alaska Native      129\n",
       "Multi-racial                           105\n",
       "Pacific Islander                         9\n",
       "Name: race_ethnicity, dtype: int64"
      ]
     },
     "metadata": {},
     "execution_count": 36
    }
   ],
   "source": [
    "smile_demo_eth_counts = smile_demo.race_ethnicity.value_counts()\n",
    "smile_demo_eth_counts"
   ]
  },
  {
   "source": [
    "## Where did they hear about Smile 60"
   ],
   "cell_type": "markdown",
   "metadata": {}
  },
  {
   "cell_type": "code",
   "execution_count": 37,
   "metadata": {},
   "outputs": [
    {
     "output_type": "execute_result",
     "data": {
      "text/plain": [
       "Dental Clinic Staff                      22805\n",
       "Other                                     5725\n",
       "This encounter                            2488\n",
       "Wisdom Tooth Project Presentation         1988\n",
       "SMILE ON CDHC                             1438\n",
       "Senior Center                             1431\n",
       "TV                                         983\n",
       "Flyer                                      511\n",
       "Newspaper                                  258\n",
       "Dental Hotline                             145\n",
       "SHIP Navigator                              83\n",
       "Radio                                       48\n",
       "Health Assist                               39\n",
       "Tennessee Alliance for Legal Services        4\n",
       "Habitat for Humanity Greater Memphis         2\n",
       "Name: how_heard, dtype: int64"
      ]
     },
     "metadata": {},
     "execution_count": 37
    }
   ],
   "source": [
    "smile_demo_how_counts = smile_demo.how_heard.value_counts()\n",
    "smile_demo_how_counts"
   ]
  },
  {
   "source": [
    "## Additional Assistance Program enrollees"
   ],
   "cell_type": "markdown",
   "metadata": {}
  },
  {
   "cell_type": "code",
   "execution_count": 38,
   "metadata": {},
   "outputs": [
    {
     "output_type": "execute_result",
     "data": {
      "text/plain": [
       "SSI/SSDI                               9204\n",
       "SNAP                                   2447\n",
       "TennCare                               1415\n",
       "SNAP; SSI/SSDI                         1307\n",
       "SNAP; TennCare; SSI/SSDI               1084\n",
       "SNAP; TennCare                         1018\n",
       "TennCare; SSI/SSDI                     1007\n",
       "Section 8                               655\n",
       "SNAP; Section 8                         409\n",
       "Section 8; SSI/SSDI                     354\n",
       "SNAP; TennCare; Section 8               308\n",
       "SNAP; TennCare; Section 8; SSI/SSDI     287\n",
       "TennCare; Section 8; SSI/SSDI           189\n",
       "SNAP; Section 8; SSI/SSDI               184\n",
       "TennCare; Section 8                     136\n",
       "Name: additonal_assistance_programs, dtype: int64"
      ]
     },
     "metadata": {},
     "execution_count": 38
    }
   ],
   "source": [
    "smile_demo_aap_counts = smile_demo.additonal_assistance_programs.value_counts()\n",
    "smile_demo_aap_counts"
   ]
  },
  {
   "cell_type": "code",
   "execution_count": 39,
   "metadata": {},
   "outputs": [
    {
     "output_type": "execute_result",
     "data": {
      "text/plain": [
       "English    9629\n",
       "Spanish    1349\n",
       "Other       417\n",
       "Arabic      324\n",
       "Name: preferred_language, dtype: int64"
      ]
     },
     "metadata": {},
     "execution_count": 39
    }
   ],
   "source": [
    "smile_demo_language_counts = smile_demo.preferred_language.value_counts()\n",
    "smile_demo_language_counts"
   ]
  },
  {
   "source": [
    "## Isolating only those cases that had a tooth extracted. "
   ],
   "cell_type": "markdown",
   "metadata": {}
  },
  {
   "cell_type": "code",
   "execution_count": 40,
   "metadata": {},
   "outputs": [],
   "source": [
    "smile_location_extract = smile[['CallerNum','CityName','CountyName','StateProvince','PostalCode','SMILE ON 60+ Site Information - Enroller ID','SMILE ON 60+ Screening - Last Screening Date','SMILE ON 60+ Oral Care Encounter - What care was provided to the enrollee? (Select all that apply)']]\n",
    "smile_location_extract = smile_location_extract.rename(columns = {'SMILE ON 60+ Site Information - Enroller ID': 'site','SMILE ON 60+ Screening - Last Screening Date':'date','SMILE ON 60+ Oral Care Encounter - What care was provided to the enrollee? (Select all that apply)':'care_provided'})"
   ]
  },
  {
   "cell_type": "code",
   "execution_count": 41,
   "metadata": {},
   "outputs": [
    {
     "output_type": "execute_result",
     "data": {
      "text/plain": [
       "       CallerNum     CityName CountyName StateProvince  PostalCode  \\\n",
       "0        3859874  Springfield  Robertson            TN     37172.0   \n",
       "1        3859755    Nashville   Davidson            TN     37212.0   \n",
       "2        2518680  Rogersville    Hawkins            TN     37857.0   \n",
       "3        3231923      Memphis     Shelby            TN     38104.0   \n",
       "4             -1          NaN        NaN            TN         NaN   \n",
       "...          ...          ...        ...           ...         ...   \n",
       "40027         -1          NaN        NaN           NaN         NaN   \n",
       "40028    3239813      Memphis     Shelby            TN     38111.0   \n",
       "40029    2631417    Kingsport   Sullivan            TN     37664.0   \n",
       "40030         -1          NaN        NaN            TN         NaN   \n",
       "40031         -1          NaN        NaN            TN         NaN   \n",
       "\n",
       "                                                    site        date  \\\n",
       "0      Matthew Walker Comprehensive Health Center Inc...         NaN   \n",
       "1                                                    NaN         NaN   \n",
       "2              Friends in Need Health Center - Kingsport         NaN   \n",
       "3              Christ Community Health Services- Frayser         NaN   \n",
       "4                          Neighborhood Health - Lebanon  11/25/2020   \n",
       "...                                                  ...         ...   \n",
       "40027                                                NaN         NaN   \n",
       "40028                     Church Health Center - Memphis         NaN   \n",
       "40029          Friends in Need Health Center - Kingsport  11/29/2018   \n",
       "40030               Interfaith Dental Clinic - Nashville         NaN   \n",
       "40031               Interfaith Dental Clinic - Nashville         NaN   \n",
       "\n",
       "                                           care_provided  \n",
       "0                                                    NaN  \n",
       "1                                                    NaN  \n",
       "2      5650 - Add tooth to existing partial denture - 30  \n",
       "3      No Code - Denture step Mandibular: may be used...  \n",
       "4                                                    NaN  \n",
       "...                                                  ...  \n",
       "40027                                                NaN  \n",
       "40028                                                NaN  \n",
       "40029                                                NaN  \n",
       "40030                              Case Management - $50  \n",
       "40031  D5284 - Removable unilateral partial denture/o...  \n",
       "\n",
       "[40032 rows x 8 columns]"
      ],
      "text/html": "<div>\n<style scoped>\n    .dataframe tbody tr th:only-of-type {\n        vertical-align: middle;\n    }\n\n    .dataframe tbody tr th {\n        vertical-align: top;\n    }\n\n    .dataframe thead th {\n        text-align: right;\n    }\n</style>\n<table border=\"1\" class=\"dataframe\">\n  <thead>\n    <tr style=\"text-align: right;\">\n      <th></th>\n      <th>CallerNum</th>\n      <th>CityName</th>\n      <th>CountyName</th>\n      <th>StateProvince</th>\n      <th>PostalCode</th>\n      <th>site</th>\n      <th>date</th>\n      <th>care_provided</th>\n    </tr>\n  </thead>\n  <tbody>\n    <tr>\n      <th>0</th>\n      <td>3859874</td>\n      <td>Springfield</td>\n      <td>Robertson</td>\n      <td>TN</td>\n      <td>37172.0</td>\n      <td>Matthew Walker Comprehensive Health Center Inc...</td>\n      <td>NaN</td>\n      <td>NaN</td>\n    </tr>\n    <tr>\n      <th>1</th>\n      <td>3859755</td>\n      <td>Nashville</td>\n      <td>Davidson</td>\n      <td>TN</td>\n      <td>37212.0</td>\n      <td>NaN</td>\n      <td>NaN</td>\n      <td>NaN</td>\n    </tr>\n    <tr>\n      <th>2</th>\n      <td>2518680</td>\n      <td>Rogersville</td>\n      <td>Hawkins</td>\n      <td>TN</td>\n      <td>37857.0</td>\n      <td>Friends in Need Health Center - Kingsport</td>\n      <td>NaN</td>\n      <td>5650 - Add tooth to existing partial denture - 30</td>\n    </tr>\n    <tr>\n      <th>3</th>\n      <td>3231923</td>\n      <td>Memphis</td>\n      <td>Shelby</td>\n      <td>TN</td>\n      <td>38104.0</td>\n      <td>Christ Community Health Services- Frayser</td>\n      <td>NaN</td>\n      <td>No Code - Denture step Mandibular: may be used...</td>\n    </tr>\n    <tr>\n      <th>4</th>\n      <td>-1</td>\n      <td>NaN</td>\n      <td>NaN</td>\n      <td>TN</td>\n      <td>NaN</td>\n      <td>Neighborhood Health - Lebanon</td>\n      <td>11/25/2020</td>\n      <td>NaN</td>\n    </tr>\n    <tr>\n      <th>...</th>\n      <td>...</td>\n      <td>...</td>\n      <td>...</td>\n      <td>...</td>\n      <td>...</td>\n      <td>...</td>\n      <td>...</td>\n      <td>...</td>\n    </tr>\n    <tr>\n      <th>40027</th>\n      <td>-1</td>\n      <td>NaN</td>\n      <td>NaN</td>\n      <td>NaN</td>\n      <td>NaN</td>\n      <td>NaN</td>\n      <td>NaN</td>\n      <td>NaN</td>\n    </tr>\n    <tr>\n      <th>40028</th>\n      <td>3239813</td>\n      <td>Memphis</td>\n      <td>Shelby</td>\n      <td>TN</td>\n      <td>38111.0</td>\n      <td>Church Health Center - Memphis</td>\n      <td>NaN</td>\n      <td>NaN</td>\n    </tr>\n    <tr>\n      <th>40029</th>\n      <td>2631417</td>\n      <td>Kingsport</td>\n      <td>Sullivan</td>\n      <td>TN</td>\n      <td>37664.0</td>\n      <td>Friends in Need Health Center - Kingsport</td>\n      <td>11/29/2018</td>\n      <td>NaN</td>\n    </tr>\n    <tr>\n      <th>40030</th>\n      <td>-1</td>\n      <td>NaN</td>\n      <td>NaN</td>\n      <td>TN</td>\n      <td>NaN</td>\n      <td>Interfaith Dental Clinic - Nashville</td>\n      <td>NaN</td>\n      <td>Case Management - $50</td>\n    </tr>\n    <tr>\n      <th>40031</th>\n      <td>-1</td>\n      <td>NaN</td>\n      <td>NaN</td>\n      <td>TN</td>\n      <td>NaN</td>\n      <td>Interfaith Dental Clinic - Nashville</td>\n      <td>NaN</td>\n      <td>D5284 - Removable unilateral partial denture/o...</td>\n    </tr>\n  </tbody>\n</table>\n<p>40032 rows × 8 columns</p>\n</div>"
     },
     "metadata": {},
     "execution_count": 41
    }
   ],
   "source": [
    "smile_location_extract"
   ]
  },
  {
   "cell_type": "code",
   "execution_count": 42,
   "metadata": {},
   "outputs": [],
   "source": [
    "extraction = [7140,7210,7240,7250]\n",
    "#smile_location_extract = smile_location_extract.care_provided.isin(extraction)\n",
    "#smile_location_extract.care_provided.unique()\n",
    "#array([extraction])\n",
    "\n",
    "smile_location_extract = smile_location_extract[(smile_location_extract['care_provided'].str.contains('7140|7210|7240|7250', na = False))]\n",
    "                       #(smile_location_extract['care_provided'].str.contains('7210',na = False) |\n",
    "                       #(smile_location_extract['care_provided'].str.contains('7240',na = False) |\n",
    "                       #(smile_location_extract['care_provided'].str.contains('7250',na = False)] "
   ]
  },
  {
   "cell_type": "code",
   "execution_count": 43,
   "metadata": {},
   "outputs": [
    {
     "output_type": "execute_result",
     "data": {
      "text/plain": [
       "     CallerNum   CityName CountyName StateProvince  PostalCode  \\\n",
       "9      3858402    Memphis     Shelby            TN     38128.0   \n",
       "13     3172525  Cleveland    Bradley            TN     37312.0   \n",
       "61     3620854  Cleveland    Bradley            TN         NaN   \n",
       "111    3720256  Cleveland    Bradley            TN     37312.0   \n",
       "115    3844630    Memphis     Shelby            TN     38128.0   \n",
       "126    3761667    Memphis     Shelby            TN     38114.0   \n",
       "148    3052444  Covington     Tipton            TN     38019.0   \n",
       "153    3056273    Memphis     Shelby            TN     38127.0   \n",
       "174    3829843    Memphis     Shelby            TN     38109.0   \n",
       "177    3211727    Memphis     Shelby            TN     38118.0   \n",
       "\n",
       "                                          site        date  \\\n",
       "9    Christ Community Health Services- Raleigh  11/24/2020   \n",
       "13             Karis Dental Clinic - Cleveland    2/7/2020   \n",
       "61             Karis Dental Clinic - Cleveland   8/10/2020   \n",
       "111            Karis Dental Clinic - Cleveland   9/25/2020   \n",
       "115  Christ Community Health Services- Raleigh  11/19/2020   \n",
       "126  Christ Community Health Services- Frayser         NaN   \n",
       "148  Christ Community Health Services- Raleigh   12/3/2019   \n",
       "153  Christ Community Health Services- Frayser         NaN   \n",
       "174  Christ Community Health Services- Frayser         NaN   \n",
       "177  Christ Community Health Services- Frayser         NaN   \n",
       "\n",
       "                                         care_provided  \n",
       "9    140 - Limited Oral evaluation - problem focuse...  \n",
       "13   No Code - Denture step Mandibular: may be used...  \n",
       "61   7140 - Extraction - erupted tooth or exposed r...  \n",
       "111  7140 - Extraction - erupted tooth or exposed r...  \n",
       "115  150 - Comprehensive Oral Evaluation -new or es...  \n",
       "126  7140 - Extraction - erupted tooth or exposed r...  \n",
       "148  No Code - Denture step Mandibular: may be used...  \n",
       "153  7140 - Extraction - erupted tooth or exposed r...  \n",
       "174  7140 - Extraction - erupted tooth or exposed r...  \n",
       "177  7140 - Extraction - erupted tooth or exposed r...  "
      ],
      "text/html": "<div>\n<style scoped>\n    .dataframe tbody tr th:only-of-type {\n        vertical-align: middle;\n    }\n\n    .dataframe tbody tr th {\n        vertical-align: top;\n    }\n\n    .dataframe thead th {\n        text-align: right;\n    }\n</style>\n<table border=\"1\" class=\"dataframe\">\n  <thead>\n    <tr style=\"text-align: right;\">\n      <th></th>\n      <th>CallerNum</th>\n      <th>CityName</th>\n      <th>CountyName</th>\n      <th>StateProvince</th>\n      <th>PostalCode</th>\n      <th>site</th>\n      <th>date</th>\n      <th>care_provided</th>\n    </tr>\n  </thead>\n  <tbody>\n    <tr>\n      <th>9</th>\n      <td>3858402</td>\n      <td>Memphis</td>\n      <td>Shelby</td>\n      <td>TN</td>\n      <td>38128.0</td>\n      <td>Christ Community Health Services- Raleigh</td>\n      <td>11/24/2020</td>\n      <td>140 - Limited Oral evaluation - problem focuse...</td>\n    </tr>\n    <tr>\n      <th>13</th>\n      <td>3172525</td>\n      <td>Cleveland</td>\n      <td>Bradley</td>\n      <td>TN</td>\n      <td>37312.0</td>\n      <td>Karis Dental Clinic - Cleveland</td>\n      <td>2/7/2020</td>\n      <td>No Code - Denture step Mandibular: may be used...</td>\n    </tr>\n    <tr>\n      <th>61</th>\n      <td>3620854</td>\n      <td>Cleveland</td>\n      <td>Bradley</td>\n      <td>TN</td>\n      <td>NaN</td>\n      <td>Karis Dental Clinic - Cleveland</td>\n      <td>8/10/2020</td>\n      <td>7140 - Extraction - erupted tooth or exposed r...</td>\n    </tr>\n    <tr>\n      <th>111</th>\n      <td>3720256</td>\n      <td>Cleveland</td>\n      <td>Bradley</td>\n      <td>TN</td>\n      <td>37312.0</td>\n      <td>Karis Dental Clinic - Cleveland</td>\n      <td>9/25/2020</td>\n      <td>7140 - Extraction - erupted tooth or exposed r...</td>\n    </tr>\n    <tr>\n      <th>115</th>\n      <td>3844630</td>\n      <td>Memphis</td>\n      <td>Shelby</td>\n      <td>TN</td>\n      <td>38128.0</td>\n      <td>Christ Community Health Services- Raleigh</td>\n      <td>11/19/2020</td>\n      <td>150 - Comprehensive Oral Evaluation -new or es...</td>\n    </tr>\n    <tr>\n      <th>126</th>\n      <td>3761667</td>\n      <td>Memphis</td>\n      <td>Shelby</td>\n      <td>TN</td>\n      <td>38114.0</td>\n      <td>Christ Community Health Services- Frayser</td>\n      <td>NaN</td>\n      <td>7140 - Extraction - erupted tooth or exposed r...</td>\n    </tr>\n    <tr>\n      <th>148</th>\n      <td>3052444</td>\n      <td>Covington</td>\n      <td>Tipton</td>\n      <td>TN</td>\n      <td>38019.0</td>\n      <td>Christ Community Health Services- Raleigh</td>\n      <td>12/3/2019</td>\n      <td>No Code - Denture step Mandibular: may be used...</td>\n    </tr>\n    <tr>\n      <th>153</th>\n      <td>3056273</td>\n      <td>Memphis</td>\n      <td>Shelby</td>\n      <td>TN</td>\n      <td>38127.0</td>\n      <td>Christ Community Health Services- Frayser</td>\n      <td>NaN</td>\n      <td>7140 - Extraction - erupted tooth or exposed r...</td>\n    </tr>\n    <tr>\n      <th>174</th>\n      <td>3829843</td>\n      <td>Memphis</td>\n      <td>Shelby</td>\n      <td>TN</td>\n      <td>38109.0</td>\n      <td>Christ Community Health Services- Frayser</td>\n      <td>NaN</td>\n      <td>7140 - Extraction - erupted tooth or exposed r...</td>\n    </tr>\n    <tr>\n      <th>177</th>\n      <td>3211727</td>\n      <td>Memphis</td>\n      <td>Shelby</td>\n      <td>TN</td>\n      <td>38118.0</td>\n      <td>Christ Community Health Services- Frayser</td>\n      <td>NaN</td>\n      <td>7140 - Extraction - erupted tooth or exposed r...</td>\n    </tr>\n  </tbody>\n</table>\n</div>"
     },
     "metadata": {},
     "execution_count": 43
    }
   ],
   "source": [
    "smile_location_extract.head(10)"
   ]
  },
  {
   "cell_type": "code",
   "execution_count": 44,
   "metadata": {},
   "outputs": [
    {
     "output_type": "execute_result",
     "data": {
      "text/plain": [
       "(3878, 8)"
      ]
     },
     "metadata": {},
     "execution_count": 44
    }
   ],
   "source": [
    "smile_location_extract.shape"
   ]
  },
  {
   "cell_type": "code",
   "execution_count": 45,
   "metadata": {},
   "outputs": [
    {
     "output_type": "execute_result",
     "data": {
      "text/plain": [
       "Memphis           750\n",
       "Nashville         542\n",
       "Cleveland         268\n",
       "Murfreesboro      201\n",
       "Kingsport         136\n",
       "                 ... \n",
       "Ripley              1\n",
       "Hickory Valley      1\n",
       "Spencer             1\n",
       "Whiteville          1\n",
       "Leoma               1\n",
       "Name: CityName, Length: 228, dtype: int64"
      ]
     },
     "metadata": {},
     "execution_count": 45
    }
   ],
   "source": [
    "smile_location_extract_city_count = smile_location_extract.CityName.value_counts()\n",
    "smile_location_extract_city_count"
   ]
  },
  {
   "cell_type": "code",
   "execution_count": 46,
   "metadata": {},
   "outputs": [
    {
     "output_type": "execute_result",
     "data": {
      "text/plain": [
       "Memphis         750\n",
       "Nashville       542\n",
       "Cleveland       268\n",
       "Murfreesboro    201\n",
       "Kingsport       136\n",
       "Name: CityName, dtype: int64"
      ]
     },
     "metadata": {},
     "execution_count": 46
    }
   ],
   "source": [
    "smile_location_extract_city_count_top5 = smile_location_extract_city_count.head()\n",
    "smile_location_extract_city_count_top5"
   ]
  },
  {
   "source": [
    "### Memphis had the most tooth extractions with 750. "
   ],
   "cell_type": "markdown",
   "metadata": {}
  },
  {
   "cell_type": "code",
   "execution_count": 47,
   "metadata": {},
   "outputs": [
    {
     "output_type": "execute_result",
     "data": {
      "text/plain": [
       "37311.0    106\n",
       "37323.0     99\n",
       "37013.0     90\n",
       "37130.0     89\n",
       "37207.0     80\n",
       "Name: PostalCode, dtype: int64"
      ]
     },
     "metadata": {},
     "execution_count": 47
    }
   ],
   "source": [
    "smile_location_extract_zip_count = smile_location_extract.PostalCode.value_counts()\n",
    "smile_location_extract_zip_count_top5 = smile_location_extract_zip_count.head()\n",
    "smile_location_extract_zip_count_top5"
   ]
  },
  {
   "source": [
    "### Zip Code 37311 has the most extractions with 106"
   ],
   "cell_type": "markdown",
   "metadata": {}
  },
  {
   "cell_type": "code",
   "execution_count": 48,
   "metadata": {},
   "outputs": [
    {
     "output_type": "execute_result",
     "data": {
      "text/plain": [
       "Interfaith Dental Clinic - Nashville                                                    552\n",
       "Interfaith Dental Clinic - Murfreesboro                                                 354\n",
       "Matthew Walker Comprehensive Health Center Inc. - Nashville                             348\n",
       "Church Health Center - Memphis                                                          344\n",
       "Karis Dental Clinic - Cleveland                                                         290\n",
       "Interfaith Health Clinic of Knoxville - Knoxville                                       216\n",
       "Healing Hands Health Center - Bristol                                                   174\n",
       "Friends in Need Health Center - Kingsport                                               163\n",
       "Keystone Dental Care Inc. - Johnson City                                                152\n",
       "Christ Community Health Services- Hickory Hill                                          136\n",
       "Christ Community Health Services- Broad Avenue                                          122\n",
       "Christ Community Health Services- Frayser                                               115\n",
       "Neighborhood Health - Cleveland Park/ Nashville                                         104\n",
       "Christ Community Health Services- Raleigh                                                91\n",
       "Matthew Walker - Clarksville                                                             91\n",
       "Christ Community Health Services- Third Street                                           90\n",
       "Neighborhood Health - Lebanon                                                            77\n",
       "Neighborhood Health - Napier/Nashville                                                   62\n",
       "Northeast Tennessee Community Health Centers Inc. - Johnson City                         53\n",
       "Neighborhood Health - Eastside/Nashville                                                 48\n",
       "Smiles Inc. - South Pittsburg - serving Marion Grundy Franklin and Hamilton Counties     46\n",
       "TDH - Maury Co                                                                           46\n",
       "Appalachian Miles for Smiles - Mobile                                                    45\n",
       "Reelfoot Ministries - Obion                                                              33\n",
       "TDH - Lawrence Co                                                                        30\n",
       "Trinity Health Ministries                                                                30\n",
       "Mountain Hope Good Shepherd Clinic                                                       29\n",
       "Neighborhood Health - Mission/Nashville                                                  24\n",
       "Meharry Mobile Dental Clinic                                                             13\n",
       "Name: site, dtype: int64"
      ]
     },
     "metadata": {},
     "execution_count": 48
    }
   ],
   "source": [
    "smile_location_extract_site_count = smile_location_extract.site.value_counts()\n",
    "smile_location_extract_site_count"
   ]
  },
  {
   "source": [
    "### Most extractions were performed at Interfaith Dental Clinic - Nashville with 552. "
   ],
   "cell_type": "markdown",
   "metadata": {}
  },
  {
   "cell_type": "code",
   "execution_count": 49,
   "metadata": {},
   "outputs": [
    {
     "output_type": "execute_result",
     "data": {
      "text/plain": [
       "6/13/2019     33\n",
       "8/28/2019     26\n",
       "9/17/2019     18\n",
       "9/5/2019      17\n",
       "12/3/2018     15\n",
       "              ..\n",
       "12/14/2019     1\n",
       "12/15/2018     1\n",
       "9/18/2020      1\n",
       "12/16/2019     1\n",
       "4/2/2020       1\n",
       "Name: date, Length: 479, dtype: int64"
      ]
     },
     "metadata": {},
     "execution_count": 49
    }
   ],
   "source": [
    "smile_location_extract_date_count = smile_location_extract.date.value_counts()\n",
    "smile_location_extract_date_count"
   ]
  },
  {
   "source": [
    "### Most extractions were input on 13 June 2019"
   ],
   "cell_type": "markdown",
   "metadata": {}
  },
  {
   "source": [
    "## Sorting for Top five (5) Sites that had function restored"
   ],
   "cell_type": "markdown",
   "metadata": {}
  },
  {
   "cell_type": "code",
   "execution_count": 50,
   "metadata": {},
   "outputs": [
    {
     "output_type": "execute_result",
     "data": {
      "text/plain": [
       "   CallReportNum              ReportVersion CallDateAndTimeStart  \\\n",
       "0       81381827  SMILE ON 60+ Registration     11/25/2020 16:46   \n",
       "1       81379177  SMILE ON 60+ Registration     11/25/2020 15:40   \n",
       "2       81377435      SMILE ON 60+ Clinical     11/25/2020 15:02   \n",
       "3       81375215      SMILE ON 60+ Clinical     11/25/2020 14:17   \n",
       "4       81373934      SMILE ON 60+ Clinical     11/25/2020 13:50   \n",
       "\n",
       "  CallDateAndTimeEnd  CallLength  CallerNum  PhoneWorkerNum     CityName  \\\n",
       "0   11/25/2020 16:48           2    3859874          136529  Springfield   \n",
       "1   11/25/2020 15:55          15    3859755           82341    Nashville   \n",
       "2   11/25/2020 15:02           0    2518680          119506  Rogersville   \n",
       "3   11/25/2020 14:17           0    3231923          143703      Memphis   \n",
       "4   11/25/2020 13:58           8         -1          135611          NaN   \n",
       "\n",
       "  CountyName StateProvince  ...  \\\n",
       "0  Robertson            TN  ...   \n",
       "1   Davidson            TN  ...   \n",
       "2    Hawkins            TN  ...   \n",
       "3     Shelby            TN  ...   \n",
       "4        NaN            TN  ...   \n",
       "\n",
       "         SMILE ON 60+ Screening - Treatment Urgency  \\\n",
       "0                                               NaN   \n",
       "1                                               NaN   \n",
       "2                                               NaN   \n",
       "3                                               NaN   \n",
       "4  Urgent Care - within next week-pain or infection   \n",
       "\n",
       "   SMILE ON 60+ Screening - Untreated Decay  \\\n",
       "0                                       NaN   \n",
       "1                                       NaN   \n",
       "2                                       NaN   \n",
       "3                                       NaN   \n",
       "4                                       Yes   \n",
       "\n",
       "         SMILE ON 60+ Site Information - Enroller ID  \\\n",
       "0  Matthew Walker Comprehensive Health Center Inc...   \n",
       "1                                                NaN   \n",
       "2          Friends in Need Health Center - Kingsport   \n",
       "3          Christ Community Health Services- Frayser   \n",
       "4                      Neighborhood Health - Lebanon   \n",
       "\n",
       "  SMILE ON 60+ Site Information - Enroller Location  \\\n",
       "0                                     Provider Site   \n",
       "1                              Health Assist Office   \n",
       "2                                     Provider Site   \n",
       "3                                     Provider Site   \n",
       "4                                               NaN   \n",
       "\n",
       "   SMILE ON 60+ Treatment Plan - Action: Upload After Picture on Finish Tab  \\\n",
       "0                                                NaN                          \n",
       "1                                                NaN                          \n",
       "2                                                NaN                          \n",
       "3                                                NaN                          \n",
       "4                                                NaN                          \n",
       "\n",
       "  SMILE ON 60+ Treatment Plan - Is the treatment plan completed?  \\\n",
       "0                                                NaN               \n",
       "1                                                NaN               \n",
       "2                                                Yes               \n",
       "3                                                NaN               \n",
       "4                                                NaN               \n",
       "\n",
       "  SMILE ON 60+ Treatment Plan - Was a treatment plan developed?  \\\n",
       "0                                                NaN              \n",
       "1                                                NaN              \n",
       "2                                                Yes              \n",
       "3                                                NaN              \n",
       "4                                                Yes              \n",
       "\n",
       "  SMILE ON 60+ Treatment Plan - Was the enrollee able to be restored to function (can chew) and \"social six\" esthetics (top front six teeth are present and disease free)  \\\n",
       "0                                                NaN                                                                                                                        \n",
       "1                                                NaN                                                                                                                        \n",
       "2                                                Yes                                                                                                                        \n",
       "3                                                NaN                                                                                                                        \n",
       "4                                                 No                                                                                                                        \n",
       "\n",
       "   SMILE ON 60+ Verification of Eligibility - Transportation Arranged  \\\n",
       "0                                                NaN                    \n",
       "1                                                NaN                    \n",
       "2                                                NaN                    \n",
       "3                                                NaN                    \n",
       "4                                                NaN                    \n",
       "\n",
       "  SMILE ON 60+ Verification of Eligibility - Verification of Eligibility  \n",
       "0                                                NaN                      \n",
       "1                                                NaN                      \n",
       "2                                                NaN                      \n",
       "3                                                NaN                      \n",
       "4                                                Yes                      \n",
       "\n",
       "[5 rows x 147 columns]"
      ],
      "text/html": "<div>\n<style scoped>\n    .dataframe tbody tr th:only-of-type {\n        vertical-align: middle;\n    }\n\n    .dataframe tbody tr th {\n        vertical-align: top;\n    }\n\n    .dataframe thead th {\n        text-align: right;\n    }\n</style>\n<table border=\"1\" class=\"dataframe\">\n  <thead>\n    <tr style=\"text-align: right;\">\n      <th></th>\n      <th>CallReportNum</th>\n      <th>ReportVersion</th>\n      <th>CallDateAndTimeStart</th>\n      <th>CallDateAndTimeEnd</th>\n      <th>CallLength</th>\n      <th>CallerNum</th>\n      <th>PhoneWorkerNum</th>\n      <th>CityName</th>\n      <th>CountyName</th>\n      <th>StateProvince</th>\n      <th>...</th>\n      <th>SMILE ON 60+ Screening - Treatment Urgency</th>\n      <th>SMILE ON 60+ Screening - Untreated Decay</th>\n      <th>SMILE ON 60+ Site Information - Enroller ID</th>\n      <th>SMILE ON 60+ Site Information - Enroller Location</th>\n      <th>SMILE ON 60+ Treatment Plan - Action: Upload After Picture on Finish Tab</th>\n      <th>SMILE ON 60+ Treatment Plan - Is the treatment plan completed?</th>\n      <th>SMILE ON 60+ Treatment Plan - Was a treatment plan developed?</th>\n      <th>SMILE ON 60+ Treatment Plan - Was the enrollee able to be restored to function (can chew) and \"social six\" esthetics (top front six teeth are present and disease free)</th>\n      <th>SMILE ON 60+ Verification of Eligibility - Transportation Arranged</th>\n      <th>SMILE ON 60+ Verification of Eligibility - Verification of Eligibility</th>\n    </tr>\n  </thead>\n  <tbody>\n    <tr>\n      <th>0</th>\n      <td>81381827</td>\n      <td>SMILE ON 60+ Registration</td>\n      <td>11/25/2020 16:46</td>\n      <td>11/25/2020 16:48</td>\n      <td>2</td>\n      <td>3859874</td>\n      <td>136529</td>\n      <td>Springfield</td>\n      <td>Robertson</td>\n      <td>TN</td>\n      <td>...</td>\n      <td>NaN</td>\n      <td>NaN</td>\n      <td>Matthew Walker Comprehensive Health Center Inc...</td>\n      <td>Provider Site</td>\n      <td>NaN</td>\n      <td>NaN</td>\n      <td>NaN</td>\n      <td>NaN</td>\n      <td>NaN</td>\n      <td>NaN</td>\n    </tr>\n    <tr>\n      <th>1</th>\n      <td>81379177</td>\n      <td>SMILE ON 60+ Registration</td>\n      <td>11/25/2020 15:40</td>\n      <td>11/25/2020 15:55</td>\n      <td>15</td>\n      <td>3859755</td>\n      <td>82341</td>\n      <td>Nashville</td>\n      <td>Davidson</td>\n      <td>TN</td>\n      <td>...</td>\n      <td>NaN</td>\n      <td>NaN</td>\n      <td>NaN</td>\n      <td>Health Assist Office</td>\n      <td>NaN</td>\n      <td>NaN</td>\n      <td>NaN</td>\n      <td>NaN</td>\n      <td>NaN</td>\n      <td>NaN</td>\n    </tr>\n    <tr>\n      <th>2</th>\n      <td>81377435</td>\n      <td>SMILE ON 60+ Clinical</td>\n      <td>11/25/2020 15:02</td>\n      <td>11/25/2020 15:02</td>\n      <td>0</td>\n      <td>2518680</td>\n      <td>119506</td>\n      <td>Rogersville</td>\n      <td>Hawkins</td>\n      <td>TN</td>\n      <td>...</td>\n      <td>NaN</td>\n      <td>NaN</td>\n      <td>Friends in Need Health Center - Kingsport</td>\n      <td>Provider Site</td>\n      <td>NaN</td>\n      <td>Yes</td>\n      <td>Yes</td>\n      <td>Yes</td>\n      <td>NaN</td>\n      <td>NaN</td>\n    </tr>\n    <tr>\n      <th>3</th>\n      <td>81375215</td>\n      <td>SMILE ON 60+ Clinical</td>\n      <td>11/25/2020 14:17</td>\n      <td>11/25/2020 14:17</td>\n      <td>0</td>\n      <td>3231923</td>\n      <td>143703</td>\n      <td>Memphis</td>\n      <td>Shelby</td>\n      <td>TN</td>\n      <td>...</td>\n      <td>NaN</td>\n      <td>NaN</td>\n      <td>Christ Community Health Services- Frayser</td>\n      <td>Provider Site</td>\n      <td>NaN</td>\n      <td>NaN</td>\n      <td>NaN</td>\n      <td>NaN</td>\n      <td>NaN</td>\n      <td>NaN</td>\n    </tr>\n    <tr>\n      <th>4</th>\n      <td>81373934</td>\n      <td>SMILE ON 60+ Clinical</td>\n      <td>11/25/2020 13:50</td>\n      <td>11/25/2020 13:58</td>\n      <td>8</td>\n      <td>-1</td>\n      <td>135611</td>\n      <td>NaN</td>\n      <td>NaN</td>\n      <td>TN</td>\n      <td>...</td>\n      <td>Urgent Care - within next week-pain or infection</td>\n      <td>Yes</td>\n      <td>Neighborhood Health - Lebanon</td>\n      <td>NaN</td>\n      <td>NaN</td>\n      <td>NaN</td>\n      <td>Yes</td>\n      <td>No</td>\n      <td>NaN</td>\n      <td>Yes</td>\n    </tr>\n  </tbody>\n</table>\n<p>5 rows × 147 columns</p>\n</div>"
     },
     "metadata": {},
     "execution_count": 50
    }
   ],
   "source": [
    "smile_v1.head()"
   ]
  },
  {
   "cell_type": "code",
   "execution_count": 51,
   "metadata": {},
   "outputs": [],
   "source": [
    "smile_location_func_resto = smile_v1.rename(columns = {'SMILE ON 60+ Screening - Last Screening Date':'screening_date', 'SMILE ON 60+ Oral Care Encounter - What care was provided to the enrollee? (Select all that apply)':'care_provided', 'SMILE ON 60+ Site Information - Enroller ID':'site', 'SMILE ON 60+ Treatment Plan - Is the treatment plan completed?':'treatment_plan_complete','SMILE ON 60+ Treatment Plan - Was a treatment plan developed?':'treatment_plan_developed','SMILE ON 60+ Treatment Plan - Was the enrollee able to be restored to function (can chew) and \"social six\" esthetics (top front six teeth are present and disease free)':'restored_to_function'})"
   ]
  },
  {
   "cell_type": "code",
   "execution_count": 52,
   "metadata": {},
   "outputs": [
    {
     "output_type": "execute_result",
     "data": {
      "text/plain": [
       "   CallReportNum              ReportVersion CallDateAndTimeStart  \\\n",
       "0       81381827  SMILE ON 60+ Registration     11/25/2020 16:46   \n",
       "1       81379177  SMILE ON 60+ Registration     11/25/2020 15:40   \n",
       "2       81377435      SMILE ON 60+ Clinical     11/25/2020 15:02   \n",
       "3       81375215      SMILE ON 60+ Clinical     11/25/2020 14:17   \n",
       "4       81373934      SMILE ON 60+ Clinical     11/25/2020 13:50   \n",
       "\n",
       "  CallDateAndTimeEnd  CallLength  CallerNum  PhoneWorkerNum     CityName  \\\n",
       "0   11/25/2020 16:48           2    3859874          136529  Springfield   \n",
       "1   11/25/2020 15:55          15    3859755           82341    Nashville   \n",
       "2   11/25/2020 15:02           0    2518680          119506  Rogersville   \n",
       "3   11/25/2020 14:17           0    3231923          143703      Memphis   \n",
       "4   11/25/2020 13:58           8         -1          135611          NaN   \n",
       "\n",
       "  CountyName StateProvince  ...  \\\n",
       "0  Robertson            TN  ...   \n",
       "1   Davidson            TN  ...   \n",
       "2    Hawkins            TN  ...   \n",
       "3     Shelby            TN  ...   \n",
       "4        NaN            TN  ...   \n",
       "\n",
       "         SMILE ON 60+ Screening - Treatment Urgency  \\\n",
       "0                                               NaN   \n",
       "1                                               NaN   \n",
       "2                                               NaN   \n",
       "3                                               NaN   \n",
       "4  Urgent Care - within next week-pain or infection   \n",
       "\n",
       "   SMILE ON 60+ Screening - Untreated Decay  \\\n",
       "0                                       NaN   \n",
       "1                                       NaN   \n",
       "2                                       NaN   \n",
       "3                                       NaN   \n",
       "4                                       Yes   \n",
       "\n",
       "                                                site  \\\n",
       "0  Matthew Walker Comprehensive Health Center Inc...   \n",
       "1                                                NaN   \n",
       "2          Friends in Need Health Center - Kingsport   \n",
       "3          Christ Community Health Services- Frayser   \n",
       "4                      Neighborhood Health - Lebanon   \n",
       "\n",
       "  SMILE ON 60+ Site Information - Enroller Location  \\\n",
       "0                                     Provider Site   \n",
       "1                              Health Assist Office   \n",
       "2                                     Provider Site   \n",
       "3                                     Provider Site   \n",
       "4                                               NaN   \n",
       "\n",
       "   SMILE ON 60+ Treatment Plan - Action: Upload After Picture on Finish Tab  \\\n",
       "0                                                NaN                          \n",
       "1                                                NaN                          \n",
       "2                                                NaN                          \n",
       "3                                                NaN                          \n",
       "4                                                NaN                          \n",
       "\n",
       "  treatment_plan_complete treatment_plan_developed restored_to_function  \\\n",
       "0                     NaN                      NaN                  NaN   \n",
       "1                     NaN                      NaN                  NaN   \n",
       "2                     Yes                      Yes                  Yes   \n",
       "3                     NaN                      NaN                  NaN   \n",
       "4                     NaN                      Yes                   No   \n",
       "\n",
       "   SMILE ON 60+ Verification of Eligibility - Transportation Arranged  \\\n",
       "0                                                NaN                    \n",
       "1                                                NaN                    \n",
       "2                                                NaN                    \n",
       "3                                                NaN                    \n",
       "4                                                NaN                    \n",
       "\n",
       "  SMILE ON 60+ Verification of Eligibility - Verification of Eligibility  \n",
       "0                                                NaN                      \n",
       "1                                                NaN                      \n",
       "2                                                NaN                      \n",
       "3                                                NaN                      \n",
       "4                                                Yes                      \n",
       "\n",
       "[5 rows x 147 columns]"
      ],
      "text/html": "<div>\n<style scoped>\n    .dataframe tbody tr th:only-of-type {\n        vertical-align: middle;\n    }\n\n    .dataframe tbody tr th {\n        vertical-align: top;\n    }\n\n    .dataframe thead th {\n        text-align: right;\n    }\n</style>\n<table border=\"1\" class=\"dataframe\">\n  <thead>\n    <tr style=\"text-align: right;\">\n      <th></th>\n      <th>CallReportNum</th>\n      <th>ReportVersion</th>\n      <th>CallDateAndTimeStart</th>\n      <th>CallDateAndTimeEnd</th>\n      <th>CallLength</th>\n      <th>CallerNum</th>\n      <th>PhoneWorkerNum</th>\n      <th>CityName</th>\n      <th>CountyName</th>\n      <th>StateProvince</th>\n      <th>...</th>\n      <th>SMILE ON 60+ Screening - Treatment Urgency</th>\n      <th>SMILE ON 60+ Screening - Untreated Decay</th>\n      <th>site</th>\n      <th>SMILE ON 60+ Site Information - Enroller Location</th>\n      <th>SMILE ON 60+ Treatment Plan - Action: Upload After Picture on Finish Tab</th>\n      <th>treatment_plan_complete</th>\n      <th>treatment_plan_developed</th>\n      <th>restored_to_function</th>\n      <th>SMILE ON 60+ Verification of Eligibility - Transportation Arranged</th>\n      <th>SMILE ON 60+ Verification of Eligibility - Verification of Eligibility</th>\n    </tr>\n  </thead>\n  <tbody>\n    <tr>\n      <th>0</th>\n      <td>81381827</td>\n      <td>SMILE ON 60+ Registration</td>\n      <td>11/25/2020 16:46</td>\n      <td>11/25/2020 16:48</td>\n      <td>2</td>\n      <td>3859874</td>\n      <td>136529</td>\n      <td>Springfield</td>\n      <td>Robertson</td>\n      <td>TN</td>\n      <td>...</td>\n      <td>NaN</td>\n      <td>NaN</td>\n      <td>Matthew Walker Comprehensive Health Center Inc...</td>\n      <td>Provider Site</td>\n      <td>NaN</td>\n      <td>NaN</td>\n      <td>NaN</td>\n      <td>NaN</td>\n      <td>NaN</td>\n      <td>NaN</td>\n    </tr>\n    <tr>\n      <th>1</th>\n      <td>81379177</td>\n      <td>SMILE ON 60+ Registration</td>\n      <td>11/25/2020 15:40</td>\n      <td>11/25/2020 15:55</td>\n      <td>15</td>\n      <td>3859755</td>\n      <td>82341</td>\n      <td>Nashville</td>\n      <td>Davidson</td>\n      <td>TN</td>\n      <td>...</td>\n      <td>NaN</td>\n      <td>NaN</td>\n      <td>NaN</td>\n      <td>Health Assist Office</td>\n      <td>NaN</td>\n      <td>NaN</td>\n      <td>NaN</td>\n      <td>NaN</td>\n      <td>NaN</td>\n      <td>NaN</td>\n    </tr>\n    <tr>\n      <th>2</th>\n      <td>81377435</td>\n      <td>SMILE ON 60+ Clinical</td>\n      <td>11/25/2020 15:02</td>\n      <td>11/25/2020 15:02</td>\n      <td>0</td>\n      <td>2518680</td>\n      <td>119506</td>\n      <td>Rogersville</td>\n      <td>Hawkins</td>\n      <td>TN</td>\n      <td>...</td>\n      <td>NaN</td>\n      <td>NaN</td>\n      <td>Friends in Need Health Center - Kingsport</td>\n      <td>Provider Site</td>\n      <td>NaN</td>\n      <td>Yes</td>\n      <td>Yes</td>\n      <td>Yes</td>\n      <td>NaN</td>\n      <td>NaN</td>\n    </tr>\n    <tr>\n      <th>3</th>\n      <td>81375215</td>\n      <td>SMILE ON 60+ Clinical</td>\n      <td>11/25/2020 14:17</td>\n      <td>11/25/2020 14:17</td>\n      <td>0</td>\n      <td>3231923</td>\n      <td>143703</td>\n      <td>Memphis</td>\n      <td>Shelby</td>\n      <td>TN</td>\n      <td>...</td>\n      <td>NaN</td>\n      <td>NaN</td>\n      <td>Christ Community Health Services- Frayser</td>\n      <td>Provider Site</td>\n      <td>NaN</td>\n      <td>NaN</td>\n      <td>NaN</td>\n      <td>NaN</td>\n      <td>NaN</td>\n      <td>NaN</td>\n    </tr>\n    <tr>\n      <th>4</th>\n      <td>81373934</td>\n      <td>SMILE ON 60+ Clinical</td>\n      <td>11/25/2020 13:50</td>\n      <td>11/25/2020 13:58</td>\n      <td>8</td>\n      <td>-1</td>\n      <td>135611</td>\n      <td>NaN</td>\n      <td>NaN</td>\n      <td>TN</td>\n      <td>...</td>\n      <td>Urgent Care - within next week-pain or infection</td>\n      <td>Yes</td>\n      <td>Neighborhood Health - Lebanon</td>\n      <td>NaN</td>\n      <td>NaN</td>\n      <td>NaN</td>\n      <td>Yes</td>\n      <td>No</td>\n      <td>NaN</td>\n      <td>Yes</td>\n    </tr>\n  </tbody>\n</table>\n<p>5 rows × 147 columns</p>\n</div>"
     },
     "metadata": {},
     "execution_count": 52
    }
   ],
   "source": [
    "smile_location_func_resto.head()"
   ]
  },
  {
   "cell_type": "code",
   "execution_count": 53,
   "metadata": {},
   "outputs": [
    {
     "output_type": "execute_result",
     "data": {
      "text/plain": [
       "Index(['CallReportNum', 'ReportVersion', 'CallDateAndTimeStart',\n",
       "       'CallDateAndTimeEnd', 'CallLength', 'CallerNum', 'PhoneWorkerNum',\n",
       "       'CityName', 'CountyName', 'StateProvince',\n",
       "       ...\n",
       "       'SMILE ON 60+ Screening - Treatment Urgency',\n",
       "       'SMILE ON 60+ Screening - Untreated Decay', 'site',\n",
       "       'SMILE ON 60+ Site Information - Enroller Location',\n",
       "       'SMILE ON 60+ Treatment Plan - Action: Upload After Picture on Finish Tab',\n",
       "       'treatment_plan_complete', 'treatment_plan_developed',\n",
       "       'restored_to_function',\n",
       "       'SMILE ON 60+ Verification of Eligibility - Transportation Arranged',\n",
       "       'SMILE ON 60+ Verification of Eligibility - Verification of Eligibility'],\n",
       "      dtype='object', length=147)"
      ]
     },
     "metadata": {},
     "execution_count": 53
    }
   ],
   "source": [
    "smile_location_func_resto.columns"
   ]
  },
  {
   "cell_type": "code",
   "execution_count": 54,
   "metadata": {},
   "outputs": [],
   "source": [
    "smile_location_func_resto = smile_location_func_resto[['CallerNum','CityName','CountyName','PostalCode','screening_date','site','treatment_plan_complete','treatment_plan_developed','restored_to_function']]"
   ]
  },
  {
   "cell_type": "code",
   "execution_count": 55,
   "metadata": {},
   "outputs": [
    {
     "output_type": "execute_result",
     "data": {
      "text/plain": [
       "   CallerNum     CityName CountyName  PostalCode screening_date  \\\n",
       "0    3859874  Springfield  Robertson     37172.0            NaN   \n",
       "1    3859755    Nashville   Davidson     37212.0            NaN   \n",
       "2    2518680  Rogersville    Hawkins     37857.0            NaN   \n",
       "3    3231923      Memphis     Shelby     38104.0            NaN   \n",
       "4         -1          NaN        NaN         NaN     11/25/2020   \n",
       "\n",
       "                                                site treatment_plan_complete  \\\n",
       "0  Matthew Walker Comprehensive Health Center Inc...                     NaN   \n",
       "1                                                NaN                     NaN   \n",
       "2          Friends in Need Health Center - Kingsport                     Yes   \n",
       "3          Christ Community Health Services- Frayser                     NaN   \n",
       "4                      Neighborhood Health - Lebanon                     NaN   \n",
       "\n",
       "  treatment_plan_developed restored_to_function  \n",
       "0                      NaN                  NaN  \n",
       "1                      NaN                  NaN  \n",
       "2                      Yes                  Yes  \n",
       "3                      NaN                  NaN  \n",
       "4                      Yes                   No  "
      ],
      "text/html": "<div>\n<style scoped>\n    .dataframe tbody tr th:only-of-type {\n        vertical-align: middle;\n    }\n\n    .dataframe tbody tr th {\n        vertical-align: top;\n    }\n\n    .dataframe thead th {\n        text-align: right;\n    }\n</style>\n<table border=\"1\" class=\"dataframe\">\n  <thead>\n    <tr style=\"text-align: right;\">\n      <th></th>\n      <th>CallerNum</th>\n      <th>CityName</th>\n      <th>CountyName</th>\n      <th>PostalCode</th>\n      <th>screening_date</th>\n      <th>site</th>\n      <th>treatment_plan_complete</th>\n      <th>treatment_plan_developed</th>\n      <th>restored_to_function</th>\n    </tr>\n  </thead>\n  <tbody>\n    <tr>\n      <th>0</th>\n      <td>3859874</td>\n      <td>Springfield</td>\n      <td>Robertson</td>\n      <td>37172.0</td>\n      <td>NaN</td>\n      <td>Matthew Walker Comprehensive Health Center Inc...</td>\n      <td>NaN</td>\n      <td>NaN</td>\n      <td>NaN</td>\n    </tr>\n    <tr>\n      <th>1</th>\n      <td>3859755</td>\n      <td>Nashville</td>\n      <td>Davidson</td>\n      <td>37212.0</td>\n      <td>NaN</td>\n      <td>NaN</td>\n      <td>NaN</td>\n      <td>NaN</td>\n      <td>NaN</td>\n    </tr>\n    <tr>\n      <th>2</th>\n      <td>2518680</td>\n      <td>Rogersville</td>\n      <td>Hawkins</td>\n      <td>37857.0</td>\n      <td>NaN</td>\n      <td>Friends in Need Health Center - Kingsport</td>\n      <td>Yes</td>\n      <td>Yes</td>\n      <td>Yes</td>\n    </tr>\n    <tr>\n      <th>3</th>\n      <td>3231923</td>\n      <td>Memphis</td>\n      <td>Shelby</td>\n      <td>38104.0</td>\n      <td>NaN</td>\n      <td>Christ Community Health Services- Frayser</td>\n      <td>NaN</td>\n      <td>NaN</td>\n      <td>NaN</td>\n    </tr>\n    <tr>\n      <th>4</th>\n      <td>-1</td>\n      <td>NaN</td>\n      <td>NaN</td>\n      <td>NaN</td>\n      <td>11/25/2020</td>\n      <td>Neighborhood Health - Lebanon</td>\n      <td>NaN</td>\n      <td>Yes</td>\n      <td>No</td>\n    </tr>\n  </tbody>\n</table>\n</div>"
     },
     "metadata": {},
     "execution_count": 55
    }
   ],
   "source": [
    "smile_location_func_resto.head()"
   ]
  },
  {
   "cell_type": "code",
   "execution_count": 56,
   "metadata": {},
   "outputs": [
    {
     "output_type": "execute_result",
     "data": {
      "text/plain": [
       "No     8127\n",
       "Yes    6149\n",
       "Name: restored_to_function, dtype: int64"
      ]
     },
     "metadata": {},
     "execution_count": 56
    }
   ],
   "source": [
    "smile_location_func_resto.restored_to_function.value_counts()"
   ]
  },
  {
   "cell_type": "code",
   "execution_count": 57,
   "metadata": {},
   "outputs": [],
   "source": [
    "smile_location_func_resto_yes = smile_location_func_resto.loc[smile_location_func_resto['restored_to_function'] ==\"Yes\"]"
   ]
  },
  {
   "cell_type": "code",
   "execution_count": 58,
   "metadata": {},
   "outputs": [
    {
     "output_type": "execute_result",
     "data": {
      "text/plain": [
       "    CallerNum     CityName CountyName  PostalCode screening_date  \\\n",
       "2     2518680  Rogersville    Hawkins     37857.0            NaN   \n",
       "13    3172525    Cleveland    Bradley     37312.0       2/7/2020   \n",
       "27    3856533     Bartlett     Shelby     38134.0     11/24/2020   \n",
       "34    2835036      Memphis     Shelby     38127.0            NaN   \n",
       "48    2928034      Memphis     Shelby     38118.0      10/1/2019   \n",
       "\n",
       "                                         site treatment_plan_complete  \\\n",
       "2   Friends in Need Health Center - Kingsport                     Yes   \n",
       "13            Karis Dental Clinic - Cleveland                      No   \n",
       "27  Christ Community Health Services- Raleigh                      No   \n",
       "34  Christ Community Health Services- Raleigh                     Yes   \n",
       "48  Christ Community Health Services- Raleigh                     Yes   \n",
       "\n",
       "   treatment_plan_developed restored_to_function  \n",
       "2                       Yes                  Yes  \n",
       "13                      NaN                  Yes  \n",
       "27                      Yes                  Yes  \n",
       "34                       No                  Yes  \n",
       "48                      Yes                  Yes  "
      ],
      "text/html": "<div>\n<style scoped>\n    .dataframe tbody tr th:only-of-type {\n        vertical-align: middle;\n    }\n\n    .dataframe tbody tr th {\n        vertical-align: top;\n    }\n\n    .dataframe thead th {\n        text-align: right;\n    }\n</style>\n<table border=\"1\" class=\"dataframe\">\n  <thead>\n    <tr style=\"text-align: right;\">\n      <th></th>\n      <th>CallerNum</th>\n      <th>CityName</th>\n      <th>CountyName</th>\n      <th>PostalCode</th>\n      <th>screening_date</th>\n      <th>site</th>\n      <th>treatment_plan_complete</th>\n      <th>treatment_plan_developed</th>\n      <th>restored_to_function</th>\n    </tr>\n  </thead>\n  <tbody>\n    <tr>\n      <th>2</th>\n      <td>2518680</td>\n      <td>Rogersville</td>\n      <td>Hawkins</td>\n      <td>37857.0</td>\n      <td>NaN</td>\n      <td>Friends in Need Health Center - Kingsport</td>\n      <td>Yes</td>\n      <td>Yes</td>\n      <td>Yes</td>\n    </tr>\n    <tr>\n      <th>13</th>\n      <td>3172525</td>\n      <td>Cleveland</td>\n      <td>Bradley</td>\n      <td>37312.0</td>\n      <td>2/7/2020</td>\n      <td>Karis Dental Clinic - Cleveland</td>\n      <td>No</td>\n      <td>NaN</td>\n      <td>Yes</td>\n    </tr>\n    <tr>\n      <th>27</th>\n      <td>3856533</td>\n      <td>Bartlett</td>\n      <td>Shelby</td>\n      <td>38134.0</td>\n      <td>11/24/2020</td>\n      <td>Christ Community Health Services- Raleigh</td>\n      <td>No</td>\n      <td>Yes</td>\n      <td>Yes</td>\n    </tr>\n    <tr>\n      <th>34</th>\n      <td>2835036</td>\n      <td>Memphis</td>\n      <td>Shelby</td>\n      <td>38127.0</td>\n      <td>NaN</td>\n      <td>Christ Community Health Services- Raleigh</td>\n      <td>Yes</td>\n      <td>No</td>\n      <td>Yes</td>\n    </tr>\n    <tr>\n      <th>48</th>\n      <td>2928034</td>\n      <td>Memphis</td>\n      <td>Shelby</td>\n      <td>38118.0</td>\n      <td>10/1/2019</td>\n      <td>Christ Community Health Services- Raleigh</td>\n      <td>Yes</td>\n      <td>Yes</td>\n      <td>Yes</td>\n    </tr>\n  </tbody>\n</table>\n</div>"
     },
     "metadata": {},
     "execution_count": 58
    }
   ],
   "source": [
    "smile_location_func_resto_yes.head()"
   ]
  },
  {
   "cell_type": "code",
   "execution_count": 59,
   "metadata": {},
   "outputs": [
    {
     "output_type": "execute_result",
     "data": {
      "text/plain": [
       "(6149, 9)"
      ]
     },
     "metadata": {},
     "execution_count": 59
    }
   ],
   "source": [
    "smile_location_func_resto_yes.shape"
   ]
  },
  {
   "cell_type": "code",
   "execution_count": 60,
   "metadata": {},
   "outputs": [],
   "source": [
    "smile_location_func_resto_yes_sort_date = smile_location_func_resto_yes.sort_values('screening_date').drop_duplicates(subset=['CallerNum'], keep='last')"
   ]
  },
  {
   "cell_type": "code",
   "execution_count": 61,
   "metadata": {},
   "outputs": [
    {
     "output_type": "execute_result",
     "data": {
      "text/plain": [
       "       CallerNum         CityName CountyName  PostalCode screening_date  \\\n",
       "32169    2576785          Memphis     Shelby     38104.0      1/10/2019   \n",
       "15001    3118094          Memphis     Shelby     38109.0      1/10/2020   \n",
       "8334     3112474        Cleveland    Bradley     37323.0      1/10/2020   \n",
       "15003    3118060          Cordova     Shelby     38016.0      1/10/2020   \n",
       "21571    2652995          Antioch   Davidson         NaN      1/11/2019   \n",
       "35064    2569210  South Pittsburg     Marion     37380.0      1/12/2019   \n",
       "14922    3130588          Memphis     Shelby     38106.0      1/13/2020   \n",
       "14883    3121806          Memphis     Shelby     38108.0      1/13/2020   \n",
       "7815     3121996          Memphis     Shelby     38105.0      1/13/2020   \n",
       "11201    3120760           Camden     Benton     38320.0      1/13/2020   \n",
       "\n",
       "                                                    site  \\\n",
       "32169                     Church Health Center - Memphis   \n",
       "15001     Christ Community Health Services- Broad Avenue   \n",
       "8334                     Karis Dental Clinic - Cleveland   \n",
       "15003     Christ Community Health Services- Broad Avenue   \n",
       "21571             Neighborhood Health - Napier/Nashville   \n",
       "35064  Smiles Inc. - South Pittsburg - serving Marion...   \n",
       "14922          Christ Community Health Services- Frayser   \n",
       "14883     Christ Community Health Services- Broad Avenue   \n",
       "7815                      Church Health Center - Memphis   \n",
       "11201                       Matthew Walker - Clarksville   \n",
       "\n",
       "      treatment_plan_complete treatment_plan_developed restored_to_function  \n",
       "32169                     Yes                      Yes                  Yes  \n",
       "15001                      No                      Yes                  Yes  \n",
       "8334                      Yes                      NaN                  Yes  \n",
       "15003                      No                      Yes                  Yes  \n",
       "21571                     Yes                      Yes                  Yes  \n",
       "35064                     Yes                      Yes                  Yes  \n",
       "14922                      No                      Yes                  Yes  \n",
       "14883                      No                      Yes                  Yes  \n",
       "7815                      Yes                      Yes                  Yes  \n",
       "11201                     Yes                      Yes                  Yes  "
      ],
      "text/html": "<div>\n<style scoped>\n    .dataframe tbody tr th:only-of-type {\n        vertical-align: middle;\n    }\n\n    .dataframe tbody tr th {\n        vertical-align: top;\n    }\n\n    .dataframe thead th {\n        text-align: right;\n    }\n</style>\n<table border=\"1\" class=\"dataframe\">\n  <thead>\n    <tr style=\"text-align: right;\">\n      <th></th>\n      <th>CallerNum</th>\n      <th>CityName</th>\n      <th>CountyName</th>\n      <th>PostalCode</th>\n      <th>screening_date</th>\n      <th>site</th>\n      <th>treatment_plan_complete</th>\n      <th>treatment_plan_developed</th>\n      <th>restored_to_function</th>\n    </tr>\n  </thead>\n  <tbody>\n    <tr>\n      <th>32169</th>\n      <td>2576785</td>\n      <td>Memphis</td>\n      <td>Shelby</td>\n      <td>38104.0</td>\n      <td>1/10/2019</td>\n      <td>Church Health Center - Memphis</td>\n      <td>Yes</td>\n      <td>Yes</td>\n      <td>Yes</td>\n    </tr>\n    <tr>\n      <th>15001</th>\n      <td>3118094</td>\n      <td>Memphis</td>\n      <td>Shelby</td>\n      <td>38109.0</td>\n      <td>1/10/2020</td>\n      <td>Christ Community Health Services- Broad Avenue</td>\n      <td>No</td>\n      <td>Yes</td>\n      <td>Yes</td>\n    </tr>\n    <tr>\n      <th>8334</th>\n      <td>3112474</td>\n      <td>Cleveland</td>\n      <td>Bradley</td>\n      <td>37323.0</td>\n      <td>1/10/2020</td>\n      <td>Karis Dental Clinic - Cleveland</td>\n      <td>Yes</td>\n      <td>NaN</td>\n      <td>Yes</td>\n    </tr>\n    <tr>\n      <th>15003</th>\n      <td>3118060</td>\n      <td>Cordova</td>\n      <td>Shelby</td>\n      <td>38016.0</td>\n      <td>1/10/2020</td>\n      <td>Christ Community Health Services- Broad Avenue</td>\n      <td>No</td>\n      <td>Yes</td>\n      <td>Yes</td>\n    </tr>\n    <tr>\n      <th>21571</th>\n      <td>2652995</td>\n      <td>Antioch</td>\n      <td>Davidson</td>\n      <td>NaN</td>\n      <td>1/11/2019</td>\n      <td>Neighborhood Health - Napier/Nashville</td>\n      <td>Yes</td>\n      <td>Yes</td>\n      <td>Yes</td>\n    </tr>\n    <tr>\n      <th>35064</th>\n      <td>2569210</td>\n      <td>South Pittsburg</td>\n      <td>Marion</td>\n      <td>37380.0</td>\n      <td>1/12/2019</td>\n      <td>Smiles Inc. - South Pittsburg - serving Marion...</td>\n      <td>Yes</td>\n      <td>Yes</td>\n      <td>Yes</td>\n    </tr>\n    <tr>\n      <th>14922</th>\n      <td>3130588</td>\n      <td>Memphis</td>\n      <td>Shelby</td>\n      <td>38106.0</td>\n      <td>1/13/2020</td>\n      <td>Christ Community Health Services- Frayser</td>\n      <td>No</td>\n      <td>Yes</td>\n      <td>Yes</td>\n    </tr>\n    <tr>\n      <th>14883</th>\n      <td>3121806</td>\n      <td>Memphis</td>\n      <td>Shelby</td>\n      <td>38108.0</td>\n      <td>1/13/2020</td>\n      <td>Christ Community Health Services- Broad Avenue</td>\n      <td>No</td>\n      <td>Yes</td>\n      <td>Yes</td>\n    </tr>\n    <tr>\n      <th>7815</th>\n      <td>3121996</td>\n      <td>Memphis</td>\n      <td>Shelby</td>\n      <td>38105.0</td>\n      <td>1/13/2020</td>\n      <td>Church Health Center - Memphis</td>\n      <td>Yes</td>\n      <td>Yes</td>\n      <td>Yes</td>\n    </tr>\n    <tr>\n      <th>11201</th>\n      <td>3120760</td>\n      <td>Camden</td>\n      <td>Benton</td>\n      <td>38320.0</td>\n      <td>1/13/2020</td>\n      <td>Matthew Walker - Clarksville</td>\n      <td>Yes</td>\n      <td>Yes</td>\n      <td>Yes</td>\n    </tr>\n  </tbody>\n</table>\n</div>"
     },
     "metadata": {},
     "execution_count": 61
    }
   ],
   "source": [
    "smile_location_func_resto_yes_sort_date.head(10)"
   ]
  },
  {
   "cell_type": "code",
   "execution_count": 62,
   "metadata": {},
   "outputs": [
    {
     "output_type": "execute_result",
     "data": {
      "text/plain": [
       "3501070    1\n",
       "2956122    1\n",
       "2728717    1\n",
       "2659083    1\n",
       "2759218    1\n",
       "          ..\n",
       "2733396    1\n",
       "2886995    1\n",
       "3845455    1\n",
       "3056974    1\n",
       "2893825    1\n",
       "Name: CallerNum, Length: 3356, dtype: int64"
      ]
     },
     "metadata": {},
     "execution_count": 62
    }
   ],
   "source": [
    "smile_location_func_resto_yes_sort_date.CallerNum.value_counts()"
   ]
  },
  {
   "cell_type": "code",
   "execution_count": 63,
   "metadata": {},
   "outputs": [
    {
     "output_type": "execute_result",
     "data": {
      "text/plain": [
       "Interfaith Dental Clinic - Nashville                                                    443\n",
       "Church Health Center - Memphis                                                          433\n",
       "Interfaith Dental Clinic - Murfreesboro                                                 299\n",
       "Matthew Walker Comprehensive Health Center Inc. - Nashville                             275\n",
       "Healing Hands Health Center - Bristol                                                   225\n",
       "Interfaith Health Clinic of Knoxville - Knoxville                                       223\n",
       "Friends in Need Health Center - Kingsport                                               196\n",
       "Karis Dental Clinic - Cleveland                                                         194\n",
       "Keystone Dental Care Inc. - Johnson City                                                180\n",
       "Christ Community Health Services- Hickory Hill                                          103\n",
       "Christ Community Health Services- Broad Avenue                                          101\n",
       "Christ Community Health Services- Third Street                                           93\n",
       "Christ Community Health Services- Raleigh                                                85\n",
       "Northeast Tennessee Community Health Centers Inc. - Johnson City                         81\n",
       "Christ Community Health Services- Frayser                                                61\n",
       "Neighborhood Health - Cleveland Park/ Nashville                                          50\n",
       "Matthew Walker - Clarksville                                                             49\n",
       "Neighborhood Health - Eastside/Nashville                                                 35\n",
       "Smiles Inc. - South Pittsburg - serving Marion Grundy Franklin and Hamilton Counties     33\n",
       "Neighborhood Health - Lebanon                                                            32\n",
       "Trinity Health Ministries                                                                31\n",
       "Appalachian Miles for Smiles - Mobile                                                    29\n",
       "Neighborhood Health - Napier/Nashville                                                   27\n",
       "Reelfoot Ministries - Obion                                                              26\n",
       "TDH - Lawrence Co                                                                        16\n",
       "Mountain Hope Good Shepherd Clinic                                                       12\n",
       "TDH - Maury Co                                                                           12\n",
       "Neighborhood Health - Mission/Nashville                                                   9\n",
       "Meharry Mobile Dental Clinic                                                              2\n",
       "Name: site, dtype: int64"
      ]
     },
     "metadata": {},
     "execution_count": 63
    }
   ],
   "source": [
    "smile_location_func_resto_vc = smile_location_func_resto_yes_sort_date.site.value_counts()\n",
    "smile_location_func_resto_vc"
   ]
  },
  {
   "source": [
    "### There were 443 \"Restored to Function\" Cases at Interfaith Dental CLinic -Nashville"
   ],
   "cell_type": "markdown",
   "metadata": {}
  },
  {
   "cell_type": "code",
   "execution_count": 64,
   "metadata": {},
   "outputs": [
    {
     "output_type": "execute_result",
     "data": {
      "text/plain": [
       "Interfaith Dental Clinic - Nashville                           443\n",
       "Church Health Center - Memphis                                 433\n",
       "Interfaith Dental Clinic - Murfreesboro                        299\n",
       "Matthew Walker Comprehensive Health Center Inc. - Nashville    275\n",
       "Healing Hands Health Center - Bristol                          225\n",
       "Name: site, dtype: int64"
      ]
     },
     "metadata": {},
     "execution_count": 64
    }
   ],
   "source": [
    "smile_location_func_resto_vc_top5 = smile_location_func_resto_vc.head()\n",
    "smile_location_func_resto_vc_top5"
   ]
  },
  {
   "source": [
    "### Making listing Dataframe for the \"No\" Restored to Function"
   ],
   "cell_type": "markdown",
   "metadata": {}
  },
  {
   "cell_type": "code",
   "execution_count": 65,
   "metadata": {},
   "outputs": [],
   "source": [
    "smile_location_func_resto_no = smile_location_func_resto.loc[smile_location_func_resto['restored_to_function'] ==\"No\"]"
   ]
  },
  {
   "cell_type": "code",
   "execution_count": 66,
   "metadata": {},
   "outputs": [
    {
     "output_type": "execute_result",
     "data": {
      "text/plain": [
       "       CallerNum      CityName  CountyName  PostalCode screening_date  \\\n",
       "4             -1           NaN         NaN         NaN     11/25/2020   \n",
       "35       3620854     Cleveland     Bradley         NaN      8/10/2020   \n",
       "39       3707477     Cleveland     Bradley     37312.0      9/21/2020   \n",
       "51       2879906       Memphis      Shelby     38108.0       9/6/2019   \n",
       "53       3654343       Memphis      Shelby         NaN      8/24/2020   \n",
       "...          ...           ...         ...         ...            ...   \n",
       "39677    2399480  Murfreesboro  Rutherford     37130.0      8/14/2018   \n",
       "39680    2399451  Murfreesboro  Rutherford     37129.0      8/15/2018   \n",
       "39683    2399397     La Vergne  Rutherford     37086.0      8/14/2018   \n",
       "39688    2399280  Murfreesboro  Rutherford     37130.0      8/14/2018   \n",
       "39809    2390783       Madison    Davidson     37115.0       8/9/2018   \n",
       "\n",
       "                                                 site treatment_plan_complete  \\\n",
       "4                       Neighborhood Health - Lebanon                     NaN   \n",
       "35                    Karis Dental Clinic - Cleveland                      No   \n",
       "39                    Karis Dental Clinic - Cleveland                      No   \n",
       "51     Christ Community Health Services- Broad Avenue                      No   \n",
       "53     Christ Community Health Services- Broad Avenue                      No   \n",
       "...                                               ...                     ...   \n",
       "39677                                             NaN                      No   \n",
       "39680                                             NaN                      No   \n",
       "39683         Interfaith Dental Clinic - Murfreesboro                      No   \n",
       "39688         Interfaith Dental Clinic - Murfreesboro                      No   \n",
       "39809         Interfaith Dental Clinic - Murfreesboro                     NaN   \n",
       "\n",
       "      treatment_plan_developed restored_to_function  \n",
       "4                          Yes                   No  \n",
       "35                         NaN                   No  \n",
       "39                         NaN                   No  \n",
       "51                         Yes                   No  \n",
       "53                         Yes                   No  \n",
       "...                        ...                  ...  \n",
       "39677                      Yes                   No  \n",
       "39680                      Yes                   No  \n",
       "39683                      Yes                   No  \n",
       "39688                      Yes                   No  \n",
       "39809                       No                   No  \n",
       "\n",
       "[8127 rows x 9 columns]"
      ],
      "text/html": "<div>\n<style scoped>\n    .dataframe tbody tr th:only-of-type {\n        vertical-align: middle;\n    }\n\n    .dataframe tbody tr th {\n        vertical-align: top;\n    }\n\n    .dataframe thead th {\n        text-align: right;\n    }\n</style>\n<table border=\"1\" class=\"dataframe\">\n  <thead>\n    <tr style=\"text-align: right;\">\n      <th></th>\n      <th>CallerNum</th>\n      <th>CityName</th>\n      <th>CountyName</th>\n      <th>PostalCode</th>\n      <th>screening_date</th>\n      <th>site</th>\n      <th>treatment_plan_complete</th>\n      <th>treatment_plan_developed</th>\n      <th>restored_to_function</th>\n    </tr>\n  </thead>\n  <tbody>\n    <tr>\n      <th>4</th>\n      <td>-1</td>\n      <td>NaN</td>\n      <td>NaN</td>\n      <td>NaN</td>\n      <td>11/25/2020</td>\n      <td>Neighborhood Health - Lebanon</td>\n      <td>NaN</td>\n      <td>Yes</td>\n      <td>No</td>\n    </tr>\n    <tr>\n      <th>35</th>\n      <td>3620854</td>\n      <td>Cleveland</td>\n      <td>Bradley</td>\n      <td>NaN</td>\n      <td>8/10/2020</td>\n      <td>Karis Dental Clinic - Cleveland</td>\n      <td>No</td>\n      <td>NaN</td>\n      <td>No</td>\n    </tr>\n    <tr>\n      <th>39</th>\n      <td>3707477</td>\n      <td>Cleveland</td>\n      <td>Bradley</td>\n      <td>37312.0</td>\n      <td>9/21/2020</td>\n      <td>Karis Dental Clinic - Cleveland</td>\n      <td>No</td>\n      <td>NaN</td>\n      <td>No</td>\n    </tr>\n    <tr>\n      <th>51</th>\n      <td>2879906</td>\n      <td>Memphis</td>\n      <td>Shelby</td>\n      <td>38108.0</td>\n      <td>9/6/2019</td>\n      <td>Christ Community Health Services- Broad Avenue</td>\n      <td>No</td>\n      <td>Yes</td>\n      <td>No</td>\n    </tr>\n    <tr>\n      <th>53</th>\n      <td>3654343</td>\n      <td>Memphis</td>\n      <td>Shelby</td>\n      <td>NaN</td>\n      <td>8/24/2020</td>\n      <td>Christ Community Health Services- Broad Avenue</td>\n      <td>No</td>\n      <td>Yes</td>\n      <td>No</td>\n    </tr>\n    <tr>\n      <th>...</th>\n      <td>...</td>\n      <td>...</td>\n      <td>...</td>\n      <td>...</td>\n      <td>...</td>\n      <td>...</td>\n      <td>...</td>\n      <td>...</td>\n      <td>...</td>\n    </tr>\n    <tr>\n      <th>39677</th>\n      <td>2399480</td>\n      <td>Murfreesboro</td>\n      <td>Rutherford</td>\n      <td>37130.0</td>\n      <td>8/14/2018</td>\n      <td>NaN</td>\n      <td>No</td>\n      <td>Yes</td>\n      <td>No</td>\n    </tr>\n    <tr>\n      <th>39680</th>\n      <td>2399451</td>\n      <td>Murfreesboro</td>\n      <td>Rutherford</td>\n      <td>37129.0</td>\n      <td>8/15/2018</td>\n      <td>NaN</td>\n      <td>No</td>\n      <td>Yes</td>\n      <td>No</td>\n    </tr>\n    <tr>\n      <th>39683</th>\n      <td>2399397</td>\n      <td>La Vergne</td>\n      <td>Rutherford</td>\n      <td>37086.0</td>\n      <td>8/14/2018</td>\n      <td>Interfaith Dental Clinic - Murfreesboro</td>\n      <td>No</td>\n      <td>Yes</td>\n      <td>No</td>\n    </tr>\n    <tr>\n      <th>39688</th>\n      <td>2399280</td>\n      <td>Murfreesboro</td>\n      <td>Rutherford</td>\n      <td>37130.0</td>\n      <td>8/14/2018</td>\n      <td>Interfaith Dental Clinic - Murfreesboro</td>\n      <td>No</td>\n      <td>Yes</td>\n      <td>No</td>\n    </tr>\n    <tr>\n      <th>39809</th>\n      <td>2390783</td>\n      <td>Madison</td>\n      <td>Davidson</td>\n      <td>37115.0</td>\n      <td>8/9/2018</td>\n      <td>Interfaith Dental Clinic - Murfreesboro</td>\n      <td>NaN</td>\n      <td>No</td>\n      <td>No</td>\n    </tr>\n  </tbody>\n</table>\n<p>8127 rows × 9 columns</p>\n</div>"
     },
     "metadata": {},
     "execution_count": 66
    }
   ],
   "source": [
    "smile_location_func_resto_no"
   ]
  },
  {
   "cell_type": "code",
   "execution_count": 67,
   "metadata": {},
   "outputs": [],
   "source": [
    "smile_location_func_resto_no_sort_date = smile_location_func_resto_no.sort_values('screening_date').drop_duplicates(subset=['CallerNum'], keep='last')"
   ]
  },
  {
   "cell_type": "code",
   "execution_count": 68,
   "metadata": {},
   "outputs": [
    {
     "output_type": "execute_result",
     "data": {
      "text/plain": [
       "       CallerNum     CityName  CountyName  PostalCode screening_date  \\\n",
       "32923    2578404  Greeneville      Greene     37743.0       1/1/2019   \n",
       "26337    2581726      Antioch    Davidson     37013.0      1/10/2019   \n",
       "33623    2569064    Kingsport    Sullivan     37664.0      1/10/2019   \n",
       "23863    2576785      Memphis      Shelby     38104.0      1/10/2019   \n",
       "3465     3118060      Cordova      Shelby     38016.0      1/10/2020   \n",
       "14996    3126326      Memphis      Shelby     38141.0      1/10/2020   \n",
       "14185    3112474    Cleveland     Bradley     37323.0      1/10/2020   \n",
       "35067    2599600  Nolensville  Williamson     37135.0      1/11/2019   \n",
       "35088    2572761    Hermitage    Davidson     37076.0      1/11/2019   \n",
       "33064    2554846       Smyrna  Rutherford     37167.0      1/11/2019   \n",
       "\n",
       "                                                    site  \\\n",
       "32923           Keystone Dental Care Inc. - Johnson City   \n",
       "26337  Matthew Walker Comprehensive Health Center Inc...   \n",
       "33623          Friends in Need Health Center - Kingsport   \n",
       "23863                     Church Health Center - Memphis   \n",
       "3465      Christ Community Health Services- Broad Avenue   \n",
       "14996     Christ Community Health Services- Hickory Hill   \n",
       "14185                    Karis Dental Clinic - Cleveland   \n",
       "35067  Matthew Walker Comprehensive Health Center Inc...   \n",
       "35088  Matthew Walker Comprehensive Health Center Inc...   \n",
       "33064                       Matthew Walker - Clarksville   \n",
       "\n",
       "      treatment_plan_complete treatment_plan_developed restored_to_function  \n",
       "32923                      No                      Yes                   No  \n",
       "26337                      No                      Yes                   No  \n",
       "33623                      No                      Yes                   No  \n",
       "23863                      No                      Yes                   No  \n",
       "3465                       No                      Yes                   No  \n",
       "14996                      No                      Yes                   No  \n",
       "14185                      No                      NaN                   No  \n",
       "35067                      No                      Yes                   No  \n",
       "35088                      No                      Yes                   No  \n",
       "33064                      No                      Yes                   No  "
      ],
      "text/html": "<div>\n<style scoped>\n    .dataframe tbody tr th:only-of-type {\n        vertical-align: middle;\n    }\n\n    .dataframe tbody tr th {\n        vertical-align: top;\n    }\n\n    .dataframe thead th {\n        text-align: right;\n    }\n</style>\n<table border=\"1\" class=\"dataframe\">\n  <thead>\n    <tr style=\"text-align: right;\">\n      <th></th>\n      <th>CallerNum</th>\n      <th>CityName</th>\n      <th>CountyName</th>\n      <th>PostalCode</th>\n      <th>screening_date</th>\n      <th>site</th>\n      <th>treatment_plan_complete</th>\n      <th>treatment_plan_developed</th>\n      <th>restored_to_function</th>\n    </tr>\n  </thead>\n  <tbody>\n    <tr>\n      <th>32923</th>\n      <td>2578404</td>\n      <td>Greeneville</td>\n      <td>Greene</td>\n      <td>37743.0</td>\n      <td>1/1/2019</td>\n      <td>Keystone Dental Care Inc. - Johnson City</td>\n      <td>No</td>\n      <td>Yes</td>\n      <td>No</td>\n    </tr>\n    <tr>\n      <th>26337</th>\n      <td>2581726</td>\n      <td>Antioch</td>\n      <td>Davidson</td>\n      <td>37013.0</td>\n      <td>1/10/2019</td>\n      <td>Matthew Walker Comprehensive Health Center Inc...</td>\n      <td>No</td>\n      <td>Yes</td>\n      <td>No</td>\n    </tr>\n    <tr>\n      <th>33623</th>\n      <td>2569064</td>\n      <td>Kingsport</td>\n      <td>Sullivan</td>\n      <td>37664.0</td>\n      <td>1/10/2019</td>\n      <td>Friends in Need Health Center - Kingsport</td>\n      <td>No</td>\n      <td>Yes</td>\n      <td>No</td>\n    </tr>\n    <tr>\n      <th>23863</th>\n      <td>2576785</td>\n      <td>Memphis</td>\n      <td>Shelby</td>\n      <td>38104.0</td>\n      <td>1/10/2019</td>\n      <td>Church Health Center - Memphis</td>\n      <td>No</td>\n      <td>Yes</td>\n      <td>No</td>\n    </tr>\n    <tr>\n      <th>3465</th>\n      <td>3118060</td>\n      <td>Cordova</td>\n      <td>Shelby</td>\n      <td>38016.0</td>\n      <td>1/10/2020</td>\n      <td>Christ Community Health Services- Broad Avenue</td>\n      <td>No</td>\n      <td>Yes</td>\n      <td>No</td>\n    </tr>\n    <tr>\n      <th>14996</th>\n      <td>3126326</td>\n      <td>Memphis</td>\n      <td>Shelby</td>\n      <td>38141.0</td>\n      <td>1/10/2020</td>\n      <td>Christ Community Health Services- Hickory Hill</td>\n      <td>No</td>\n      <td>Yes</td>\n      <td>No</td>\n    </tr>\n    <tr>\n      <th>14185</th>\n      <td>3112474</td>\n      <td>Cleveland</td>\n      <td>Bradley</td>\n      <td>37323.0</td>\n      <td>1/10/2020</td>\n      <td>Karis Dental Clinic - Cleveland</td>\n      <td>No</td>\n      <td>NaN</td>\n      <td>No</td>\n    </tr>\n    <tr>\n      <th>35067</th>\n      <td>2599600</td>\n      <td>Nolensville</td>\n      <td>Williamson</td>\n      <td>37135.0</td>\n      <td>1/11/2019</td>\n      <td>Matthew Walker Comprehensive Health Center Inc...</td>\n      <td>No</td>\n      <td>Yes</td>\n      <td>No</td>\n    </tr>\n    <tr>\n      <th>35088</th>\n      <td>2572761</td>\n      <td>Hermitage</td>\n      <td>Davidson</td>\n      <td>37076.0</td>\n      <td>1/11/2019</td>\n      <td>Matthew Walker Comprehensive Health Center Inc...</td>\n      <td>No</td>\n      <td>Yes</td>\n      <td>No</td>\n    </tr>\n    <tr>\n      <th>33064</th>\n      <td>2554846</td>\n      <td>Smyrna</td>\n      <td>Rutherford</td>\n      <td>37167.0</td>\n      <td>1/11/2019</td>\n      <td>Matthew Walker - Clarksville</td>\n      <td>No</td>\n      <td>Yes</td>\n      <td>No</td>\n    </tr>\n  </tbody>\n</table>\n</div>"
     },
     "metadata": {},
     "execution_count": 68
    }
   ],
   "source": [
    "smile_location_func_resto_no_sort_date.head(10)"
   ]
  },
  {
   "cell_type": "code",
   "execution_count": 69,
   "metadata": {},
   "outputs": [
    {
     "output_type": "execute_result",
     "data": {
      "text/plain": [
       "3501070    1\n",
       "2932099    1\n",
       "2897254    1\n",
       "3081570    1\n",
       "2837855    1\n",
       "          ..\n",
       "3733216    1\n",
       "3518074    1\n",
       "3308184    1\n",
       "2835095    1\n",
       "2625540    1\n",
       "Name: CallerNum, Length: 3095, dtype: int64"
      ]
     },
     "metadata": {},
     "execution_count": 69
    }
   ],
   "source": [
    "smile_location_func_resto_no_sort_date.CallerNum.value_counts()"
   ]
  },
  {
   "cell_type": "code",
   "execution_count": 70,
   "metadata": {},
   "outputs": [
    {
     "output_type": "execute_result",
     "data": {
      "text/plain": [
       "Matthew Walker Comprehensive Health Center Inc. - Nashville                             404\n",
       "Interfaith Dental Clinic - Nashville                                                    393\n",
       "Church Health Center - Memphis                                                          300\n",
       "Interfaith Dental Clinic - Murfreesboro                                                 279\n",
       "Interfaith Health Clinic of Knoxville - Knoxville                                       231\n",
       "Karis Dental Clinic - Cleveland                                                         202\n",
       "Christ Community Health Services- Hickory Hill                                          149\n",
       "Keystone Dental Care Inc. - Johnson City                                                117\n",
       "Christ Community Health Services- Broad Avenue                                          117\n",
       "Healing Hands Health Center - Bristol                                                   115\n",
       "Friends in Need Health Center - Kingsport                                               114\n",
       "Matthew Walker - Clarksville                                                            106\n",
       "Christ Community Health Services- Raleigh                                                66\n",
       "Christ Community Health Services- Third Street                                           64\n",
       "Northeast Tennessee Community Health Centers Inc. - Johnson City                         61\n",
       "Christ Community Health Services- Frayser                                                60\n",
       "Neighborhood Health - Cleveland Park/ Nashville                                          55\n",
       "Neighborhood Health - Eastside/Nashville                                                 47\n",
       "Neighborhood Health - Lebanon                                                            43\n",
       "Trinity Health Ministries                                                                39\n",
       "TDH - Lawrence Co                                                                        38\n",
       "Smiles Inc. - South Pittsburg - serving Marion Grundy Franklin and Hamilton Counties     35\n",
       "Neighborhood Health - Napier/Nashville                                                   25\n",
       "Meharry Mobile Dental Clinic                                                             12\n",
       "TDH - Maury Co                                                                            7\n",
       "Reelfoot Ministries - Obion                                                               5\n",
       "Mountain Hope Good Shepherd Clinic                                                        4\n",
       "Neighborhood Health - Mission/Nashville                                                   4\n",
       "Appalachian Miles for Smiles - Mobile                                                     3\n",
       "Name: site, dtype: int64"
      ]
     },
     "metadata": {},
     "execution_count": 70
    }
   ],
   "source": [
    "smile_location_func_resto_no_vc = smile_location_func_resto_no_sort_date.site.value_counts()\n",
    "smile_location_func_resto_no_vc"
   ]
  },
  {
   "cell_type": "code",
   "execution_count": 71,
   "metadata": {},
   "outputs": [
    {
     "output_type": "execute_result",
     "data": {
      "text/plain": [
       "Matthew Walker Comprehensive Health Center Inc. - Nashville    404\n",
       "Interfaith Dental Clinic - Nashville                           393\n",
       "Church Health Center - Memphis                                 300\n",
       "Interfaith Dental Clinic - Murfreesboro                        279\n",
       "Interfaith Health Clinic of Knoxville - Knoxville              231\n",
       "Name: site, dtype: int64"
      ]
     },
     "metadata": {},
     "execution_count": 71
    }
   ],
   "source": [
    "smile_location_func_resto_no_vc_top5 = smile_location_func_resto_no_vc.head()\n",
    "smile_location_func_resto_no_vc_top5"
   ]
  },
  {
   "cell_type": "code",
   "execution_count": null,
   "metadata": {},
   "outputs": [],
   "source": []
  }
 ],
 "metadata": {
  "kernelspec": {
   "display_name": "Python 3",
   "language": "python",
   "name": "python3"
  },
  "language_info": {
   "codemirror_mode": {
    "name": "ipython",
    "version": 3
   },
   "file_extension": ".py",
   "mimetype": "text/x-python",
   "name": "python",
   "nbconvert_exporter": "python",
   "pygments_lexer": "ipython3",
   "version": "3.8.3-final"
  }
 },
 "nbformat": 4,
 "nbformat_minor": 4
}