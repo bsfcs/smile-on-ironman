{
 "cells": [
  {
   "cell_type": "code",
   "execution_count": 1,
   "metadata": {},
   "outputs": [],
   "source": [
    "import pandas as pd\n",
    "import numpy as np"
   ]
  },
  {
   "cell_type": "code",
   "execution_count": 2,
   "metadata": {},
   "outputs": [],
   "source": [
    "smile = pd.read_csv(\"../data/SmileOn11282020.csv\", engine = 'python', skiprows = 2)"
   ]
  },
  {
   "cell_type": "code",
   "execution_count": 3,
   "metadata": {},
   "outputs": [
    {
     "output_type": "execute_result",
     "data": {
      "text/plain": [
       "   CallReportNum              ReportVersion  LinkedToCallReportNum  \\\n",
       "0       81381827  SMILE ON 60+ Registration                    NaN   \n",
       "1       81379177  SMILE ON 60+ Registration                    NaN   \n",
       "2       81377435      SMILE ON 60+ Clinical                    NaN   \n",
       "3       81375215      SMILE ON 60+ Clinical                    NaN   \n",
       "4       81373934      SMILE ON 60+ Clinical                    NaN   \n",
       "\n",
       "  CallDateAndTimeStart CallDateAndTimeEnd  CallLength  CallerNum  \\\n",
       "0     11/25/2020 16:46   11/25/2020 16:48           2    3859874   \n",
       "1     11/25/2020 15:40   11/25/2020 15:55          15    3859755   \n",
       "2     11/25/2020 15:02   11/25/2020 15:02           0    2518680   \n",
       "3     11/25/2020 14:17   11/25/2020 14:17           0    3231923   \n",
       "4     11/25/2020 13:50   11/25/2020 13:58           8         -1   \n",
       "\n",
       "   PhoneWorkerNum  WasRealCall  WasHangup  ...  \\\n",
       "0          136529          NaN        NaN  ...   \n",
       "1           82341          NaN        NaN  ...   \n",
       "2          119506          NaN        NaN  ...   \n",
       "3          143703          NaN        NaN  ...   \n",
       "4          135611          NaN        NaN  ...   \n",
       "\n",
       "         SMILE ON 60+ Screening - Treatment Urgency  \\\n",
       "0                                               NaN   \n",
       "1                                               NaN   \n",
       "2                                               NaN   \n",
       "3                                               NaN   \n",
       "4  Urgent Care - within next week-pain or infection   \n",
       "\n",
       "   SMILE ON 60+ Screening - Untreated Decay  \\\n",
       "0                                       NaN   \n",
       "1                                       NaN   \n",
       "2                                       NaN   \n",
       "3                                       NaN   \n",
       "4                                       Yes   \n",
       "\n",
       "         SMILE ON 60+ Site Information - Enroller ID  \\\n",
       "0  Matthew Walker Comprehensive Health Center Inc...   \n",
       "1                                                NaN   \n",
       "2          Friends in Need Health Center - Kingsport   \n",
       "3          Christ Community Health Services- Frayser   \n",
       "4                      Neighborhood Health - Lebanon   \n",
       "\n",
       "   SMILE ON 60+ Site Information - Enroller Location  \\\n",
       "0                                      Provider Site   \n",
       "1                               Health Assist Office   \n",
       "2                                      Provider Site   \n",
       "3                                      Provider Site   \n",
       "4                                                NaN   \n",
       "\n",
       "   SMILE ON 60+ Treatment Plan - Action: Upload After Picture on Finish Tab  \\\n",
       "0                                                NaN                          \n",
       "1                                                NaN                          \n",
       "2                                                NaN                          \n",
       "3                                                NaN                          \n",
       "4                                                NaN                          \n",
       "\n",
       "   SMILE ON 60+ Treatment Plan - Is the treatment plan completed?  \\\n",
       "0                                                NaN                \n",
       "1                                                NaN                \n",
       "2                                                Yes                \n",
       "3                                                NaN                \n",
       "4                                                NaN                \n",
       "\n",
       "  SMILE ON 60+ Treatment Plan - Was a treatment plan developed?  \\\n",
       "0                                                NaN              \n",
       "1                                                NaN              \n",
       "2                                                Yes              \n",
       "3                                                NaN              \n",
       "4                                                Yes              \n",
       "\n",
       "  SMILE ON 60+ Treatment Plan - Was the enrollee able to be restored to function (can chew) and \"social six\" esthetics (top front six teeth are present and disease free)  \\\n",
       "0                                                NaN                                                                                                                        \n",
       "1                                                NaN                                                                                                                        \n",
       "2                                                Yes                                                                                                                        \n",
       "3                                                NaN                                                                                                                        \n",
       "4                                                 No                                                                                                                        \n",
       "\n",
       "  SMILE ON 60+ Verification of Eligibility - Transportation Arranged  \\\n",
       "0                                                NaN                   \n",
       "1                                                NaN                   \n",
       "2                                                NaN                   \n",
       "3                                                NaN                   \n",
       "4                                                NaN                   \n",
       "\n",
       "  SMILE ON 60+ Verification of Eligibility - Verification of Eligibility  \n",
       "0                                                NaN                      \n",
       "1                                                NaN                      \n",
       "2                                                NaN                      \n",
       "3                                                NaN                      \n",
       "4                                                Yes                      \n",
       "\n",
       "[5 rows x 184 columns]"
      ],
      "text/html": "<div>\n<style scoped>\n    .dataframe tbody tr th:only-of-type {\n        vertical-align: middle;\n    }\n\n    .dataframe tbody tr th {\n        vertical-align: top;\n    }\n\n    .dataframe thead th {\n        text-align: right;\n    }\n</style>\n<table border=\"1\" class=\"dataframe\">\n  <thead>\n    <tr style=\"text-align: right;\">\n      <th></th>\n      <th>CallReportNum</th>\n      <th>ReportVersion</th>\n      <th>LinkedToCallReportNum</th>\n      <th>CallDateAndTimeStart</th>\n      <th>CallDateAndTimeEnd</th>\n      <th>CallLength</th>\n      <th>CallerNum</th>\n      <th>PhoneWorkerNum</th>\n      <th>WasRealCall</th>\n      <th>WasHangup</th>\n      <th>...</th>\n      <th>SMILE ON 60+ Screening - Treatment Urgency</th>\n      <th>SMILE ON 60+ Screening - Untreated Decay</th>\n      <th>SMILE ON 60+ Site Information - Enroller ID</th>\n      <th>SMILE ON 60+ Site Information - Enroller Location</th>\n      <th>SMILE ON 60+ Treatment Plan - Action: Upload After Picture on Finish Tab</th>\n      <th>SMILE ON 60+ Treatment Plan - Is the treatment plan completed?</th>\n      <th>SMILE ON 60+ Treatment Plan - Was a treatment plan developed?</th>\n      <th>SMILE ON 60+ Treatment Plan - Was the enrollee able to be restored to function (can chew) and \"social six\" esthetics (top front six teeth are present and disease free)</th>\n      <th>SMILE ON 60+ Verification of Eligibility - Transportation Arranged</th>\n      <th>SMILE ON 60+ Verification of Eligibility - Verification of Eligibility</th>\n    </tr>\n  </thead>\n  <tbody>\n    <tr>\n      <th>0</th>\n      <td>81381827</td>\n      <td>SMILE ON 60+ Registration</td>\n      <td>NaN</td>\n      <td>11/25/2020 16:46</td>\n      <td>11/25/2020 16:48</td>\n      <td>2</td>\n      <td>3859874</td>\n      <td>136529</td>\n      <td>NaN</td>\n      <td>NaN</td>\n      <td>...</td>\n      <td>NaN</td>\n      <td>NaN</td>\n      <td>Matthew Walker Comprehensive Health Center Inc...</td>\n      <td>Provider Site</td>\n      <td>NaN</td>\n      <td>NaN</td>\n      <td>NaN</td>\n      <td>NaN</td>\n      <td>NaN</td>\n      <td>NaN</td>\n    </tr>\n    <tr>\n      <th>1</th>\n      <td>81379177</td>\n      <td>SMILE ON 60+ Registration</td>\n      <td>NaN</td>\n      <td>11/25/2020 15:40</td>\n      <td>11/25/2020 15:55</td>\n      <td>15</td>\n      <td>3859755</td>\n      <td>82341</td>\n      <td>NaN</td>\n      <td>NaN</td>\n      <td>...</td>\n      <td>NaN</td>\n      <td>NaN</td>\n      <td>NaN</td>\n      <td>Health Assist Office</td>\n      <td>NaN</td>\n      <td>NaN</td>\n      <td>NaN</td>\n      <td>NaN</td>\n      <td>NaN</td>\n      <td>NaN</td>\n    </tr>\n    <tr>\n      <th>2</th>\n      <td>81377435</td>\n      <td>SMILE ON 60+ Clinical</td>\n      <td>NaN</td>\n      <td>11/25/2020 15:02</td>\n      <td>11/25/2020 15:02</td>\n      <td>0</td>\n      <td>2518680</td>\n      <td>119506</td>\n      <td>NaN</td>\n      <td>NaN</td>\n      <td>...</td>\n      <td>NaN</td>\n      <td>NaN</td>\n      <td>Friends in Need Health Center - Kingsport</td>\n      <td>Provider Site</td>\n      <td>NaN</td>\n      <td>Yes</td>\n      <td>Yes</td>\n      <td>Yes</td>\n      <td>NaN</td>\n      <td>NaN</td>\n    </tr>\n    <tr>\n      <th>3</th>\n      <td>81375215</td>\n      <td>SMILE ON 60+ Clinical</td>\n      <td>NaN</td>\n      <td>11/25/2020 14:17</td>\n      <td>11/25/2020 14:17</td>\n      <td>0</td>\n      <td>3231923</td>\n      <td>143703</td>\n      <td>NaN</td>\n      <td>NaN</td>\n      <td>...</td>\n      <td>NaN</td>\n      <td>NaN</td>\n      <td>Christ Community Health Services- Frayser</td>\n      <td>Provider Site</td>\n      <td>NaN</td>\n      <td>NaN</td>\n      <td>NaN</td>\n      <td>NaN</td>\n      <td>NaN</td>\n      <td>NaN</td>\n    </tr>\n    <tr>\n      <th>4</th>\n      <td>81373934</td>\n      <td>SMILE ON 60+ Clinical</td>\n      <td>NaN</td>\n      <td>11/25/2020 13:50</td>\n      <td>11/25/2020 13:58</td>\n      <td>8</td>\n      <td>-1</td>\n      <td>135611</td>\n      <td>NaN</td>\n      <td>NaN</td>\n      <td>...</td>\n      <td>Urgent Care - within next week-pain or infection</td>\n      <td>Yes</td>\n      <td>Neighborhood Health - Lebanon</td>\n      <td>NaN</td>\n      <td>NaN</td>\n      <td>NaN</td>\n      <td>Yes</td>\n      <td>No</td>\n      <td>NaN</td>\n      <td>Yes</td>\n    </tr>\n  </tbody>\n</table>\n<p>5 rows × 184 columns</p>\n</div>"
     },
     "metadata": {},
     "execution_count": 3
    }
   ],
   "source": [
    "smile.head()"
   ]
  },
  {
   "cell_type": "code",
   "execution_count": 4,
   "metadata": {},
   "outputs": [
    {
     "output_type": "execute_result",
     "data": {
      "text/plain": [
       "(40032, 184)"
      ]
     },
     "metadata": {},
     "execution_count": 4
    }
   ],
   "source": [
    "smile.shape"
   ]
  },
  {
   "cell_type": "code",
   "execution_count": 5,
   "metadata": {},
   "outputs": [
    {
     "output_type": "stream",
     "name": "stdout",
     "text": [
      "<class 'pandas.core.frame.DataFrame'>\nRangeIndex: 40032 entries, 0 to 40031\nColumns: 184 entries, CallReportNum to SMILE ON 60+ Verification of Eligibility - Verification of Eligibility\ndtypes: float64(103), int64(6), object(75)\nmemory usage: 56.2+ MB\n"
     ]
    }
   ],
   "source": [
    " smile.info()"
   ]
  },
  {
   "cell_type": "code",
   "execution_count": 6,
   "metadata": {},
   "outputs": [
    {
     "output_type": "execute_result",
     "data": {
      "text/plain": [
       "       CallReportNum              ReportVersion  LinkedToCallReportNum  \\\n",
       "40027       53192452  SMILE ON 60+ Registration                    NaN   \n",
       "40028       67915561  SMILE ON 60+ Registration                    NaN   \n",
       "40029       67251405      SMILE ON 60+ Clinical                    NaN   \n",
       "40030       63063150      SMILE ON 60+ Clinical                    NaN   \n",
       "40031       70839903      SMILE ON 60+ Clinical                    NaN   \n",
       "\n",
       "      CallDateAndTimeStart CallDateAndTimeEnd  CallLength  CallerNum  \\\n",
       "40027      5/23/2018 14:11    5/23/2018 14:11           0         -1   \n",
       "40028       5/15/2018 9:06     5/15/2018 9:10           4    3239813   \n",
       "40029       5/10/2018 8:25     5/10/2018 8:26           1    2631417   \n",
       "40030        5/1/2018 8:14      5/1/2018 8:24          10         -1   \n",
       "40031       2/14/2018 8:10     2/14/2018 8:18           8         -1   \n",
       "\n",
       "       PhoneWorkerNum  WasRealCall  WasHangup  ...  \\\n",
       "40027           60132          NaN        NaN  ...   \n",
       "40028          128174          NaN        NaN  ...   \n",
       "40029          131347          NaN        NaN  ...   \n",
       "40030          116749          NaN        NaN  ...   \n",
       "40031          116749          NaN        NaN  ...   \n",
       "\n",
       "       SMILE ON 60+ Screening - Treatment Urgency  \\\n",
       "40027                                         NaN   \n",
       "40028                                         NaN   \n",
       "40029                                         NaN   \n",
       "40030                                         NaN   \n",
       "40031                                         NaN   \n",
       "\n",
       "       SMILE ON 60+ Screening - Untreated Decay  \\\n",
       "40027                                       NaN   \n",
       "40028                                       NaN   \n",
       "40029                                       NaN   \n",
       "40030                                       NaN   \n",
       "40031                                       NaN   \n",
       "\n",
       "       SMILE ON 60+ Site Information - Enroller ID  \\\n",
       "40027                                          NaN   \n",
       "40028               Church Health Center - Memphis   \n",
       "40029    Friends in Need Health Center - Kingsport   \n",
       "40030         Interfaith Dental Clinic - Nashville   \n",
       "40031         Interfaith Dental Clinic - Nashville   \n",
       "\n",
       "       SMILE ON 60+ Site Information - Enroller Location  \\\n",
       "40027                                                NaN   \n",
       "40028                                      Provider Site   \n",
       "40029                                      Provider Site   \n",
       "40030                                                NaN   \n",
       "40031                                                NaN   \n",
       "\n",
       "       SMILE ON 60+ Treatment Plan - Action: Upload After Picture on Finish Tab  \\\n",
       "40027                                                NaN                          \n",
       "40028                                                NaN                          \n",
       "40029                                      Not available                          \n",
       "40030                                                NaN                          \n",
       "40031                                                NaN                          \n",
       "\n",
       "       SMILE ON 60+ Treatment Plan - Is the treatment plan completed?  \\\n",
       "40027                                                NaN                \n",
       "40028                                                NaN                \n",
       "40029                                                 No                \n",
       "40030                                                NaN                \n",
       "40031                                                NaN                \n",
       "\n",
       "      SMILE ON 60+ Treatment Plan - Was a treatment plan developed?  \\\n",
       "40027                                                NaN              \n",
       "40028                                                NaN              \n",
       "40029                                                Yes              \n",
       "40030                                                NaN              \n",
       "40031                                                NaN              \n",
       "\n",
       "      SMILE ON 60+ Treatment Plan - Was the enrollee able to be restored to function (can chew) and \"social six\" esthetics (top front six teeth are present and disease free)  \\\n",
       "40027                                                NaN                                                                                                                        \n",
       "40028                                                NaN                                                                                                                        \n",
       "40029                                                Yes                                                                                                                        \n",
       "40030                                                NaN                                                                                                                        \n",
       "40031                                                NaN                                                                                                                        \n",
       "\n",
       "      SMILE ON 60+ Verification of Eligibility - Transportation Arranged  \\\n",
       "40027                                                NaN                   \n",
       "40028                                                NaN                   \n",
       "40029                                                NaN                   \n",
       "40030                                                NaN                   \n",
       "40031                                                NaN                   \n",
       "\n",
       "      SMILE ON 60+ Verification of Eligibility - Verification of Eligibility  \n",
       "40027                                                NaN                      \n",
       "40028                                                NaN                      \n",
       "40029                                                NaN                      \n",
       "40030                                                NaN                      \n",
       "40031                                                NaN                      \n",
       "\n",
       "[5 rows x 184 columns]"
      ],
      "text/html": "<div>\n<style scoped>\n    .dataframe tbody tr th:only-of-type {\n        vertical-align: middle;\n    }\n\n    .dataframe tbody tr th {\n        vertical-align: top;\n    }\n\n    .dataframe thead th {\n        text-align: right;\n    }\n</style>\n<table border=\"1\" class=\"dataframe\">\n  <thead>\n    <tr style=\"text-align: right;\">\n      <th></th>\n      <th>CallReportNum</th>\n      <th>ReportVersion</th>\n      <th>LinkedToCallReportNum</th>\n      <th>CallDateAndTimeStart</th>\n      <th>CallDateAndTimeEnd</th>\n      <th>CallLength</th>\n      <th>CallerNum</th>\n      <th>PhoneWorkerNum</th>\n      <th>WasRealCall</th>\n      <th>WasHangup</th>\n      <th>...</th>\n      <th>SMILE ON 60+ Screening - Treatment Urgency</th>\n      <th>SMILE ON 60+ Screening - Untreated Decay</th>\n      <th>SMILE ON 60+ Site Information - Enroller ID</th>\n      <th>SMILE ON 60+ Site Information - Enroller Location</th>\n      <th>SMILE ON 60+ Treatment Plan - Action: Upload After Picture on Finish Tab</th>\n      <th>SMILE ON 60+ Treatment Plan - Is the treatment plan completed?</th>\n      <th>SMILE ON 60+ Treatment Plan - Was a treatment plan developed?</th>\n      <th>SMILE ON 60+ Treatment Plan - Was the enrollee able to be restored to function (can chew) and \"social six\" esthetics (top front six teeth are present and disease free)</th>\n      <th>SMILE ON 60+ Verification of Eligibility - Transportation Arranged</th>\n      <th>SMILE ON 60+ Verification of Eligibility - Verification of Eligibility</th>\n    </tr>\n  </thead>\n  <tbody>\n    <tr>\n      <th>40027</th>\n      <td>53192452</td>\n      <td>SMILE ON 60+ Registration</td>\n      <td>NaN</td>\n      <td>5/23/2018 14:11</td>\n      <td>5/23/2018 14:11</td>\n      <td>0</td>\n      <td>-1</td>\n      <td>60132</td>\n      <td>NaN</td>\n      <td>NaN</td>\n      <td>...</td>\n      <td>NaN</td>\n      <td>NaN</td>\n      <td>NaN</td>\n      <td>NaN</td>\n      <td>NaN</td>\n      <td>NaN</td>\n      <td>NaN</td>\n      <td>NaN</td>\n      <td>NaN</td>\n      <td>NaN</td>\n    </tr>\n    <tr>\n      <th>40028</th>\n      <td>67915561</td>\n      <td>SMILE ON 60+ Registration</td>\n      <td>NaN</td>\n      <td>5/15/2018 9:06</td>\n      <td>5/15/2018 9:10</td>\n      <td>4</td>\n      <td>3239813</td>\n      <td>128174</td>\n      <td>NaN</td>\n      <td>NaN</td>\n      <td>...</td>\n      <td>NaN</td>\n      <td>NaN</td>\n      <td>Church Health Center - Memphis</td>\n      <td>Provider Site</td>\n      <td>NaN</td>\n      <td>NaN</td>\n      <td>NaN</td>\n      <td>NaN</td>\n      <td>NaN</td>\n      <td>NaN</td>\n    </tr>\n    <tr>\n      <th>40029</th>\n      <td>67251405</td>\n      <td>SMILE ON 60+ Clinical</td>\n      <td>NaN</td>\n      <td>5/10/2018 8:25</td>\n      <td>5/10/2018 8:26</td>\n      <td>1</td>\n      <td>2631417</td>\n      <td>131347</td>\n      <td>NaN</td>\n      <td>NaN</td>\n      <td>...</td>\n      <td>NaN</td>\n      <td>NaN</td>\n      <td>Friends in Need Health Center - Kingsport</td>\n      <td>Provider Site</td>\n      <td>Not available</td>\n      <td>No</td>\n      <td>Yes</td>\n      <td>Yes</td>\n      <td>NaN</td>\n      <td>NaN</td>\n    </tr>\n    <tr>\n      <th>40030</th>\n      <td>63063150</td>\n      <td>SMILE ON 60+ Clinical</td>\n      <td>NaN</td>\n      <td>5/1/2018 8:14</td>\n      <td>5/1/2018 8:24</td>\n      <td>10</td>\n      <td>-1</td>\n      <td>116749</td>\n      <td>NaN</td>\n      <td>NaN</td>\n      <td>...</td>\n      <td>NaN</td>\n      <td>NaN</td>\n      <td>Interfaith Dental Clinic - Nashville</td>\n      <td>NaN</td>\n      <td>NaN</td>\n      <td>NaN</td>\n      <td>NaN</td>\n      <td>NaN</td>\n      <td>NaN</td>\n      <td>NaN</td>\n    </tr>\n    <tr>\n      <th>40031</th>\n      <td>70839903</td>\n      <td>SMILE ON 60+ Clinical</td>\n      <td>NaN</td>\n      <td>2/14/2018 8:10</td>\n      <td>2/14/2018 8:18</td>\n      <td>8</td>\n      <td>-1</td>\n      <td>116749</td>\n      <td>NaN</td>\n      <td>NaN</td>\n      <td>...</td>\n      <td>NaN</td>\n      <td>NaN</td>\n      <td>Interfaith Dental Clinic - Nashville</td>\n      <td>NaN</td>\n      <td>NaN</td>\n      <td>NaN</td>\n      <td>NaN</td>\n      <td>NaN</td>\n      <td>NaN</td>\n      <td>NaN</td>\n    </tr>\n  </tbody>\n</table>\n<p>5 rows × 184 columns</p>\n</div>"
     },
     "metadata": {},
     "execution_count": 6
    }
   ],
   "source": [
    "smile.tail()"
   ]
  },
  {
   "source": [
    "## Removal Of Unused Columns "
   ],
   "cell_type": "markdown",
   "metadata": {}
  },
  {
   "cell_type": "code",
   "execution_count": 7,
   "metadata": {},
   "outputs": [],
   "source": [
    "smile_v1 = smile.drop(columns = ['WasRealCall', 'WasHangup', 'WasSexCall','WasWrongNumber', 'WasPrankCall','WasSilentCall','GeoCode','GeoAssignment','CensusDivision','CensusTrack','CensusReportingArea','211Region','PhoneType','ThirdPartyName','ThirdPartyOrganization','ThirdPartyPhoneNumber','ThirdPartyAddress','ThirdPartyCity','ThirdPartyCounty','ThirdPartyStateProvince','ThirdPartyPostalCode','VolunteerComments','CallersFeedback','TextField2','TextField3','TextField4','TextField5','TextField6','TextField7','TextField8','TextField9','TextField10','Supervisor','IPAddress','OrgNum','VolIdentifier','LinkedToCallReportNum'])"
   ]
  },
  {
   "cell_type": "code",
   "execution_count": 8,
   "metadata": {},
   "outputs": [
    {
     "output_type": "execute_result",
     "data": {
      "text/plain": [
       "(40032, 147)"
      ]
     },
     "metadata": {},
     "execution_count": 8
    }
   ],
   "source": [
    "smile_v1.shape"
   ]
  },
  {
   "cell_type": "code",
   "execution_count": 9,
   "metadata": {},
   "outputs": [
    {
     "output_type": "execute_result",
     "data": {
      "text/plain": [
       "   CallReportNum              ReportVersion CallDateAndTimeStart  \\\n",
       "0       81381827  SMILE ON 60+ Registration     11/25/2020 16:46   \n",
       "1       81379177  SMILE ON 60+ Registration     11/25/2020 15:40   \n",
       "2       81377435      SMILE ON 60+ Clinical     11/25/2020 15:02   \n",
       "3       81375215      SMILE ON 60+ Clinical     11/25/2020 14:17   \n",
       "4       81373934      SMILE ON 60+ Clinical     11/25/2020 13:50   \n",
       "\n",
       "  CallDateAndTimeEnd  CallLength  CallerNum  PhoneWorkerNum     CityName  \\\n",
       "0   11/25/2020 16:48           2    3859874          136529  Springfield   \n",
       "1   11/25/2020 15:55          15    3859755           82341    Nashville   \n",
       "2   11/25/2020 15:02           0    2518680          119506  Rogersville   \n",
       "3   11/25/2020 14:17           0    3231923          143703      Memphis   \n",
       "4   11/25/2020 13:58           8         -1          135611          NaN   \n",
       "\n",
       "  CountyName StateProvince  ...  \\\n",
       "0  Robertson            TN  ...   \n",
       "1   Davidson            TN  ...   \n",
       "2    Hawkins            TN  ...   \n",
       "3     Shelby            TN  ...   \n",
       "4        NaN            TN  ...   \n",
       "\n",
       "         SMILE ON 60+ Screening - Treatment Urgency  \\\n",
       "0                                               NaN   \n",
       "1                                               NaN   \n",
       "2                                               NaN   \n",
       "3                                               NaN   \n",
       "4  Urgent Care - within next week-pain or infection   \n",
       "\n",
       "   SMILE ON 60+ Screening - Untreated Decay  \\\n",
       "0                                       NaN   \n",
       "1                                       NaN   \n",
       "2                                       NaN   \n",
       "3                                       NaN   \n",
       "4                                       Yes   \n",
       "\n",
       "         SMILE ON 60+ Site Information - Enroller ID  \\\n",
       "0  Matthew Walker Comprehensive Health Center Inc...   \n",
       "1                                                NaN   \n",
       "2          Friends in Need Health Center - Kingsport   \n",
       "3          Christ Community Health Services- Frayser   \n",
       "4                      Neighborhood Health - Lebanon   \n",
       "\n",
       "  SMILE ON 60+ Site Information - Enroller Location  \\\n",
       "0                                     Provider Site   \n",
       "1                              Health Assist Office   \n",
       "2                                     Provider Site   \n",
       "3                                     Provider Site   \n",
       "4                                               NaN   \n",
       "\n",
       "   SMILE ON 60+ Treatment Plan - Action: Upload After Picture on Finish Tab  \\\n",
       "0                                                NaN                          \n",
       "1                                                NaN                          \n",
       "2                                                NaN                          \n",
       "3                                                NaN                          \n",
       "4                                                NaN                          \n",
       "\n",
       "  SMILE ON 60+ Treatment Plan - Is the treatment plan completed?  \\\n",
       "0                                                NaN               \n",
       "1                                                NaN               \n",
       "2                                                Yes               \n",
       "3                                                NaN               \n",
       "4                                                NaN               \n",
       "\n",
       "  SMILE ON 60+ Treatment Plan - Was a treatment plan developed?  \\\n",
       "0                                                NaN              \n",
       "1                                                NaN              \n",
       "2                                                Yes              \n",
       "3                                                NaN              \n",
       "4                                                Yes              \n",
       "\n",
       "  SMILE ON 60+ Treatment Plan - Was the enrollee able to be restored to function (can chew) and \"social six\" esthetics (top front six teeth are present and disease free)  \\\n",
       "0                                                NaN                                                                                                                        \n",
       "1                                                NaN                                                                                                                        \n",
       "2                                                Yes                                                                                                                        \n",
       "3                                                NaN                                                                                                                        \n",
       "4                                                 No                                                                                                                        \n",
       "\n",
       "   SMILE ON 60+ Verification of Eligibility - Transportation Arranged  \\\n",
       "0                                                NaN                    \n",
       "1                                                NaN                    \n",
       "2                                                NaN                    \n",
       "3                                                NaN                    \n",
       "4                                                NaN                    \n",
       "\n",
       "  SMILE ON 60+ Verification of Eligibility - Verification of Eligibility  \n",
       "0                                                NaN                      \n",
       "1                                                NaN                      \n",
       "2                                                NaN                      \n",
       "3                                                NaN                      \n",
       "4                                                Yes                      \n",
       "\n",
       "[5 rows x 147 columns]"
      ],
      "text/html": "<div>\n<style scoped>\n    .dataframe tbody tr th:only-of-type {\n        vertical-align: middle;\n    }\n\n    .dataframe tbody tr th {\n        vertical-align: top;\n    }\n\n    .dataframe thead th {\n        text-align: right;\n    }\n</style>\n<table border=\"1\" class=\"dataframe\">\n  <thead>\n    <tr style=\"text-align: right;\">\n      <th></th>\n      <th>CallReportNum</th>\n      <th>ReportVersion</th>\n      <th>CallDateAndTimeStart</th>\n      <th>CallDateAndTimeEnd</th>\n      <th>CallLength</th>\n      <th>CallerNum</th>\n      <th>PhoneWorkerNum</th>\n      <th>CityName</th>\n      <th>CountyName</th>\n      <th>StateProvince</th>\n      <th>...</th>\n      <th>SMILE ON 60+ Screening - Treatment Urgency</th>\n      <th>SMILE ON 60+ Screening - Untreated Decay</th>\n      <th>SMILE ON 60+ Site Information - Enroller ID</th>\n      <th>SMILE ON 60+ Site Information - Enroller Location</th>\n      <th>SMILE ON 60+ Treatment Plan - Action: Upload After Picture on Finish Tab</th>\n      <th>SMILE ON 60+ Treatment Plan - Is the treatment plan completed?</th>\n      <th>SMILE ON 60+ Treatment Plan - Was a treatment plan developed?</th>\n      <th>SMILE ON 60+ Treatment Plan - Was the enrollee able to be restored to function (can chew) and \"social six\" esthetics (top front six teeth are present and disease free)</th>\n      <th>SMILE ON 60+ Verification of Eligibility - Transportation Arranged</th>\n      <th>SMILE ON 60+ Verification of Eligibility - Verification of Eligibility</th>\n    </tr>\n  </thead>\n  <tbody>\n    <tr>\n      <th>0</th>\n      <td>81381827</td>\n      <td>SMILE ON 60+ Registration</td>\n      <td>11/25/2020 16:46</td>\n      <td>11/25/2020 16:48</td>\n      <td>2</td>\n      <td>3859874</td>\n      <td>136529</td>\n      <td>Springfield</td>\n      <td>Robertson</td>\n      <td>TN</td>\n      <td>...</td>\n      <td>NaN</td>\n      <td>NaN</td>\n      <td>Matthew Walker Comprehensive Health Center Inc...</td>\n      <td>Provider Site</td>\n      <td>NaN</td>\n      <td>NaN</td>\n      <td>NaN</td>\n      <td>NaN</td>\n      <td>NaN</td>\n      <td>NaN</td>\n    </tr>\n    <tr>\n      <th>1</th>\n      <td>81379177</td>\n      <td>SMILE ON 60+ Registration</td>\n      <td>11/25/2020 15:40</td>\n      <td>11/25/2020 15:55</td>\n      <td>15</td>\n      <td>3859755</td>\n      <td>82341</td>\n      <td>Nashville</td>\n      <td>Davidson</td>\n      <td>TN</td>\n      <td>...</td>\n      <td>NaN</td>\n      <td>NaN</td>\n      <td>NaN</td>\n      <td>Health Assist Office</td>\n      <td>NaN</td>\n      <td>NaN</td>\n      <td>NaN</td>\n      <td>NaN</td>\n      <td>NaN</td>\n      <td>NaN</td>\n    </tr>\n    <tr>\n      <th>2</th>\n      <td>81377435</td>\n      <td>SMILE ON 60+ Clinical</td>\n      <td>11/25/2020 15:02</td>\n      <td>11/25/2020 15:02</td>\n      <td>0</td>\n      <td>2518680</td>\n      <td>119506</td>\n      <td>Rogersville</td>\n      <td>Hawkins</td>\n      <td>TN</td>\n      <td>...</td>\n      <td>NaN</td>\n      <td>NaN</td>\n      <td>Friends in Need Health Center - Kingsport</td>\n      <td>Provider Site</td>\n      <td>NaN</td>\n      <td>Yes</td>\n      <td>Yes</td>\n      <td>Yes</td>\n      <td>NaN</td>\n      <td>NaN</td>\n    </tr>\n    <tr>\n      <th>3</th>\n      <td>81375215</td>\n      <td>SMILE ON 60+ Clinical</td>\n      <td>11/25/2020 14:17</td>\n      <td>11/25/2020 14:17</td>\n      <td>0</td>\n      <td>3231923</td>\n      <td>143703</td>\n      <td>Memphis</td>\n      <td>Shelby</td>\n      <td>TN</td>\n      <td>...</td>\n      <td>NaN</td>\n      <td>NaN</td>\n      <td>Christ Community Health Services- Frayser</td>\n      <td>Provider Site</td>\n      <td>NaN</td>\n      <td>NaN</td>\n      <td>NaN</td>\n      <td>NaN</td>\n      <td>NaN</td>\n      <td>NaN</td>\n    </tr>\n    <tr>\n      <th>4</th>\n      <td>81373934</td>\n      <td>SMILE ON 60+ Clinical</td>\n      <td>11/25/2020 13:50</td>\n      <td>11/25/2020 13:58</td>\n      <td>8</td>\n      <td>-1</td>\n      <td>135611</td>\n      <td>NaN</td>\n      <td>NaN</td>\n      <td>TN</td>\n      <td>...</td>\n      <td>Urgent Care - within next week-pain or infection</td>\n      <td>Yes</td>\n      <td>Neighborhood Health - Lebanon</td>\n      <td>NaN</td>\n      <td>NaN</td>\n      <td>NaN</td>\n      <td>Yes</td>\n      <td>No</td>\n      <td>NaN</td>\n      <td>Yes</td>\n    </tr>\n  </tbody>\n</table>\n<p>5 rows × 147 columns</p>\n</div>"
     },
     "metadata": {},
     "execution_count": 9
    }
   ],
   "source": [
    "smile_v1.head()"
   ]
  },
  {
   "source": [
    "### Removal of all columns other than \"Yellow\" in Data Dictionary"
   ],
   "cell_type": "markdown",
   "metadata": {}
  },
  {
   "cell_type": "code",
   "execution_count": 10,
   "metadata": {},
   "outputs": [],
   "source": [
    "smile_onlyyellow = smile[['CallReportNum','CallerNum','SMILE ON 60+ Screening - Last Screening Date','SMILE ON 60+ Oral Care Encounter - What care was provided to the enrollee? (Select all that apply)','SMILE ON 60+ Site Information - Enroller ID','SMILE ON 60+ Treatment Plan - Is the treatment plan completed?','SMILE ON 60+ Treatment Plan - Was a treatment plan developed?','SMILE ON 60+ Treatment Plan - Was the enrollee able to be restored to function (can chew) and \"social six\" esthetics (top front six teeth are present and disease free)']]"
   ]
  },
  {
   "cell_type": "code",
   "execution_count": 11,
   "metadata": {},
   "outputs": [
    {
     "output_type": "execute_result",
     "data": {
      "text/plain": [
       "       CallReportNum  CallerNum SMILE ON 60+ Screening - Last Screening Date  \\\n",
       "0           81381827    3859874                                          NaN   \n",
       "1           81379177    3859755                                          NaN   \n",
       "2           81377435    2518680                                          NaN   \n",
       "3           81375215    3231923                                          NaN   \n",
       "4           81373934         -1                                   11/25/2020   \n",
       "...              ...        ...                                          ...   \n",
       "40027       53192452         -1                                          NaN   \n",
       "40028       67915561    3239813                                          NaN   \n",
       "40029       67251405    2631417                                   11/29/2018   \n",
       "40030       63063150         -1                                          NaN   \n",
       "40031       70839903         -1                                          NaN   \n",
       "\n",
       "      SMILE ON 60+ Oral Care Encounter - What care was provided to the enrollee? (Select all that apply)  \\\n",
       "0                                                    NaN                                                   \n",
       "1                                                    NaN                                                   \n",
       "2      5650 - Add tooth to existing partial denture - 30                                                   \n",
       "3      No Code - Denture step Mandibular: may be used...                                                   \n",
       "4                                                    NaN                                                   \n",
       "...                                                  ...                                                   \n",
       "40027                                                NaN                                                   \n",
       "40028                                                NaN                                                   \n",
       "40029                                                NaN                                                   \n",
       "40030                              Case Management - $50                                                   \n",
       "40031  D5284 - Removable unilateral partial denture/o...                                                   \n",
       "\n",
       "             SMILE ON 60+ Site Information - Enroller ID  \\\n",
       "0      Matthew Walker Comprehensive Health Center Inc...   \n",
       "1                                                    NaN   \n",
       "2              Friends in Need Health Center - Kingsport   \n",
       "3              Christ Community Health Services- Frayser   \n",
       "4                          Neighborhood Health - Lebanon   \n",
       "...                                                  ...   \n",
       "40027                                                NaN   \n",
       "40028                     Church Health Center - Memphis   \n",
       "40029          Friends in Need Health Center - Kingsport   \n",
       "40030               Interfaith Dental Clinic - Nashville   \n",
       "40031               Interfaith Dental Clinic - Nashville   \n",
       "\n",
       "      SMILE ON 60+ Treatment Plan - Is the treatment plan completed?  \\\n",
       "0                                                    NaN               \n",
       "1                                                    NaN               \n",
       "2                                                    Yes               \n",
       "3                                                    NaN               \n",
       "4                                                    NaN               \n",
       "...                                                  ...               \n",
       "40027                                                NaN               \n",
       "40028                                                NaN               \n",
       "40029                                                 No               \n",
       "40030                                                NaN               \n",
       "40031                                                NaN               \n",
       "\n",
       "      SMILE ON 60+ Treatment Plan - Was a treatment plan developed?  \\\n",
       "0                                                    NaN              \n",
       "1                                                    NaN              \n",
       "2                                                    Yes              \n",
       "3                                                    NaN              \n",
       "4                                                    Yes              \n",
       "...                                                  ...              \n",
       "40027                                                NaN              \n",
       "40028                                                NaN              \n",
       "40029                                                Yes              \n",
       "40030                                                NaN              \n",
       "40031                                                NaN              \n",
       "\n",
       "      SMILE ON 60+ Treatment Plan - Was the enrollee able to be restored to function (can chew) and \"social six\" esthetics (top front six teeth are present and disease free)  \n",
       "0                                                    NaN                                                                                                                       \n",
       "1                                                    NaN                                                                                                                       \n",
       "2                                                    Yes                                                                                                                       \n",
       "3                                                    NaN                                                                                                                       \n",
       "4                                                     No                                                                                                                       \n",
       "...                                                  ...                                                                                                                       \n",
       "40027                                                NaN                                                                                                                       \n",
       "40028                                                NaN                                                                                                                       \n",
       "40029                                                Yes                                                                                                                       \n",
       "40030                                                NaN                                                                                                                       \n",
       "40031                                                NaN                                                                                                                       \n",
       "\n",
       "[40032 rows x 8 columns]"
      ],
      "text/html": "<div>\n<style scoped>\n    .dataframe tbody tr th:only-of-type {\n        vertical-align: middle;\n    }\n\n    .dataframe tbody tr th {\n        vertical-align: top;\n    }\n\n    .dataframe thead th {\n        text-align: right;\n    }\n</style>\n<table border=\"1\" class=\"dataframe\">\n  <thead>\n    <tr style=\"text-align: right;\">\n      <th></th>\n      <th>CallReportNum</th>\n      <th>CallerNum</th>\n      <th>SMILE ON 60+ Screening - Last Screening Date</th>\n      <th>SMILE ON 60+ Oral Care Encounter - What care was provided to the enrollee? (Select all that apply)</th>\n      <th>SMILE ON 60+ Site Information - Enroller ID</th>\n      <th>SMILE ON 60+ Treatment Plan - Is the treatment plan completed?</th>\n      <th>SMILE ON 60+ Treatment Plan - Was a treatment plan developed?</th>\n      <th>SMILE ON 60+ Treatment Plan - Was the enrollee able to be restored to function (can chew) and \"social six\" esthetics (top front six teeth are present and disease free)</th>\n    </tr>\n  </thead>\n  <tbody>\n    <tr>\n      <th>0</th>\n      <td>81381827</td>\n      <td>3859874</td>\n      <td>NaN</td>\n      <td>NaN</td>\n      <td>Matthew Walker Comprehensive Health Center Inc...</td>\n      <td>NaN</td>\n      <td>NaN</td>\n      <td>NaN</td>\n    </tr>\n    <tr>\n      <th>1</th>\n      <td>81379177</td>\n      <td>3859755</td>\n      <td>NaN</td>\n      <td>NaN</td>\n      <td>NaN</td>\n      <td>NaN</td>\n      <td>NaN</td>\n      <td>NaN</td>\n    </tr>\n    <tr>\n      <th>2</th>\n      <td>81377435</td>\n      <td>2518680</td>\n      <td>NaN</td>\n      <td>5650 - Add tooth to existing partial denture - 30</td>\n      <td>Friends in Need Health Center - Kingsport</td>\n      <td>Yes</td>\n      <td>Yes</td>\n      <td>Yes</td>\n    </tr>\n    <tr>\n      <th>3</th>\n      <td>81375215</td>\n      <td>3231923</td>\n      <td>NaN</td>\n      <td>No Code - Denture step Mandibular: may be used...</td>\n      <td>Christ Community Health Services- Frayser</td>\n      <td>NaN</td>\n      <td>NaN</td>\n      <td>NaN</td>\n    </tr>\n    <tr>\n      <th>4</th>\n      <td>81373934</td>\n      <td>-1</td>\n      <td>11/25/2020</td>\n      <td>NaN</td>\n      <td>Neighborhood Health - Lebanon</td>\n      <td>NaN</td>\n      <td>Yes</td>\n      <td>No</td>\n    </tr>\n    <tr>\n      <th>...</th>\n      <td>...</td>\n      <td>...</td>\n      <td>...</td>\n      <td>...</td>\n      <td>...</td>\n      <td>...</td>\n      <td>...</td>\n      <td>...</td>\n    </tr>\n    <tr>\n      <th>40027</th>\n      <td>53192452</td>\n      <td>-1</td>\n      <td>NaN</td>\n      <td>NaN</td>\n      <td>NaN</td>\n      <td>NaN</td>\n      <td>NaN</td>\n      <td>NaN</td>\n    </tr>\n    <tr>\n      <th>40028</th>\n      <td>67915561</td>\n      <td>3239813</td>\n      <td>NaN</td>\n      <td>NaN</td>\n      <td>Church Health Center - Memphis</td>\n      <td>NaN</td>\n      <td>NaN</td>\n      <td>NaN</td>\n    </tr>\n    <tr>\n      <th>40029</th>\n      <td>67251405</td>\n      <td>2631417</td>\n      <td>11/29/2018</td>\n      <td>NaN</td>\n      <td>Friends in Need Health Center - Kingsport</td>\n      <td>No</td>\n      <td>Yes</td>\n      <td>Yes</td>\n    </tr>\n    <tr>\n      <th>40030</th>\n      <td>63063150</td>\n      <td>-1</td>\n      <td>NaN</td>\n      <td>Case Management - $50</td>\n      <td>Interfaith Dental Clinic - Nashville</td>\n      <td>NaN</td>\n      <td>NaN</td>\n      <td>NaN</td>\n    </tr>\n    <tr>\n      <th>40031</th>\n      <td>70839903</td>\n      <td>-1</td>\n      <td>NaN</td>\n      <td>D5284 - Removable unilateral partial denture/o...</td>\n      <td>Interfaith Dental Clinic - Nashville</td>\n      <td>NaN</td>\n      <td>NaN</td>\n      <td>NaN</td>\n    </tr>\n  </tbody>\n</table>\n<p>40032 rows × 8 columns</p>\n</div>"
     },
     "metadata": {},
     "execution_count": 11
    }
   ],
   "source": [
    "smile_onlyyellow"
   ]
  },
  {
   "source": [
    "### Renaming of columns so to remove issue with \"ON\" within column title. "
   ],
   "cell_type": "markdown",
   "metadata": {}
  },
  {
   "cell_type": "code",
   "execution_count": 12,
   "metadata": {},
   "outputs": [],
   "source": [
    "smile_onlyyellow = smile_onlyyellow.rename(columns = {'SMILE ON 60+ Screening - Last Screening Date':'screening_date', 'SMILE ON 60+ Oral Care Encounter - What care was provided to the enrollee? (Select all that apply)':'care_provided', 'SMILE ON 60+ Site Information - Enroller ID':'site', 'SMILE ON 60+ Treatment Plan - Is the treatment plan completed?':'treatment_plan_complete','SMILE ON 60+ Treatment Plan - Was a treatment plan developed?':'treatment_plan_developed','SMILE ON 60+ Treatment Plan - Was the enrollee able to be restored to function (can chew) and \"social six\" esthetics (top front six teeth are present and disease free)':'restored_to_function'})"
   ]
  },
  {
   "cell_type": "code",
   "execution_count": 13,
   "metadata": {},
   "outputs": [
    {
     "output_type": "execute_result",
     "data": {
      "text/plain": [
       "       CallReportNum  CallerNum screening_date  \\\n",
       "0           81381827    3859874            NaN   \n",
       "1           81379177    3859755            NaN   \n",
       "2           81377435    2518680            NaN   \n",
       "3           81375215    3231923            NaN   \n",
       "4           81373934         -1     11/25/2020   \n",
       "...              ...        ...            ...   \n",
       "40027       53192452         -1            NaN   \n",
       "40028       67915561    3239813            NaN   \n",
       "40029       67251405    2631417     11/29/2018   \n",
       "40030       63063150         -1            NaN   \n",
       "40031       70839903         -1            NaN   \n",
       "\n",
       "                                           care_provided  \\\n",
       "0                                                    NaN   \n",
       "1                                                    NaN   \n",
       "2      5650 - Add tooth to existing partial denture - 30   \n",
       "3      No Code - Denture step Mandibular: may be used...   \n",
       "4                                                    NaN   \n",
       "...                                                  ...   \n",
       "40027                                                NaN   \n",
       "40028                                                NaN   \n",
       "40029                                                NaN   \n",
       "40030                              Case Management - $50   \n",
       "40031  D5284 - Removable unilateral partial denture/o...   \n",
       "\n",
       "                                                    site  \\\n",
       "0      Matthew Walker Comprehensive Health Center Inc...   \n",
       "1                                                    NaN   \n",
       "2              Friends in Need Health Center - Kingsport   \n",
       "3              Christ Community Health Services- Frayser   \n",
       "4                          Neighborhood Health - Lebanon   \n",
       "...                                                  ...   \n",
       "40027                                                NaN   \n",
       "40028                     Church Health Center - Memphis   \n",
       "40029          Friends in Need Health Center - Kingsport   \n",
       "40030               Interfaith Dental Clinic - Nashville   \n",
       "40031               Interfaith Dental Clinic - Nashville   \n",
       "\n",
       "      treatment_plan_complete treatment_plan_developed restored_to_function  \n",
       "0                         NaN                      NaN                  NaN  \n",
       "1                         NaN                      NaN                  NaN  \n",
       "2                         Yes                      Yes                  Yes  \n",
       "3                         NaN                      NaN                  NaN  \n",
       "4                         NaN                      Yes                   No  \n",
       "...                       ...                      ...                  ...  \n",
       "40027                     NaN                      NaN                  NaN  \n",
       "40028                     NaN                      NaN                  NaN  \n",
       "40029                      No                      Yes                  Yes  \n",
       "40030                     NaN                      NaN                  NaN  \n",
       "40031                     NaN                      NaN                  NaN  \n",
       "\n",
       "[40032 rows x 8 columns]"
      ],
      "text/html": "<div>\n<style scoped>\n    .dataframe tbody tr th:only-of-type {\n        vertical-align: middle;\n    }\n\n    .dataframe tbody tr th {\n        vertical-align: top;\n    }\n\n    .dataframe thead th {\n        text-align: right;\n    }\n</style>\n<table border=\"1\" class=\"dataframe\">\n  <thead>\n    <tr style=\"text-align: right;\">\n      <th></th>\n      <th>CallReportNum</th>\n      <th>CallerNum</th>\n      <th>screening_date</th>\n      <th>care_provided</th>\n      <th>site</th>\n      <th>treatment_plan_complete</th>\n      <th>treatment_plan_developed</th>\n      <th>restored_to_function</th>\n    </tr>\n  </thead>\n  <tbody>\n    <tr>\n      <th>0</th>\n      <td>81381827</td>\n      <td>3859874</td>\n      <td>NaN</td>\n      <td>NaN</td>\n      <td>Matthew Walker Comprehensive Health Center Inc...</td>\n      <td>NaN</td>\n      <td>NaN</td>\n      <td>NaN</td>\n    </tr>\n    <tr>\n      <th>1</th>\n      <td>81379177</td>\n      <td>3859755</td>\n      <td>NaN</td>\n      <td>NaN</td>\n      <td>NaN</td>\n      <td>NaN</td>\n      <td>NaN</td>\n      <td>NaN</td>\n    </tr>\n    <tr>\n      <th>2</th>\n      <td>81377435</td>\n      <td>2518680</td>\n      <td>NaN</td>\n      <td>5650 - Add tooth to existing partial denture - 30</td>\n      <td>Friends in Need Health Center - Kingsport</td>\n      <td>Yes</td>\n      <td>Yes</td>\n      <td>Yes</td>\n    </tr>\n    <tr>\n      <th>3</th>\n      <td>81375215</td>\n      <td>3231923</td>\n      <td>NaN</td>\n      <td>No Code - Denture step Mandibular: may be used...</td>\n      <td>Christ Community Health Services- Frayser</td>\n      <td>NaN</td>\n      <td>NaN</td>\n      <td>NaN</td>\n    </tr>\n    <tr>\n      <th>4</th>\n      <td>81373934</td>\n      <td>-1</td>\n      <td>11/25/2020</td>\n      <td>NaN</td>\n      <td>Neighborhood Health - Lebanon</td>\n      <td>NaN</td>\n      <td>Yes</td>\n      <td>No</td>\n    </tr>\n    <tr>\n      <th>...</th>\n      <td>...</td>\n      <td>...</td>\n      <td>...</td>\n      <td>...</td>\n      <td>...</td>\n      <td>...</td>\n      <td>...</td>\n      <td>...</td>\n    </tr>\n    <tr>\n      <th>40027</th>\n      <td>53192452</td>\n      <td>-1</td>\n      <td>NaN</td>\n      <td>NaN</td>\n      <td>NaN</td>\n      <td>NaN</td>\n      <td>NaN</td>\n      <td>NaN</td>\n    </tr>\n    <tr>\n      <th>40028</th>\n      <td>67915561</td>\n      <td>3239813</td>\n      <td>NaN</td>\n      <td>NaN</td>\n      <td>Church Health Center - Memphis</td>\n      <td>NaN</td>\n      <td>NaN</td>\n      <td>NaN</td>\n    </tr>\n    <tr>\n      <th>40029</th>\n      <td>67251405</td>\n      <td>2631417</td>\n      <td>11/29/2018</td>\n      <td>NaN</td>\n      <td>Friends in Need Health Center - Kingsport</td>\n      <td>No</td>\n      <td>Yes</td>\n      <td>Yes</td>\n    </tr>\n    <tr>\n      <th>40030</th>\n      <td>63063150</td>\n      <td>-1</td>\n      <td>NaN</td>\n      <td>Case Management - $50</td>\n      <td>Interfaith Dental Clinic - Nashville</td>\n      <td>NaN</td>\n      <td>NaN</td>\n      <td>NaN</td>\n    </tr>\n    <tr>\n      <th>40031</th>\n      <td>70839903</td>\n      <td>-1</td>\n      <td>NaN</td>\n      <td>D5284 - Removable unilateral partial denture/o...</td>\n      <td>Interfaith Dental Clinic - Nashville</td>\n      <td>NaN</td>\n      <td>NaN</td>\n      <td>NaN</td>\n    </tr>\n  </tbody>\n</table>\n<p>40032 rows × 8 columns</p>\n</div>"
     },
     "metadata": {},
     "execution_count": 13
    }
   ],
   "source": [
    "smile_onlyyellow"
   ]
  },
  {
   "cell_type": "code",
   "execution_count": 14,
   "metadata": {},
   "outputs": [
    {
     "output_type": "stream",
     "name": "stdout",
     "text": [
      "<class 'pandas.core.frame.DataFrame'>\nRangeIndex: 40032 entries, 0 to 40031\nData columns (total 8 columns):\n #   Column                    Non-Null Count  Dtype \n---  ------                    --------------  ----- \n 0   CallReportNum             40032 non-null  int64 \n 1   CallerNum                 40032 non-null  int64 \n 2   screening_date            14892 non-null  object\n 3   care_provided             24849 non-null  object\n 4   site                      32801 non-null  object\n 5   treatment_plan_complete   17535 non-null  object\n 6   treatment_plan_developed  17028 non-null  object\n 7   restored_to_function      14276 non-null  object\ndtypes: int64(2), object(6)\nmemory usage: 2.4+ MB\n"
     ]
    }
   ],
   "source": [
    "smile_onlyyellow.info()"
   ]
  },
  {
   "cell_type": "code",
   "execution_count": 15,
   "metadata": {},
   "outputs": [
    {
     "output_type": "execute_result",
     "data": {
      "text/plain": [
       "Yes    15930\n",
       "No      1098\n",
       "Name: treatment_plan_developed, dtype: int64"
      ]
     },
     "metadata": {},
     "execution_count": 15
    }
   ],
   "source": [
    "smile_onlyyellow.treatment_plan_developed.value_counts(ascending= False)"
   ]
  },
  {
   "cell_type": "code",
   "execution_count": 16,
   "metadata": {},
   "outputs": [
    {
     "output_type": "execute_result",
     "data": {
      "text/plain": [
       "No     12431\n",
       "Yes     5104\n",
       "Name: treatment_plan_complete, dtype: int64"
      ]
     },
     "metadata": {},
     "execution_count": 16
    }
   ],
   "source": [
    "smile_onlyyellow.treatment_plan_complete.value_counts()"
   ]
  },
  {
   "cell_type": "code",
   "execution_count": 17,
   "metadata": {},
   "outputs": [
    {
     "output_type": "execute_result",
     "data": {
      "text/plain": [
       "-1          70\n",
       " 2441776    36\n",
       " 2431132    31\n",
       " 2416076    29\n",
       " 2466994    28\n",
       "            ..\n",
       " 3825101     1\n",
       " 3743280     1\n",
       " 2653820     1\n",
       " 3686036     1\n",
       " 3821558     1\n",
       "Name: CallerNum, Length: 8708, dtype: int64"
      ]
     },
     "metadata": {},
     "execution_count": 17
    }
   ],
   "source": [
    "smile_onlyyellow.CallerNum.value_counts()"
   ]
  },
  {
   "source": [
    "### Separating out most frequent CallerNum"
   ],
   "cell_type": "markdown",
   "metadata": {}
  },
  {
   "cell_type": "code",
   "execution_count": 20,
   "metadata": {},
   "outputs": [],
   "source": [
    "smile_2441776 = smile_onlyyellow.loc[smile_onlyyellow['CallerNum'] == 2441776]"
   ]
  },
  {
   "cell_type": "code",
   "execution_count": 21,
   "metadata": {},
   "outputs": [
    {
     "output_type": "execute_result",
     "data": {
      "text/plain": [
       "       CallReportNum  CallerNum screening_date  \\\n",
       "685         80878764    2441776      9/25/2018   \n",
       "1024        80784223    2441776      9/25/2018   \n",
       "3353        79037448    2441776      9/25/2018   \n",
       "3812        78220913    2441776       9/2/2020   \n",
       "3833        78698465    2441776      9/25/2018   \n",
       "5312        77631129    2441776      9/25/2018   \n",
       "5906        76991587    2441776      9/25/2018   \n",
       "6439        76991448    2441776      9/25/2018   \n",
       "11473       71557178    2441776      9/25/2018   \n",
       "14542       70184765    2441776      9/25/2018   \n",
       "15915       69739760    2441776      9/25/2018   \n",
       "17045       69171583    2441776      9/25/2018   \n",
       "18708       68129507    2441776      9/25/2018   \n",
       "19489       67757927    2441776      9/25/2018   \n",
       "21906       66789188    2441776      9/25/2018   \n",
       "24170       65850728    2441776      9/25/2018   \n",
       "26767       64563999    2441776      9/25/2018   \n",
       "28026       64343269    2441776      9/25/2018   \n",
       "29573       63277569    2441776      9/25/2018   \n",
       "29746       63277516    2441776      9/25/2018   \n",
       "30012       62797843    2441776      9/25/2018   \n",
       "30863       62797691    2441776      9/25/2018   \n",
       "31150       62172149    2441776      9/25/2018   \n",
       "31173       62848924    2441776            NaN   \n",
       "31536       61865691    2441776      9/25/2018   \n",
       "32161       61582513    2441776      9/25/2018   \n",
       "33805       60706642    2441776      9/25/2018   \n",
       "36141       58800768    2441776      9/25/2018   \n",
       "36270       58800629    2441776      9/25/2018   \n",
       "37140       57786861    2441776      9/25/2018   \n",
       "38692       56587268    2441776      9/25/2018   \n",
       "38703       56570148    2441776            NaN   \n",
       "38724       56596645    2441776      9/25/2018   \n",
       "38747       56543096    2441776            NaN   \n",
       "38748       56542940    2441776            NaN   \n",
       "38749       56542681    2441776            NaN   \n",
       "\n",
       "                                           care_provided  \\\n",
       "685    2331 - Resin two surfaces - Anterior - 15; 239...   \n",
       "1024   No Code - Denture step Mandibular: may be used...   \n",
       "3353   No Code - Denture step Mandibular: may be used...   \n",
       "3812                                                 NaN   \n",
       "3833   220 - Intraoral - Periapical First Film - 5; 1...   \n",
       "5312   220 - Intraoral - Periapical First Film - 5; 3...   \n",
       "5906   5110 - Complete denture-maxillary - 60; 5226 -...   \n",
       "6439   5850 - Denture tissue conditioning maxillary - 15   \n",
       "11473  1110 - Prophylaxis-adult - 45; 1330 - Oral Hyg...   \n",
       "14542  No Code - Denture step Mandibular: may be used...   \n",
       "15915  9310 - Consultation-diagnostic service provide...   \n",
       "17045  No Code - Denture step Mandibular: may be used...   \n",
       "18708  1110 - Prophylaxis-adult - 45; 1330 - Oral Hyg...   \n",
       "19489  No Code - Denture step Mandibular: may be used...   \n",
       "21906  2330 - Resin one surface - Anterior - 15; 5850...   \n",
       "24170  5110 - Complete denture-maxillary - 60; 5214 -...   \n",
       "26767  140 - Limited Oral evaluation - problem focuse...   \n",
       "28026  5851 - Denture tissue  conditioning mandible - 15   \n",
       "29573  7320 - Alveoplasty not in conjunction with ext...   \n",
       "29746  5850 - Denture tissue conditioning maxillary - 15   \n",
       "30012  No Code - Denture step Mandibular: may be used...   \n",
       "30863  No Code - Denture step Mandibular: may be used...   \n",
       "31150  No Code - Denture step Mandibular: may be used...   \n",
       "31173                                                NaN   \n",
       "31536  1110 - Prophylaxis-adult - 45; 1330 - Oral Hyg...   \n",
       "32161  5130 - Complete denture- immediate maxillary -...   \n",
       "33805  150 - Comprehensive Oral Evaluation -new or es...   \n",
       "36141  220 - Intraoral - Periapical First Film - 5; 2...   \n",
       "36270  220 - Intraoral - Periapical First Film - 5; 2...   \n",
       "37140        2332 - Resin three surfaces - Anterior - 15   \n",
       "38692                                                NaN   \n",
       "38703                                                NaN   \n",
       "38724  1110 - Prophylaxis-adult - 45; 1330 - Oral Hyg...   \n",
       "38747                                                NaN   \n",
       "38748                                                NaN   \n",
       "38749                                                NaN   \n",
       "\n",
       "                                       site treatment_plan_complete  \\\n",
       "685    Interfaith Dental Clinic - Nashville                      No   \n",
       "1024   Interfaith Dental Clinic - Nashville                      No   \n",
       "3353   Interfaith Dental Clinic - Nashville                      No   \n",
       "3812   Interfaith Dental Clinic - Nashville                     NaN   \n",
       "3833   Interfaith Dental Clinic - Nashville                      No   \n",
       "5312   Interfaith Dental Clinic - Nashville                      No   \n",
       "5906   Interfaith Dental Clinic - Nashville                      No   \n",
       "6439   Interfaith Dental Clinic - Nashville                      No   \n",
       "11473  Interfaith Dental Clinic - Nashville                     Yes   \n",
       "14542  Interfaith Dental Clinic - Nashville                      No   \n",
       "15915  Interfaith Dental Clinic - Nashville                      No   \n",
       "17045  Interfaith Dental Clinic - Nashville                      No   \n",
       "18708  Interfaith Dental Clinic - Nashville                     NaN   \n",
       "19489  Interfaith Dental Clinic - Nashville                     NaN   \n",
       "21906  Interfaith Dental Clinic - Nashville                     NaN   \n",
       "24170  Interfaith Dental Clinic - Nashville                     NaN   \n",
       "26767  Interfaith Dental Clinic - Nashville                      No   \n",
       "28026  Interfaith Dental Clinic - Nashville                     NaN   \n",
       "29573  Interfaith Dental Clinic - Nashville                     NaN   \n",
       "29746  Interfaith Dental Clinic - Nashville                     NaN   \n",
       "30012  Interfaith Dental Clinic - Nashville                     NaN   \n",
       "30863  Interfaith Dental Clinic - Nashville                     NaN   \n",
       "31150  Interfaith Dental Clinic - Nashville                     NaN   \n",
       "31173  Interfaith Dental Clinic - Nashville                     NaN   \n",
       "31536  Interfaith Dental Clinic - Nashville                     NaN   \n",
       "32161  Interfaith Dental Clinic - Nashville                     NaN   \n",
       "33805  Interfaith Dental Clinic - Nashville                     NaN   \n",
       "36141  Interfaith Dental Clinic - Nashville                     NaN   \n",
       "36270  Interfaith Dental Clinic - Nashville                     NaN   \n",
       "37140  Interfaith Dental Clinic - Nashville                     NaN   \n",
       "38692  Interfaith Dental Clinic - Nashville                     NaN   \n",
       "38703  Interfaith Dental Clinic - Nashville                     NaN   \n",
       "38724  Interfaith Dental Clinic - Nashville                     NaN   \n",
       "38747  Interfaith Dental Clinic - Nashville                     NaN   \n",
       "38748  Interfaith Dental Clinic - Nashville                     NaN   \n",
       "38749  Interfaith Dental Clinic - Nashville                     NaN   \n",
       "\n",
       "      treatment_plan_developed restored_to_function  \n",
       "685                        Yes                   No  \n",
       "1024                       Yes                   No  \n",
       "3353                       Yes                   No  \n",
       "3812                       Yes                  NaN  \n",
       "3833                       Yes                   No  \n",
       "5312                       Yes                  Yes  \n",
       "5906                       Yes                  Yes  \n",
       "6439                       Yes                  Yes  \n",
       "11473                      Yes                  Yes  \n",
       "14542                      Yes                  Yes  \n",
       "15915                       No                   No  \n",
       "17045                      Yes                   No  \n",
       "18708                      NaN                  NaN  \n",
       "19489                      NaN                  NaN  \n",
       "21906                      NaN                  NaN  \n",
       "24170                      NaN                  NaN  \n",
       "26767                      Yes                   No  \n",
       "28026                      NaN                  NaN  \n",
       "29573                      NaN                  NaN  \n",
       "29746                      NaN                  NaN  \n",
       "30012                      NaN                  NaN  \n",
       "30863                      NaN                  NaN  \n",
       "31150                      NaN                  NaN  \n",
       "31173                      Yes                  Yes  \n",
       "31536                      NaN                  NaN  \n",
       "32161                      NaN                  NaN  \n",
       "33805                      NaN                  NaN  \n",
       "36141                      Yes                  NaN  \n",
       "36270                      NaN                  NaN  \n",
       "37140                      NaN                  NaN  \n",
       "38692                      NaN                  NaN  \n",
       "38703                      NaN                  NaN  \n",
       "38724                      NaN                  NaN  \n",
       "38747                      NaN                  NaN  \n",
       "38748                      NaN                  NaN  \n",
       "38749                      NaN                  NaN  "
      ],
      "text/html": "<div>\n<style scoped>\n    .dataframe tbody tr th:only-of-type {\n        vertical-align: middle;\n    }\n\n    .dataframe tbody tr th {\n        vertical-align: top;\n    }\n\n    .dataframe thead th {\n        text-align: right;\n    }\n</style>\n<table border=\"1\" class=\"dataframe\">\n  <thead>\n    <tr style=\"text-align: right;\">\n      <th></th>\n      <th>CallReportNum</th>\n      <th>CallerNum</th>\n      <th>screening_date</th>\n      <th>care_provided</th>\n      <th>site</th>\n      <th>treatment_plan_complete</th>\n      <th>treatment_plan_developed</th>\n      <th>restored_to_function</th>\n    </tr>\n  </thead>\n  <tbody>\n    <tr>\n      <th>685</th>\n      <td>80878764</td>\n      <td>2441776</td>\n      <td>9/25/2018</td>\n      <td>2331 - Resin two surfaces - Anterior - 15; 239...</td>\n      <td>Interfaith Dental Clinic - Nashville</td>\n      <td>No</td>\n      <td>Yes</td>\n      <td>No</td>\n    </tr>\n    <tr>\n      <th>1024</th>\n      <td>80784223</td>\n      <td>2441776</td>\n      <td>9/25/2018</td>\n      <td>No Code - Denture step Mandibular: may be used...</td>\n      <td>Interfaith Dental Clinic - Nashville</td>\n      <td>No</td>\n      <td>Yes</td>\n      <td>No</td>\n    </tr>\n    <tr>\n      <th>3353</th>\n      <td>79037448</td>\n      <td>2441776</td>\n      <td>9/25/2018</td>\n      <td>No Code - Denture step Mandibular: may be used...</td>\n      <td>Interfaith Dental Clinic - Nashville</td>\n      <td>No</td>\n      <td>Yes</td>\n      <td>No</td>\n    </tr>\n    <tr>\n      <th>3812</th>\n      <td>78220913</td>\n      <td>2441776</td>\n      <td>9/2/2020</td>\n      <td>NaN</td>\n      <td>Interfaith Dental Clinic - Nashville</td>\n      <td>NaN</td>\n      <td>Yes</td>\n      <td>NaN</td>\n    </tr>\n    <tr>\n      <th>3833</th>\n      <td>78698465</td>\n      <td>2441776</td>\n      <td>9/25/2018</td>\n      <td>220 - Intraoral - Periapical First Film - 5; 1...</td>\n      <td>Interfaith Dental Clinic - Nashville</td>\n      <td>No</td>\n      <td>Yes</td>\n      <td>No</td>\n    </tr>\n    <tr>\n      <th>5312</th>\n      <td>77631129</td>\n      <td>2441776</td>\n      <td>9/25/2018</td>\n      <td>220 - Intraoral - Periapical First Film - 5; 3...</td>\n      <td>Interfaith Dental Clinic - Nashville</td>\n      <td>No</td>\n      <td>Yes</td>\n      <td>Yes</td>\n    </tr>\n    <tr>\n      <th>5906</th>\n      <td>76991587</td>\n      <td>2441776</td>\n      <td>9/25/2018</td>\n      <td>5110 - Complete denture-maxillary - 60; 5226 -...</td>\n      <td>Interfaith Dental Clinic - Nashville</td>\n      <td>No</td>\n      <td>Yes</td>\n      <td>Yes</td>\n    </tr>\n    <tr>\n      <th>6439</th>\n      <td>76991448</td>\n      <td>2441776</td>\n      <td>9/25/2018</td>\n      <td>5850 - Denture tissue conditioning maxillary - 15</td>\n      <td>Interfaith Dental Clinic - Nashville</td>\n      <td>No</td>\n      <td>Yes</td>\n      <td>Yes</td>\n    </tr>\n    <tr>\n      <th>11473</th>\n      <td>71557178</td>\n      <td>2441776</td>\n      <td>9/25/2018</td>\n      <td>1110 - Prophylaxis-adult - 45; 1330 - Oral Hyg...</td>\n      <td>Interfaith Dental Clinic - Nashville</td>\n      <td>Yes</td>\n      <td>Yes</td>\n      <td>Yes</td>\n    </tr>\n    <tr>\n      <th>14542</th>\n      <td>70184765</td>\n      <td>2441776</td>\n      <td>9/25/2018</td>\n      <td>No Code - Denture step Mandibular: may be used...</td>\n      <td>Interfaith Dental Clinic - Nashville</td>\n      <td>No</td>\n      <td>Yes</td>\n      <td>Yes</td>\n    </tr>\n    <tr>\n      <th>15915</th>\n      <td>69739760</td>\n      <td>2441776</td>\n      <td>9/25/2018</td>\n      <td>9310 - Consultation-diagnostic service provide...</td>\n      <td>Interfaith Dental Clinic - Nashville</td>\n      <td>No</td>\n      <td>No</td>\n      <td>No</td>\n    </tr>\n    <tr>\n      <th>17045</th>\n      <td>69171583</td>\n      <td>2441776</td>\n      <td>9/25/2018</td>\n      <td>No Code - Denture step Mandibular: may be used...</td>\n      <td>Interfaith Dental Clinic - Nashville</td>\n      <td>No</td>\n      <td>Yes</td>\n      <td>No</td>\n    </tr>\n    <tr>\n      <th>18708</th>\n      <td>68129507</td>\n      <td>2441776</td>\n      <td>9/25/2018</td>\n      <td>1110 - Prophylaxis-adult - 45; 1330 - Oral Hyg...</td>\n      <td>Interfaith Dental Clinic - Nashville</td>\n      <td>NaN</td>\n      <td>NaN</td>\n      <td>NaN</td>\n    </tr>\n    <tr>\n      <th>19489</th>\n      <td>67757927</td>\n      <td>2441776</td>\n      <td>9/25/2018</td>\n      <td>No Code - Denture step Mandibular: may be used...</td>\n      <td>Interfaith Dental Clinic - Nashville</td>\n      <td>NaN</td>\n      <td>NaN</td>\n      <td>NaN</td>\n    </tr>\n    <tr>\n      <th>21906</th>\n      <td>66789188</td>\n      <td>2441776</td>\n      <td>9/25/2018</td>\n      <td>2330 - Resin one surface - Anterior - 15; 5850...</td>\n      <td>Interfaith Dental Clinic - Nashville</td>\n      <td>NaN</td>\n      <td>NaN</td>\n      <td>NaN</td>\n    </tr>\n    <tr>\n      <th>24170</th>\n      <td>65850728</td>\n      <td>2441776</td>\n      <td>9/25/2018</td>\n      <td>5110 - Complete denture-maxillary - 60; 5214 -...</td>\n      <td>Interfaith Dental Clinic - Nashville</td>\n      <td>NaN</td>\n      <td>NaN</td>\n      <td>NaN</td>\n    </tr>\n    <tr>\n      <th>26767</th>\n      <td>64563999</td>\n      <td>2441776</td>\n      <td>9/25/2018</td>\n      <td>140 - Limited Oral evaluation - problem focuse...</td>\n      <td>Interfaith Dental Clinic - Nashville</td>\n      <td>No</td>\n      <td>Yes</td>\n      <td>No</td>\n    </tr>\n    <tr>\n      <th>28026</th>\n      <td>64343269</td>\n      <td>2441776</td>\n      <td>9/25/2018</td>\n      <td>5851 - Denture tissue  conditioning mandible - 15</td>\n      <td>Interfaith Dental Clinic - Nashville</td>\n      <td>NaN</td>\n      <td>NaN</td>\n      <td>NaN</td>\n    </tr>\n    <tr>\n      <th>29573</th>\n      <td>63277569</td>\n      <td>2441776</td>\n      <td>9/25/2018</td>\n      <td>7320 - Alveoplasty not in conjunction with ext...</td>\n      <td>Interfaith Dental Clinic - Nashville</td>\n      <td>NaN</td>\n      <td>NaN</td>\n      <td>NaN</td>\n    </tr>\n    <tr>\n      <th>29746</th>\n      <td>63277516</td>\n      <td>2441776</td>\n      <td>9/25/2018</td>\n      <td>5850 - Denture tissue conditioning maxillary - 15</td>\n      <td>Interfaith Dental Clinic - Nashville</td>\n      <td>NaN</td>\n      <td>NaN</td>\n      <td>NaN</td>\n    </tr>\n    <tr>\n      <th>30012</th>\n      <td>62797843</td>\n      <td>2441776</td>\n      <td>9/25/2018</td>\n      <td>No Code - Denture step Mandibular: may be used...</td>\n      <td>Interfaith Dental Clinic - Nashville</td>\n      <td>NaN</td>\n      <td>NaN</td>\n      <td>NaN</td>\n    </tr>\n    <tr>\n      <th>30863</th>\n      <td>62797691</td>\n      <td>2441776</td>\n      <td>9/25/2018</td>\n      <td>No Code - Denture step Mandibular: may be used...</td>\n      <td>Interfaith Dental Clinic - Nashville</td>\n      <td>NaN</td>\n      <td>NaN</td>\n      <td>NaN</td>\n    </tr>\n    <tr>\n      <th>31150</th>\n      <td>62172149</td>\n      <td>2441776</td>\n      <td>9/25/2018</td>\n      <td>No Code - Denture step Mandibular: may be used...</td>\n      <td>Interfaith Dental Clinic - Nashville</td>\n      <td>NaN</td>\n      <td>NaN</td>\n      <td>NaN</td>\n    </tr>\n    <tr>\n      <th>31173</th>\n      <td>62848924</td>\n      <td>2441776</td>\n      <td>NaN</td>\n      <td>NaN</td>\n      <td>Interfaith Dental Clinic - Nashville</td>\n      <td>NaN</td>\n      <td>Yes</td>\n      <td>Yes</td>\n    </tr>\n    <tr>\n      <th>31536</th>\n      <td>61865691</td>\n      <td>2441776</td>\n      <td>9/25/2018</td>\n      <td>1110 - Prophylaxis-adult - 45; 1330 - Oral Hyg...</td>\n      <td>Interfaith Dental Clinic - Nashville</td>\n      <td>NaN</td>\n      <td>NaN</td>\n      <td>NaN</td>\n    </tr>\n    <tr>\n      <th>32161</th>\n      <td>61582513</td>\n      <td>2441776</td>\n      <td>9/25/2018</td>\n      <td>5130 - Complete denture- immediate maxillary -...</td>\n      <td>Interfaith Dental Clinic - Nashville</td>\n      <td>NaN</td>\n      <td>NaN</td>\n      <td>NaN</td>\n    </tr>\n    <tr>\n      <th>33805</th>\n      <td>60706642</td>\n      <td>2441776</td>\n      <td>9/25/2018</td>\n      <td>150 - Comprehensive Oral Evaluation -new or es...</td>\n      <td>Interfaith Dental Clinic - Nashville</td>\n      <td>NaN</td>\n      <td>NaN</td>\n      <td>NaN</td>\n    </tr>\n    <tr>\n      <th>36141</th>\n      <td>58800768</td>\n      <td>2441776</td>\n      <td>9/25/2018</td>\n      <td>220 - Intraoral - Periapical First Film - 5; 2...</td>\n      <td>Interfaith Dental Clinic - Nashville</td>\n      <td>NaN</td>\n      <td>Yes</td>\n      <td>NaN</td>\n    </tr>\n    <tr>\n      <th>36270</th>\n      <td>58800629</td>\n      <td>2441776</td>\n      <td>9/25/2018</td>\n      <td>220 - Intraoral - Periapical First Film - 5; 2...</td>\n      <td>Interfaith Dental Clinic - Nashville</td>\n      <td>NaN</td>\n      <td>NaN</td>\n      <td>NaN</td>\n    </tr>\n    <tr>\n      <th>37140</th>\n      <td>57786861</td>\n      <td>2441776</td>\n      <td>9/25/2018</td>\n      <td>2332 - Resin three surfaces - Anterior - 15</td>\n      <td>Interfaith Dental Clinic - Nashville</td>\n      <td>NaN</td>\n      <td>NaN</td>\n      <td>NaN</td>\n    </tr>\n    <tr>\n      <th>38692</th>\n      <td>56587268</td>\n      <td>2441776</td>\n      <td>9/25/2018</td>\n      <td>NaN</td>\n      <td>Interfaith Dental Clinic - Nashville</td>\n      <td>NaN</td>\n      <td>NaN</td>\n      <td>NaN</td>\n    </tr>\n    <tr>\n      <th>38703</th>\n      <td>56570148</td>\n      <td>2441776</td>\n      <td>NaN</td>\n      <td>NaN</td>\n      <td>Interfaith Dental Clinic - Nashville</td>\n      <td>NaN</td>\n      <td>NaN</td>\n      <td>NaN</td>\n    </tr>\n    <tr>\n      <th>38724</th>\n      <td>56596645</td>\n      <td>2441776</td>\n      <td>9/25/2018</td>\n      <td>1110 - Prophylaxis-adult - 45; 1330 - Oral Hyg...</td>\n      <td>Interfaith Dental Clinic - Nashville</td>\n      <td>NaN</td>\n      <td>NaN</td>\n      <td>NaN</td>\n    </tr>\n    <tr>\n      <th>38747</th>\n      <td>56543096</td>\n      <td>2441776</td>\n      <td>NaN</td>\n      <td>NaN</td>\n      <td>Interfaith Dental Clinic - Nashville</td>\n      <td>NaN</td>\n      <td>NaN</td>\n      <td>NaN</td>\n    </tr>\n    <tr>\n      <th>38748</th>\n      <td>56542940</td>\n      <td>2441776</td>\n      <td>NaN</td>\n      <td>NaN</td>\n      <td>Interfaith Dental Clinic - Nashville</td>\n      <td>NaN</td>\n      <td>NaN</td>\n      <td>NaN</td>\n    </tr>\n    <tr>\n      <th>38749</th>\n      <td>56542681</td>\n      <td>2441776</td>\n      <td>NaN</td>\n      <td>NaN</td>\n      <td>Interfaith Dental Clinic - Nashville</td>\n      <td>NaN</td>\n      <td>NaN</td>\n      <td>NaN</td>\n    </tr>\n  </tbody>\n</table>\n</div>"
     },
     "metadata": {},
     "execution_count": 21
    }
   ],
   "source": [
    "smile_2441776"
   ]
  },
  {
   "source": [
    "## Why does he have so many listings for the same day? And at such different CallReportNum? "
   ],
   "cell_type": "markdown",
   "metadata": {}
  },
  {
   "cell_type": "code",
   "execution_count": null,
   "metadata": {},
   "outputs": [],
   "source": [
    "\n"
   ]
  }
 ],
 "metadata": {
  "kernelspec": {
   "display_name": "Python 3",
   "language": "python",
   "name": "python3"
  },
  "language_info": {
   "codemirror_mode": {
    "name": "ipython",
    "version": 3
   },
   "file_extension": ".py",
   "mimetype": "text/x-python",
   "name": "python",
   "nbconvert_exporter": "python",
   "pygments_lexer": "ipython3",
   "version": "3.8.3-final"
  }
 },
 "nbformat": 4,
 "nbformat_minor": 4
}