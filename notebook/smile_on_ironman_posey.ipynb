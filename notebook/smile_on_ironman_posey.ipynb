{
 "cells": [
  {
   "cell_type": "code",
   "execution_count": 74,
   "metadata": {},
   "outputs": [],
   "source": [
    "import pandas as pd\n",
    "import numpy as np"
   ]
  },
  {
   "cell_type": "code",
   "execution_count": 75,
   "metadata": {},
   "outputs": [],
   "source": [
    "smile = pd.read_csv(\"../data/SmileOn11282020.csv\", engine = 'python', skiprows = 2)"
   ]
  },
  {
   "cell_type": "code",
   "execution_count": 76,
   "metadata": {},
   "outputs": [
    {
     "output_type": "execute_result",
     "data": {
      "text/plain": [
       "   CallReportNum              ReportVersion  LinkedToCallReportNum  \\\n",
       "0       81381827  SMILE ON 60+ Registration                    NaN   \n",
       "1       81379177  SMILE ON 60+ Registration                    NaN   \n",
       "2       81377435      SMILE ON 60+ Clinical                    NaN   \n",
       "3       81375215      SMILE ON 60+ Clinical                    NaN   \n",
       "4       81373934      SMILE ON 60+ Clinical                    NaN   \n",
       "\n",
       "  CallDateAndTimeStart CallDateAndTimeEnd  CallLength  CallerNum  \\\n",
       "0     11/25/2020 16:46   11/25/2020 16:48           2    3859874   \n",
       "1     11/25/2020 15:40   11/25/2020 15:55          15    3859755   \n",
       "2     11/25/2020 15:02   11/25/2020 15:02           0    2518680   \n",
       "3     11/25/2020 14:17   11/25/2020 14:17           0    3231923   \n",
       "4     11/25/2020 13:50   11/25/2020 13:58           8         -1   \n",
       "\n",
       "   PhoneWorkerNum  WasRealCall  WasHangup  ...  \\\n",
       "0          136529          NaN        NaN  ...   \n",
       "1           82341          NaN        NaN  ...   \n",
       "2          119506          NaN        NaN  ...   \n",
       "3          143703          NaN        NaN  ...   \n",
       "4          135611          NaN        NaN  ...   \n",
       "\n",
       "         SMILE ON 60+ Screening - Treatment Urgency  \\\n",
       "0                                               NaN   \n",
       "1                                               NaN   \n",
       "2                                               NaN   \n",
       "3                                               NaN   \n",
       "4  Urgent Care - within next week-pain or infection   \n",
       "\n",
       "   SMILE ON 60+ Screening - Untreated Decay  \\\n",
       "0                                       NaN   \n",
       "1                                       NaN   \n",
       "2                                       NaN   \n",
       "3                                       NaN   \n",
       "4                                       Yes   \n",
       "\n",
       "         SMILE ON 60+ Site Information - Enroller ID  \\\n",
       "0  Matthew Walker Comprehensive Health Center Inc...   \n",
       "1                                                NaN   \n",
       "2          Friends in Need Health Center - Kingsport   \n",
       "3          Christ Community Health Services- Frayser   \n",
       "4                      Neighborhood Health - Lebanon   \n",
       "\n",
       "   SMILE ON 60+ Site Information - Enroller Location  \\\n",
       "0                                      Provider Site   \n",
       "1                               Health Assist Office   \n",
       "2                                      Provider Site   \n",
       "3                                      Provider Site   \n",
       "4                                                NaN   \n",
       "\n",
       "   SMILE ON 60+ Treatment Plan - Action: Upload After Picture on Finish Tab  \\\n",
       "0                                                NaN                          \n",
       "1                                                NaN                          \n",
       "2                                                NaN                          \n",
       "3                                                NaN                          \n",
       "4                                                NaN                          \n",
       "\n",
       "   SMILE ON 60+ Treatment Plan - Is the treatment plan completed?  \\\n",
       "0                                                NaN                \n",
       "1                                                NaN                \n",
       "2                                                Yes                \n",
       "3                                                NaN                \n",
       "4                                                NaN                \n",
       "\n",
       "  SMILE ON 60+ Treatment Plan - Was a treatment plan developed?  \\\n",
       "0                                                NaN              \n",
       "1                                                NaN              \n",
       "2                                                Yes              \n",
       "3                                                NaN              \n",
       "4                                                Yes              \n",
       "\n",
       "  SMILE ON 60+ Treatment Plan - Was the enrollee able to be restored to function (can chew) and \"social six\" esthetics (top front six teeth are present and disease free)  \\\n",
       "0                                                NaN                                                                                                                        \n",
       "1                                                NaN                                                                                                                        \n",
       "2                                                Yes                                                                                                                        \n",
       "3                                                NaN                                                                                                                        \n",
       "4                                                 No                                                                                                                        \n",
       "\n",
       "  SMILE ON 60+ Verification of Eligibility - Transportation Arranged  \\\n",
       "0                                                NaN                   \n",
       "1                                                NaN                   \n",
       "2                                                NaN                   \n",
       "3                                                NaN                   \n",
       "4                                                NaN                   \n",
       "\n",
       "  SMILE ON 60+ Verification of Eligibility - Verification of Eligibility  \n",
       "0                                                NaN                      \n",
       "1                                                NaN                      \n",
       "2                                                NaN                      \n",
       "3                                                NaN                      \n",
       "4                                                Yes                      \n",
       "\n",
       "[5 rows x 184 columns]"
      ],
      "text/html": "<div>\n<style scoped>\n    .dataframe tbody tr th:only-of-type {\n        vertical-align: middle;\n    }\n\n    .dataframe tbody tr th {\n        vertical-align: top;\n    }\n\n    .dataframe thead th {\n        text-align: right;\n    }\n</style>\n<table border=\"1\" class=\"dataframe\">\n  <thead>\n    <tr style=\"text-align: right;\">\n      <th></th>\n      <th>CallReportNum</th>\n      <th>ReportVersion</th>\n      <th>LinkedToCallReportNum</th>\n      <th>CallDateAndTimeStart</th>\n      <th>CallDateAndTimeEnd</th>\n      <th>CallLength</th>\n      <th>CallerNum</th>\n      <th>PhoneWorkerNum</th>\n      <th>WasRealCall</th>\n      <th>WasHangup</th>\n      <th>...</th>\n      <th>SMILE ON 60+ Screening - Treatment Urgency</th>\n      <th>SMILE ON 60+ Screening - Untreated Decay</th>\n      <th>SMILE ON 60+ Site Information - Enroller ID</th>\n      <th>SMILE ON 60+ Site Information - Enroller Location</th>\n      <th>SMILE ON 60+ Treatment Plan - Action: Upload After Picture on Finish Tab</th>\n      <th>SMILE ON 60+ Treatment Plan - Is the treatment plan completed?</th>\n      <th>SMILE ON 60+ Treatment Plan - Was a treatment plan developed?</th>\n      <th>SMILE ON 60+ Treatment Plan - Was the enrollee able to be restored to function (can chew) and \"social six\" esthetics (top front six teeth are present and disease free)</th>\n      <th>SMILE ON 60+ Verification of Eligibility - Transportation Arranged</th>\n      <th>SMILE ON 60+ Verification of Eligibility - Verification of Eligibility</th>\n    </tr>\n  </thead>\n  <tbody>\n    <tr>\n      <th>0</th>\n      <td>81381827</td>\n      <td>SMILE ON 60+ Registration</td>\n      <td>NaN</td>\n      <td>11/25/2020 16:46</td>\n      <td>11/25/2020 16:48</td>\n      <td>2</td>\n      <td>3859874</td>\n      <td>136529</td>\n      <td>NaN</td>\n      <td>NaN</td>\n      <td>...</td>\n      <td>NaN</td>\n      <td>NaN</td>\n      <td>Matthew Walker Comprehensive Health Center Inc...</td>\n      <td>Provider Site</td>\n      <td>NaN</td>\n      <td>NaN</td>\n      <td>NaN</td>\n      <td>NaN</td>\n      <td>NaN</td>\n      <td>NaN</td>\n    </tr>\n    <tr>\n      <th>1</th>\n      <td>81379177</td>\n      <td>SMILE ON 60+ Registration</td>\n      <td>NaN</td>\n      <td>11/25/2020 15:40</td>\n      <td>11/25/2020 15:55</td>\n      <td>15</td>\n      <td>3859755</td>\n      <td>82341</td>\n      <td>NaN</td>\n      <td>NaN</td>\n      <td>...</td>\n      <td>NaN</td>\n      <td>NaN</td>\n      <td>NaN</td>\n      <td>Health Assist Office</td>\n      <td>NaN</td>\n      <td>NaN</td>\n      <td>NaN</td>\n      <td>NaN</td>\n      <td>NaN</td>\n      <td>NaN</td>\n    </tr>\n    <tr>\n      <th>2</th>\n      <td>81377435</td>\n      <td>SMILE ON 60+ Clinical</td>\n      <td>NaN</td>\n      <td>11/25/2020 15:02</td>\n      <td>11/25/2020 15:02</td>\n      <td>0</td>\n      <td>2518680</td>\n      <td>119506</td>\n      <td>NaN</td>\n      <td>NaN</td>\n      <td>...</td>\n      <td>NaN</td>\n      <td>NaN</td>\n      <td>Friends in Need Health Center - Kingsport</td>\n      <td>Provider Site</td>\n      <td>NaN</td>\n      <td>Yes</td>\n      <td>Yes</td>\n      <td>Yes</td>\n      <td>NaN</td>\n      <td>NaN</td>\n    </tr>\n    <tr>\n      <th>3</th>\n      <td>81375215</td>\n      <td>SMILE ON 60+ Clinical</td>\n      <td>NaN</td>\n      <td>11/25/2020 14:17</td>\n      <td>11/25/2020 14:17</td>\n      <td>0</td>\n      <td>3231923</td>\n      <td>143703</td>\n      <td>NaN</td>\n      <td>NaN</td>\n      <td>...</td>\n      <td>NaN</td>\n      <td>NaN</td>\n      <td>Christ Community Health Services- Frayser</td>\n      <td>Provider Site</td>\n      <td>NaN</td>\n      <td>NaN</td>\n      <td>NaN</td>\n      <td>NaN</td>\n      <td>NaN</td>\n      <td>NaN</td>\n    </tr>\n    <tr>\n      <th>4</th>\n      <td>81373934</td>\n      <td>SMILE ON 60+ Clinical</td>\n      <td>NaN</td>\n      <td>11/25/2020 13:50</td>\n      <td>11/25/2020 13:58</td>\n      <td>8</td>\n      <td>-1</td>\n      <td>135611</td>\n      <td>NaN</td>\n      <td>NaN</td>\n      <td>...</td>\n      <td>Urgent Care - within next week-pain or infection</td>\n      <td>Yes</td>\n      <td>Neighborhood Health - Lebanon</td>\n      <td>NaN</td>\n      <td>NaN</td>\n      <td>NaN</td>\n      <td>Yes</td>\n      <td>No</td>\n      <td>NaN</td>\n      <td>Yes</td>\n    </tr>\n  </tbody>\n</table>\n<p>5 rows × 184 columns</p>\n</div>"
     },
     "metadata": {},
     "execution_count": 76
    }
   ],
   "source": [
    "smile.head()"
   ]
  },
  {
   "cell_type": "code",
   "execution_count": 77,
   "metadata": {},
   "outputs": [
    {
     "output_type": "execute_result",
     "data": {
      "text/plain": [
       "(40032, 184)"
      ]
     },
     "metadata": {},
     "execution_count": 77
    }
   ],
   "source": [
    "smile.shape"
   ]
  },
  {
   "cell_type": "code",
   "execution_count": 78,
   "metadata": {},
   "outputs": [
    {
     "output_type": "stream",
     "name": "stdout",
     "text": [
      "<class 'pandas.core.frame.DataFrame'>\nRangeIndex: 40032 entries, 0 to 40031\nColumns: 184 entries, CallReportNum to SMILE ON 60+ Verification of Eligibility - Verification of Eligibility\ndtypes: float64(103), int64(6), object(75)\nmemory usage: 56.2+ MB\n"
     ]
    }
   ],
   "source": [
    " smile.info()"
   ]
  },
  {
   "cell_type": "code",
   "execution_count": 79,
   "metadata": {},
   "outputs": [
    {
     "output_type": "execute_result",
     "data": {
      "text/plain": [
       "       CallReportNum              ReportVersion  LinkedToCallReportNum  \\\n",
       "40027       53192452  SMILE ON 60+ Registration                    NaN   \n",
       "40028       67915561  SMILE ON 60+ Registration                    NaN   \n",
       "40029       67251405      SMILE ON 60+ Clinical                    NaN   \n",
       "40030       63063150      SMILE ON 60+ Clinical                    NaN   \n",
       "40031       70839903      SMILE ON 60+ Clinical                    NaN   \n",
       "\n",
       "      CallDateAndTimeStart CallDateAndTimeEnd  CallLength  CallerNum  \\\n",
       "40027      5/23/2018 14:11    5/23/2018 14:11           0         -1   \n",
       "40028       5/15/2018 9:06     5/15/2018 9:10           4    3239813   \n",
       "40029       5/10/2018 8:25     5/10/2018 8:26           1    2631417   \n",
       "40030        5/1/2018 8:14      5/1/2018 8:24          10         -1   \n",
       "40031       2/14/2018 8:10     2/14/2018 8:18           8         -1   \n",
       "\n",
       "       PhoneWorkerNum  WasRealCall  WasHangup  ...  \\\n",
       "40027           60132          NaN        NaN  ...   \n",
       "40028          128174          NaN        NaN  ...   \n",
       "40029          131347          NaN        NaN  ...   \n",
       "40030          116749          NaN        NaN  ...   \n",
       "40031          116749          NaN        NaN  ...   \n",
       "\n",
       "       SMILE ON 60+ Screening - Treatment Urgency  \\\n",
       "40027                                         NaN   \n",
       "40028                                         NaN   \n",
       "40029                                         NaN   \n",
       "40030                                         NaN   \n",
       "40031                                         NaN   \n",
       "\n",
       "       SMILE ON 60+ Screening - Untreated Decay  \\\n",
       "40027                                       NaN   \n",
       "40028                                       NaN   \n",
       "40029                                       NaN   \n",
       "40030                                       NaN   \n",
       "40031                                       NaN   \n",
       "\n",
       "       SMILE ON 60+ Site Information - Enroller ID  \\\n",
       "40027                                          NaN   \n",
       "40028               Church Health Center - Memphis   \n",
       "40029    Friends in Need Health Center - Kingsport   \n",
       "40030         Interfaith Dental Clinic - Nashville   \n",
       "40031         Interfaith Dental Clinic - Nashville   \n",
       "\n",
       "       SMILE ON 60+ Site Information - Enroller Location  \\\n",
       "40027                                                NaN   \n",
       "40028                                      Provider Site   \n",
       "40029                                      Provider Site   \n",
       "40030                                                NaN   \n",
       "40031                                                NaN   \n",
       "\n",
       "       SMILE ON 60+ Treatment Plan - Action: Upload After Picture on Finish Tab  \\\n",
       "40027                                                NaN                          \n",
       "40028                                                NaN                          \n",
       "40029                                      Not available                          \n",
       "40030                                                NaN                          \n",
       "40031                                                NaN                          \n",
       "\n",
       "       SMILE ON 60+ Treatment Plan - Is the treatment plan completed?  \\\n",
       "40027                                                NaN                \n",
       "40028                                                NaN                \n",
       "40029                                                 No                \n",
       "40030                                                NaN                \n",
       "40031                                                NaN                \n",
       "\n",
       "      SMILE ON 60+ Treatment Plan - Was a treatment plan developed?  \\\n",
       "40027                                                NaN              \n",
       "40028                                                NaN              \n",
       "40029                                                Yes              \n",
       "40030                                                NaN              \n",
       "40031                                                NaN              \n",
       "\n",
       "      SMILE ON 60+ Treatment Plan - Was the enrollee able to be restored to function (can chew) and \"social six\" esthetics (top front six teeth are present and disease free)  \\\n",
       "40027                                                NaN                                                                                                                        \n",
       "40028                                                NaN                                                                                                                        \n",
       "40029                                                Yes                                                                                                                        \n",
       "40030                                                NaN                                                                                                                        \n",
       "40031                                                NaN                                                                                                                        \n",
       "\n",
       "      SMILE ON 60+ Verification of Eligibility - Transportation Arranged  \\\n",
       "40027                                                NaN                   \n",
       "40028                                                NaN                   \n",
       "40029                                                NaN                   \n",
       "40030                                                NaN                   \n",
       "40031                                                NaN                   \n",
       "\n",
       "      SMILE ON 60+ Verification of Eligibility - Verification of Eligibility  \n",
       "40027                                                NaN                      \n",
       "40028                                                NaN                      \n",
       "40029                                                NaN                      \n",
       "40030                                                NaN                      \n",
       "40031                                                NaN                      \n",
       "\n",
       "[5 rows x 184 columns]"
      ],
      "text/html": "<div>\n<style scoped>\n    .dataframe tbody tr th:only-of-type {\n        vertical-align: middle;\n    }\n\n    .dataframe tbody tr th {\n        vertical-align: top;\n    }\n\n    .dataframe thead th {\n        text-align: right;\n    }\n</style>\n<table border=\"1\" class=\"dataframe\">\n  <thead>\n    <tr style=\"text-align: right;\">\n      <th></th>\n      <th>CallReportNum</th>\n      <th>ReportVersion</th>\n      <th>LinkedToCallReportNum</th>\n      <th>CallDateAndTimeStart</th>\n      <th>CallDateAndTimeEnd</th>\n      <th>CallLength</th>\n      <th>CallerNum</th>\n      <th>PhoneWorkerNum</th>\n      <th>WasRealCall</th>\n      <th>WasHangup</th>\n      <th>...</th>\n      <th>SMILE ON 60+ Screening - Treatment Urgency</th>\n      <th>SMILE ON 60+ Screening - Untreated Decay</th>\n      <th>SMILE ON 60+ Site Information - Enroller ID</th>\n      <th>SMILE ON 60+ Site Information - Enroller Location</th>\n      <th>SMILE ON 60+ Treatment Plan - Action: Upload After Picture on Finish Tab</th>\n      <th>SMILE ON 60+ Treatment Plan - Is the treatment plan completed?</th>\n      <th>SMILE ON 60+ Treatment Plan - Was a treatment plan developed?</th>\n      <th>SMILE ON 60+ Treatment Plan - Was the enrollee able to be restored to function (can chew) and \"social six\" esthetics (top front six teeth are present and disease free)</th>\n      <th>SMILE ON 60+ Verification of Eligibility - Transportation Arranged</th>\n      <th>SMILE ON 60+ Verification of Eligibility - Verification of Eligibility</th>\n    </tr>\n  </thead>\n  <tbody>\n    <tr>\n      <th>40027</th>\n      <td>53192452</td>\n      <td>SMILE ON 60+ Registration</td>\n      <td>NaN</td>\n      <td>5/23/2018 14:11</td>\n      <td>5/23/2018 14:11</td>\n      <td>0</td>\n      <td>-1</td>\n      <td>60132</td>\n      <td>NaN</td>\n      <td>NaN</td>\n      <td>...</td>\n      <td>NaN</td>\n      <td>NaN</td>\n      <td>NaN</td>\n      <td>NaN</td>\n      <td>NaN</td>\n      <td>NaN</td>\n      <td>NaN</td>\n      <td>NaN</td>\n      <td>NaN</td>\n      <td>NaN</td>\n    </tr>\n    <tr>\n      <th>40028</th>\n      <td>67915561</td>\n      <td>SMILE ON 60+ Registration</td>\n      <td>NaN</td>\n      <td>5/15/2018 9:06</td>\n      <td>5/15/2018 9:10</td>\n      <td>4</td>\n      <td>3239813</td>\n      <td>128174</td>\n      <td>NaN</td>\n      <td>NaN</td>\n      <td>...</td>\n      <td>NaN</td>\n      <td>NaN</td>\n      <td>Church Health Center - Memphis</td>\n      <td>Provider Site</td>\n      <td>NaN</td>\n      <td>NaN</td>\n      <td>NaN</td>\n      <td>NaN</td>\n      <td>NaN</td>\n      <td>NaN</td>\n    </tr>\n    <tr>\n      <th>40029</th>\n      <td>67251405</td>\n      <td>SMILE ON 60+ Clinical</td>\n      <td>NaN</td>\n      <td>5/10/2018 8:25</td>\n      <td>5/10/2018 8:26</td>\n      <td>1</td>\n      <td>2631417</td>\n      <td>131347</td>\n      <td>NaN</td>\n      <td>NaN</td>\n      <td>...</td>\n      <td>NaN</td>\n      <td>NaN</td>\n      <td>Friends in Need Health Center - Kingsport</td>\n      <td>Provider Site</td>\n      <td>Not available</td>\n      <td>No</td>\n      <td>Yes</td>\n      <td>Yes</td>\n      <td>NaN</td>\n      <td>NaN</td>\n    </tr>\n    <tr>\n      <th>40030</th>\n      <td>63063150</td>\n      <td>SMILE ON 60+ Clinical</td>\n      <td>NaN</td>\n      <td>5/1/2018 8:14</td>\n      <td>5/1/2018 8:24</td>\n      <td>10</td>\n      <td>-1</td>\n      <td>116749</td>\n      <td>NaN</td>\n      <td>NaN</td>\n      <td>...</td>\n      <td>NaN</td>\n      <td>NaN</td>\n      <td>Interfaith Dental Clinic - Nashville</td>\n      <td>NaN</td>\n      <td>NaN</td>\n      <td>NaN</td>\n      <td>NaN</td>\n      <td>NaN</td>\n      <td>NaN</td>\n      <td>NaN</td>\n    </tr>\n    <tr>\n      <th>40031</th>\n      <td>70839903</td>\n      <td>SMILE ON 60+ Clinical</td>\n      <td>NaN</td>\n      <td>2/14/2018 8:10</td>\n      <td>2/14/2018 8:18</td>\n      <td>8</td>\n      <td>-1</td>\n      <td>116749</td>\n      <td>NaN</td>\n      <td>NaN</td>\n      <td>...</td>\n      <td>NaN</td>\n      <td>NaN</td>\n      <td>Interfaith Dental Clinic - Nashville</td>\n      <td>NaN</td>\n      <td>NaN</td>\n      <td>NaN</td>\n      <td>NaN</td>\n      <td>NaN</td>\n      <td>NaN</td>\n      <td>NaN</td>\n    </tr>\n  </tbody>\n</table>\n<p>5 rows × 184 columns</p>\n</div>"
     },
     "metadata": {},
     "execution_count": 79
    }
   ],
   "source": [
    "smile.tail()"
   ]
  },
  {
   "source": [
    "## Removal Of Unused Columns "
   ],
   "cell_type": "markdown",
   "metadata": {}
  },
  {
   "cell_type": "code",
   "execution_count": 80,
   "metadata": {},
   "outputs": [],
   "source": [
    "smile_v1 = smile.drop(columns = ['WasRealCall', 'WasHangup', 'WasSexCall','WasWrongNumber', 'WasPrankCall','WasSilentCall','GeoCode','GeoAssignment','CensusDivision','CensusTrack','CensusReportingArea','211Region','PhoneType','ThirdPartyName','ThirdPartyOrganization','ThirdPartyPhoneNumber','ThirdPartyAddress','ThirdPartyCity','ThirdPartyCounty','ThirdPartyStateProvince','ThirdPartyPostalCode','VolunteerComments','CallersFeedback','TextField2','TextField3','TextField4','TextField5','TextField6','TextField7','TextField8','TextField9','TextField10','Supervisor','IPAddress','OrgNum','VolIdentifier','LinkedToCallReportNum'])"
   ]
  },
  {
   "cell_type": "code",
   "execution_count": 81,
   "metadata": {},
   "outputs": [
    {
     "output_type": "execute_result",
     "data": {
      "text/plain": [
       "(40032, 147)"
      ]
     },
     "metadata": {},
     "execution_count": 81
    }
   ],
   "source": [
    "smile_v1.shape"
   ]
  },
  {
   "cell_type": "code",
   "execution_count": 82,
   "metadata": {},
   "outputs": [
    {
     "output_type": "execute_result",
     "data": {
      "text/plain": [
       "   CallReportNum              ReportVersion CallDateAndTimeStart  \\\n",
       "0       81381827  SMILE ON 60+ Registration     11/25/2020 16:46   \n",
       "1       81379177  SMILE ON 60+ Registration     11/25/2020 15:40   \n",
       "2       81377435      SMILE ON 60+ Clinical     11/25/2020 15:02   \n",
       "3       81375215      SMILE ON 60+ Clinical     11/25/2020 14:17   \n",
       "4       81373934      SMILE ON 60+ Clinical     11/25/2020 13:50   \n",
       "\n",
       "  CallDateAndTimeEnd  CallLength  CallerNum  PhoneWorkerNum     CityName  \\\n",
       "0   11/25/2020 16:48           2    3859874          136529  Springfield   \n",
       "1   11/25/2020 15:55          15    3859755           82341    Nashville   \n",
       "2   11/25/2020 15:02           0    2518680          119506  Rogersville   \n",
       "3   11/25/2020 14:17           0    3231923          143703      Memphis   \n",
       "4   11/25/2020 13:58           8         -1          135611          NaN   \n",
       "\n",
       "  CountyName StateProvince  ...  \\\n",
       "0  Robertson            TN  ...   \n",
       "1   Davidson            TN  ...   \n",
       "2    Hawkins            TN  ...   \n",
       "3     Shelby            TN  ...   \n",
       "4        NaN            TN  ...   \n",
       "\n",
       "         SMILE ON 60+ Screening - Treatment Urgency  \\\n",
       "0                                               NaN   \n",
       "1                                               NaN   \n",
       "2                                               NaN   \n",
       "3                                               NaN   \n",
       "4  Urgent Care - within next week-pain or infection   \n",
       "\n",
       "   SMILE ON 60+ Screening - Untreated Decay  \\\n",
       "0                                       NaN   \n",
       "1                                       NaN   \n",
       "2                                       NaN   \n",
       "3                                       NaN   \n",
       "4                                       Yes   \n",
       "\n",
       "         SMILE ON 60+ Site Information - Enroller ID  \\\n",
       "0  Matthew Walker Comprehensive Health Center Inc...   \n",
       "1                                                NaN   \n",
       "2          Friends in Need Health Center - Kingsport   \n",
       "3          Christ Community Health Services- Frayser   \n",
       "4                      Neighborhood Health - Lebanon   \n",
       "\n",
       "  SMILE ON 60+ Site Information - Enroller Location  \\\n",
       "0                                     Provider Site   \n",
       "1                              Health Assist Office   \n",
       "2                                     Provider Site   \n",
       "3                                     Provider Site   \n",
       "4                                               NaN   \n",
       "\n",
       "   SMILE ON 60+ Treatment Plan - Action: Upload After Picture on Finish Tab  \\\n",
       "0                                                NaN                          \n",
       "1                                                NaN                          \n",
       "2                                                NaN                          \n",
       "3                                                NaN                          \n",
       "4                                                NaN                          \n",
       "\n",
       "  SMILE ON 60+ Treatment Plan - Is the treatment plan completed?  \\\n",
       "0                                                NaN               \n",
       "1                                                NaN               \n",
       "2                                                Yes               \n",
       "3                                                NaN               \n",
       "4                                                NaN               \n",
       "\n",
       "  SMILE ON 60+ Treatment Plan - Was a treatment plan developed?  \\\n",
       "0                                                NaN              \n",
       "1                                                NaN              \n",
       "2                                                Yes              \n",
       "3                                                NaN              \n",
       "4                                                Yes              \n",
       "\n",
       "  SMILE ON 60+ Treatment Plan - Was the enrollee able to be restored to function (can chew) and \"social six\" esthetics (top front six teeth are present and disease free)  \\\n",
       "0                                                NaN                                                                                                                        \n",
       "1                                                NaN                                                                                                                        \n",
       "2                                                Yes                                                                                                                        \n",
       "3                                                NaN                                                                                                                        \n",
       "4                                                 No                                                                                                                        \n",
       "\n",
       "   SMILE ON 60+ Verification of Eligibility - Transportation Arranged  \\\n",
       "0                                                NaN                    \n",
       "1                                                NaN                    \n",
       "2                                                NaN                    \n",
       "3                                                NaN                    \n",
       "4                                                NaN                    \n",
       "\n",
       "  SMILE ON 60+ Verification of Eligibility - Verification of Eligibility  \n",
       "0                                                NaN                      \n",
       "1                                                NaN                      \n",
       "2                                                NaN                      \n",
       "3                                                NaN                      \n",
       "4                                                Yes                      \n",
       "\n",
       "[5 rows x 147 columns]"
      ],
      "text/html": "<div>\n<style scoped>\n    .dataframe tbody tr th:only-of-type {\n        vertical-align: middle;\n    }\n\n    .dataframe tbody tr th {\n        vertical-align: top;\n    }\n\n    .dataframe thead th {\n        text-align: right;\n    }\n</style>\n<table border=\"1\" class=\"dataframe\">\n  <thead>\n    <tr style=\"text-align: right;\">\n      <th></th>\n      <th>CallReportNum</th>\n      <th>ReportVersion</th>\n      <th>CallDateAndTimeStart</th>\n      <th>CallDateAndTimeEnd</th>\n      <th>CallLength</th>\n      <th>CallerNum</th>\n      <th>PhoneWorkerNum</th>\n      <th>CityName</th>\n      <th>CountyName</th>\n      <th>StateProvince</th>\n      <th>...</th>\n      <th>SMILE ON 60+ Screening - Treatment Urgency</th>\n      <th>SMILE ON 60+ Screening - Untreated Decay</th>\n      <th>SMILE ON 60+ Site Information - Enroller ID</th>\n      <th>SMILE ON 60+ Site Information - Enroller Location</th>\n      <th>SMILE ON 60+ Treatment Plan - Action: Upload After Picture on Finish Tab</th>\n      <th>SMILE ON 60+ Treatment Plan - Is the treatment plan completed?</th>\n      <th>SMILE ON 60+ Treatment Plan - Was a treatment plan developed?</th>\n      <th>SMILE ON 60+ Treatment Plan - Was the enrollee able to be restored to function (can chew) and \"social six\" esthetics (top front six teeth are present and disease free)</th>\n      <th>SMILE ON 60+ Verification of Eligibility - Transportation Arranged</th>\n      <th>SMILE ON 60+ Verification of Eligibility - Verification of Eligibility</th>\n    </tr>\n  </thead>\n  <tbody>\n    <tr>\n      <th>0</th>\n      <td>81381827</td>\n      <td>SMILE ON 60+ Registration</td>\n      <td>11/25/2020 16:46</td>\n      <td>11/25/2020 16:48</td>\n      <td>2</td>\n      <td>3859874</td>\n      <td>136529</td>\n      <td>Springfield</td>\n      <td>Robertson</td>\n      <td>TN</td>\n      <td>...</td>\n      <td>NaN</td>\n      <td>NaN</td>\n      <td>Matthew Walker Comprehensive Health Center Inc...</td>\n      <td>Provider Site</td>\n      <td>NaN</td>\n      <td>NaN</td>\n      <td>NaN</td>\n      <td>NaN</td>\n      <td>NaN</td>\n      <td>NaN</td>\n    </tr>\n    <tr>\n      <th>1</th>\n      <td>81379177</td>\n      <td>SMILE ON 60+ Registration</td>\n      <td>11/25/2020 15:40</td>\n      <td>11/25/2020 15:55</td>\n      <td>15</td>\n      <td>3859755</td>\n      <td>82341</td>\n      <td>Nashville</td>\n      <td>Davidson</td>\n      <td>TN</td>\n      <td>...</td>\n      <td>NaN</td>\n      <td>NaN</td>\n      <td>NaN</td>\n      <td>Health Assist Office</td>\n      <td>NaN</td>\n      <td>NaN</td>\n      <td>NaN</td>\n      <td>NaN</td>\n      <td>NaN</td>\n      <td>NaN</td>\n    </tr>\n    <tr>\n      <th>2</th>\n      <td>81377435</td>\n      <td>SMILE ON 60+ Clinical</td>\n      <td>11/25/2020 15:02</td>\n      <td>11/25/2020 15:02</td>\n      <td>0</td>\n      <td>2518680</td>\n      <td>119506</td>\n      <td>Rogersville</td>\n      <td>Hawkins</td>\n      <td>TN</td>\n      <td>...</td>\n      <td>NaN</td>\n      <td>NaN</td>\n      <td>Friends in Need Health Center - Kingsport</td>\n      <td>Provider Site</td>\n      <td>NaN</td>\n      <td>Yes</td>\n      <td>Yes</td>\n      <td>Yes</td>\n      <td>NaN</td>\n      <td>NaN</td>\n    </tr>\n    <tr>\n      <th>3</th>\n      <td>81375215</td>\n      <td>SMILE ON 60+ Clinical</td>\n      <td>11/25/2020 14:17</td>\n      <td>11/25/2020 14:17</td>\n      <td>0</td>\n      <td>3231923</td>\n      <td>143703</td>\n      <td>Memphis</td>\n      <td>Shelby</td>\n      <td>TN</td>\n      <td>...</td>\n      <td>NaN</td>\n      <td>NaN</td>\n      <td>Christ Community Health Services- Frayser</td>\n      <td>Provider Site</td>\n      <td>NaN</td>\n      <td>NaN</td>\n      <td>NaN</td>\n      <td>NaN</td>\n      <td>NaN</td>\n      <td>NaN</td>\n    </tr>\n    <tr>\n      <th>4</th>\n      <td>81373934</td>\n      <td>SMILE ON 60+ Clinical</td>\n      <td>11/25/2020 13:50</td>\n      <td>11/25/2020 13:58</td>\n      <td>8</td>\n      <td>-1</td>\n      <td>135611</td>\n      <td>NaN</td>\n      <td>NaN</td>\n      <td>TN</td>\n      <td>...</td>\n      <td>Urgent Care - within next week-pain or infection</td>\n      <td>Yes</td>\n      <td>Neighborhood Health - Lebanon</td>\n      <td>NaN</td>\n      <td>NaN</td>\n      <td>NaN</td>\n      <td>Yes</td>\n      <td>No</td>\n      <td>NaN</td>\n      <td>Yes</td>\n    </tr>\n  </tbody>\n</table>\n<p>5 rows × 147 columns</p>\n</div>"
     },
     "metadata": {},
     "execution_count": 82
    }
   ],
   "source": [
    "smile_v1.head()"
   ]
  },
  {
   "source": [
    "### Removal of all columns other than \"Yellow\" in Data Dictionary"
   ],
   "cell_type": "markdown",
   "metadata": {}
  },
  {
   "cell_type": "code",
   "execution_count": 83,
   "metadata": {},
   "outputs": [],
   "source": [
    "smile_onlyyellow = smile[['CallReportNum','CallerNum','SMILE ON 60+ Screening - Last Screening Date','SMILE ON 60+ Oral Care Encounter - What care was provided to the enrollee? (Select all that apply)','SMILE ON 60+ Site Information - Enroller ID','SMILE ON 60+ Treatment Plan - Is the treatment plan completed?','SMILE ON 60+ Treatment Plan - Was a treatment plan developed?','SMILE ON 60+ Treatment Plan - Was the enrollee able to be restored to function (can chew) and \"social six\" esthetics (top front six teeth are present and disease free)']]"
   ]
  },
  {
   "cell_type": "code",
   "execution_count": 84,
   "metadata": {},
   "outputs": [
    {
     "output_type": "execute_result",
     "data": {
      "text/plain": [
       "       CallReportNum  CallerNum SMILE ON 60+ Screening - Last Screening Date  \\\n",
       "0           81381827    3859874                                          NaN   \n",
       "1           81379177    3859755                                          NaN   \n",
       "2           81377435    2518680                                          NaN   \n",
       "3           81375215    3231923                                          NaN   \n",
       "4           81373934         -1                                   11/25/2020   \n",
       "...              ...        ...                                          ...   \n",
       "40027       53192452         -1                                          NaN   \n",
       "40028       67915561    3239813                                          NaN   \n",
       "40029       67251405    2631417                                   11/29/2018   \n",
       "40030       63063150         -1                                          NaN   \n",
       "40031       70839903         -1                                          NaN   \n",
       "\n",
       "      SMILE ON 60+ Oral Care Encounter - What care was provided to the enrollee? (Select all that apply)  \\\n",
       "0                                                    NaN                                                   \n",
       "1                                                    NaN                                                   \n",
       "2      5650 - Add tooth to existing partial denture - 30                                                   \n",
       "3      No Code - Denture step Mandibular: may be used...                                                   \n",
       "4                                                    NaN                                                   \n",
       "...                                                  ...                                                   \n",
       "40027                                                NaN                                                   \n",
       "40028                                                NaN                                                   \n",
       "40029                                                NaN                                                   \n",
       "40030                              Case Management - $50                                                   \n",
       "40031  D5284 - Removable unilateral partial denture/o...                                                   \n",
       "\n",
       "             SMILE ON 60+ Site Information - Enroller ID  \\\n",
       "0      Matthew Walker Comprehensive Health Center Inc...   \n",
       "1                                                    NaN   \n",
       "2              Friends in Need Health Center - Kingsport   \n",
       "3              Christ Community Health Services- Frayser   \n",
       "4                          Neighborhood Health - Lebanon   \n",
       "...                                                  ...   \n",
       "40027                                                NaN   \n",
       "40028                     Church Health Center - Memphis   \n",
       "40029          Friends in Need Health Center - Kingsport   \n",
       "40030               Interfaith Dental Clinic - Nashville   \n",
       "40031               Interfaith Dental Clinic - Nashville   \n",
       "\n",
       "      SMILE ON 60+ Treatment Plan - Is the treatment plan completed?  \\\n",
       "0                                                    NaN               \n",
       "1                                                    NaN               \n",
       "2                                                    Yes               \n",
       "3                                                    NaN               \n",
       "4                                                    NaN               \n",
       "...                                                  ...               \n",
       "40027                                                NaN               \n",
       "40028                                                NaN               \n",
       "40029                                                 No               \n",
       "40030                                                NaN               \n",
       "40031                                                NaN               \n",
       "\n",
       "      SMILE ON 60+ Treatment Plan - Was a treatment plan developed?  \\\n",
       "0                                                    NaN              \n",
       "1                                                    NaN              \n",
       "2                                                    Yes              \n",
       "3                                                    NaN              \n",
       "4                                                    Yes              \n",
       "...                                                  ...              \n",
       "40027                                                NaN              \n",
       "40028                                                NaN              \n",
       "40029                                                Yes              \n",
       "40030                                                NaN              \n",
       "40031                                                NaN              \n",
       "\n",
       "      SMILE ON 60+ Treatment Plan - Was the enrollee able to be restored to function (can chew) and \"social six\" esthetics (top front six teeth are present and disease free)  \n",
       "0                                                    NaN                                                                                                                       \n",
       "1                                                    NaN                                                                                                                       \n",
       "2                                                    Yes                                                                                                                       \n",
       "3                                                    NaN                                                                                                                       \n",
       "4                                                     No                                                                                                                       \n",
       "...                                                  ...                                                                                                                       \n",
       "40027                                                NaN                                                                                                                       \n",
       "40028                                                NaN                                                                                                                       \n",
       "40029                                                Yes                                                                                                                       \n",
       "40030                                                NaN                                                                                                                       \n",
       "40031                                                NaN                                                                                                                       \n",
       "\n",
       "[40032 rows x 8 columns]"
      ],
      "text/html": "<div>\n<style scoped>\n    .dataframe tbody tr th:only-of-type {\n        vertical-align: middle;\n    }\n\n    .dataframe tbody tr th {\n        vertical-align: top;\n    }\n\n    .dataframe thead th {\n        text-align: right;\n    }\n</style>\n<table border=\"1\" class=\"dataframe\">\n  <thead>\n    <tr style=\"text-align: right;\">\n      <th></th>\n      <th>CallReportNum</th>\n      <th>CallerNum</th>\n      <th>SMILE ON 60+ Screening - Last Screening Date</th>\n      <th>SMILE ON 60+ Oral Care Encounter - What care was provided to the enrollee? (Select all that apply)</th>\n      <th>SMILE ON 60+ Site Information - Enroller ID</th>\n      <th>SMILE ON 60+ Treatment Plan - Is the treatment plan completed?</th>\n      <th>SMILE ON 60+ Treatment Plan - Was a treatment plan developed?</th>\n      <th>SMILE ON 60+ Treatment Plan - Was the enrollee able to be restored to function (can chew) and \"social six\" esthetics (top front six teeth are present and disease free)</th>\n    </tr>\n  </thead>\n  <tbody>\n    <tr>\n      <th>0</th>\n      <td>81381827</td>\n      <td>3859874</td>\n      <td>NaN</td>\n      <td>NaN</td>\n      <td>Matthew Walker Comprehensive Health Center Inc...</td>\n      <td>NaN</td>\n      <td>NaN</td>\n      <td>NaN</td>\n    </tr>\n    <tr>\n      <th>1</th>\n      <td>81379177</td>\n      <td>3859755</td>\n      <td>NaN</td>\n      <td>NaN</td>\n      <td>NaN</td>\n      <td>NaN</td>\n      <td>NaN</td>\n      <td>NaN</td>\n    </tr>\n    <tr>\n      <th>2</th>\n      <td>81377435</td>\n      <td>2518680</td>\n      <td>NaN</td>\n      <td>5650 - Add tooth to existing partial denture - 30</td>\n      <td>Friends in Need Health Center - Kingsport</td>\n      <td>Yes</td>\n      <td>Yes</td>\n      <td>Yes</td>\n    </tr>\n    <tr>\n      <th>3</th>\n      <td>81375215</td>\n      <td>3231923</td>\n      <td>NaN</td>\n      <td>No Code - Denture step Mandibular: may be used...</td>\n      <td>Christ Community Health Services- Frayser</td>\n      <td>NaN</td>\n      <td>NaN</td>\n      <td>NaN</td>\n    </tr>\n    <tr>\n      <th>4</th>\n      <td>81373934</td>\n      <td>-1</td>\n      <td>11/25/2020</td>\n      <td>NaN</td>\n      <td>Neighborhood Health - Lebanon</td>\n      <td>NaN</td>\n      <td>Yes</td>\n      <td>No</td>\n    </tr>\n    <tr>\n      <th>...</th>\n      <td>...</td>\n      <td>...</td>\n      <td>...</td>\n      <td>...</td>\n      <td>...</td>\n      <td>...</td>\n      <td>...</td>\n      <td>...</td>\n    </tr>\n    <tr>\n      <th>40027</th>\n      <td>53192452</td>\n      <td>-1</td>\n      <td>NaN</td>\n      <td>NaN</td>\n      <td>NaN</td>\n      <td>NaN</td>\n      <td>NaN</td>\n      <td>NaN</td>\n    </tr>\n    <tr>\n      <th>40028</th>\n      <td>67915561</td>\n      <td>3239813</td>\n      <td>NaN</td>\n      <td>NaN</td>\n      <td>Church Health Center - Memphis</td>\n      <td>NaN</td>\n      <td>NaN</td>\n      <td>NaN</td>\n    </tr>\n    <tr>\n      <th>40029</th>\n      <td>67251405</td>\n      <td>2631417</td>\n      <td>11/29/2018</td>\n      <td>NaN</td>\n      <td>Friends in Need Health Center - Kingsport</td>\n      <td>No</td>\n      <td>Yes</td>\n      <td>Yes</td>\n    </tr>\n    <tr>\n      <th>40030</th>\n      <td>63063150</td>\n      <td>-1</td>\n      <td>NaN</td>\n      <td>Case Management - $50</td>\n      <td>Interfaith Dental Clinic - Nashville</td>\n      <td>NaN</td>\n      <td>NaN</td>\n      <td>NaN</td>\n    </tr>\n    <tr>\n      <th>40031</th>\n      <td>70839903</td>\n      <td>-1</td>\n      <td>NaN</td>\n      <td>D5284 - Removable unilateral partial denture/o...</td>\n      <td>Interfaith Dental Clinic - Nashville</td>\n      <td>NaN</td>\n      <td>NaN</td>\n      <td>NaN</td>\n    </tr>\n  </tbody>\n</table>\n<p>40032 rows × 8 columns</p>\n</div>"
     },
     "metadata": {},
     "execution_count": 84
    }
   ],
   "source": [
    "smile_onlyyellow"
   ]
  },
  {
   "source": [
    "### Renaming of columns so to remove issue with \"ON\" within column title. "
   ],
   "cell_type": "markdown",
   "metadata": {}
  },
  {
   "cell_type": "code",
   "execution_count": 85,
   "metadata": {},
   "outputs": [],
   "source": [
    "smile_onlyyellow = smile_onlyyellow.rename(columns = {'SMILE ON 60+ Screening - Last Screening Date':'screening_date', 'SMILE ON 60+ Oral Care Encounter - What care was provided to the enrollee? (Select all that apply)':'care_provided', 'SMILE ON 60+ Site Information - Enroller ID':'site', 'SMILE ON 60+ Treatment Plan - Is the treatment plan completed?':'treatment_plan_complete','SMILE ON 60+ Treatment Plan - Was a treatment plan developed?':'treatment_plan_developed','SMILE ON 60+ Treatment Plan - Was the enrollee able to be restored to function (can chew) and \"social six\" esthetics (top front six teeth are present and disease free)':'restored_to_function'})"
   ]
  },
  {
   "cell_type": "code",
   "execution_count": 86,
   "metadata": {},
   "outputs": [
    {
     "output_type": "execute_result",
     "data": {
      "text/plain": [
       "       CallReportNum  CallerNum screening_date  \\\n",
       "0           81381827    3859874            NaN   \n",
       "1           81379177    3859755            NaN   \n",
       "2           81377435    2518680            NaN   \n",
       "3           81375215    3231923            NaN   \n",
       "4           81373934         -1     11/25/2020   \n",
       "...              ...        ...            ...   \n",
       "40027       53192452         -1            NaN   \n",
       "40028       67915561    3239813            NaN   \n",
       "40029       67251405    2631417     11/29/2018   \n",
       "40030       63063150         -1            NaN   \n",
       "40031       70839903         -1            NaN   \n",
       "\n",
       "                                           care_provided  \\\n",
       "0                                                    NaN   \n",
       "1                                                    NaN   \n",
       "2      5650 - Add tooth to existing partial denture - 30   \n",
       "3      No Code - Denture step Mandibular: may be used...   \n",
       "4                                                    NaN   \n",
       "...                                                  ...   \n",
       "40027                                                NaN   \n",
       "40028                                                NaN   \n",
       "40029                                                NaN   \n",
       "40030                              Case Management - $50   \n",
       "40031  D5284 - Removable unilateral partial denture/o...   \n",
       "\n",
       "                                                    site  \\\n",
       "0      Matthew Walker Comprehensive Health Center Inc...   \n",
       "1                                                    NaN   \n",
       "2              Friends in Need Health Center - Kingsport   \n",
       "3              Christ Community Health Services- Frayser   \n",
       "4                          Neighborhood Health - Lebanon   \n",
       "...                                                  ...   \n",
       "40027                                                NaN   \n",
       "40028                     Church Health Center - Memphis   \n",
       "40029          Friends in Need Health Center - Kingsport   \n",
       "40030               Interfaith Dental Clinic - Nashville   \n",
       "40031               Interfaith Dental Clinic - Nashville   \n",
       "\n",
       "      treatment_plan_complete treatment_plan_developed restored_to_function  \n",
       "0                         NaN                      NaN                  NaN  \n",
       "1                         NaN                      NaN                  NaN  \n",
       "2                         Yes                      Yes                  Yes  \n",
       "3                         NaN                      NaN                  NaN  \n",
       "4                         NaN                      Yes                   No  \n",
       "...                       ...                      ...                  ...  \n",
       "40027                     NaN                      NaN                  NaN  \n",
       "40028                     NaN                      NaN                  NaN  \n",
       "40029                      No                      Yes                  Yes  \n",
       "40030                     NaN                      NaN                  NaN  \n",
       "40031                     NaN                      NaN                  NaN  \n",
       "\n",
       "[40032 rows x 8 columns]"
      ],
      "text/html": "<div>\n<style scoped>\n    .dataframe tbody tr th:only-of-type {\n        vertical-align: middle;\n    }\n\n    .dataframe tbody tr th {\n        vertical-align: top;\n    }\n\n    .dataframe thead th {\n        text-align: right;\n    }\n</style>\n<table border=\"1\" class=\"dataframe\">\n  <thead>\n    <tr style=\"text-align: right;\">\n      <th></th>\n      <th>CallReportNum</th>\n      <th>CallerNum</th>\n      <th>screening_date</th>\n      <th>care_provided</th>\n      <th>site</th>\n      <th>treatment_plan_complete</th>\n      <th>treatment_plan_developed</th>\n      <th>restored_to_function</th>\n    </tr>\n  </thead>\n  <tbody>\n    <tr>\n      <th>0</th>\n      <td>81381827</td>\n      <td>3859874</td>\n      <td>NaN</td>\n      <td>NaN</td>\n      <td>Matthew Walker Comprehensive Health Center Inc...</td>\n      <td>NaN</td>\n      <td>NaN</td>\n      <td>NaN</td>\n    </tr>\n    <tr>\n      <th>1</th>\n      <td>81379177</td>\n      <td>3859755</td>\n      <td>NaN</td>\n      <td>NaN</td>\n      <td>NaN</td>\n      <td>NaN</td>\n      <td>NaN</td>\n      <td>NaN</td>\n    </tr>\n    <tr>\n      <th>2</th>\n      <td>81377435</td>\n      <td>2518680</td>\n      <td>NaN</td>\n      <td>5650 - Add tooth to existing partial denture - 30</td>\n      <td>Friends in Need Health Center - Kingsport</td>\n      <td>Yes</td>\n      <td>Yes</td>\n      <td>Yes</td>\n    </tr>\n    <tr>\n      <th>3</th>\n      <td>81375215</td>\n      <td>3231923</td>\n      <td>NaN</td>\n      <td>No Code - Denture step Mandibular: may be used...</td>\n      <td>Christ Community Health Services- Frayser</td>\n      <td>NaN</td>\n      <td>NaN</td>\n      <td>NaN</td>\n    </tr>\n    <tr>\n      <th>4</th>\n      <td>81373934</td>\n      <td>-1</td>\n      <td>11/25/2020</td>\n      <td>NaN</td>\n      <td>Neighborhood Health - Lebanon</td>\n      <td>NaN</td>\n      <td>Yes</td>\n      <td>No</td>\n    </tr>\n    <tr>\n      <th>...</th>\n      <td>...</td>\n      <td>...</td>\n      <td>...</td>\n      <td>...</td>\n      <td>...</td>\n      <td>...</td>\n      <td>...</td>\n      <td>...</td>\n    </tr>\n    <tr>\n      <th>40027</th>\n      <td>53192452</td>\n      <td>-1</td>\n      <td>NaN</td>\n      <td>NaN</td>\n      <td>NaN</td>\n      <td>NaN</td>\n      <td>NaN</td>\n      <td>NaN</td>\n    </tr>\n    <tr>\n      <th>40028</th>\n      <td>67915561</td>\n      <td>3239813</td>\n      <td>NaN</td>\n      <td>NaN</td>\n      <td>Church Health Center - Memphis</td>\n      <td>NaN</td>\n      <td>NaN</td>\n      <td>NaN</td>\n    </tr>\n    <tr>\n      <th>40029</th>\n      <td>67251405</td>\n      <td>2631417</td>\n      <td>11/29/2018</td>\n      <td>NaN</td>\n      <td>Friends in Need Health Center - Kingsport</td>\n      <td>No</td>\n      <td>Yes</td>\n      <td>Yes</td>\n    </tr>\n    <tr>\n      <th>40030</th>\n      <td>63063150</td>\n      <td>-1</td>\n      <td>NaN</td>\n      <td>Case Management - $50</td>\n      <td>Interfaith Dental Clinic - Nashville</td>\n      <td>NaN</td>\n      <td>NaN</td>\n      <td>NaN</td>\n    </tr>\n    <tr>\n      <th>40031</th>\n      <td>70839903</td>\n      <td>-1</td>\n      <td>NaN</td>\n      <td>D5284 - Removable unilateral partial denture/o...</td>\n      <td>Interfaith Dental Clinic - Nashville</td>\n      <td>NaN</td>\n      <td>NaN</td>\n      <td>NaN</td>\n    </tr>\n  </tbody>\n</table>\n<p>40032 rows × 8 columns</p>\n</div>"
     },
     "metadata": {},
     "execution_count": 86
    }
   ],
   "source": [
    "smile_onlyyellow"
   ]
  },
  {
   "cell_type": "code",
   "execution_count": 87,
   "metadata": {},
   "outputs": [
    {
     "output_type": "stream",
     "name": "stdout",
     "text": [
      "<class 'pandas.core.frame.DataFrame'>\nRangeIndex: 40032 entries, 0 to 40031\nData columns (total 8 columns):\n #   Column                    Non-Null Count  Dtype \n---  ------                    --------------  ----- \n 0   CallReportNum             40032 non-null  int64 \n 1   CallerNum                 40032 non-null  int64 \n 2   screening_date            14892 non-null  object\n 3   care_provided             24849 non-null  object\n 4   site                      32801 non-null  object\n 5   treatment_plan_complete   17535 non-null  object\n 6   treatment_plan_developed  17028 non-null  object\n 7   restored_to_function      14276 non-null  object\ndtypes: int64(2), object(6)\nmemory usage: 2.4+ MB\n"
     ]
    }
   ],
   "source": [
    "smile_onlyyellow.info()"
   ]
  },
  {
   "cell_type": "code",
   "execution_count": 88,
   "metadata": {},
   "outputs": [
    {
     "output_type": "execute_result",
     "data": {
      "text/plain": [
       "Yes    15930\n",
       "No      1098\n",
       "Name: treatment_plan_developed, dtype: int64"
      ]
     },
     "metadata": {},
     "execution_count": 88
    }
   ],
   "source": [
    "smile_onlyyellow.treatment_plan_developed.value_counts(ascending= False)"
   ]
  },
  {
   "cell_type": "code",
   "execution_count": 89,
   "metadata": {},
   "outputs": [
    {
     "output_type": "execute_result",
     "data": {
      "text/plain": [
       "No     12431\n",
       "Yes     5104\n",
       "Name: treatment_plan_complete, dtype: int64"
      ]
     },
     "metadata": {},
     "execution_count": 89
    }
   ],
   "source": [
    "smile_onlyyellow.treatment_plan_complete.value_counts()"
   ]
  },
  {
   "cell_type": "code",
   "execution_count": 90,
   "metadata": {},
   "outputs": [
    {
     "output_type": "execute_result",
     "data": {
      "text/plain": [
       "-1          70\n",
       " 2441776    36\n",
       " 2431132    31\n",
       " 2416076    29\n",
       " 2466994    28\n",
       "            ..\n",
       " 3825101     1\n",
       " 3743280     1\n",
       " 2653820     1\n",
       " 3686036     1\n",
       " 3821558     1\n",
       "Name: CallerNum, Length: 8708, dtype: int64"
      ]
     },
     "metadata": {},
     "execution_count": 90
    }
   ],
   "source": [
    "smile_onlyyellow.CallerNum.value_counts()"
   ]
  },
  {
   "source": [
    "### Separating out most frequent CallerNum"
   ],
   "cell_type": "markdown",
   "metadata": {}
  },
  {
   "cell_type": "code",
   "execution_count": 91,
   "metadata": {},
   "outputs": [],
   "source": [
    "smile_2441776 = smile_onlyyellow.loc[smile_onlyyellow['CallerNum'] == 2441776]"
   ]
  },
  {
   "cell_type": "code",
   "execution_count": 92,
   "metadata": {},
   "outputs": [
    {
     "output_type": "execute_result",
     "data": {
      "text/plain": [
       "       CallReportNum  CallerNum screening_date  \\\n",
       "685         80878764    2441776      9/25/2018   \n",
       "1024        80784223    2441776      9/25/2018   \n",
       "3353        79037448    2441776      9/25/2018   \n",
       "3812        78220913    2441776       9/2/2020   \n",
       "3833        78698465    2441776      9/25/2018   \n",
       "5312        77631129    2441776      9/25/2018   \n",
       "5906        76991587    2441776      9/25/2018   \n",
       "6439        76991448    2441776      9/25/2018   \n",
       "11473       71557178    2441776      9/25/2018   \n",
       "14542       70184765    2441776      9/25/2018   \n",
       "15915       69739760    2441776      9/25/2018   \n",
       "17045       69171583    2441776      9/25/2018   \n",
       "18708       68129507    2441776      9/25/2018   \n",
       "19489       67757927    2441776      9/25/2018   \n",
       "21906       66789188    2441776      9/25/2018   \n",
       "24170       65850728    2441776      9/25/2018   \n",
       "26767       64563999    2441776      9/25/2018   \n",
       "28026       64343269    2441776      9/25/2018   \n",
       "29573       63277569    2441776      9/25/2018   \n",
       "29746       63277516    2441776      9/25/2018   \n",
       "30012       62797843    2441776      9/25/2018   \n",
       "30863       62797691    2441776      9/25/2018   \n",
       "31150       62172149    2441776      9/25/2018   \n",
       "31173       62848924    2441776            NaN   \n",
       "31536       61865691    2441776      9/25/2018   \n",
       "32161       61582513    2441776      9/25/2018   \n",
       "33805       60706642    2441776      9/25/2018   \n",
       "36141       58800768    2441776      9/25/2018   \n",
       "36270       58800629    2441776      9/25/2018   \n",
       "37140       57786861    2441776      9/25/2018   \n",
       "38692       56587268    2441776      9/25/2018   \n",
       "38703       56570148    2441776            NaN   \n",
       "38724       56596645    2441776      9/25/2018   \n",
       "38747       56543096    2441776            NaN   \n",
       "38748       56542940    2441776            NaN   \n",
       "38749       56542681    2441776            NaN   \n",
       "\n",
       "                                           care_provided  \\\n",
       "685    2331 - Resin two surfaces - Anterior - 15; 239...   \n",
       "1024   No Code - Denture step Mandibular: may be used...   \n",
       "3353   No Code - Denture step Mandibular: may be used...   \n",
       "3812                                                 NaN   \n",
       "3833   220 - Intraoral - Periapical First Film - 5; 1...   \n",
       "5312   220 - Intraoral - Periapical First Film - 5; 3...   \n",
       "5906   5110 - Complete denture-maxillary - 60; 5226 -...   \n",
       "6439   5850 - Denture tissue conditioning maxillary - 15   \n",
       "11473  1110 - Prophylaxis-adult - 45; 1330 - Oral Hyg...   \n",
       "14542  No Code - Denture step Mandibular: may be used...   \n",
       "15915  9310 - Consultation-diagnostic service provide...   \n",
       "17045  No Code - Denture step Mandibular: may be used...   \n",
       "18708  1110 - Prophylaxis-adult - 45; 1330 - Oral Hyg...   \n",
       "19489  No Code - Denture step Mandibular: may be used...   \n",
       "21906  2330 - Resin one surface - Anterior - 15; 5850...   \n",
       "24170  5110 - Complete denture-maxillary - 60; 5214 -...   \n",
       "26767  140 - Limited Oral evaluation - problem focuse...   \n",
       "28026  5851 - Denture tissue  conditioning mandible - 15   \n",
       "29573  7320 - Alveoplasty not in conjunction with ext...   \n",
       "29746  5850 - Denture tissue conditioning maxillary - 15   \n",
       "30012  No Code - Denture step Mandibular: may be used...   \n",
       "30863  No Code - Denture step Mandibular: may be used...   \n",
       "31150  No Code - Denture step Mandibular: may be used...   \n",
       "31173                                                NaN   \n",
       "31536  1110 - Prophylaxis-adult - 45; 1330 - Oral Hyg...   \n",
       "32161  5130 - Complete denture- immediate maxillary -...   \n",
       "33805  150 - Comprehensive Oral Evaluation -new or es...   \n",
       "36141  220 - Intraoral - Periapical First Film - 5; 2...   \n",
       "36270  220 - Intraoral - Periapical First Film - 5; 2...   \n",
       "37140        2332 - Resin three surfaces - Anterior - 15   \n",
       "38692                                                NaN   \n",
       "38703                                                NaN   \n",
       "38724  1110 - Prophylaxis-adult - 45; 1330 - Oral Hyg...   \n",
       "38747                                                NaN   \n",
       "38748                                                NaN   \n",
       "38749                                                NaN   \n",
       "\n",
       "                                       site treatment_plan_complete  \\\n",
       "685    Interfaith Dental Clinic - Nashville                      No   \n",
       "1024   Interfaith Dental Clinic - Nashville                      No   \n",
       "3353   Interfaith Dental Clinic - Nashville                      No   \n",
       "3812   Interfaith Dental Clinic - Nashville                     NaN   \n",
       "3833   Interfaith Dental Clinic - Nashville                      No   \n",
       "5312   Interfaith Dental Clinic - Nashville                      No   \n",
       "5906   Interfaith Dental Clinic - Nashville                      No   \n",
       "6439   Interfaith Dental Clinic - Nashville                      No   \n",
       "11473  Interfaith Dental Clinic - Nashville                     Yes   \n",
       "14542  Interfaith Dental Clinic - Nashville                      No   \n",
       "15915  Interfaith Dental Clinic - Nashville                      No   \n",
       "17045  Interfaith Dental Clinic - Nashville                      No   \n",
       "18708  Interfaith Dental Clinic - Nashville                     NaN   \n",
       "19489  Interfaith Dental Clinic - Nashville                     NaN   \n",
       "21906  Interfaith Dental Clinic - Nashville                     NaN   \n",
       "24170  Interfaith Dental Clinic - Nashville                     NaN   \n",
       "26767  Interfaith Dental Clinic - Nashville                      No   \n",
       "28026  Interfaith Dental Clinic - Nashville                     NaN   \n",
       "29573  Interfaith Dental Clinic - Nashville                     NaN   \n",
       "29746  Interfaith Dental Clinic - Nashville                     NaN   \n",
       "30012  Interfaith Dental Clinic - Nashville                     NaN   \n",
       "30863  Interfaith Dental Clinic - Nashville                     NaN   \n",
       "31150  Interfaith Dental Clinic - Nashville                     NaN   \n",
       "31173  Interfaith Dental Clinic - Nashville                     NaN   \n",
       "31536  Interfaith Dental Clinic - Nashville                     NaN   \n",
       "32161  Interfaith Dental Clinic - Nashville                     NaN   \n",
       "33805  Interfaith Dental Clinic - Nashville                     NaN   \n",
       "36141  Interfaith Dental Clinic - Nashville                     NaN   \n",
       "36270  Interfaith Dental Clinic - Nashville                     NaN   \n",
       "37140  Interfaith Dental Clinic - Nashville                     NaN   \n",
       "38692  Interfaith Dental Clinic - Nashville                     NaN   \n",
       "38703  Interfaith Dental Clinic - Nashville                     NaN   \n",
       "38724  Interfaith Dental Clinic - Nashville                     NaN   \n",
       "38747  Interfaith Dental Clinic - Nashville                     NaN   \n",
       "38748  Interfaith Dental Clinic - Nashville                     NaN   \n",
       "38749  Interfaith Dental Clinic - Nashville                     NaN   \n",
       "\n",
       "      treatment_plan_developed restored_to_function  \n",
       "685                        Yes                   No  \n",
       "1024                       Yes                   No  \n",
       "3353                       Yes                   No  \n",
       "3812                       Yes                  NaN  \n",
       "3833                       Yes                   No  \n",
       "5312                       Yes                  Yes  \n",
       "5906                       Yes                  Yes  \n",
       "6439                       Yes                  Yes  \n",
       "11473                      Yes                  Yes  \n",
       "14542                      Yes                  Yes  \n",
       "15915                       No                   No  \n",
       "17045                      Yes                   No  \n",
       "18708                      NaN                  NaN  \n",
       "19489                      NaN                  NaN  \n",
       "21906                      NaN                  NaN  \n",
       "24170                      NaN                  NaN  \n",
       "26767                      Yes                   No  \n",
       "28026                      NaN                  NaN  \n",
       "29573                      NaN                  NaN  \n",
       "29746                      NaN                  NaN  \n",
       "30012                      NaN                  NaN  \n",
       "30863                      NaN                  NaN  \n",
       "31150                      NaN                  NaN  \n",
       "31173                      Yes                  Yes  \n",
       "31536                      NaN                  NaN  \n",
       "32161                      NaN                  NaN  \n",
       "33805                      NaN                  NaN  \n",
       "36141                      Yes                  NaN  \n",
       "36270                      NaN                  NaN  \n",
       "37140                      NaN                  NaN  \n",
       "38692                      NaN                  NaN  \n",
       "38703                      NaN                  NaN  \n",
       "38724                      NaN                  NaN  \n",
       "38747                      NaN                  NaN  \n",
       "38748                      NaN                  NaN  \n",
       "38749                      NaN                  NaN  "
      ],
      "text/html": "<div>\n<style scoped>\n    .dataframe tbody tr th:only-of-type {\n        vertical-align: middle;\n    }\n\n    .dataframe tbody tr th {\n        vertical-align: top;\n    }\n\n    .dataframe thead th {\n        text-align: right;\n    }\n</style>\n<table border=\"1\" class=\"dataframe\">\n  <thead>\n    <tr style=\"text-align: right;\">\n      <th></th>\n      <th>CallReportNum</th>\n      <th>CallerNum</th>\n      <th>screening_date</th>\n      <th>care_provided</th>\n      <th>site</th>\n      <th>treatment_plan_complete</th>\n      <th>treatment_plan_developed</th>\n      <th>restored_to_function</th>\n    </tr>\n  </thead>\n  <tbody>\n    <tr>\n      <th>685</th>\n      <td>80878764</td>\n      <td>2441776</td>\n      <td>9/25/2018</td>\n      <td>2331 - Resin two surfaces - Anterior - 15; 239...</td>\n      <td>Interfaith Dental Clinic - Nashville</td>\n      <td>No</td>\n      <td>Yes</td>\n      <td>No</td>\n    </tr>\n    <tr>\n      <th>1024</th>\n      <td>80784223</td>\n      <td>2441776</td>\n      <td>9/25/2018</td>\n      <td>No Code - Denture step Mandibular: may be used...</td>\n      <td>Interfaith Dental Clinic - Nashville</td>\n      <td>No</td>\n      <td>Yes</td>\n      <td>No</td>\n    </tr>\n    <tr>\n      <th>3353</th>\n      <td>79037448</td>\n      <td>2441776</td>\n      <td>9/25/2018</td>\n      <td>No Code - Denture step Mandibular: may be used...</td>\n      <td>Interfaith Dental Clinic - Nashville</td>\n      <td>No</td>\n      <td>Yes</td>\n      <td>No</td>\n    </tr>\n    <tr>\n      <th>3812</th>\n      <td>78220913</td>\n      <td>2441776</td>\n      <td>9/2/2020</td>\n      <td>NaN</td>\n      <td>Interfaith Dental Clinic - Nashville</td>\n      <td>NaN</td>\n      <td>Yes</td>\n      <td>NaN</td>\n    </tr>\n    <tr>\n      <th>3833</th>\n      <td>78698465</td>\n      <td>2441776</td>\n      <td>9/25/2018</td>\n      <td>220 - Intraoral - Periapical First Film - 5; 1...</td>\n      <td>Interfaith Dental Clinic - Nashville</td>\n      <td>No</td>\n      <td>Yes</td>\n      <td>No</td>\n    </tr>\n    <tr>\n      <th>5312</th>\n      <td>77631129</td>\n      <td>2441776</td>\n      <td>9/25/2018</td>\n      <td>220 - Intraoral - Periapical First Film - 5; 3...</td>\n      <td>Interfaith Dental Clinic - Nashville</td>\n      <td>No</td>\n      <td>Yes</td>\n      <td>Yes</td>\n    </tr>\n    <tr>\n      <th>5906</th>\n      <td>76991587</td>\n      <td>2441776</td>\n      <td>9/25/2018</td>\n      <td>5110 - Complete denture-maxillary - 60; 5226 -...</td>\n      <td>Interfaith Dental Clinic - Nashville</td>\n      <td>No</td>\n      <td>Yes</td>\n      <td>Yes</td>\n    </tr>\n    <tr>\n      <th>6439</th>\n      <td>76991448</td>\n      <td>2441776</td>\n      <td>9/25/2018</td>\n      <td>5850 - Denture tissue conditioning maxillary - 15</td>\n      <td>Interfaith Dental Clinic - Nashville</td>\n      <td>No</td>\n      <td>Yes</td>\n      <td>Yes</td>\n    </tr>\n    <tr>\n      <th>11473</th>\n      <td>71557178</td>\n      <td>2441776</td>\n      <td>9/25/2018</td>\n      <td>1110 - Prophylaxis-adult - 45; 1330 - Oral Hyg...</td>\n      <td>Interfaith Dental Clinic - Nashville</td>\n      <td>Yes</td>\n      <td>Yes</td>\n      <td>Yes</td>\n    </tr>\n    <tr>\n      <th>14542</th>\n      <td>70184765</td>\n      <td>2441776</td>\n      <td>9/25/2018</td>\n      <td>No Code - Denture step Mandibular: may be used...</td>\n      <td>Interfaith Dental Clinic - Nashville</td>\n      <td>No</td>\n      <td>Yes</td>\n      <td>Yes</td>\n    </tr>\n    <tr>\n      <th>15915</th>\n      <td>69739760</td>\n      <td>2441776</td>\n      <td>9/25/2018</td>\n      <td>9310 - Consultation-diagnostic service provide...</td>\n      <td>Interfaith Dental Clinic - Nashville</td>\n      <td>No</td>\n      <td>No</td>\n      <td>No</td>\n    </tr>\n    <tr>\n      <th>17045</th>\n      <td>69171583</td>\n      <td>2441776</td>\n      <td>9/25/2018</td>\n      <td>No Code - Denture step Mandibular: may be used...</td>\n      <td>Interfaith Dental Clinic - Nashville</td>\n      <td>No</td>\n      <td>Yes</td>\n      <td>No</td>\n    </tr>\n    <tr>\n      <th>18708</th>\n      <td>68129507</td>\n      <td>2441776</td>\n      <td>9/25/2018</td>\n      <td>1110 - Prophylaxis-adult - 45; 1330 - Oral Hyg...</td>\n      <td>Interfaith Dental Clinic - Nashville</td>\n      <td>NaN</td>\n      <td>NaN</td>\n      <td>NaN</td>\n    </tr>\n    <tr>\n      <th>19489</th>\n      <td>67757927</td>\n      <td>2441776</td>\n      <td>9/25/2018</td>\n      <td>No Code - Denture step Mandibular: may be used...</td>\n      <td>Interfaith Dental Clinic - Nashville</td>\n      <td>NaN</td>\n      <td>NaN</td>\n      <td>NaN</td>\n    </tr>\n    <tr>\n      <th>21906</th>\n      <td>66789188</td>\n      <td>2441776</td>\n      <td>9/25/2018</td>\n      <td>2330 - Resin one surface - Anterior - 15; 5850...</td>\n      <td>Interfaith Dental Clinic - Nashville</td>\n      <td>NaN</td>\n      <td>NaN</td>\n      <td>NaN</td>\n    </tr>\n    <tr>\n      <th>24170</th>\n      <td>65850728</td>\n      <td>2441776</td>\n      <td>9/25/2018</td>\n      <td>5110 - Complete denture-maxillary - 60; 5214 -...</td>\n      <td>Interfaith Dental Clinic - Nashville</td>\n      <td>NaN</td>\n      <td>NaN</td>\n      <td>NaN</td>\n    </tr>\n    <tr>\n      <th>26767</th>\n      <td>64563999</td>\n      <td>2441776</td>\n      <td>9/25/2018</td>\n      <td>140 - Limited Oral evaluation - problem focuse...</td>\n      <td>Interfaith Dental Clinic - Nashville</td>\n      <td>No</td>\n      <td>Yes</td>\n      <td>No</td>\n    </tr>\n    <tr>\n      <th>28026</th>\n      <td>64343269</td>\n      <td>2441776</td>\n      <td>9/25/2018</td>\n      <td>5851 - Denture tissue  conditioning mandible - 15</td>\n      <td>Interfaith Dental Clinic - Nashville</td>\n      <td>NaN</td>\n      <td>NaN</td>\n      <td>NaN</td>\n    </tr>\n    <tr>\n      <th>29573</th>\n      <td>63277569</td>\n      <td>2441776</td>\n      <td>9/25/2018</td>\n      <td>7320 - Alveoplasty not in conjunction with ext...</td>\n      <td>Interfaith Dental Clinic - Nashville</td>\n      <td>NaN</td>\n      <td>NaN</td>\n      <td>NaN</td>\n    </tr>\n    <tr>\n      <th>29746</th>\n      <td>63277516</td>\n      <td>2441776</td>\n      <td>9/25/2018</td>\n      <td>5850 - Denture tissue conditioning maxillary - 15</td>\n      <td>Interfaith Dental Clinic - Nashville</td>\n      <td>NaN</td>\n      <td>NaN</td>\n      <td>NaN</td>\n    </tr>\n    <tr>\n      <th>30012</th>\n      <td>62797843</td>\n      <td>2441776</td>\n      <td>9/25/2018</td>\n      <td>No Code - Denture step Mandibular: may be used...</td>\n      <td>Interfaith Dental Clinic - Nashville</td>\n      <td>NaN</td>\n      <td>NaN</td>\n      <td>NaN</td>\n    </tr>\n    <tr>\n      <th>30863</th>\n      <td>62797691</td>\n      <td>2441776</td>\n      <td>9/25/2018</td>\n      <td>No Code - Denture step Mandibular: may be used...</td>\n      <td>Interfaith Dental Clinic - Nashville</td>\n      <td>NaN</td>\n      <td>NaN</td>\n      <td>NaN</td>\n    </tr>\n    <tr>\n      <th>31150</th>\n      <td>62172149</td>\n      <td>2441776</td>\n      <td>9/25/2018</td>\n      <td>No Code - Denture step Mandibular: may be used...</td>\n      <td>Interfaith Dental Clinic - Nashville</td>\n      <td>NaN</td>\n      <td>NaN</td>\n      <td>NaN</td>\n    </tr>\n    <tr>\n      <th>31173</th>\n      <td>62848924</td>\n      <td>2441776</td>\n      <td>NaN</td>\n      <td>NaN</td>\n      <td>Interfaith Dental Clinic - Nashville</td>\n      <td>NaN</td>\n      <td>Yes</td>\n      <td>Yes</td>\n    </tr>\n    <tr>\n      <th>31536</th>\n      <td>61865691</td>\n      <td>2441776</td>\n      <td>9/25/2018</td>\n      <td>1110 - Prophylaxis-adult - 45; 1330 - Oral Hyg...</td>\n      <td>Interfaith Dental Clinic - Nashville</td>\n      <td>NaN</td>\n      <td>NaN</td>\n      <td>NaN</td>\n    </tr>\n    <tr>\n      <th>32161</th>\n      <td>61582513</td>\n      <td>2441776</td>\n      <td>9/25/2018</td>\n      <td>5130 - Complete denture- immediate maxillary -...</td>\n      <td>Interfaith Dental Clinic - Nashville</td>\n      <td>NaN</td>\n      <td>NaN</td>\n      <td>NaN</td>\n    </tr>\n    <tr>\n      <th>33805</th>\n      <td>60706642</td>\n      <td>2441776</td>\n      <td>9/25/2018</td>\n      <td>150 - Comprehensive Oral Evaluation -new or es...</td>\n      <td>Interfaith Dental Clinic - Nashville</td>\n      <td>NaN</td>\n      <td>NaN</td>\n      <td>NaN</td>\n    </tr>\n    <tr>\n      <th>36141</th>\n      <td>58800768</td>\n      <td>2441776</td>\n      <td>9/25/2018</td>\n      <td>220 - Intraoral - Periapical First Film - 5; 2...</td>\n      <td>Interfaith Dental Clinic - Nashville</td>\n      <td>NaN</td>\n      <td>Yes</td>\n      <td>NaN</td>\n    </tr>\n    <tr>\n      <th>36270</th>\n      <td>58800629</td>\n      <td>2441776</td>\n      <td>9/25/2018</td>\n      <td>220 - Intraoral - Periapical First Film - 5; 2...</td>\n      <td>Interfaith Dental Clinic - Nashville</td>\n      <td>NaN</td>\n      <td>NaN</td>\n      <td>NaN</td>\n    </tr>\n    <tr>\n      <th>37140</th>\n      <td>57786861</td>\n      <td>2441776</td>\n      <td>9/25/2018</td>\n      <td>2332 - Resin three surfaces - Anterior - 15</td>\n      <td>Interfaith Dental Clinic - Nashville</td>\n      <td>NaN</td>\n      <td>NaN</td>\n      <td>NaN</td>\n    </tr>\n    <tr>\n      <th>38692</th>\n      <td>56587268</td>\n      <td>2441776</td>\n      <td>9/25/2018</td>\n      <td>NaN</td>\n      <td>Interfaith Dental Clinic - Nashville</td>\n      <td>NaN</td>\n      <td>NaN</td>\n      <td>NaN</td>\n    </tr>\n    <tr>\n      <th>38703</th>\n      <td>56570148</td>\n      <td>2441776</td>\n      <td>NaN</td>\n      <td>NaN</td>\n      <td>Interfaith Dental Clinic - Nashville</td>\n      <td>NaN</td>\n      <td>NaN</td>\n      <td>NaN</td>\n    </tr>\n    <tr>\n      <th>38724</th>\n      <td>56596645</td>\n      <td>2441776</td>\n      <td>9/25/2018</td>\n      <td>1110 - Prophylaxis-adult - 45; 1330 - Oral Hyg...</td>\n      <td>Interfaith Dental Clinic - Nashville</td>\n      <td>NaN</td>\n      <td>NaN</td>\n      <td>NaN</td>\n    </tr>\n    <tr>\n      <th>38747</th>\n      <td>56543096</td>\n      <td>2441776</td>\n      <td>NaN</td>\n      <td>NaN</td>\n      <td>Interfaith Dental Clinic - Nashville</td>\n      <td>NaN</td>\n      <td>NaN</td>\n      <td>NaN</td>\n    </tr>\n    <tr>\n      <th>38748</th>\n      <td>56542940</td>\n      <td>2441776</td>\n      <td>NaN</td>\n      <td>NaN</td>\n      <td>Interfaith Dental Clinic - Nashville</td>\n      <td>NaN</td>\n      <td>NaN</td>\n      <td>NaN</td>\n    </tr>\n    <tr>\n      <th>38749</th>\n      <td>56542681</td>\n      <td>2441776</td>\n      <td>NaN</td>\n      <td>NaN</td>\n      <td>Interfaith Dental Clinic - Nashville</td>\n      <td>NaN</td>\n      <td>NaN</td>\n      <td>NaN</td>\n    </tr>\n  </tbody>\n</table>\n</div>"
     },
     "metadata": {},
     "execution_count": 92
    }
   ],
   "source": [
    "smile_2441776"
   ]
  },
  {
   "source": [
    "## Why does he have so many listings for the same day? And at such different CallReportNum? "
   ],
   "cell_type": "markdown",
   "metadata": {}
  },
  {
   "cell_type": "code",
   "execution_count": 93,
   "metadata": {},
   "outputs": [
    {
     "output_type": "execute_result",
     "data": {
      "text/plain": [
       "69171583    1\n",
       "70184765    1\n",
       "61865691    1\n",
       "77631129    1\n",
       "76991448    1\n",
       "56542940    1\n",
       "65850728    1\n",
       "62797843    1\n",
       "60706642    1\n",
       "58800629    1\n",
       "61582513    1\n",
       "63277516    1\n",
       "64563999    1\n",
       "79037448    1\n",
       "56587268    1\n",
       "66789188    1\n",
       "63277569    1\n",
       "62848924    1\n",
       "80784223    1\n",
       "78698465    1\n",
       "69739760    1\n",
       "62797691    1\n",
       "71557178    1\n",
       "56543096    1\n",
       "62172149    1\n",
       "56542681    1\n",
       "78220913    1\n",
       "57786861    1\n",
       "56596645    1\n",
       "80878764    1\n",
       "68129507    1\n",
       "67757927    1\n",
       "64343269    1\n",
       "56570148    1\n",
       "76991587    1\n",
       "58800768    1\n",
       "Name: CallReportNum, dtype: int64"
      ]
     },
     "metadata": {},
     "execution_count": 93
    }
   ],
   "source": [
    "smile_2441776.CallReportNum.value_counts()\n"
   ]
  },
  {
   "cell_type": "code",
   "execution_count": 94,
   "metadata": {},
   "outputs": [],
   "source": [
    "smile_2431132 = smile_onlyyellow.loc[smile_onlyyellow['CallerNum'] == 2431132]"
   ]
  },
  {
   "cell_type": "code",
   "execution_count": 95,
   "metadata": {},
   "outputs": [
    {
     "output_type": "execute_result",
     "data": {
      "text/plain": [
       "       CallReportNum  CallerNum screening_date  \\\n",
       "766         80572613    2431132      11/4/2020   \n",
       "1609        79831882    2431132            NaN   \n",
       "2779        79039925    2431132            NaN   \n",
       "3919        78182738    2431132            NaN   \n",
       "5231        77249056    2431132            NaN   \n",
       "5317        77203328    2431132            NaN   \n",
       "6359        76456276    2431132            NaN   \n",
       "7022        75903370    2431132            NaN   \n",
       "7625        75329200    2431132            NaN   \n",
       "8303        74795958    2431132            NaN   \n",
       "8819        74223179    2431132            NaN   \n",
       "10337       71603303    2431132            NaN   \n",
       "10819       71431072    2431132            NaN   \n",
       "12549       70781780    2431132            NaN   \n",
       "17343       68681906    2431132            NaN   \n",
       "18757       67963310    2431132            NaN   \n",
       "20894       67083256    2431132            NaN   \n",
       "21177       66988709    2431132            NaN   \n",
       "31639       61788864    2431132            NaN   \n",
       "32005       61639819    2431132            NaN   \n",
       "32939       60970031    2431132            NaN   \n",
       "33632       60581339    2431132            NaN   \n",
       "34134       60200493    2431132            NaN   \n",
       "35812       58716100    2431132            NaN   \n",
       "36242       58430404    2431132            NaN   \n",
       "36643       58233218    2431132            NaN   \n",
       "37225       57698778    2431132            NaN   \n",
       "37856       57234467    2431132            NaN   \n",
       "38654       56592142    2431132            NaN   \n",
       "38933       56385831    2431132      9/14/2018   \n",
       "38984       56269404    2431132            NaN   \n",
       "\n",
       "                                           care_provided  \\\n",
       "766                                                  NaN   \n",
       "1609   7140 - Extraction - erupted tooth or exposed r...   \n",
       "2779   No Code - Denture step Mandibular: may be used...   \n",
       "3919   No Code - Denture step Mandibular: may be used...   \n",
       "5231   2330 - Resin one surface - Anterior - 15; 2331...   \n",
       "5317                       1110 - Prophylaxis-adult - 45   \n",
       "6359   140 - Limited Oral evaluation - problem focuse...   \n",
       "7022   140 - Limited Oral evaluation - problem focuse...   \n",
       "7625   7140 - Extraction - erupted tooth or exposed r...   \n",
       "8303   7140 - Extraction - erupted tooth or exposed r...   \n",
       "8819   7140 - Extraction - erupted tooth or exposed r...   \n",
       "10337  120 - Periodic Oral Evaluation - 15; 220 - Int...   \n",
       "10819  4355 - Full mouth debridement to enable compre...   \n",
       "12549  7140 - Extraction - erupted tooth or exposed r...   \n",
       "17343  7140 - Extraction - erupted tooth or exposed r...   \n",
       "18757  140 - Limited Oral evaluation - problem focuse...   \n",
       "20894  7140 - Extraction - erupted tooth or exposed r...   \n",
       "21177  140 - Limited Oral evaluation - problem focuse...   \n",
       "31639  No Code - Denture step Maxillary: may be used ...   \n",
       "32005  140 - Limited Oral evaluation - problem focuse...   \n",
       "32939  No Code - Denture step Mandibular: may be used...   \n",
       "33632  No Code - Denture step Mandibular: may be used...   \n",
       "34134  No Code - Denture step Mandibular: may be used...   \n",
       "35812  5213 - Partial denture-metal base-maxillary - ...   \n",
       "36242  7210 - Extraction surgical (requires removal o...   \n",
       "36643           2392 - Posterior two surface resin  - 15   \n",
       "37225  2391 - Posterior one surface resin  - 15; 2392...   \n",
       "37856  2391 - Posterior one surface resin  - 15; 2392...   \n",
       "38654  1354 - Interim caries arresting medicament app...   \n",
       "38933                      1110 - Prophylaxis-adult - 45   \n",
       "38984                                                NaN   \n",
       "\n",
       "                                  site treatment_plan_complete  \\\n",
       "766    Karis Dental Clinic - Cleveland                      No   \n",
       "1609   Karis Dental Clinic - Cleveland                      No   \n",
       "2779   Karis Dental Clinic - Cleveland                      No   \n",
       "3919   Karis Dental Clinic - Cleveland                      No   \n",
       "5231   Karis Dental Clinic - Cleveland                      No   \n",
       "5317   Karis Dental Clinic - Cleveland                      No   \n",
       "6359   Karis Dental Clinic - Cleveland                      No   \n",
       "7022   Karis Dental Clinic - Cleveland                      No   \n",
       "7625   Karis Dental Clinic - Cleveland                      No   \n",
       "8303   Karis Dental Clinic - Cleveland                      No   \n",
       "8819   Karis Dental Clinic - Cleveland                      No   \n",
       "10337  Karis Dental Clinic - Cleveland                      No   \n",
       "10819  Karis Dental Clinic - Cleveland                     NaN   \n",
       "12549  Karis Dental Clinic - Cleveland                     NaN   \n",
       "17343  Karis Dental Clinic - Cleveland                      No   \n",
       "18757  Karis Dental Clinic - Cleveland                      No   \n",
       "20894  Karis Dental Clinic - Cleveland                      No   \n",
       "21177  Karis Dental Clinic - Cleveland                      No   \n",
       "31639  Karis Dental Clinic - Cleveland                     Yes   \n",
       "32005  Karis Dental Clinic - Cleveland                      No   \n",
       "32939  Karis Dental Clinic - Cleveland                     Yes   \n",
       "33632  Karis Dental Clinic - Cleveland                      No   \n",
       "34134  Karis Dental Clinic - Cleveland                      No   \n",
       "35812  Karis Dental Clinic - Cleveland                     NaN   \n",
       "36242  Karis Dental Clinic - Cleveland                     NaN   \n",
       "36643  Karis Dental Clinic - Cleveland                     NaN   \n",
       "37225  Karis Dental Clinic - Cleveland                     NaN   \n",
       "37856  Karis Dental Clinic - Cleveland                      No   \n",
       "38654  Karis Dental Clinic - Cleveland                     NaN   \n",
       "38933  Karis Dental Clinic - Cleveland                      No   \n",
       "38984  Karis Dental Clinic - Cleveland                     NaN   \n",
       "\n",
       "      treatment_plan_developed restored_to_function  \n",
       "766                         No                   No  \n",
       "1609                       NaN                   No  \n",
       "2779                       NaN                   No  \n",
       "3919                       NaN                   No  \n",
       "5231                       NaN                   No  \n",
       "5317                       NaN                   No  \n",
       "6359                       Yes                   No  \n",
       "7022                        No                   No  \n",
       "7625                       NaN                   No  \n",
       "8303                       NaN                   No  \n",
       "8819                       NaN                   No  \n",
       "10337                      Yes                   No  \n",
       "10819                      NaN                  NaN  \n",
       "12549                      NaN                  NaN  \n",
       "17343                      NaN                   No  \n",
       "18757                      NaN                   No  \n",
       "20894                      NaN                   No  \n",
       "21177                      Yes                   No  \n",
       "31639                      NaN                  Yes  \n",
       "32005                      NaN                  Yes  \n",
       "32939                      NaN                  Yes  \n",
       "33632                      NaN                   No  \n",
       "34134                      NaN                   No  \n",
       "35812                      NaN                  NaN  \n",
       "36242                      NaN                  NaN  \n",
       "36643                      NaN                  NaN  \n",
       "37225                      NaN                   No  \n",
       "37856                      NaN                  NaN  \n",
       "38654                      NaN                  NaN  \n",
       "38933                       No                   No  \n",
       "38984                      NaN                  NaN  "
      ],
      "text/html": "<div>\n<style scoped>\n    .dataframe tbody tr th:only-of-type {\n        vertical-align: middle;\n    }\n\n    .dataframe tbody tr th {\n        vertical-align: top;\n    }\n\n    .dataframe thead th {\n        text-align: right;\n    }\n</style>\n<table border=\"1\" class=\"dataframe\">\n  <thead>\n    <tr style=\"text-align: right;\">\n      <th></th>\n      <th>CallReportNum</th>\n      <th>CallerNum</th>\n      <th>screening_date</th>\n      <th>care_provided</th>\n      <th>site</th>\n      <th>treatment_plan_complete</th>\n      <th>treatment_plan_developed</th>\n      <th>restored_to_function</th>\n    </tr>\n  </thead>\n  <tbody>\n    <tr>\n      <th>766</th>\n      <td>80572613</td>\n      <td>2431132</td>\n      <td>11/4/2020</td>\n      <td>NaN</td>\n      <td>Karis Dental Clinic - Cleveland</td>\n      <td>No</td>\n      <td>No</td>\n      <td>No</td>\n    </tr>\n    <tr>\n      <th>1609</th>\n      <td>79831882</td>\n      <td>2431132</td>\n      <td>NaN</td>\n      <td>7140 - Extraction - erupted tooth or exposed r...</td>\n      <td>Karis Dental Clinic - Cleveland</td>\n      <td>No</td>\n      <td>NaN</td>\n      <td>No</td>\n    </tr>\n    <tr>\n      <th>2779</th>\n      <td>79039925</td>\n      <td>2431132</td>\n      <td>NaN</td>\n      <td>No Code - Denture step Mandibular: may be used...</td>\n      <td>Karis Dental Clinic - Cleveland</td>\n      <td>No</td>\n      <td>NaN</td>\n      <td>No</td>\n    </tr>\n    <tr>\n      <th>3919</th>\n      <td>78182738</td>\n      <td>2431132</td>\n      <td>NaN</td>\n      <td>No Code - Denture step Mandibular: may be used...</td>\n      <td>Karis Dental Clinic - Cleveland</td>\n      <td>No</td>\n      <td>NaN</td>\n      <td>No</td>\n    </tr>\n    <tr>\n      <th>5231</th>\n      <td>77249056</td>\n      <td>2431132</td>\n      <td>NaN</td>\n      <td>2330 - Resin one surface - Anterior - 15; 2331...</td>\n      <td>Karis Dental Clinic - Cleveland</td>\n      <td>No</td>\n      <td>NaN</td>\n      <td>No</td>\n    </tr>\n    <tr>\n      <th>5317</th>\n      <td>77203328</td>\n      <td>2431132</td>\n      <td>NaN</td>\n      <td>1110 - Prophylaxis-adult - 45</td>\n      <td>Karis Dental Clinic - Cleveland</td>\n      <td>No</td>\n      <td>NaN</td>\n      <td>No</td>\n    </tr>\n    <tr>\n      <th>6359</th>\n      <td>76456276</td>\n      <td>2431132</td>\n      <td>NaN</td>\n      <td>140 - Limited Oral evaluation - problem focuse...</td>\n      <td>Karis Dental Clinic - Cleveland</td>\n      <td>No</td>\n      <td>Yes</td>\n      <td>No</td>\n    </tr>\n    <tr>\n      <th>7022</th>\n      <td>75903370</td>\n      <td>2431132</td>\n      <td>NaN</td>\n      <td>140 - Limited Oral evaluation - problem focuse...</td>\n      <td>Karis Dental Clinic - Cleveland</td>\n      <td>No</td>\n      <td>No</td>\n      <td>No</td>\n    </tr>\n    <tr>\n      <th>7625</th>\n      <td>75329200</td>\n      <td>2431132</td>\n      <td>NaN</td>\n      <td>7140 - Extraction - erupted tooth or exposed r...</td>\n      <td>Karis Dental Clinic - Cleveland</td>\n      <td>No</td>\n      <td>NaN</td>\n      <td>No</td>\n    </tr>\n    <tr>\n      <th>8303</th>\n      <td>74795958</td>\n      <td>2431132</td>\n      <td>NaN</td>\n      <td>7140 - Extraction - erupted tooth or exposed r...</td>\n      <td>Karis Dental Clinic - Cleveland</td>\n      <td>No</td>\n      <td>NaN</td>\n      <td>No</td>\n    </tr>\n    <tr>\n      <th>8819</th>\n      <td>74223179</td>\n      <td>2431132</td>\n      <td>NaN</td>\n      <td>7140 - Extraction - erupted tooth or exposed r...</td>\n      <td>Karis Dental Clinic - Cleveland</td>\n      <td>No</td>\n      <td>NaN</td>\n      <td>No</td>\n    </tr>\n    <tr>\n      <th>10337</th>\n      <td>71603303</td>\n      <td>2431132</td>\n      <td>NaN</td>\n      <td>120 - Periodic Oral Evaluation - 15; 220 - Int...</td>\n      <td>Karis Dental Clinic - Cleveland</td>\n      <td>No</td>\n      <td>Yes</td>\n      <td>No</td>\n    </tr>\n    <tr>\n      <th>10819</th>\n      <td>71431072</td>\n      <td>2431132</td>\n      <td>NaN</td>\n      <td>4355 - Full mouth debridement to enable compre...</td>\n      <td>Karis Dental Clinic - Cleveland</td>\n      <td>NaN</td>\n      <td>NaN</td>\n      <td>NaN</td>\n    </tr>\n    <tr>\n      <th>12549</th>\n      <td>70781780</td>\n      <td>2431132</td>\n      <td>NaN</td>\n      <td>7140 - Extraction - erupted tooth or exposed r...</td>\n      <td>Karis Dental Clinic - Cleveland</td>\n      <td>NaN</td>\n      <td>NaN</td>\n      <td>NaN</td>\n    </tr>\n    <tr>\n      <th>17343</th>\n      <td>68681906</td>\n      <td>2431132</td>\n      <td>NaN</td>\n      <td>7140 - Extraction - erupted tooth or exposed r...</td>\n      <td>Karis Dental Clinic - Cleveland</td>\n      <td>No</td>\n      <td>NaN</td>\n      <td>No</td>\n    </tr>\n    <tr>\n      <th>18757</th>\n      <td>67963310</td>\n      <td>2431132</td>\n      <td>NaN</td>\n      <td>140 - Limited Oral evaluation - problem focuse...</td>\n      <td>Karis Dental Clinic - Cleveland</td>\n      <td>No</td>\n      <td>NaN</td>\n      <td>No</td>\n    </tr>\n    <tr>\n      <th>20894</th>\n      <td>67083256</td>\n      <td>2431132</td>\n      <td>NaN</td>\n      <td>7140 - Extraction - erupted tooth or exposed r...</td>\n      <td>Karis Dental Clinic - Cleveland</td>\n      <td>No</td>\n      <td>NaN</td>\n      <td>No</td>\n    </tr>\n    <tr>\n      <th>21177</th>\n      <td>66988709</td>\n      <td>2431132</td>\n      <td>NaN</td>\n      <td>140 - Limited Oral evaluation - problem focuse...</td>\n      <td>Karis Dental Clinic - Cleveland</td>\n      <td>No</td>\n      <td>Yes</td>\n      <td>No</td>\n    </tr>\n    <tr>\n      <th>31639</th>\n      <td>61788864</td>\n      <td>2431132</td>\n      <td>NaN</td>\n      <td>No Code - Denture step Maxillary: may be used ...</td>\n      <td>Karis Dental Clinic - Cleveland</td>\n      <td>Yes</td>\n      <td>NaN</td>\n      <td>Yes</td>\n    </tr>\n    <tr>\n      <th>32005</th>\n      <td>61639819</td>\n      <td>2431132</td>\n      <td>NaN</td>\n      <td>140 - Limited Oral evaluation - problem focuse...</td>\n      <td>Karis Dental Clinic - Cleveland</td>\n      <td>No</td>\n      <td>NaN</td>\n      <td>Yes</td>\n    </tr>\n    <tr>\n      <th>32939</th>\n      <td>60970031</td>\n      <td>2431132</td>\n      <td>NaN</td>\n      <td>No Code - Denture step Mandibular: may be used...</td>\n      <td>Karis Dental Clinic - Cleveland</td>\n      <td>Yes</td>\n      <td>NaN</td>\n      <td>Yes</td>\n    </tr>\n    <tr>\n      <th>33632</th>\n      <td>60581339</td>\n      <td>2431132</td>\n      <td>NaN</td>\n      <td>No Code - Denture step Mandibular: may be used...</td>\n      <td>Karis Dental Clinic - Cleveland</td>\n      <td>No</td>\n      <td>NaN</td>\n      <td>No</td>\n    </tr>\n    <tr>\n      <th>34134</th>\n      <td>60200493</td>\n      <td>2431132</td>\n      <td>NaN</td>\n      <td>No Code - Denture step Mandibular: may be used...</td>\n      <td>Karis Dental Clinic - Cleveland</td>\n      <td>No</td>\n      <td>NaN</td>\n      <td>No</td>\n    </tr>\n    <tr>\n      <th>35812</th>\n      <td>58716100</td>\n      <td>2431132</td>\n      <td>NaN</td>\n      <td>5213 - Partial denture-metal base-maxillary - ...</td>\n      <td>Karis Dental Clinic - Cleveland</td>\n      <td>NaN</td>\n      <td>NaN</td>\n      <td>NaN</td>\n    </tr>\n    <tr>\n      <th>36242</th>\n      <td>58430404</td>\n      <td>2431132</td>\n      <td>NaN</td>\n      <td>7210 - Extraction surgical (requires removal o...</td>\n      <td>Karis Dental Clinic - Cleveland</td>\n      <td>NaN</td>\n      <td>NaN</td>\n      <td>NaN</td>\n    </tr>\n    <tr>\n      <th>36643</th>\n      <td>58233218</td>\n      <td>2431132</td>\n      <td>NaN</td>\n      <td>2392 - Posterior two surface resin  - 15</td>\n      <td>Karis Dental Clinic - Cleveland</td>\n      <td>NaN</td>\n      <td>NaN</td>\n      <td>NaN</td>\n    </tr>\n    <tr>\n      <th>37225</th>\n      <td>57698778</td>\n      <td>2431132</td>\n      <td>NaN</td>\n      <td>2391 - Posterior one surface resin  - 15; 2392...</td>\n      <td>Karis Dental Clinic - Cleveland</td>\n      <td>NaN</td>\n      <td>NaN</td>\n      <td>No</td>\n    </tr>\n    <tr>\n      <th>37856</th>\n      <td>57234467</td>\n      <td>2431132</td>\n      <td>NaN</td>\n      <td>2391 - Posterior one surface resin  - 15; 2392...</td>\n      <td>Karis Dental Clinic - Cleveland</td>\n      <td>No</td>\n      <td>NaN</td>\n      <td>NaN</td>\n    </tr>\n    <tr>\n      <th>38654</th>\n      <td>56592142</td>\n      <td>2431132</td>\n      <td>NaN</td>\n      <td>1354 - Interim caries arresting medicament app...</td>\n      <td>Karis Dental Clinic - Cleveland</td>\n      <td>NaN</td>\n      <td>NaN</td>\n      <td>NaN</td>\n    </tr>\n    <tr>\n      <th>38933</th>\n      <td>56385831</td>\n      <td>2431132</td>\n      <td>9/14/2018</td>\n      <td>1110 - Prophylaxis-adult - 45</td>\n      <td>Karis Dental Clinic - Cleveland</td>\n      <td>No</td>\n      <td>No</td>\n      <td>No</td>\n    </tr>\n    <tr>\n      <th>38984</th>\n      <td>56269404</td>\n      <td>2431132</td>\n      <td>NaN</td>\n      <td>NaN</td>\n      <td>Karis Dental Clinic - Cleveland</td>\n      <td>NaN</td>\n      <td>NaN</td>\n      <td>NaN</td>\n    </tr>\n  </tbody>\n</table>\n</div>"
     },
     "metadata": {},
     "execution_count": 95
    }
   ],
   "source": [
    "smile_2431132"
   ]
  },
  {
   "cell_type": "code",
   "execution_count": 96,
   "metadata": {},
   "outputs": [],
   "source": [
    "smile_2416076 = smile_onlyyellow.loc[smile_onlyyellow['CallerNum'] == 2416076]"
   ]
  },
  {
   "cell_type": "code",
   "execution_count": 97,
   "metadata": {},
   "outputs": [
    {
     "output_type": "execute_result",
     "data": {
      "text/plain": [
       "       CallReportNum  CallerNum screening_date  \\\n",
       "1193        80792354    2416076     10/26/2020   \n",
       "4030        78500974    2416076            NaN   \n",
       "5497        77329572    2416076            NaN   \n",
       "13125       70810955    2416076            NaN   \n",
       "14930       70080607    2416076            NaN   \n",
       "16025       69737230    2416076            NaN   \n",
       "18407       68190928    2416076            NaN   \n",
       "22967       66380005    2416076            NaN   \n",
       "24167       65850976    2416076            NaN   \n",
       "26184       65220398    2416076            NaN   \n",
       "27942       64344056    2416076            NaN   \n",
       "28503       63825491    2416076            NaN   \n",
       "29211       63825431    2416076            NaN   \n",
       "29611       62975344    2416076            NaN   \n",
       "31853       61756634    2416076            NaN   \n",
       "32512       61556184    2416076            NaN   \n",
       "32955       61093830    2416076            NaN   \n",
       "33957       60512593    2416076            NaN   \n",
       "36324       58538015    2416076            NaN   \n",
       "36514       58537949    2416076            NaN   \n",
       "36660       58629436    2416076            NaN   \n",
       "36931       58628791    2416076            NaN   \n",
       "37144       57786508    2416076            NaN   \n",
       "37934       57225628    2416076            NaN   \n",
       "38286       56850717    2416076      10/2/2018   \n",
       "38414       62871704    2416076            NaN   \n",
       "38448       56828901    2416076            NaN   \n",
       "39313       55875620    2416076            NaN   \n",
       "39315       55875397    2416076            NaN   \n",
       "\n",
       "                                           care_provided  \\\n",
       "1193   220 - Intraoral - Periapical First Film - 5; 2...   \n",
       "4030   7140 - Extraction - erupted tooth or exposed r...   \n",
       "5497   1110 - Prophylaxis-adult - 45; 1330 - Oral Hyg...   \n",
       "13125  1354 - Interim caries arresting medicament app...   \n",
       "14930  272 - Bitewings - two films - 5; 1110 - Prophy...   \n",
       "16025           2330 - Resin one surface - Anterior - 15   \n",
       "18407  2330 - Resin one surface - Anterior - 15; 9951...   \n",
       "22967  1110 - Prophylaxis-adult - 45; 1330 - Oral Hyg...   \n",
       "24167  No Code - Denture step Maxillary: may be used ...   \n",
       "26184  No Code - Denture step Maxillary: may be used ...   \n",
       "27942  No Code - Denture step Maxillary: may be used ...   \n",
       "28503  180 - Comprehensive Periodontal Evaluation - 1...   \n",
       "29211  5211 - Partial denture -resin base-maxillary -...   \n",
       "29611                                                NaN   \n",
       "31853  7210 - Extraction surgical (requires removal o...   \n",
       "32512           2391 - Posterior one surface resin  - 15   \n",
       "32955  220 - Intraoral - Periapical First Film - 5; 1...   \n",
       "33957  2330 - Resin one surface - Anterior - 15; 2331...   \n",
       "36324  1330 - Oral Hygiene Instructions - ; 1206 - ap...   \n",
       "36514  1330 - Oral Hygiene Instructions - ; 1206 - ap...   \n",
       "36660  No Code - Denture step Mandibular: may be used...   \n",
       "36931  No Code - Denture step Mandibular: may be used...   \n",
       "37144  No Code - Denture step Mandibular: may be used...   \n",
       "37934  5221 - Partial denture - resin base - immediat...   \n",
       "38286                                                NaN   \n",
       "38414                                                NaN   \n",
       "38448  150 - Comprehensive Oral Evaluation -new or es...   \n",
       "39313                                                NaN   \n",
       "39315                                                NaN   \n",
       "\n",
       "                                          site treatment_plan_complete  \\\n",
       "1193      Interfaith Dental Clinic - Nashville                      No   \n",
       "4030      Interfaith Dental Clinic - Nashville                      No   \n",
       "5497   Interfaith Dental Clinic - Murfreesboro                      No   \n",
       "13125     Interfaith Dental Clinic - Nashville                      No   \n",
       "14930     Interfaith Dental Clinic - Nashville                      No   \n",
       "16025     Interfaith Dental Clinic - Nashville                      No   \n",
       "18407     Interfaith Dental Clinic - Nashville                     NaN   \n",
       "22967     Interfaith Dental Clinic - Nashville                     NaN   \n",
       "24167     Interfaith Dental Clinic - Nashville                     NaN   \n",
       "26184     Interfaith Dental Clinic - Nashville                      No   \n",
       "27942     Interfaith Dental Clinic - Nashville                     NaN   \n",
       "28503     Interfaith Dental Clinic - Nashville                     NaN   \n",
       "29211     Interfaith Dental Clinic - Nashville                     NaN   \n",
       "29611     Interfaith Dental Clinic - Nashville                     Yes   \n",
       "31853     Interfaith Dental Clinic - Nashville                     NaN   \n",
       "32512     Interfaith Dental Clinic - Nashville                     NaN   \n",
       "32955     Interfaith Dental Clinic - Nashville                     NaN   \n",
       "33957     Interfaith Dental Clinic - Nashville                     NaN   \n",
       "36324     Interfaith Dental Clinic - Nashville                     NaN   \n",
       "36514     Interfaith Dental Clinic - Nashville                     NaN   \n",
       "36660     Interfaith Dental Clinic - Nashville                     NaN   \n",
       "36931     Interfaith Dental Clinic - Nashville                     NaN   \n",
       "37144     Interfaith Dental Clinic - Nashville                     NaN   \n",
       "37934     Interfaith Dental Clinic - Nashville                     NaN   \n",
       "38286     Interfaith Dental Clinic - Nashville                     NaN   \n",
       "38414     Interfaith Dental Clinic - Nashville                     NaN   \n",
       "38448     Interfaith Dental Clinic - Nashville                     NaN   \n",
       "39313                                      NaN                     NaN   \n",
       "39315     Interfaith Dental Clinic - Nashville                     NaN   \n",
       "\n",
       "      treatment_plan_developed restored_to_function  \n",
       "1193                       Yes                   No  \n",
       "4030                       Yes                   No  \n",
       "5497                       Yes                   No  \n",
       "13125                      Yes                   No  \n",
       "14930                      Yes                   No  \n",
       "16025                      Yes                  Yes  \n",
       "18407                      NaN                  NaN  \n",
       "22967                      NaN                  NaN  \n",
       "24167                      NaN                  NaN  \n",
       "26184                      Yes                   No  \n",
       "27942                      NaN                  NaN  \n",
       "28503                      NaN                  NaN  \n",
       "29211                      NaN                  NaN  \n",
       "29611                      Yes                  Yes  \n",
       "31853                      NaN                  NaN  \n",
       "32512                      NaN                  NaN  \n",
       "32955                      NaN                  NaN  \n",
       "33957                      NaN                  NaN  \n",
       "36324                      Yes                  NaN  \n",
       "36514                      NaN                  NaN  \n",
       "36660                      NaN                  NaN  \n",
       "36931                      NaN                  NaN  \n",
       "37144                      NaN                  NaN  \n",
       "37934                      NaN                  NaN  \n",
       "38286                      NaN                  NaN  \n",
       "38414                      Yes                  NaN  \n",
       "38448                      NaN                  NaN  \n",
       "39313                      NaN                  NaN  \n",
       "39315                      NaN                  NaN  "
      ],
      "text/html": "<div>\n<style scoped>\n    .dataframe tbody tr th:only-of-type {\n        vertical-align: middle;\n    }\n\n    .dataframe tbody tr th {\n        vertical-align: top;\n    }\n\n    .dataframe thead th {\n        text-align: right;\n    }\n</style>\n<table border=\"1\" class=\"dataframe\">\n  <thead>\n    <tr style=\"text-align: right;\">\n      <th></th>\n      <th>CallReportNum</th>\n      <th>CallerNum</th>\n      <th>screening_date</th>\n      <th>care_provided</th>\n      <th>site</th>\n      <th>treatment_plan_complete</th>\n      <th>treatment_plan_developed</th>\n      <th>restored_to_function</th>\n    </tr>\n  </thead>\n  <tbody>\n    <tr>\n      <th>1193</th>\n      <td>80792354</td>\n      <td>2416076</td>\n      <td>10/26/2020</td>\n      <td>220 - Intraoral - Periapical First Film - 5; 2...</td>\n      <td>Interfaith Dental Clinic - Nashville</td>\n      <td>No</td>\n      <td>Yes</td>\n      <td>No</td>\n    </tr>\n    <tr>\n      <th>4030</th>\n      <td>78500974</td>\n      <td>2416076</td>\n      <td>NaN</td>\n      <td>7140 - Extraction - erupted tooth or exposed r...</td>\n      <td>Interfaith Dental Clinic - Nashville</td>\n      <td>No</td>\n      <td>Yes</td>\n      <td>No</td>\n    </tr>\n    <tr>\n      <th>5497</th>\n      <td>77329572</td>\n      <td>2416076</td>\n      <td>NaN</td>\n      <td>1110 - Prophylaxis-adult - 45; 1330 - Oral Hyg...</td>\n      <td>Interfaith Dental Clinic - Murfreesboro</td>\n      <td>No</td>\n      <td>Yes</td>\n      <td>No</td>\n    </tr>\n    <tr>\n      <th>13125</th>\n      <td>70810955</td>\n      <td>2416076</td>\n      <td>NaN</td>\n      <td>1354 - Interim caries arresting medicament app...</td>\n      <td>Interfaith Dental Clinic - Nashville</td>\n      <td>No</td>\n      <td>Yes</td>\n      <td>No</td>\n    </tr>\n    <tr>\n      <th>14930</th>\n      <td>70080607</td>\n      <td>2416076</td>\n      <td>NaN</td>\n      <td>272 - Bitewings - two films - 5; 1110 - Prophy...</td>\n      <td>Interfaith Dental Clinic - Nashville</td>\n      <td>No</td>\n      <td>Yes</td>\n      <td>No</td>\n    </tr>\n    <tr>\n      <th>16025</th>\n      <td>69737230</td>\n      <td>2416076</td>\n      <td>NaN</td>\n      <td>2330 - Resin one surface - Anterior - 15</td>\n      <td>Interfaith Dental Clinic - Nashville</td>\n      <td>No</td>\n      <td>Yes</td>\n      <td>Yes</td>\n    </tr>\n    <tr>\n      <th>18407</th>\n      <td>68190928</td>\n      <td>2416076</td>\n      <td>NaN</td>\n      <td>2330 - Resin one surface - Anterior - 15; 9951...</td>\n      <td>Interfaith Dental Clinic - Nashville</td>\n      <td>NaN</td>\n      <td>NaN</td>\n      <td>NaN</td>\n    </tr>\n    <tr>\n      <th>22967</th>\n      <td>66380005</td>\n      <td>2416076</td>\n      <td>NaN</td>\n      <td>1110 - Prophylaxis-adult - 45; 1330 - Oral Hyg...</td>\n      <td>Interfaith Dental Clinic - Nashville</td>\n      <td>NaN</td>\n      <td>NaN</td>\n      <td>NaN</td>\n    </tr>\n    <tr>\n      <th>24167</th>\n      <td>65850976</td>\n      <td>2416076</td>\n      <td>NaN</td>\n      <td>No Code - Denture step Maxillary: may be used ...</td>\n      <td>Interfaith Dental Clinic - Nashville</td>\n      <td>NaN</td>\n      <td>NaN</td>\n      <td>NaN</td>\n    </tr>\n    <tr>\n      <th>26184</th>\n      <td>65220398</td>\n      <td>2416076</td>\n      <td>NaN</td>\n      <td>No Code - Denture step Maxillary: may be used ...</td>\n      <td>Interfaith Dental Clinic - Nashville</td>\n      <td>No</td>\n      <td>Yes</td>\n      <td>No</td>\n    </tr>\n    <tr>\n      <th>27942</th>\n      <td>64344056</td>\n      <td>2416076</td>\n      <td>NaN</td>\n      <td>No Code - Denture step Maxillary: may be used ...</td>\n      <td>Interfaith Dental Clinic - Nashville</td>\n      <td>NaN</td>\n      <td>NaN</td>\n      <td>NaN</td>\n    </tr>\n    <tr>\n      <th>28503</th>\n      <td>63825491</td>\n      <td>2416076</td>\n      <td>NaN</td>\n      <td>180 - Comprehensive Periodontal Evaluation - 1...</td>\n      <td>Interfaith Dental Clinic - Nashville</td>\n      <td>NaN</td>\n      <td>NaN</td>\n      <td>NaN</td>\n    </tr>\n    <tr>\n      <th>29211</th>\n      <td>63825431</td>\n      <td>2416076</td>\n      <td>NaN</td>\n      <td>5211 - Partial denture -resin base-maxillary -...</td>\n      <td>Interfaith Dental Clinic - Nashville</td>\n      <td>NaN</td>\n      <td>NaN</td>\n      <td>NaN</td>\n    </tr>\n    <tr>\n      <th>29611</th>\n      <td>62975344</td>\n      <td>2416076</td>\n      <td>NaN</td>\n      <td>NaN</td>\n      <td>Interfaith Dental Clinic - Nashville</td>\n      <td>Yes</td>\n      <td>Yes</td>\n      <td>Yes</td>\n    </tr>\n    <tr>\n      <th>31853</th>\n      <td>61756634</td>\n      <td>2416076</td>\n      <td>NaN</td>\n      <td>7210 - Extraction surgical (requires removal o...</td>\n      <td>Interfaith Dental Clinic - Nashville</td>\n      <td>NaN</td>\n      <td>NaN</td>\n      <td>NaN</td>\n    </tr>\n    <tr>\n      <th>32512</th>\n      <td>61556184</td>\n      <td>2416076</td>\n      <td>NaN</td>\n      <td>2391 - Posterior one surface resin  - 15</td>\n      <td>Interfaith Dental Clinic - Nashville</td>\n      <td>NaN</td>\n      <td>NaN</td>\n      <td>NaN</td>\n    </tr>\n    <tr>\n      <th>32955</th>\n      <td>61093830</td>\n      <td>2416076</td>\n      <td>NaN</td>\n      <td>220 - Intraoral - Periapical First Film - 5; 1...</td>\n      <td>Interfaith Dental Clinic - Nashville</td>\n      <td>NaN</td>\n      <td>NaN</td>\n      <td>NaN</td>\n    </tr>\n    <tr>\n      <th>33957</th>\n      <td>60512593</td>\n      <td>2416076</td>\n      <td>NaN</td>\n      <td>2330 - Resin one surface - Anterior - 15; 2331...</td>\n      <td>Interfaith Dental Clinic - Nashville</td>\n      <td>NaN</td>\n      <td>NaN</td>\n      <td>NaN</td>\n    </tr>\n    <tr>\n      <th>36324</th>\n      <td>58538015</td>\n      <td>2416076</td>\n      <td>NaN</td>\n      <td>1330 - Oral Hygiene Instructions - ; 1206 - ap...</td>\n      <td>Interfaith Dental Clinic - Nashville</td>\n      <td>NaN</td>\n      <td>Yes</td>\n      <td>NaN</td>\n    </tr>\n    <tr>\n      <th>36514</th>\n      <td>58537949</td>\n      <td>2416076</td>\n      <td>NaN</td>\n      <td>1330 - Oral Hygiene Instructions - ; 1206 - ap...</td>\n      <td>Interfaith Dental Clinic - Nashville</td>\n      <td>NaN</td>\n      <td>NaN</td>\n      <td>NaN</td>\n    </tr>\n    <tr>\n      <th>36660</th>\n      <td>58629436</td>\n      <td>2416076</td>\n      <td>NaN</td>\n      <td>No Code - Denture step Mandibular: may be used...</td>\n      <td>Interfaith Dental Clinic - Nashville</td>\n      <td>NaN</td>\n      <td>NaN</td>\n      <td>NaN</td>\n    </tr>\n    <tr>\n      <th>36931</th>\n      <td>58628791</td>\n      <td>2416076</td>\n      <td>NaN</td>\n      <td>No Code - Denture step Mandibular: may be used...</td>\n      <td>Interfaith Dental Clinic - Nashville</td>\n      <td>NaN</td>\n      <td>NaN</td>\n      <td>NaN</td>\n    </tr>\n    <tr>\n      <th>37144</th>\n      <td>57786508</td>\n      <td>2416076</td>\n      <td>NaN</td>\n      <td>No Code - Denture step Mandibular: may be used...</td>\n      <td>Interfaith Dental Clinic - Nashville</td>\n      <td>NaN</td>\n      <td>NaN</td>\n      <td>NaN</td>\n    </tr>\n    <tr>\n      <th>37934</th>\n      <td>57225628</td>\n      <td>2416076</td>\n      <td>NaN</td>\n      <td>5221 - Partial denture - resin base - immediat...</td>\n      <td>Interfaith Dental Clinic - Nashville</td>\n      <td>NaN</td>\n      <td>NaN</td>\n      <td>NaN</td>\n    </tr>\n    <tr>\n      <th>38286</th>\n      <td>56850717</td>\n      <td>2416076</td>\n      <td>10/2/2018</td>\n      <td>NaN</td>\n      <td>Interfaith Dental Clinic - Nashville</td>\n      <td>NaN</td>\n      <td>NaN</td>\n      <td>NaN</td>\n    </tr>\n    <tr>\n      <th>38414</th>\n      <td>62871704</td>\n      <td>2416076</td>\n      <td>NaN</td>\n      <td>NaN</td>\n      <td>Interfaith Dental Clinic - Nashville</td>\n      <td>NaN</td>\n      <td>Yes</td>\n      <td>NaN</td>\n    </tr>\n    <tr>\n      <th>38448</th>\n      <td>56828901</td>\n      <td>2416076</td>\n      <td>NaN</td>\n      <td>150 - Comprehensive Oral Evaluation -new or es...</td>\n      <td>Interfaith Dental Clinic - Nashville</td>\n      <td>NaN</td>\n      <td>NaN</td>\n      <td>NaN</td>\n    </tr>\n    <tr>\n      <th>39313</th>\n      <td>55875620</td>\n      <td>2416076</td>\n      <td>NaN</td>\n      <td>NaN</td>\n      <td>NaN</td>\n      <td>NaN</td>\n      <td>NaN</td>\n      <td>NaN</td>\n    </tr>\n    <tr>\n      <th>39315</th>\n      <td>55875397</td>\n      <td>2416076</td>\n      <td>NaN</td>\n      <td>NaN</td>\n      <td>Interfaith Dental Clinic - Nashville</td>\n      <td>NaN</td>\n      <td>NaN</td>\n      <td>NaN</td>\n    </tr>\n  </tbody>\n</table>\n</div>"
     },
     "metadata": {},
     "execution_count": 97
    }
   ],
   "source": [
    "smile_2416076"
   ]
  },
  {
   "source": [
    "## Where are the recipients of this care most located?"
   ],
   "cell_type": "markdown",
   "metadata": {}
  },
  {
   "cell_type": "code",
   "execution_count": 98,
   "metadata": {},
   "outputs": [],
   "source": [
    "smile_location = smile[['CallerNum','CityName','CountyName','StateProvince','PostalCode','SMILE ON 60+ Site Information - Enroller ID','SMILE ON 60+ Screening - Last Screening Date']]"
   ]
  },
  {
   "cell_type": "code",
   "execution_count": 99,
   "metadata": {},
   "outputs": [],
   "source": [
    "smile_location = smile_location.rename(columns = {'SMILE ON 60+ Site Information - Enroller ID': 'site','SMILE ON 60+ Screening - Last Screening Date':'date'})"
   ]
  },
  {
   "cell_type": "code",
   "execution_count": 100,
   "metadata": {},
   "outputs": [
    {
     "output_type": "execute_result",
     "data": {
      "text/plain": [
       "       CallerNum     CityName CountyName StateProvince  PostalCode  \\\n",
       "0        3859874  Springfield  Robertson            TN     37172.0   \n",
       "1        3859755    Nashville   Davidson            TN     37212.0   \n",
       "2        2518680  Rogersville    Hawkins            TN     37857.0   \n",
       "3        3231923      Memphis     Shelby            TN     38104.0   \n",
       "4             -1          NaN        NaN            TN         NaN   \n",
       "...          ...          ...        ...           ...         ...   \n",
       "40027         -1          NaN        NaN           NaN         NaN   \n",
       "40028    3239813      Memphis     Shelby            TN     38111.0   \n",
       "40029    2631417    Kingsport   Sullivan            TN     37664.0   \n",
       "40030         -1          NaN        NaN            TN         NaN   \n",
       "40031         -1          NaN        NaN            TN         NaN   \n",
       "\n",
       "                                                    site        date  \n",
       "0      Matthew Walker Comprehensive Health Center Inc...         NaN  \n",
       "1                                                    NaN         NaN  \n",
       "2              Friends in Need Health Center - Kingsport         NaN  \n",
       "3              Christ Community Health Services- Frayser         NaN  \n",
       "4                          Neighborhood Health - Lebanon  11/25/2020  \n",
       "...                                                  ...         ...  \n",
       "40027                                                NaN         NaN  \n",
       "40028                     Church Health Center - Memphis         NaN  \n",
       "40029          Friends in Need Health Center - Kingsport  11/29/2018  \n",
       "40030               Interfaith Dental Clinic - Nashville         NaN  \n",
       "40031               Interfaith Dental Clinic - Nashville         NaN  \n",
       "\n",
       "[40032 rows x 7 columns]"
      ],
      "text/html": "<div>\n<style scoped>\n    .dataframe tbody tr th:only-of-type {\n        vertical-align: middle;\n    }\n\n    .dataframe tbody tr th {\n        vertical-align: top;\n    }\n\n    .dataframe thead th {\n        text-align: right;\n    }\n</style>\n<table border=\"1\" class=\"dataframe\">\n  <thead>\n    <tr style=\"text-align: right;\">\n      <th></th>\n      <th>CallerNum</th>\n      <th>CityName</th>\n      <th>CountyName</th>\n      <th>StateProvince</th>\n      <th>PostalCode</th>\n      <th>site</th>\n      <th>date</th>\n    </tr>\n  </thead>\n  <tbody>\n    <tr>\n      <th>0</th>\n      <td>3859874</td>\n      <td>Springfield</td>\n      <td>Robertson</td>\n      <td>TN</td>\n      <td>37172.0</td>\n      <td>Matthew Walker Comprehensive Health Center Inc...</td>\n      <td>NaN</td>\n    </tr>\n    <tr>\n      <th>1</th>\n      <td>3859755</td>\n      <td>Nashville</td>\n      <td>Davidson</td>\n      <td>TN</td>\n      <td>37212.0</td>\n      <td>NaN</td>\n      <td>NaN</td>\n    </tr>\n    <tr>\n      <th>2</th>\n      <td>2518680</td>\n      <td>Rogersville</td>\n      <td>Hawkins</td>\n      <td>TN</td>\n      <td>37857.0</td>\n      <td>Friends in Need Health Center - Kingsport</td>\n      <td>NaN</td>\n    </tr>\n    <tr>\n      <th>3</th>\n      <td>3231923</td>\n      <td>Memphis</td>\n      <td>Shelby</td>\n      <td>TN</td>\n      <td>38104.0</td>\n      <td>Christ Community Health Services- Frayser</td>\n      <td>NaN</td>\n    </tr>\n    <tr>\n      <th>4</th>\n      <td>-1</td>\n      <td>NaN</td>\n      <td>NaN</td>\n      <td>TN</td>\n      <td>NaN</td>\n      <td>Neighborhood Health - Lebanon</td>\n      <td>11/25/2020</td>\n    </tr>\n    <tr>\n      <th>...</th>\n      <td>...</td>\n      <td>...</td>\n      <td>...</td>\n      <td>...</td>\n      <td>...</td>\n      <td>...</td>\n      <td>...</td>\n    </tr>\n    <tr>\n      <th>40027</th>\n      <td>-1</td>\n      <td>NaN</td>\n      <td>NaN</td>\n      <td>NaN</td>\n      <td>NaN</td>\n      <td>NaN</td>\n      <td>NaN</td>\n    </tr>\n    <tr>\n      <th>40028</th>\n      <td>3239813</td>\n      <td>Memphis</td>\n      <td>Shelby</td>\n      <td>TN</td>\n      <td>38111.0</td>\n      <td>Church Health Center - Memphis</td>\n      <td>NaN</td>\n    </tr>\n    <tr>\n      <th>40029</th>\n      <td>2631417</td>\n      <td>Kingsport</td>\n      <td>Sullivan</td>\n      <td>TN</td>\n      <td>37664.0</td>\n      <td>Friends in Need Health Center - Kingsport</td>\n      <td>11/29/2018</td>\n    </tr>\n    <tr>\n      <th>40030</th>\n      <td>-1</td>\n      <td>NaN</td>\n      <td>NaN</td>\n      <td>TN</td>\n      <td>NaN</td>\n      <td>Interfaith Dental Clinic - Nashville</td>\n      <td>NaN</td>\n    </tr>\n    <tr>\n      <th>40031</th>\n      <td>-1</td>\n      <td>NaN</td>\n      <td>NaN</td>\n      <td>TN</td>\n      <td>NaN</td>\n      <td>Interfaith Dental Clinic - Nashville</td>\n      <td>NaN</td>\n    </tr>\n  </tbody>\n</table>\n<p>40032 rows × 7 columns</p>\n</div>"
     },
     "metadata": {},
     "execution_count": 100
    }
   ],
   "source": [
    "smile_location"
   ]
  },
  {
   "source": [
    "## What County?"
   ],
   "cell_type": "markdown",
   "metadata": {}
  },
  {
   "cell_type": "code",
   "execution_count": 101,
   "metadata": {},
   "outputs": [
    {
     "output_type": "execute_result",
     "data": {
      "text/plain": [
       "Davidson           9299\n",
       "Shelby             7398\n",
       "Rutherford         3837\n",
       "Sullivan           2209\n",
       "Bradley            1789\n",
       "                   ... \n",
       "Desoto                1\n",
       "Walker                1\n",
       "Pulaski               1\n",
       "Winchester City       1\n",
       "TN                    1\n",
       "Name: CountyName, Length: 104, dtype: int64"
      ]
     },
     "metadata": {},
     "execution_count": 101
    }
   ],
   "source": [
    "smile_location.CountyName.value_counts()"
   ]
  },
  {
   "source": [
    "## What City?"
   ],
   "cell_type": "markdown",
   "metadata": {}
  },
  {
   "cell_type": "code",
   "execution_count": 102,
   "metadata": {},
   "outputs": [
    {
     "output_type": "execute_result",
     "data": {
      "text/plain": [
       "Nashville       6456\n",
       "Memphis         6304\n",
       "Murfreesboro    2435\n",
       "Cleveland       1718\n",
       "Knoxville       1461\n",
       "                ... \n",
       "Mc Kenzie          1\n",
       "Finger             1\n",
       "Olive Branch       1\n",
       "Whitesburg         1\n",
       "Snowville          1\n",
       "Name: CityName, Length: 387, dtype: int64"
      ]
     },
     "metadata": {},
     "execution_count": 102
    }
   ],
   "source": [
    "smile_location.CityName.value_counts()"
   ]
  },
  {
   "source": [
    "## Demographic information"
   ],
   "cell_type": "markdown",
   "metadata": {}
  },
  {
   "cell_type": "code",
   "execution_count": 103,
   "metadata": {},
   "outputs": [],
   "source": [
    "smile_demo = smile[['CallerNum','SMILE ON 60+ Demographic Information - Gender','SMILE ON 60+ Demographic Information - Household Income Level','SMILE ON 60+ Demographic Information - How did you first hear about the SMILE ON 60+ program?','SMILE ON 60+ Demographic Information - Preferred Language/Language Needed','SMILE ON 60+ Demographic Information - Race/Ethnicity','SMILE ON 60+ Demographic Information - What other assistance programs are you on?','SMILE ON 60+ Demographic Information - When is the last time you visited your dentist?','SMILE ON 60+ Demographic Information - # of People in Household','SMILE ON 60+ Demographic Information - Other Language']]"
   ]
  },
  {
   "cell_type": "code",
   "execution_count": 104,
   "metadata": {},
   "outputs": [
    {
     "output_type": "execute_result",
     "data": {
      "text/plain": [
       "       CallerNum SMILE ON 60+ Demographic Information - Gender  \\\n",
       "0        3859874                                          Male   \n",
       "1        3859755                                          Male   \n",
       "2        2518680                                        Female   \n",
       "3        3231923                                          Male   \n",
       "4             -1                                          Male   \n",
       "...          ...                                           ...   \n",
       "40027         -1                                           NaN   \n",
       "40028    3239813                                          Male   \n",
       "40029    2631417                                        Female   \n",
       "40030         -1                                           NaN   \n",
       "40031         -1                                           NaN   \n",
       "\n",
       "      SMILE ON 60+ Demographic Information - Household Income Level  \\\n",
       "0                                           $0 - $21 280              \n",
       "1                                           $0 - $21 280              \n",
       "2                                           $0 - $21 280              \n",
       "3                                           $0 - $21 280              \n",
       "4                                                    NaN              \n",
       "...                                                  ...              \n",
       "40027                                                NaN              \n",
       "40028                                       $0 - $21 280              \n",
       "40029                                       $0 - $21 280              \n",
       "40030                                                NaN              \n",
       "40031                                                NaN              \n",
       "\n",
       "      SMILE ON 60+ Demographic Information - How did you first hear about the SMILE ON 60+ program?  \\\n",
       "0                                    Dental Clinic Staff                                              \n",
       "1                                    Dental Clinic Staff                                              \n",
       "2                                    Dental Clinic Staff                                              \n",
       "3                                    Dental Clinic Staff                                              \n",
       "4                                                    NaN                                              \n",
       "...                                                  ...                                              \n",
       "40027                                                NaN                                              \n",
       "40028                                Dental Clinic Staff                                              \n",
       "40029                                Dental Clinic Staff                                              \n",
       "40030                                                NaN                                              \n",
       "40031                                                NaN                                              \n",
       "\n",
       "      SMILE ON 60+ Demographic Information - Preferred Language/Language Needed  \\\n",
       "0                                                English                          \n",
       "1                                                English                          \n",
       "2                                                    NaN                          \n",
       "3                                                    NaN                          \n",
       "4                                                    NaN                          \n",
       "...                                                  ...                          \n",
       "40027                                                NaN                          \n",
       "40028                                            English                          \n",
       "40029                                                NaN                          \n",
       "40030                                                NaN                          \n",
       "40031                                                NaN                          \n",
       "\n",
       "      SMILE ON 60+ Demographic Information - Race/Ethnicity  \\\n",
       "0                                              Caucasian      \n",
       "1                                              Caucasian      \n",
       "2                                              Caucasian      \n",
       "3                                       African American      \n",
       "4                                       African American      \n",
       "...                                                  ...      \n",
       "40027                                                NaN      \n",
       "40028                                          Caucasian      \n",
       "40029                                          Caucasian      \n",
       "40030                                                NaN      \n",
       "40031                                                NaN      \n",
       "\n",
       "      SMILE ON 60+ Demographic Information - What other assistance programs are you on?  \\\n",
       "0                                               SSI/SSDI                                  \n",
       "1                                                    NaN                                  \n",
       "2                               SNAP; TennCare; SSI/SSDI                                  \n",
       "3                                                    NaN                                  \n",
       "4                                                    NaN                                  \n",
       "...                                                  ...                                  \n",
       "40027                                                NaN                                  \n",
       "40028                                               SNAP                                  \n",
       "40029                                           SSI/SSDI                                  \n",
       "40030                                                NaN                                  \n",
       "40031                                                NaN                                  \n",
       "\n",
       "      SMILE ON 60+ Demographic Information - When is the last time you visited your dentist?  \\\n",
       "0                                           3 to 5 years                                       \n",
       "1                                           3 to 5 years                                       \n",
       "2                                    Less than 12 months                                       \n",
       "3                                    Less than 12 months                                       \n",
       "4                                                    NaN                                       \n",
       "...                                                  ...                                       \n",
       "40027                                                NaN                                       \n",
       "40028                                       1 to 2 years                                       \n",
       "40029                                Less than 12 months                                       \n",
       "40030                                                NaN                                       \n",
       "40031                                                NaN                                       \n",
       "\n",
       "      SMILE ON 60+ Demographic Information - # of People in Household  \\\n",
       "0                                                      1                \n",
       "1                                                      1                \n",
       "2                                                      1                \n",
       "3                                                      2                \n",
       "4                                                    NaN                \n",
       "...                                                  ...                \n",
       "40027                                                NaN                \n",
       "40028                                                  1                \n",
       "40029                                                  1                \n",
       "40030                                                NaN                \n",
       "40031                                                NaN                \n",
       "\n",
       "      SMILE ON 60+ Demographic Information - Other Language  \n",
       "0                                                    NaN     \n",
       "1                                                    NaN     \n",
       "2                                                    NaN     \n",
       "3                                                    NaN     \n",
       "4                                                    NaN     \n",
       "...                                                  ...     \n",
       "40027                                                NaN     \n",
       "40028                                                NaN     \n",
       "40029                                                NaN     \n",
       "40030                                                NaN     \n",
       "40031                                                NaN     \n",
       "\n",
       "[40032 rows x 10 columns]"
      ],
      "text/html": "<div>\n<style scoped>\n    .dataframe tbody tr th:only-of-type {\n        vertical-align: middle;\n    }\n\n    .dataframe tbody tr th {\n        vertical-align: top;\n    }\n\n    .dataframe thead th {\n        text-align: right;\n    }\n</style>\n<table border=\"1\" class=\"dataframe\">\n  <thead>\n    <tr style=\"text-align: right;\">\n      <th></th>\n      <th>CallerNum</th>\n      <th>SMILE ON 60+ Demographic Information - Gender</th>\n      <th>SMILE ON 60+ Demographic Information - Household Income Level</th>\n      <th>SMILE ON 60+ Demographic Information - How did you first hear about the SMILE ON 60+ program?</th>\n      <th>SMILE ON 60+ Demographic Information - Preferred Language/Language Needed</th>\n      <th>SMILE ON 60+ Demographic Information - Race/Ethnicity</th>\n      <th>SMILE ON 60+ Demographic Information - What other assistance programs are you on?</th>\n      <th>SMILE ON 60+ Demographic Information - When is the last time you visited your dentist?</th>\n      <th>SMILE ON 60+ Demographic Information - # of People in Household</th>\n      <th>SMILE ON 60+ Demographic Information - Other Language</th>\n    </tr>\n  </thead>\n  <tbody>\n    <tr>\n      <th>0</th>\n      <td>3859874</td>\n      <td>Male</td>\n      <td>$0 - $21 280</td>\n      <td>Dental Clinic Staff</td>\n      <td>English</td>\n      <td>Caucasian</td>\n      <td>SSI/SSDI</td>\n      <td>3 to 5 years</td>\n      <td>1</td>\n      <td>NaN</td>\n    </tr>\n    <tr>\n      <th>1</th>\n      <td>3859755</td>\n      <td>Male</td>\n      <td>$0 - $21 280</td>\n      <td>Dental Clinic Staff</td>\n      <td>English</td>\n      <td>Caucasian</td>\n      <td>NaN</td>\n      <td>3 to 5 years</td>\n      <td>1</td>\n      <td>NaN</td>\n    </tr>\n    <tr>\n      <th>2</th>\n      <td>2518680</td>\n      <td>Female</td>\n      <td>$0 - $21 280</td>\n      <td>Dental Clinic Staff</td>\n      <td>NaN</td>\n      <td>Caucasian</td>\n      <td>SNAP; TennCare; SSI/SSDI</td>\n      <td>Less than 12 months</td>\n      <td>1</td>\n      <td>NaN</td>\n    </tr>\n    <tr>\n      <th>3</th>\n      <td>3231923</td>\n      <td>Male</td>\n      <td>$0 - $21 280</td>\n      <td>Dental Clinic Staff</td>\n      <td>NaN</td>\n      <td>African American</td>\n      <td>NaN</td>\n      <td>Less than 12 months</td>\n      <td>2</td>\n      <td>NaN</td>\n    </tr>\n    <tr>\n      <th>4</th>\n      <td>-1</td>\n      <td>Male</td>\n      <td>NaN</td>\n      <td>NaN</td>\n      <td>NaN</td>\n      <td>African American</td>\n      <td>NaN</td>\n      <td>NaN</td>\n      <td>NaN</td>\n      <td>NaN</td>\n    </tr>\n    <tr>\n      <th>...</th>\n      <td>...</td>\n      <td>...</td>\n      <td>...</td>\n      <td>...</td>\n      <td>...</td>\n      <td>...</td>\n      <td>...</td>\n      <td>...</td>\n      <td>...</td>\n      <td>...</td>\n    </tr>\n    <tr>\n      <th>40027</th>\n      <td>-1</td>\n      <td>NaN</td>\n      <td>NaN</td>\n      <td>NaN</td>\n      <td>NaN</td>\n      <td>NaN</td>\n      <td>NaN</td>\n      <td>NaN</td>\n      <td>NaN</td>\n      <td>NaN</td>\n    </tr>\n    <tr>\n      <th>40028</th>\n      <td>3239813</td>\n      <td>Male</td>\n      <td>$0 - $21 280</td>\n      <td>Dental Clinic Staff</td>\n      <td>English</td>\n      <td>Caucasian</td>\n      <td>SNAP</td>\n      <td>1 to 2 years</td>\n      <td>1</td>\n      <td>NaN</td>\n    </tr>\n    <tr>\n      <th>40029</th>\n      <td>2631417</td>\n      <td>Female</td>\n      <td>$0 - $21 280</td>\n      <td>Dental Clinic Staff</td>\n      <td>NaN</td>\n      <td>Caucasian</td>\n      <td>SSI/SSDI</td>\n      <td>Less than 12 months</td>\n      <td>1</td>\n      <td>NaN</td>\n    </tr>\n    <tr>\n      <th>40030</th>\n      <td>-1</td>\n      <td>NaN</td>\n      <td>NaN</td>\n      <td>NaN</td>\n      <td>NaN</td>\n      <td>NaN</td>\n      <td>NaN</td>\n      <td>NaN</td>\n      <td>NaN</td>\n      <td>NaN</td>\n    </tr>\n    <tr>\n      <th>40031</th>\n      <td>-1</td>\n      <td>NaN</td>\n      <td>NaN</td>\n      <td>NaN</td>\n      <td>NaN</td>\n      <td>NaN</td>\n      <td>NaN</td>\n      <td>NaN</td>\n      <td>NaN</td>\n      <td>NaN</td>\n    </tr>\n  </tbody>\n</table>\n<p>40032 rows × 10 columns</p>\n</div>"
     },
     "metadata": {},
     "execution_count": 104
    }
   ],
   "source": [
    "smile_demo"
   ]
  },
  {
   "cell_type": "code",
   "execution_count": 107,
   "metadata": {},
   "outputs": [],
   "source": [
    "smile_demo = smile_demo.rename(columns= {'SMILE ON 60+ Demographic Information - Gender':'gender','SMILE ON 60+ Demographic Information - Household Income Level':'household_income','SMILE ON 60+ Demographic Information - How did you first hear about the SMILE ON 60+ program?':'how_heard','SMILE ON 60+ Demographic Information - Preferred Language/Language Needed':'preferred_language','SMILE ON 60+ Demographic Information - Race/Ethnicity':'race_ethnicity','SMILE ON 60+ Demographic Information - What other assistance programs are you on?':'additonal_assistance_programs','SMILE ON 60+ Demographic Information - When is the last time you visited your dentist?':'last_visit','SMILE ON 60+ Demographic Information - # of People in Household':'persons_in_household','SMILE ON 60+ Demographic Information - Other Language':'other_language'})"
   ]
  },
  {
   "cell_type": "code",
   "execution_count": 108,
   "metadata": {},
   "outputs": [
    {
     "output_type": "execute_result",
     "data": {
      "text/plain": [
       "       CallerNum  gender household_income            how_heard  \\\n",
       "0        3859874    Male     $0 - $21 280  Dental Clinic Staff   \n",
       "1        3859755    Male     $0 - $21 280  Dental Clinic Staff   \n",
       "2        2518680  Female     $0 - $21 280  Dental Clinic Staff   \n",
       "3        3231923    Male     $0 - $21 280  Dental Clinic Staff   \n",
       "4             -1    Male              NaN                  NaN   \n",
       "...          ...     ...              ...                  ...   \n",
       "40027         -1     NaN              NaN                  NaN   \n",
       "40028    3239813    Male     $0 - $21 280  Dental Clinic Staff   \n",
       "40029    2631417  Female     $0 - $21 280  Dental Clinic Staff   \n",
       "40030         -1     NaN              NaN                  NaN   \n",
       "40031         -1     NaN              NaN                  NaN   \n",
       "\n",
       "      preferred_language    race_ethnicity additonal_assistance_programs  \\\n",
       "0                English         Caucasian                      SSI/SSDI   \n",
       "1                English         Caucasian                           NaN   \n",
       "2                    NaN         Caucasian      SNAP; TennCare; SSI/SSDI   \n",
       "3                    NaN  African American                           NaN   \n",
       "4                    NaN  African American                           NaN   \n",
       "...                  ...               ...                           ...   \n",
       "40027                NaN               NaN                           NaN   \n",
       "40028            English         Caucasian                          SNAP   \n",
       "40029                NaN         Caucasian                      SSI/SSDI   \n",
       "40030                NaN               NaN                           NaN   \n",
       "40031                NaN               NaN                           NaN   \n",
       "\n",
       "                last_visit persons_in_household other_language  \n",
       "0             3 to 5 years                    1            NaN  \n",
       "1             3 to 5 years                    1            NaN  \n",
       "2      Less than 12 months                    1            NaN  \n",
       "3      Less than 12 months                    2            NaN  \n",
       "4                      NaN                  NaN            NaN  \n",
       "...                    ...                  ...            ...  \n",
       "40027                  NaN                  NaN            NaN  \n",
       "40028         1 to 2 years                    1            NaN  \n",
       "40029  Less than 12 months                    1            NaN  \n",
       "40030                  NaN                  NaN            NaN  \n",
       "40031                  NaN                  NaN            NaN  \n",
       "\n",
       "[40032 rows x 10 columns]"
      ],
      "text/html": "<div>\n<style scoped>\n    .dataframe tbody tr th:only-of-type {\n        vertical-align: middle;\n    }\n\n    .dataframe tbody tr th {\n        vertical-align: top;\n    }\n\n    .dataframe thead th {\n        text-align: right;\n    }\n</style>\n<table border=\"1\" class=\"dataframe\">\n  <thead>\n    <tr style=\"text-align: right;\">\n      <th></th>\n      <th>CallerNum</th>\n      <th>gender</th>\n      <th>household_income</th>\n      <th>how_heard</th>\n      <th>preferred_language</th>\n      <th>race_ethnicity</th>\n      <th>additonal_assistance_programs</th>\n      <th>last_visit</th>\n      <th>persons_in_household</th>\n      <th>other_language</th>\n    </tr>\n  </thead>\n  <tbody>\n    <tr>\n      <th>0</th>\n      <td>3859874</td>\n      <td>Male</td>\n      <td>$0 - $21 280</td>\n      <td>Dental Clinic Staff</td>\n      <td>English</td>\n      <td>Caucasian</td>\n      <td>SSI/SSDI</td>\n      <td>3 to 5 years</td>\n      <td>1</td>\n      <td>NaN</td>\n    </tr>\n    <tr>\n      <th>1</th>\n      <td>3859755</td>\n      <td>Male</td>\n      <td>$0 - $21 280</td>\n      <td>Dental Clinic Staff</td>\n      <td>English</td>\n      <td>Caucasian</td>\n      <td>NaN</td>\n      <td>3 to 5 years</td>\n      <td>1</td>\n      <td>NaN</td>\n    </tr>\n    <tr>\n      <th>2</th>\n      <td>2518680</td>\n      <td>Female</td>\n      <td>$0 - $21 280</td>\n      <td>Dental Clinic Staff</td>\n      <td>NaN</td>\n      <td>Caucasian</td>\n      <td>SNAP; TennCare; SSI/SSDI</td>\n      <td>Less than 12 months</td>\n      <td>1</td>\n      <td>NaN</td>\n    </tr>\n    <tr>\n      <th>3</th>\n      <td>3231923</td>\n      <td>Male</td>\n      <td>$0 - $21 280</td>\n      <td>Dental Clinic Staff</td>\n      <td>NaN</td>\n      <td>African American</td>\n      <td>NaN</td>\n      <td>Less than 12 months</td>\n      <td>2</td>\n      <td>NaN</td>\n    </tr>\n    <tr>\n      <th>4</th>\n      <td>-1</td>\n      <td>Male</td>\n      <td>NaN</td>\n      <td>NaN</td>\n      <td>NaN</td>\n      <td>African American</td>\n      <td>NaN</td>\n      <td>NaN</td>\n      <td>NaN</td>\n      <td>NaN</td>\n    </tr>\n    <tr>\n      <th>...</th>\n      <td>...</td>\n      <td>...</td>\n      <td>...</td>\n      <td>...</td>\n      <td>...</td>\n      <td>...</td>\n      <td>...</td>\n      <td>...</td>\n      <td>...</td>\n      <td>...</td>\n    </tr>\n    <tr>\n      <th>40027</th>\n      <td>-1</td>\n      <td>NaN</td>\n      <td>NaN</td>\n      <td>NaN</td>\n      <td>NaN</td>\n      <td>NaN</td>\n      <td>NaN</td>\n      <td>NaN</td>\n      <td>NaN</td>\n      <td>NaN</td>\n    </tr>\n    <tr>\n      <th>40028</th>\n      <td>3239813</td>\n      <td>Male</td>\n      <td>$0 - $21 280</td>\n      <td>Dental Clinic Staff</td>\n      <td>English</td>\n      <td>Caucasian</td>\n      <td>SNAP</td>\n      <td>1 to 2 years</td>\n      <td>1</td>\n      <td>NaN</td>\n    </tr>\n    <tr>\n      <th>40029</th>\n      <td>2631417</td>\n      <td>Female</td>\n      <td>$0 - $21 280</td>\n      <td>Dental Clinic Staff</td>\n      <td>NaN</td>\n      <td>Caucasian</td>\n      <td>SSI/SSDI</td>\n      <td>Less than 12 months</td>\n      <td>1</td>\n      <td>NaN</td>\n    </tr>\n    <tr>\n      <th>40030</th>\n      <td>-1</td>\n      <td>NaN</td>\n      <td>NaN</td>\n      <td>NaN</td>\n      <td>NaN</td>\n      <td>NaN</td>\n      <td>NaN</td>\n      <td>NaN</td>\n      <td>NaN</td>\n      <td>NaN</td>\n    </tr>\n    <tr>\n      <th>40031</th>\n      <td>-1</td>\n      <td>NaN</td>\n      <td>NaN</td>\n      <td>NaN</td>\n      <td>NaN</td>\n      <td>NaN</td>\n      <td>NaN</td>\n      <td>NaN</td>\n      <td>NaN</td>\n      <td>NaN</td>\n    </tr>\n  </tbody>\n</table>\n<p>40032 rows × 10 columns</p>\n</div>"
     },
     "metadata": {},
     "execution_count": 108
    }
   ],
   "source": [
    "smile_demo"
   ]
  },
  {
   "cell_type": "code",
   "execution_count": 119,
   "metadata": {},
   "outputs": [
    {
     "output_type": "execute_result",
     "data": {
      "text/plain": [
       "Female         25018\n",
       "Male           14580\n",
       "Transgender       12\n",
       "Other              1\n",
       "Name: gender, dtype: int64"
      ]
     },
     "metadata": {},
     "execution_count": 119
    }
   ],
   "source": [
    "smile_demo_gender_counts = smile_demo.gender.value_counts()\n",
    "smile_demo_gender_counts"
   ]
  },
  {
   "cell_type": "code",
   "execution_count": 120,
   "metadata": {},
   "outputs": [
    {
     "output_type": "execute_result",
     "data": {
      "text/plain": [
       "Caucasian                            22730\n",
       "African American                     10496\n",
       "Hispanic                              1771\n",
       "Unknown                                640\n",
       "Asian                                  574\n",
       "American Indian and Alaska Native      129\n",
       "Multi-racial                           105\n",
       "Pacific Islander                         9\n",
       "Name: race_ethnicity, dtype: int64"
      ]
     },
     "metadata": {},
     "execution_count": 120
    }
   ],
   "source": [
    "smile_demo_eth_counts = smile_demo.race_ethnicity.value_counts()\n",
    "smile_demo_eth_counts"
   ]
  },
  {
   "cell_type": "code",
   "execution_count": 121,
   "metadata": {},
   "outputs": [
    {
     "output_type": "execute_result",
     "data": {
      "text/plain": [
       "Dental Clinic Staff                      22805\n",
       "Other                                     5725\n",
       "This encounter                            2488\n",
       "Wisdom Tooth Project Presentation         1988\n",
       "SMILE ON CDHC                             1438\n",
       "Senior Center                             1431\n",
       "TV                                         983\n",
       "Flyer                                      511\n",
       "Newspaper                                  258\n",
       "Dental Hotline                             145\n",
       "SHIP Navigator                              83\n",
       "Radio                                       48\n",
       "Health Assist                               39\n",
       "Tennessee Alliance for Legal Services        4\n",
       "Habitat for Humanity Greater Memphis         2\n",
       "Name: how_heard, dtype: int64"
      ]
     },
     "metadata": {},
     "execution_count": 121
    }
   ],
   "source": [
    "smile_demo_how_counts = smile_demo.how_heard.value_counts()\n",
    "smile_demo_how_counts"
   ]
  },
  {
   "cell_type": "code",
   "execution_count": 122,
   "metadata": {},
   "outputs": [
    {
     "output_type": "execute_result",
     "data": {
      "text/plain": [
       "SSI/SSDI                               9204\n",
       "SNAP                                   2447\n",
       "TennCare                               1415\n",
       "SNAP; SSI/SSDI                         1307\n",
       "SNAP; TennCare; SSI/SSDI               1084\n",
       "SNAP; TennCare                         1018\n",
       "TennCare; SSI/SSDI                     1007\n",
       "Section 8                               655\n",
       "SNAP; Section 8                         409\n",
       "Section 8; SSI/SSDI                     354\n",
       "SNAP; TennCare; Section 8               308\n",
       "SNAP; TennCare; Section 8; SSI/SSDI     287\n",
       "TennCare; Section 8; SSI/SSDI           189\n",
       "SNAP; Section 8; SSI/SSDI               184\n",
       "TennCare; Section 8                     136\n",
       "Name: additonal_assistance_programs, dtype: int64"
      ]
     },
     "metadata": {},
     "execution_count": 122
    }
   ],
   "source": [
    "smile_demo_aap_counts = smile_demo.additonal_assistance_programs.value_counts()\n",
    "smile_demo_aap_counts"
   ]
  },
  {
   "cell_type": "code",
   "execution_count": 123,
   "metadata": {},
   "outputs": [
    {
     "output_type": "execute_result",
     "data": {
      "text/plain": [
       "English    9629\n",
       "Spanish    1349\n",
       "Other       417\n",
       "Arabic      324\n",
       "Name: preferred_language, dtype: int64"
      ]
     },
     "metadata": {},
     "execution_count": 123
    }
   ],
   "source": [
    "smile_demo_language_counts = smile_demo.preferred_language.value_counts()\n",
    "smile_demo_language_counts"
   ]
  },
  {
   "cell_type": "code",
   "execution_count": null,
   "metadata": {},
   "outputs": [],
   "source": []
  }
 ],
 "metadata": {
  "kernelspec": {
   "display_name": "Python 3",
   "language": "python",
   "name": "python3"
  },
  "language_info": {
   "codemirror_mode": {
    "name": "ipython",
    "version": 3
   },
   "file_extension": ".py",
   "mimetype": "text/x-python",
   "name": "python",
   "nbconvert_exporter": "python",
   "pygments_lexer": "ipython3",
   "version": "3.8.3-final"
  }
 },
 "nbformat": 4,
 "nbformat_minor": 4
}